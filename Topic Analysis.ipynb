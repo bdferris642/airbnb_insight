{
 "cells": [
  {
   "cell_type": "code",
   "execution_count": 2,
   "metadata": {},
   "outputs": [
    {
     "name": "stderr",
     "output_type": "stream",
     "text": [
      "[nltk_data] Downloading package wordnet to /Users/bennett/nltk_data...\n",
      "[nltk_data]   Package wordnet is already up-to-date!\n"
     ]
    }
   ],
   "source": [
    "import numpy as np\n",
    "import pandas as pd\n",
    "import scipy as sc\n",
    "import matplotlib.pyplot as plt\n",
    "from math import *\n",
    "from copy import *\n",
    "import copy\n",
    "import pickle\n",
    "import gensim\n",
    "from gensim.utils import simple_preprocess\n",
    "from gensim.parsing.preprocessing import STOPWORDS\n",
    "from nltk.stem import WordNetLemmatizer, SnowballStemmer\n",
    "from nltk.stem.porter import *\n",
    "import numpy as np\n",
    "np.random.seed(2019)\n",
    "from langdetect import detect\n",
    "import nltk\n",
    "nltk.download('wordnet')\n",
    "from nltk.stem import WordNetLemmatizer, SnowballStemmer\n",
    "from gensim import corpora, models\n",
    "from pprint import pprint"
   ]
  },
  {
   "cell_type": "code",
   "execution_count": 2,
   "metadata": {},
   "outputs": [],
   "source": [
    "def flatten(l):\n",
    "    flat_list = [item for sublist in l for item in sublist]\n",
    "    return flat_list\n",
    "\n",
    "def flatten_df(input_df, flatten_col):\n",
    "    cols = list(input_df.columns)\n",
    "    other_cols = [c for c in cols if not c == flatten_col]\n",
    "    fc_flat = pd.DataFrame([[i,x] for i,y in input_df[flatten_col].apply(list).iteritems()\n",
    "                            for x in y], columns=['I', flatten_col])\n",
    "    fc_flat = fc_flat.set_index('I')\n",
    "    output_df = input_df[other_cols].merge(fc_flat, left_index=True, right_index=True)\n",
    "    return output_df"
   ]
  },
  {
   "cell_type": "code",
   "execution_count": 342,
   "metadata": {},
   "outputs": [],
   "source": [
    "def extract_topic_vectors(flat_pickle_name, \n",
    "                          tf_idf = True, n_topics = 20, npasses=5, **kwargs):\n",
    "    \n",
    "    \"\"\"\n",
    "    input: directory to a pickle, tf_idf bool, number of topics\n",
    "    important kwargs: no_below (a number), no_above (between 0 and 1), keep_n (a number of words in the dictionary)\n",
    "    output: an lda_model, topics, a corpus, a dictionary\n",
    "    \"\"\"\n",
    "    \n",
    "    file = open(flat_pickle_name, 'rb')\n",
    "    preproc_df = pickle.load(file)\n",
    "    file.close()\n",
    "    print('Loaded File')\n",
    "    \n",
    "    corpus, dictionary = get_corpus(preproc_df, **kwargs)\n",
    "    \n",
    "    if tf_idf:\n",
    "        tfidf = models.TfidfModel(corpus)\n",
    "        corpus = tfidf[corpus]\n",
    "\n",
    "    print('Made Corpus')\n",
    "    lda_model = gensim.models.LdaMulticore(corpus, num_topics=n_topics, id2word=dictionary, passes=npasses,\n",
    "                                           workers=5)\n",
    "    topics = lda_model.show_topics(num_topics=n_topics, num_words=10, log=False, formatted=True)\n",
    "\n",
    "    return lda_model, topics, corpus, dictionary\n",
    "    "
   ]
  },
  {
   "cell_type": "code",
   "execution_count": 27,
   "metadata": {},
   "outputs": [],
   "source": [
    "def get_corpus(preproc_df, **kwargs):\n",
    "    \"\"\"\n",
    "    input: a processed, flat df\n",
    "    with a single row for every comment under column 'comments'\n",
    "    outputs: corpus, a dict reporting how many words and how many times these words appear\n",
    "    \"\"\"\n",
    "\n",
    "    processed_comments = preproc_df['comments'].map(preprocess)\n",
    "    \n",
    "    # Create a dictionary containing the number of times a word appears in the training set.\n",
    "    dictionary = gensim.corpora.Dictionary(processed_comments)\n",
    "    \n",
    "    # Filter out tokens that appear in < than no_below documents (absolute number)\n",
    "    # or > than no_above documents (fraction of total corpus size, not absolute number).\n",
    "    # after the above two steps, keep only the first keep_n most frequent tokens.\n",
    "    dictionary.filter_extremes(**kwargs)\n",
    "\n",
    "    # Gensim doc2bow\n",
    "    corpus = [dictionary.doc2bow(comment) for comment in processed_comments]\n",
    "    return corpus, dictionary"
   ]
  },
  {
   "cell_type": "code",
   "execution_count": 21,
   "metadata": {},
   "outputs": [],
   "source": [
    "# Tokenization: Split the text into sentences and the sentences into words. \n",
    "# Lowercase the words and remove punctuation.\n",
    "\n",
    "# Words that have fewer than 3 characters are removed.\n",
    "\n",
    "# Words are lemmatized — words in third person are changed to first person \n",
    "# and verbs in past and future tenses are changed into present.\n",
    "\n",
    "# Words are stemmed — words are reduced to their root form.\n",
    "\n",
    "# All stopwords are removed.\n",
    "\n",
    "\n",
    "stemmer = SnowballStemmer(\"english\")\n",
    "def lemmatize_stemming(text):\n",
    "    return stemmer.stem(WordNetLemmatizer().lemmatize(text, pos='v'))\n",
    "\n",
    "def preprocess(text):\n",
    "    result = []\n",
    "    for token in gensim.utils.simple_preprocess(text):\n",
    "        if token not in gensim.parsing.preprocessing.STOPWORDS and len(token) > 3:\n",
    "            result.append(lemmatize_stemming(token))\n",
    "    return result\n",
    "\n"
   ]
  },
  {
   "cell_type": "code",
   "execution_count": 1213,
   "metadata": {},
   "outputs": [
    {
     "data": {
      "text/plain": [
       "Index(['room_id', 'host_name', 'user_id', 'comments', 'topic_scores',\n",
       "       'topic_scores_unnormalized', 'mean_topic_score',\n",
       "       'mean_topic_score_unnormalized', 'access', 'accommodates', 'amenities',\n",
       "       'availability_30', 'availability_365', 'availability_60',\n",
       "       'availability_90', 'bathrooms', 'bed_type', 'bedrooms', 'beds',\n",
       "       'calculated_host_listings_count', 'calendar_last_scraped',\n",
       "       'calendar_updated', 'cancellation_policy', 'city', 'cleaning_fee',\n",
       "       'coordinates', 'country', 'country_code', 'date_last_review',\n",
       "       'description', 'experiences_offered', 'extra_people', 'features',\n",
       "       'first_review', 'guests_included', 'has_availability', 'host_about',\n",
       "       'host_acceptance_rate', 'host_id', 'host_listings_count',\n",
       "       'host_location', 'host_neighbourhood', 'host_picture_url',\n",
       "       'host_response_rate', 'host_response_time', 'host_since',\n",
       "       'host_thumbnail_url', 'host_total_listings_count', 'host_url',\n",
       "       'host_verifications', 'house_rules', 'interaction',\n",
       "       'jurisdiction_names', 'last_scraped', 'latitude', 'license',\n",
       "       'listing_url', 'longitude', 'market', 'maximum_nights', 'medium_url',\n",
       "       'minimum_nights', 'monthly_price', 'name', 'neighborhood_clean',\n",
       "       'neighborhood_overview', 'neighbourhood',\n",
       "       'neighbourhood_group_cleansed', 'notes', 'number_of_reviews',\n",
       "       'picture_url', 'property_type', 'review_scores_accuracy',\n",
       "       'review_scores_checkin', 'review_scores_cleanliness',\n",
       "       'review_scores_communication', 'review_scores_location',\n",
       "       'review_scores_rating', 'review_scores_value', 'reviews_per_month',\n",
       "       'room_price', 'room_type', 'scrape_id', 'security_deposit',\n",
       "       'smart_location', 'space', 'square_feet', 'state', 'street', 'summary',\n",
       "       'thumbnail_url', 'transit', 'weekly_price', 'xl_picture_url', 'zipcode',\n",
       "       'test_similarity'],\n",
       "      dtype='object')"
      ]
     },
     "execution_count": 1213,
     "metadata": {},
     "output_type": "execute_result"
    }
   ],
   "source": [
    "clean_scored_room_db.columns"
   ]
  },
  {
   "cell_type": "code",
   "execution_count": 1256,
   "metadata": {},
   "outputs": [
    {
     "data": {
      "text/plain": [
       "array([ 0,  0,  0,  0,  0,  0,  0,  0,  0,  0, 18,  0,  0,  0,  0,  0,  0,\n",
       "        0,  0,  0,  1,  0,  0,  0,  0,  0,  0,  0,  0,  0, 20,  0,  0,  0,\n",
       "        0,  0,  0,  0,  0,  0, 10,  0,  0,  0,  0,  0,  0,  0,  0, 92])"
      ]
     },
     "execution_count": 1256,
     "metadata": {},
     "output_type": "execute_result"
    }
   ],
   "source": [
    "b"
   ]
  },
  {
   "cell_type": "code",
   "execution_count": null,
   "metadata": {},
   "outputs": [],
   "source": []
  },
  {
   "cell_type": "code",
   "execution_count": 1255,
   "metadata": {
    "scrolled": false
   },
   "outputs": [
    {
     "data": {
      "image/png": "[encoded data removed]",
      "text/plain": [
       "<Figure size 432x288 with 1 Axes>"
      ]
     },
     "metadata": {
      "needs_background": "light"
     },
     "output_type": "display_data"
    },
    {
     "data": {
      "image/png": "[encoded data removed]",
      "text/plain": [
       "<Figure size 432x288 with 1 Axes>"
      ]
     },
     "metadata": {
      "needs_background": "light"
     },
     "output_type": "display_data"
    },
    {
     "data": {
      "image/png": "[encoded data removed]",
      "text/plain": [
       "<Figure size 432x288 with 1 Axes>"
      ]
     },
     "metadata": {
      "needs_background": "light"
     },
     "output_type": "display_data"
    },
    {
     "data": {
      "image/png": "[encoded data removed]",
      "text/plain": [
       "<Figure size 432x288 with 1 Axes>"
      ]
     },
     "metadata": {
      "needs_background": "light"
     },
     "output_type": "display_data"
    },
    {
     "data": {
      "image/png": "[encoded data removed]",
      "text/plain": [
       "<Figure size 432x288 with 1 Axes>"
      ]
     },
     "metadata": {
      "needs_background": "light"
     },
     "output_type": "display_data"
    },
    {
     "data": {
      "image/png": "[encoded data removed]",
      "text/plain": [
       "<Figure size 432x288 with 1 Axes>"
      ]
     },
     "metadata": {
      "needs_background": "light"
     },
     "output_type": "display_data"
    },
    {
     "data": {
      "image/png": "[encoded data removed]",
      "text/plain": [
       "<Figure size 432x288 with 1 Axes>"
      ]
     },
     "metadata": {
      "needs_background": "light"
     },
     "output_type": "display_data"
    }
   ],
   "source": [
    "b, e = np.histogram(clean_scored_room_db.review_scores_rating.dropna(), range=(50, 101), bins=51)\n",
    "plt.bar(e[:-1], b, facecolor='navy')\n",
    "plt.show()\n",
    "\n",
    "b, e = np.histogram(clean_scored_room_db.review_scores_accuracy.dropna(), range=(1, 6), bins=5)\n",
    "plt.bar(e[:-1], b, facecolor='navy')\n",
    "plt.show()\n",
    "\n",
    "b, e = np.histogram(clean_scored_room_db.review_scores_checkin.dropna(), range=(1, 6), bins=5)\n",
    "plt.bar(e[:-1], b, facecolor='navy')\n",
    "plt.show()\n",
    "\n",
    "b, e = np.histogram(clean_scored_room_db.review_scores_cleanliness.dropna(), range=(1, 6), bins=5)\n",
    "plt.bar(e[:-1], b, facecolor='navy')\n",
    "plt.show()\n",
    "\n",
    "b, e = np.histogram(clean_scored_room_db.review_scores_communication.dropna(), range=(1, 6), bins=5)\n",
    "plt.bar(e[:-1], b, facecolor='navy')\n",
    "plt.show()\n",
    "\n",
    "b, e = np.histogram(clean_scored_room_db.review_scores_location.dropna(), range=(1, 6), bins=5)\n",
    "plt.bar(e[:-1], b, facecolor='navy')\n",
    "plt.show()\n",
    "\n",
    "b, e = np.histogram(clean_scored_room_db.review_scores_value.dropna(), range=(1, 6), bins=50)\n",
    "plt.bar(e[:-1], b, facecolor='navy')\n",
    "plt.show()"
   ]
  },
  {
   "cell_type": "code",
   "execution_count": 1284,
   "metadata": {},
   "outputs": [
    {
     "data": {
      "text/plain": [
       "'SPANISH'"
      ]
     },
     "execution_count": 1284,
     "metadata": {},
     "output_type": "execute_result"
    }
   ],
   "source": [
    "test"
   ]
  },
  {
   "cell_type": "code",
   "execution_count": 1279,
   "metadata": {},
   "outputs": [
    {
     "data": {
      "text/plain": [
       "Detections(is_reliable=True, bytes_found=23, details=(Detection(language_name='SPANISH', language_code='es', percent=95, score=1489.0), Detection(language_name='Unknown', language_code='un', percent=0, score=0.0), Detection(language_name='Unknown', language_code='un', percent=0, score=0.0)))"
      ]
     },
     "execution_count": 1279,
     "metadata": {},
     "output_type": "execute_result"
    }
   ],
   "source": [
    "import cld2\n",
    "test = cld2.detect(\"Cómo estás mi amigo?\")\n",
    "test.lang"
   ]
  },
  {
   "cell_type": "code",
   "execution_count": 1257,
   "metadata": {},
   "outputs": [
    {
     "ename": "LookupError",
     "evalue": "\n**********************************************************************\n  Resource \u001b[93mwords\u001b[0m not found.\n  Please use the NLTK Downloader to obtain the resource:\n\n  \u001b[31m>>> import nltk\n  >>> nltk.download('words')\n  \u001b[0m\n  For more information see: https://www.nltk.org/data.html\n\n  Attempted to load \u001b[93mcorpora/words\u001b[0m\n\n  Searched in:\n    - '/Users/bennett/nltk_data'\n    - '/Users/bennett/anaconda3/envs/airbnb_p3/nltk_data'\n    - '/Users/bennett/anaconda3/envs/airbnb_p3/share/nltk_data'\n    - '/Users/bennett/anaconda3/envs/airbnb_p3/lib/nltk_data'\n    - '/usr/share/nltk_data'\n    - '/usr/local/share/nltk_data'\n    - '/usr/lib/nltk_data'\n    - '/usr/local/lib/nltk_data'\n**********************************************************************\n",
     "output_type": "error",
     "traceback": [
      "\u001b[0;31m---------------------------------------------------------------------------\u001b[0m",
      "\u001b[0;31mLookupError\u001b[0m                               Traceback (most recent call last)",
      "\u001b[0;32m~/anaconda3/envs/airbnb_p3/lib/python3.7/site-packages/nltk/corpus/util.py\u001b[0m in \u001b[0;36m__load\u001b[0;34m(self)\u001b[0m\n\u001b[1;32m     85\u001b[0m                 \u001b[0;32mtry\u001b[0m\u001b[0;34m:\u001b[0m\u001b[0;34m\u001b[0m\u001b[0;34m\u001b[0m\u001b[0m\n\u001b[0;32m---> 86\u001b[0;31m                     \u001b[0mroot\u001b[0m \u001b[0;34m=\u001b[0m \u001b[0mnltk\u001b[0m\u001b[0;34m.\u001b[0m\u001b[0mdata\u001b[0m\u001b[0;34m.\u001b[0m\u001b[0mfind\u001b[0m\u001b[0;34m(\u001b[0m\u001b[0;34m'{}/{}'\u001b[0m\u001b[0;34m.\u001b[0m\u001b[0mformat\u001b[0m\u001b[0;34m(\u001b[0m\u001b[0mself\u001b[0m\u001b[0;34m.\u001b[0m\u001b[0msubdir\u001b[0m\u001b[0;34m,\u001b[0m \u001b[0mzip_name\u001b[0m\u001b[0;34m)\u001b[0m\u001b[0;34m)\u001b[0m\u001b[0;34m\u001b[0m\u001b[0;34m\u001b[0m\u001b[0m\n\u001b[0m\u001b[1;32m     87\u001b[0m                 \u001b[0;32mexcept\u001b[0m \u001b[0mLookupError\u001b[0m\u001b[0;34m:\u001b[0m\u001b[0;34m\u001b[0m\u001b[0;34m\u001b[0m\u001b[0m\n",
      "\u001b[0;32m~/anaconda3/envs/airbnb_p3/lib/python3.7/site-packages/nltk/data.py\u001b[0m in \u001b[0;36mfind\u001b[0;34m(resource_name, paths)\u001b[0m\n\u001b[1;32m    700\u001b[0m     \u001b[0mresource_not_found\u001b[0m \u001b[0;34m=\u001b[0m \u001b[0;34m'\\n%s\\n%s\\n%s\\n'\u001b[0m \u001b[0;34m%\u001b[0m \u001b[0;34m(\u001b[0m\u001b[0msep\u001b[0m\u001b[0;34m,\u001b[0m \u001b[0mmsg\u001b[0m\u001b[0;34m,\u001b[0m \u001b[0msep\u001b[0m\u001b[0;34m)\u001b[0m\u001b[0;34m\u001b[0m\u001b[0;34m\u001b[0m\u001b[0m\n\u001b[0;32m--> 701\u001b[0;31m     \u001b[0;32mraise\u001b[0m \u001b[0mLookupError\u001b[0m\u001b[0;34m(\u001b[0m\u001b[0mresource_not_found\u001b[0m\u001b[0;34m)\u001b[0m\u001b[0;34m\u001b[0m\u001b[0;34m\u001b[0m\u001b[0m\n\u001b[0m\u001b[1;32m    702\u001b[0m \u001b[0;34m\u001b[0m\u001b[0m\n",
      "\u001b[0;31mLookupError\u001b[0m: \n**********************************************************************\n  Resource \u001b[93mwords\u001b[0m not found.\n  Please use the NLTK Downloader to obtain the resource:\n\n  \u001b[31m>>> import nltk\n  >>> nltk.download('words')\n  \u001b[0m\n  For more information see: https://www.nltk.org/data.html\n\n  Attempted to load \u001b[93mcorpora/words.zip/words/\u001b[0m\n\n  Searched in:\n    - '/Users/bennett/nltk_data'\n    - '/Users/bennett/anaconda3/envs/airbnb_p3/nltk_data'\n    - '/Users/bennett/anaconda3/envs/airbnb_p3/share/nltk_data'\n    - '/Users/bennett/anaconda3/envs/airbnb_p3/lib/nltk_data'\n    - '/usr/share/nltk_data'\n    - '/usr/local/share/nltk_data'\n    - '/usr/lib/nltk_data'\n    - '/usr/local/lib/nltk_data'\n**********************************************************************\n",
      "\nDuring handling of the above exception, another exception occurred:\n",
      "\u001b[0;31mLookupError\u001b[0m                               Traceback (most recent call last)",
      "\u001b[0;32m<ipython-input-1257-7c737f262aef>\u001b[0m in \u001b[0;36m<module>\u001b[0;34m\u001b[0m\n\u001b[1;32m      1\u001b[0m \u001b[0mtext\u001b[0m \u001b[0;34m=\u001b[0m \u001b[0;34m\"I have been typing in english mais comment est-ce que tu pense que je pouvais determiner si la langue n'est pas anglias?\"\u001b[0m\u001b[0;34m\u001b[0m\u001b[0;34m\u001b[0m\u001b[0m\n\u001b[1;32m      2\u001b[0m \u001b[0;34m\u001b[0m\u001b[0m\n\u001b[0;32m----> 3\u001b[0;31m \u001b[0menglish_vocab\u001b[0m \u001b[0;34m=\u001b[0m \u001b[0mset\u001b[0m\u001b[0;34m(\u001b[0m\u001b[0mw\u001b[0m\u001b[0;34m.\u001b[0m\u001b[0mlower\u001b[0m\u001b[0;34m(\u001b[0m\u001b[0;34m)\u001b[0m \u001b[0;32mfor\u001b[0m \u001b[0mw\u001b[0m \u001b[0;32min\u001b[0m \u001b[0mnltk\u001b[0m\u001b[0;34m.\u001b[0m\u001b[0mcorpus\u001b[0m\u001b[0;34m.\u001b[0m\u001b[0mwords\u001b[0m\u001b[0;34m.\u001b[0m\u001b[0mwords\u001b[0m\u001b[0;34m(\u001b[0m\u001b[0;34m)\u001b[0m\u001b[0;34m)\u001b[0m\u001b[0;34m\u001b[0m\u001b[0;34m\u001b[0m\u001b[0m\n\u001b[0m\u001b[1;32m      4\u001b[0m \u001b[0mtext_vocab\u001b[0m \u001b[0;34m=\u001b[0m \u001b[0mset\u001b[0m\u001b[0;34m(\u001b[0m\u001b[0mw\u001b[0m\u001b[0;34m.\u001b[0m\u001b[0mlower\u001b[0m\u001b[0;34m(\u001b[0m\u001b[0;34m)\u001b[0m \u001b[0;32mfor\u001b[0m \u001b[0mw\u001b[0m \u001b[0;32min\u001b[0m \u001b[0mtext\u001b[0m \u001b[0;32mif\u001b[0m \u001b[0mw\u001b[0m\u001b[0;34m.\u001b[0m\u001b[0mlower\u001b[0m\u001b[0;34m(\u001b[0m\u001b[0;34m)\u001b[0m\u001b[0;34m.\u001b[0m\u001b[0misalpha\u001b[0m\u001b[0;34m(\u001b[0m\u001b[0;34m)\u001b[0m\u001b[0;34m)\u001b[0m\u001b[0;34m\u001b[0m\u001b[0;34m\u001b[0m\u001b[0m\n\u001b[1;32m      5\u001b[0m \u001b[0munusual\u001b[0m \u001b[0;34m=\u001b[0m \u001b[0mtext_vocab\u001b[0m\u001b[0;34m.\u001b[0m\u001b[0mdifference\u001b[0m\u001b[0;34m(\u001b[0m\u001b[0menglish_vocab\u001b[0m\u001b[0;34m)\u001b[0m\u001b[0;34m\u001b[0m\u001b[0;34m\u001b[0m\u001b[0m\n",
      "\u001b[0;32m~/anaconda3/envs/airbnb_p3/lib/python3.7/site-packages/nltk/corpus/util.py\u001b[0m in \u001b[0;36m__getattr__\u001b[0;34m(self, attr)\u001b[0m\n\u001b[1;32m    121\u001b[0m             \u001b[0;32mraise\u001b[0m \u001b[0mAttributeError\u001b[0m\u001b[0;34m(\u001b[0m\u001b[0;34m\"LazyCorpusLoader object has no attribute '__bases__'\"\u001b[0m\u001b[0;34m)\u001b[0m\u001b[0;34m\u001b[0m\u001b[0;34m\u001b[0m\u001b[0m\n\u001b[1;32m    122\u001b[0m \u001b[0;34m\u001b[0m\u001b[0m\n\u001b[0;32m--> 123\u001b[0;31m         \u001b[0mself\u001b[0m\u001b[0;34m.\u001b[0m\u001b[0m__load\u001b[0m\u001b[0;34m(\u001b[0m\u001b[0;34m)\u001b[0m\u001b[0;34m\u001b[0m\u001b[0;34m\u001b[0m\u001b[0m\n\u001b[0m\u001b[1;32m    124\u001b[0m         \u001b[0;31m# This looks circular, but its not, since __load() changes our\u001b[0m\u001b[0;34m\u001b[0m\u001b[0;34m\u001b[0m\u001b[0;34m\u001b[0m\u001b[0m\n\u001b[1;32m    125\u001b[0m         \u001b[0;31m# __class__ to something new:\u001b[0m\u001b[0;34m\u001b[0m\u001b[0;34m\u001b[0m\u001b[0;34m\u001b[0m\u001b[0m\n",
      "\u001b[0;32m~/anaconda3/envs/airbnb_p3/lib/python3.7/site-packages/nltk/corpus/util.py\u001b[0m in \u001b[0;36m__load\u001b[0;34m(self)\u001b[0m\n\u001b[1;32m     86\u001b[0m                     \u001b[0mroot\u001b[0m \u001b[0;34m=\u001b[0m \u001b[0mnltk\u001b[0m\u001b[0;34m.\u001b[0m\u001b[0mdata\u001b[0m\u001b[0;34m.\u001b[0m\u001b[0mfind\u001b[0m\u001b[0;34m(\u001b[0m\u001b[0;34m'{}/{}'\u001b[0m\u001b[0;34m.\u001b[0m\u001b[0mformat\u001b[0m\u001b[0;34m(\u001b[0m\u001b[0mself\u001b[0m\u001b[0;34m.\u001b[0m\u001b[0msubdir\u001b[0m\u001b[0;34m,\u001b[0m \u001b[0mzip_name\u001b[0m\u001b[0;34m)\u001b[0m\u001b[0;34m)\u001b[0m\u001b[0;34m\u001b[0m\u001b[0;34m\u001b[0m\u001b[0m\n\u001b[1;32m     87\u001b[0m                 \u001b[0;32mexcept\u001b[0m \u001b[0mLookupError\u001b[0m\u001b[0;34m:\u001b[0m\u001b[0;34m\u001b[0m\u001b[0;34m\u001b[0m\u001b[0m\n\u001b[0;32m---> 88\u001b[0;31m                     \u001b[0;32mraise\u001b[0m \u001b[0me\u001b[0m\u001b[0;34m\u001b[0m\u001b[0;34m\u001b[0m\u001b[0m\n\u001b[0m\u001b[1;32m     89\u001b[0m \u001b[0;34m\u001b[0m\u001b[0m\n\u001b[1;32m     90\u001b[0m         \u001b[0;31m# Load the corpus.\u001b[0m\u001b[0;34m\u001b[0m\u001b[0;34m\u001b[0m\u001b[0;34m\u001b[0m\u001b[0m\n",
      "\u001b[0;32m~/anaconda3/envs/airbnb_p3/lib/python3.7/site-packages/nltk/corpus/util.py\u001b[0m in \u001b[0;36m__load\u001b[0;34m(self)\u001b[0m\n\u001b[1;32m     81\u001b[0m         \u001b[0;32melse\u001b[0m\u001b[0;34m:\u001b[0m\u001b[0;34m\u001b[0m\u001b[0;34m\u001b[0m\u001b[0m\n\u001b[1;32m     82\u001b[0m             \u001b[0;32mtry\u001b[0m\u001b[0;34m:\u001b[0m\u001b[0;34m\u001b[0m\u001b[0;34m\u001b[0m\u001b[0m\n\u001b[0;32m---> 83\u001b[0;31m                 \u001b[0mroot\u001b[0m \u001b[0;34m=\u001b[0m \u001b[0mnltk\u001b[0m\u001b[0;34m.\u001b[0m\u001b[0mdata\u001b[0m\u001b[0;34m.\u001b[0m\u001b[0mfind\u001b[0m\u001b[0;34m(\u001b[0m\u001b[0;34m'{}/{}'\u001b[0m\u001b[0;34m.\u001b[0m\u001b[0mformat\u001b[0m\u001b[0;34m(\u001b[0m\u001b[0mself\u001b[0m\u001b[0;34m.\u001b[0m\u001b[0msubdir\u001b[0m\u001b[0;34m,\u001b[0m \u001b[0mself\u001b[0m\u001b[0;34m.\u001b[0m\u001b[0m__name\u001b[0m\u001b[0;34m)\u001b[0m\u001b[0;34m)\u001b[0m\u001b[0;34m\u001b[0m\u001b[0;34m\u001b[0m\u001b[0m\n\u001b[0m\u001b[1;32m     84\u001b[0m             \u001b[0;32mexcept\u001b[0m \u001b[0mLookupError\u001b[0m \u001b[0;32mas\u001b[0m \u001b[0me\u001b[0m\u001b[0;34m:\u001b[0m\u001b[0;34m\u001b[0m\u001b[0;34m\u001b[0m\u001b[0m\n\u001b[1;32m     85\u001b[0m                 \u001b[0;32mtry\u001b[0m\u001b[0;34m:\u001b[0m\u001b[0;34m\u001b[0m\u001b[0;34m\u001b[0m\u001b[0m\n",
      "\u001b[0;32m~/anaconda3/envs/airbnb_p3/lib/python3.7/site-packages/nltk/data.py\u001b[0m in \u001b[0;36mfind\u001b[0;34m(resource_name, paths)\u001b[0m\n\u001b[1;32m    699\u001b[0m     \u001b[0msep\u001b[0m \u001b[0;34m=\u001b[0m \u001b[0;34m'*'\u001b[0m \u001b[0;34m*\u001b[0m \u001b[0;36m70\u001b[0m\u001b[0;34m\u001b[0m\u001b[0;34m\u001b[0m\u001b[0m\n\u001b[1;32m    700\u001b[0m     \u001b[0mresource_not_found\u001b[0m \u001b[0;34m=\u001b[0m \u001b[0;34m'\\n%s\\n%s\\n%s\\n'\u001b[0m \u001b[0;34m%\u001b[0m \u001b[0;34m(\u001b[0m\u001b[0msep\u001b[0m\u001b[0;34m,\u001b[0m \u001b[0mmsg\u001b[0m\u001b[0;34m,\u001b[0m \u001b[0msep\u001b[0m\u001b[0;34m)\u001b[0m\u001b[0;34m\u001b[0m\u001b[0;34m\u001b[0m\u001b[0m\n\u001b[0;32m--> 701\u001b[0;31m     \u001b[0;32mraise\u001b[0m \u001b[0mLookupError\u001b[0m\u001b[0;34m(\u001b[0m\u001b[0mresource_not_found\u001b[0m\u001b[0;34m)\u001b[0m\u001b[0;34m\u001b[0m\u001b[0;34m\u001b[0m\u001b[0m\n\u001b[0m\u001b[1;32m    702\u001b[0m \u001b[0;34m\u001b[0m\u001b[0m\n\u001b[1;32m    703\u001b[0m \u001b[0;34m\u001b[0m\u001b[0m\n",
      "\u001b[0;31mLookupError\u001b[0m: \n**********************************************************************\n  Resource \u001b[93mwords\u001b[0m not found.\n  Please use the NLTK Downloader to obtain the resource:\n\n  \u001b[31m>>> import nltk\n  >>> nltk.download('words')\n  \u001b[0m\n  For more information see: https://www.nltk.org/data.html\n\n  Attempted to load \u001b[93mcorpora/words\u001b[0m\n\n  Searched in:\n    - '/Users/bennett/nltk_data'\n    - '/Users/bennett/anaconda3/envs/airbnb_p3/nltk_data'\n    - '/Users/bennett/anaconda3/envs/airbnb_p3/share/nltk_data'\n    - '/Users/bennett/anaconda3/envs/airbnb_p3/lib/nltk_data'\n    - '/usr/share/nltk_data'\n    - '/usr/local/share/nltk_data'\n    - '/usr/lib/nltk_data'\n    - '/usr/local/lib/nltk_data'\n**********************************************************************\n"
     ]
    }
   ],
   "source": [
    "text = \"I have been typing in english mais comment est-ce que tu pense que je pouvais determiner si la langue n'est pas anglias?\"\n",
    "\n",
    "english_vocab = set(w.lower() for w in nltk.corpus.words.words())\n",
    "text_vocab = set(w.lower() for w in text if w.lower().isalpha())\n",
    "unusual = text_vocab.difference(english_vocab) "
   ]
  },
  {
   "cell_type": "code",
   "execution_count": 158,
   "metadata": {},
   "outputs": [],
   "source": [
    "# data cleaning functions\n",
    "\n",
    "def clean_detect(x):\n",
    "    try:\n",
    "        #return detect(x)\n",
    "        return cld2.detect(x).details[0][1]\n",
    "    except:\n",
    "        return 'No Language'\n",
    "    \n",
    "def name2HOST_NAME(x):\n",
    "    if type(x['host_name']) is str:\n",
    "        return x['comments'].replace(x['host_name'], 'HOST_NAME')\n",
    "    else:\n",
    "        return x['comments']\n",
    "\n",
    "def preproc_df(df, pickle_name='', extract_host = False, change_name2HOST_NAME = False, \n",
    "               lang_condition = 'en', min_num_reviews = None):\n",
    "    \"\"\"\n",
    "    input a df in the format of room_db\n",
    "    with columns ['room_id', 'host_name', 'user_id', 'comments']\n",
    "    with dtype int, str, list-of-int, list-of-str\n",
    "    \n",
    "    output flat_df with columns ['listing_id', 'host_name', 'user_id', 'comments', host_names_extracted, 'old_index']\n",
    "    with dtype int, str, int, list-of-str, int\n",
    "    \n",
    "    if find_host, automatically find the name of the host(s) within a given listing\n",
    "    fill a column with a list of these guesses.\n",
    "    else, put an empty list\n",
    "    \n",
    "    args:\n",
    "    lang_select selects the language of comments to condition on. 'en' for english. '' --> no filtering\n",
    "    min_num_reviews: int. Filter out listings with less than min_num_reviews\n",
    "    \n",
    "    \"\"\"\n",
    "   \n",
    "    \n",
    "    lids = []\n",
    "    hns = []\n",
    "    uids = []\n",
    "    flat_doc_comments = []\n",
    "    host_names_extracted = []\n",
    "    for index, row in df.head(n=df.shape[0]).iterrows():\n",
    "        lid = row.room_id\n",
    "        hn = row.host_name\n",
    "        uid = row.user_id\n",
    "        cs = row.comments\n",
    "        lids.extend([lid]*len(cs))\n",
    "        hns.extend([hn]*len(cs))\n",
    "        uids.extend(uid)\n",
    "        flat_doc_comments.extend(cs)\n",
    "        if extract_host:\n",
    "            host_names_extracted.extend(extract_host_names(cs))\n",
    "        else:\n",
    "            host_names_extracted.extend([[]*len(cs)])\n",
    "\n",
    "    flat_df = pd.DataFrame({'listing_id':lids, \n",
    "                                'host_name': hns, \n",
    "                                'user_id':uids,\n",
    "                                'comments':flat_doc_comments})\n",
    "    \n",
    "    flat_df.comments = flat_df.comments.fillna('')\n",
    "    \n",
    "    \n",
    "    if change_name2HOST_NAME:\n",
    "        flat_df['comments'] = flat_df.apply(lambda x: name2HOST_NAME(x), axis=1)\n",
    "\n",
    "    # ONLY LOOKS AT REVIEWS WITH 3+ CHARACTERS\n",
    "    # ONLY LOOK AT REVIEWS IN ENGLISH\n",
    "    flat_df = flat_df[flat_df.comments.apply(lambda x: len(x) >= 3)]\n",
    "    if lang_condition:\n",
    "        flat_df = flat_df[flat_df.comments.apply(lambda x: clean_detect(x) == lang_condition)]\n",
    "\n",
    "    # REMOVE AUTOMATED MESSAGES\n",
    "    flat_df = flat_df[flat_df.comments.apply(lambda x: x[:34] != 'The host canceled this reservation')]\n",
    "\n",
    "    if pickle_name:\n",
    "        with open(pickle_name, 'wb') as pickle_file:\n",
    "            pickle.dump(flat_df, pickle_file)\n",
    "\n",
    "    return flat_df"
   ]
  },
  {
   "cell_type": "code",
   "execution_count": 918,
   "metadata": {},
   "outputs": [],
   "source": [
    "# data loading functions\n",
    "\n",
    "def load_room_db(listing_fnames, review_fnames, room_db_pickle_name='', load_from_pickle = False):\n",
    "    \n",
    "    listings = []\n",
    "    reviews = []\n",
    "    if load_from_pickle:        \n",
    "        for fname in listing_fnames:\n",
    "            file = open(fname, 'rb')\n",
    "            object_file = pickle.load(file)\n",
    "            listings.append(object_file)\n",
    "            file.close()\n",
    "        for fname in review_fnames:\n",
    "            file = open(fname, 'rb')\n",
    "            object_file = pickle.load(file)\n",
    "            reviews.append(object_file)\n",
    "            file.close()    \n",
    "    else:\n",
    "        for fname in listing_fnames:\n",
    "            listings.append(pd.read_csv(fname, sep=';'))\n",
    "        for fname in review_fnames:\n",
    "            reviews.append(pd.read_csv(fname, sep=';'))\n",
    "      \n",
    "    # clean up column names\n",
    "    l2d = {'id':'room_id', \n",
    "        'geolocation':'coordinates', \n",
    "        'neighbourhood_cleansed': 'neighborhood_clean',\n",
    "       'price':'room_price',\n",
    "       'last_review':'date_last_review'}\n",
    "    for i, L in enumerate(listings):\n",
    "        L = L.rename(columns={c:c.lower().replace(' ', '_') for c in L.columns})\n",
    "        L = L.rename(columns=l2d)\n",
    "        listings[i] = L\n",
    "    for i, R in enumerate(reviews):\n",
    "        R = R.rename(columns={c:c.lower().replace(' ', '_') for c in R.columns})\n",
    "        reviews[i] = R\n",
    "        \n",
    "    reviews = reviews[0]  \n",
    "    listing = listings[0]\n",
    "    room_id_list = []\n",
    "    for L in listings:\n",
    "        room_id_list.extend(list(L.room_id))\n",
    "    unique_room_id_list = sorted(np.unique(room_id_list))\n",
    "\n",
    "    # build a DataFrame of room_id --> host_name, list of reviewers, list of comments\n",
    "    # Takes some compute time (~10 minutes)\n",
    "    \n",
    "    hosts_for_room = [listing[listing.room_id == rid].host_name \n",
    "                      for rid in unique_room_id_list]\n",
    "    print('Loaded Hosts')\n",
    "    \n",
    "    reviewers_for_room = {rid: list(reviews[reviews.listing_id == rid].reviewer_id) \n",
    "                          for rid in unique_room_id_list}\n",
    "    print('Loaded Reviewer IDs')\n",
    "    \n",
    "    reviewer_names_for_room = {rid: list(reviews[reviews.listing_id == rid].reviewer_name) \n",
    "                               for rid in unique_room_id_list}\n",
    "    print('Loaded Reviewer names')\n",
    "    \n",
    "    comments_for_room = {rid: list(reviews[reviews.listing_id == rid].comments) \n",
    "                         for rid in unique_room_id_list}\n",
    "    print('Loaded Comments')\n",
    "    room_db = pd.DataFrame({'room_id':unique_room_id_list,\n",
    "                        'host_name':hosts_for_room,\n",
    "                       'user_id':[reviewers_for_room[k] for k in unique_room_id_list],\n",
    "                        'user_name': [reviewer_names_for_room[k] for k in unique_room_id_list],\n",
    "                       'comments': [comments_for_room[k] for k in unique_room_id_list]})\n",
    "\n",
    "    if room_db_pickle_name:\n",
    "        with open(room_db_pickle_name, 'wb') as pickle_file:\n",
    "            pickle.dump(room_db, pickle_file)\n",
    "            \n",
    "    return room_db, listings, reviews"
   ]
  },
  {
   "cell_type": "code",
   "execution_count": 145,
   "metadata": {
    "scrolled": true
   },
   "outputs": [
    {
     "name": "stdout",
     "output_type": "stream",
     "text": [
      "Loaded Hosts\n",
      "Loaded Reviewers\n",
      "Loaded Comments\n"
     ]
    }
   ],
   "source": [
    "datadir = '../../Desktop/Insight Project/airbnb/pickles/'\n",
    "room_db, listings, reviews = load_room_db(listing_fnames = [datadir + 'lis_nyc2.pkl'],\n",
    "                                          review_fnames= [datadir + 'reviews.pkl'],\n",
    "                                          load_from_pickle=True)"
   ]
  },
  {
   "cell_type": "code",
   "execution_count": 165,
   "metadata": {
    "scrolled": false
   },
   "outputs": [],
   "source": [
    "flat_df = preproc_df(room_db)"
   ]
  },
  {
   "cell_type": "code",
   "execution_count": 166,
   "metadata": {},
   "outputs": [],
   "source": [
    "pickle_name = datadir + 'flat_df.pkl'\n",
    "with open(pickle_name, 'wb') as pickle_file:\n",
    "    pickle.dump(flat_df, pickle_file)"
   ]
  },
  {
   "cell_type": "code",
   "execution_count": 28,
   "metadata": {},
   "outputs": [
    {
     "name": "stdout",
     "output_type": "stream",
     "text": [
      "Loaded File\n",
      "Made Corpus\n"
     ]
    }
   ],
   "source": [
    "lda_model, topics = extract_topic_vectors(pickle_name)"
   ]
  },
  {
   "cell_type": "code",
   "execution_count": 31,
   "metadata": {},
   "outputs": [],
   "source": [
    "corpus, dictionary = get_corpus(flat_df)"
   ]
  },
  {
   "cell_type": "code",
   "execution_count": 29,
   "metadata": {},
   "outputs": [
    {
     "data": {
      "text/plain": [
       "[(0,\n",
       "  '0.010*\"brian\" + 0.009*\"eric\" + 0.008*\"place\" + 0.008*\"nicol\" + 0.007*\"apart\" + 0.007*\"lisa\" + 0.007*\"nice\" + 0.007*\"host\" + 0.006*\"clean\" + 0.006*\"help\"'),\n",
       " (1,\n",
       "  '0.010*\"michell\" + 0.008*\"place\" + 0.008*\"columbia\" + 0.007*\"kyle\" + 0.007*\"apart\" + 0.006*\"locat\" + 0.006*\"perfect\" + 0.006*\"host\" + 0.006*\"nice\" + 0.006*\"clean\"'),\n",
       " (2,\n",
       "  '0.012*\"accur\" + 0.011*\"spot\" + 0.011*\"matt\" + 0.010*\"good\" + 0.010*\"place\" + 0.009*\"descript\" + 0.008*\"robert\" + 0.008*\"apart\" + 0.008*\"host\" + 0.008*\"nice\"'),\n",
       " (3,\n",
       "  '0.012*\"check\" + 0.009*\"paul\" + 0.009*\"andrew\" + 0.008*\"place\" + 0.008*\"easi\" + 0.007*\"apart\" + 0.006*\"clean\" + 0.006*\"time\" + 0.006*\"host\" + 0.006*\"nice\"'),\n",
       " (4,\n",
       "  '0.008*\"place\" + 0.006*\"charli\" + 0.006*\"nice\" + 0.006*\"host\" + 0.006*\"elizabeth\" + 0.006*\"clean\" + 0.006*\"apart\" + 0.005*\"room\" + 0.005*\"help\" + 0.005*\"time\"'),\n",
       " (5,\n",
       "  '0.018*\"alex\" + 0.014*\"price\" + 0.010*\"place\" + 0.008*\"mari\" + 0.007*\"adam\" + 0.007*\"host\" + 0.007*\"locat\" + 0.007*\"nice\" + 0.007*\"apart\" + 0.007*\"recommend\"'),\n",
       " (6,\n",
       "  '0.020*\"michael\" + 0.008*\"place\" + 0.007*\"apart\" + 0.007*\"nice\" + 0.006*\"carlo\" + 0.006*\"good\" + 0.006*\"locat\" + 0.006*\"host\" + 0.006*\"clean\" + 0.006*\"victor\"'),\n",
       " (7,\n",
       "  '0.011*\"advertis\" + 0.009*\"place\" + 0.009*\"exact\" + 0.008*\"describ\" + 0.008*\"kevin\" + 0.008*\"apart\" + 0.007*\"host\" + 0.007*\"clean\" + 0.007*\"locat\" + 0.006*\"easi\"'),\n",
       " (8,\n",
       "  '0.009*\"jason\" + 0.008*\"maria\" + 0.006*\"apart\" + 0.006*\"place\" + 0.006*\"vanessa\" + 0.005*\"carol\" + 0.005*\"nice\" + 0.005*\"host\" + 0.005*\"room\" + 0.005*\"clean\"'),\n",
       " (9,\n",
       "  '0.015*\"view\" + 0.011*\"mike\" + 0.008*\"apart\" + 0.007*\"place\" + 0.007*\"build\" + 0.006*\"locat\" + 0.006*\"amaz\" + 0.006*\"state\" + 0.006*\"empir\" + 0.006*\"nice\"'),\n",
       " (10,\n",
       "  '0.010*\"nick\" + 0.008*\"place\" + 0.007*\"laura\" + 0.007*\"sean\" + 0.007*\"amanda\" + 0.007*\"apart\" + 0.006*\"nice\" + 0.006*\"host\" + 0.006*\"locat\" + 0.005*\"help\"'),\n",
       " (11,\n",
       "  '0.012*\"jam\" + 0.007*\"place\" + 0.006*\"apart\" + 0.006*\"nice\" + 0.006*\"host\" + 0.006*\"room\" + 0.005*\"clean\" + 0.005*\"bianca\" + 0.005*\"steve\" + 0.005*\"locat\"'),\n",
       " (12,\n",
       "  '0.020*\"awesom\" + 0.012*\"excel\" + 0.011*\"place\" + 0.010*\"host\" + 0.009*\"locat\" + 0.009*\"nice\" + 0.008*\"clean\" + 0.008*\"mark\" + 0.007*\"apart\" + 0.007*\"recommend\"'),\n",
       " (13,\n",
       "  '0.029*\"place\" + 0.027*\"locat\" + 0.025*\"host\" + 0.025*\"nice\" + 0.018*\"good\" + 0.018*\"clean\" + 0.017*\"perfect\" + 0.015*\"recommend\" + 0.015*\"apart\" + 0.013*\"comfort\"'),\n",
       " (14,\n",
       "  '0.008*\"joseph\" + 0.008*\"josh\" + 0.007*\"place\" + 0.007*\"apart\" + 0.007*\"thoma\" + 0.006*\"host\" + 0.006*\"justin\" + 0.006*\"patrick\" + 0.006*\"help\" + 0.006*\"nice\"'),\n",
       " (15,\n",
       "  '0.007*\"room\" + 0.006*\"apart\" + 0.006*\"good\" + 0.006*\"night\" + 0.006*\"bathroom\" + 0.005*\"place\" + 0.005*\"sleep\" + 0.005*\"bedroom\" + 0.005*\"nois\" + 0.005*\"small\"'),\n",
       " (16,\n",
       "  '0.011*\"restaur\" + 0.011*\"close\" + 0.010*\"place\" + 0.009*\"walk\" + 0.008*\"locat\" + 0.008*\"apart\" + 0.008*\"villag\" + 0.008*\"transport\" + 0.008*\"subway\" + 0.007*\"easi\"'),\n",
       " (17,\n",
       "  '0.007*\"apart\" + 0.006*\"daniel\" + 0.006*\"place\" + 0.005*\"nice\" + 0.005*\"kitchen\" + 0.005*\"kate\" + 0.005*\"clean\" + 0.005*\"comfort\" + 0.005*\"need\" + 0.005*\"locat\"'),\n",
       " (18,\n",
       "  '0.027*\"anna\" + 0.021*\"cancel\" + 0.020*\"reserv\" + 0.020*\"post\" + 0.018*\"autom\" + 0.015*\"day\" + 0.013*\"arriv\" + 0.010*\"jenni\" + 0.010*\"marco\" + 0.009*\"place\"'),\n",
       " (19,\n",
       "  '0.017*\"valu\" + 0.016*\"sarah\" + 0.008*\"place\" + 0.007*\"good\" + 0.007*\"money\" + 0.007*\"apart\" + 0.007*\"locat\" + 0.007*\"julia\" + 0.007*\"host\" + 0.006*\"nice\"')]"
      ]
     },
     "execution_count": 29,
     "metadata": {},
     "output_type": "execute_result"
    }
   ],
   "source": [
    "topics"
   ]
  },
  {
   "cell_type": "code",
   "execution_count": 144,
   "metadata": {},
   "outputs": [
    {
     "data": {
      "text/plain": [
       "\"stephanie's offered all the most important things: a warm welcome into a comfortable home; a comfortable bed in a quiet room; fresh & clean towels & blankets; and easy access to manhattan.  finding myself travelling to nyc in the future i feel i already have a open invitation to make home away from home through stephanie's generousity.\""
      ]
     },
     "execution_count": 144,
     "metadata": {},
     "output_type": "execute_result"
    }
   ],
   "source": [
    "flat_df.comments[0]"
   ]
  },
  {
   "cell_type": "code",
   "execution_count": null,
   "metadata": {},
   "outputs": [],
   "source": []
  },
  {
   "cell_type": "code",
   "execution_count": 83,
   "metadata": {},
   "outputs": [
    {
     "data": {
      "image/png": "[encoded data removed]",
      "text/plain": [
       "<Figure size 432x288 with 1 Axes>"
      ]
     },
     "metadata": {
      "needs_background": "light"
     },
     "output_type": "display_data"
    },
    {
     "data": {
      "image/png": "[encoded data removed]",
      "text/plain": [
       "<Figure size 432x288 with 1 Axes>"
      ]
     },
     "metadata": {
      "needs_background": "light"
     },
     "output_type": "display_data"
    }
   ],
   "source": [
    "\n",
    "def center(L):\n",
    "    return [np.mean([a, b]) for (a, b) in zip(L[:-1], L[0:])]\n",
    "\n",
    "nb = 200\n",
    "bw = 3000. / (1*nb)\n",
    "b, e = np.histogram(list(flat_df.comments.apply(lambda x: len(x))), bins=nb, range=(0, 3000))\n",
    "plt.bar(center(e), b, width=bw, lw=0, facecolor = 'navy')\n",
    "plt.xlim(0, 40)\n",
    "plt.xlabel('Review Length (in characters)')\n",
    "plt.ylabel('Count')\n",
    "plt.show()\n",
    "\n",
    "nb = 250\n",
    "bw = 500. / (1*nb)\n",
    "b, e = np.histogram(list(flat_df.comments.apply(lambda x: len(x.split(' ')))), bins=nb, range = (0, 500))\n",
    "plt.bar(center(e), b, width=bw, lw=0, facecolor = 'navy')\n",
    "plt.xlim(0, 100)\n",
    "plt.xlabel('Review Length (in words)')\n",
    "plt.ylabel('Count')\n",
    "plt.show()"
   ]
  },
  {
   "cell_type": "code",
   "execution_count": 109,
   "metadata": {},
   "outputs": [],
   "source": []
  },
  {
   "cell_type": "code",
   "execution_count": 118,
   "metadata": {},
   "outputs": [
    {
     "data": {
      "text/plain": [
       "True"
      ]
     },
     "execution_count": 118,
     "metadata": {},
     "output_type": "execute_result"
    }
   ],
   "source": [
    "'The host canceled my reservation'.lower()[:32] == 'the host canceled my reservation'"
   ]
  },
  {
   "cell_type": "code",
   "execution_count": 148,
   "metadata": {
    "scrolled": false
   },
   "outputs": [
    {
     "name": "stdout",
     "output_type": "stream",
     "text": [
      "The appartment is clean, the bed is good.\n",
      "Wonderfull apt and wonderfull host\n",
      "great location! very nice, clean, roomy, quite place\n",
      "Great apartment!\n",
      "Great hospitality!\n",
      "very nice room so great place\n",
      "Great place to stay.\n",
      "Right place in the right spot! Just go there!\n",
      "Perfect.\n",
      "Nice apartment in a central location!\n",
      "Good location. Good price. Will was responsive and flexible.\n",
      "Had a wonderful stay! Will was very helpful.\n",
      "great stay!\n",
      "It's really good~ he is so nice~\n",
      "Great experience , really big Apartment..\n",
      "great Harlem Appartment!\n",
      "Evrythings good\n",
      "The location gave us ready access to the city.\n",
      "Great place to stay! Great area and great host\n",
      "We had a wonderful time staying here. Thank You.\n",
      "This was a fantastic apartment in a great location.\n",
      "Great for a short trip. Close to subway!\n",
      "Clean, quiet, nicely and creatively decorated.\n",
      "Great location. Quite place in popular place!\n",
      "Great space and wonderful location! Thank you Justin!\n",
      "Great place.\n",
      "Good place to host a large group!\n",
      "Great Clean place, in a perfect location\n",
      "Great apartment in a great location.\n",
      "everything was great\n",
      "Great stay, great host. Would rent again.\n",
      "Seith was responsive to requests.  Thanks Seith!\n",
      "Clean, accurate, great location, big place.\n",
      "Great place.\n",
      "Great place, perfect location. all around great experience\n",
      "Great location, friendly doormen, en-suite bathroom was a bonus!\n",
      "Great apartment, great location! I would definetely recommend it!\n",
      "Nice place, quiet and central location, very nice host\n",
      "Great studio. Perfect location. Would go again.\n",
      "Spacious apartment close to central park!\n",
      "Great place to stay.  I will come back\n",
      "Great people great location!  Fun place to be!\n",
      "Everything was good and clean, we had no problems.\n",
      "Camille is a lovely girl !!\n",
      "Cute, cozy space, excellent address, helpful host: awesome experience!\n",
      "Great accommodating host.\n",
      "Great little apartment in awesome neighborhood.\n",
      "The host canceled my reservation 11 days before arrival.\n",
      "Apartment exactly as described. Check-in was easy. Great location.\n",
      "Great apartment very well located.\n"
     ]
    }
   ],
   "source": [
    "for c in flat_df[flat_df.comments.apply(lambda x: len(x.split(' ')) < 10)]['comments'][500:550]:\n",
    "    print(c)"
   ]
  },
  {
   "cell_type": "code",
   "execution_count": 104,
   "metadata": {},
   "outputs": [
    {
     "name": "stdout",
     "output_type": "stream",
     "text": [
      "Really nice stay, really friendly host!\n",
      "We loved staying here and the LES!\n",
      "Other than a slight miscommunication, everything is superb.\n",
      "Great host, great apartment and fabulous stay in NYC!\n",
      "Great space, very clean and photos were accurate.\n",
      "Great apartment in a cool, lively neighbourhood.\n",
      "Lovely apt! 6th floor walk up.\n",
      "Really friendly and responsive host, and nice place.\n",
      "The apartment was spacious and comfortable.\n",
      "Host was courteous and prompt in assisting our rental.\n",
      "Comfortable, very quiet, and well located.\n",
      "The host canceled my reservation 17 days before arrival.\n",
      "Very welcome host and great place to stay\n",
      "Host, apartment, and neighborhood very nice!\n",
      "Great location, easy access by tube, perfect !\n",
      "Isabel was a great host. Location was perfect!\n",
      "Fabulous location we had a great time!!!!!!!\n",
      "A great place and a fantastic location..\n",
      "The host canceled my reservation 82 days before arrival.\n",
      "Very nice host and great room!\n",
      "Very nice accommodations. Everything was as described.\n",
      "It was great .. Very comfortable\n",
      "Excellent location!  Value for the $.\n",
      "Nothing to say !!! Simply perfect !!!\n",
      "Comfortable and quiet place in nice neighborhood.\n",
      "Great host and good stay. Everything went well\n",
      "Great location, cute place! Had a great time!\n",
      "Great location, great host and clean apartment. Would recommend.\n",
      "Terrific location but noise is big issue.\n",
      "wonderful place!  perfect and comfortable\n",
      "Nice stay. Good cat who makes him understand !\n",
      "The description of the apartment was accurate. No complaints.\n",
      "It was a good place to stay.\n",
      "Great apartment & neighborhood.  Highly recommend!\n",
      "hip neighbourhood with many restaurants and bars\n",
      "The place was great. Thanks a lot!\n",
      "Good Location with a quite big Apartment!\n",
      "The place was clean and tidy.\n",
      "The place was nice and the host response quickly.\n",
      "Recommend. Nice apt and good location.\n",
      "Was great! Sergio is nice and helpful host. Thx!\n",
      "The place is cozy. She is a nice host.\n",
      "Peggy's place was super convenient. I'd definitely stay again.\n",
      "Very Clean Apartment\r\n",
      "\r\n",
      "\r\n",
      "Very Talented Host \r\n",
      "\r\n",
      "\r\n",
      "Very Nice Neighborhood\n",
      "The location is very convenient. Check-in time is flexible.\n",
      "Quiet clean comfortable. Easy to deal with AJ.\n",
      "Great place, great location.  Comfy and clean.\n",
      "Great location. Very clean. A ver good host\n",
      "Great hosts, convenient location by Central Park, quiet room.\n",
      "Great location, great apartment. Will come back again!\n"
     ]
    }
   ],
   "source": [
    "for c in flat_df[flat_df.comments.apply(lambda x: 5 < len(x.split(' ')) < 10)]['comments'][500:550]:\n",
    "    print(c)"
   ]
  },
  {
   "cell_type": "code",
   "execution_count": 103,
   "metadata": {},
   "outputs": [
    {
     "name": "stdout",
     "output_type": "stream",
     "text": [
      "Rahul and his wife are very welcoming.  The location is perfect for Columbia and the neighborhood is safe.\n",
      "It was great to be hosted by Purva's parents in the Columbia's campus.\n",
      "Rahul was a wonderful host! He was very accommodating and made my family's stay in NYC very comfortable.\n",
      "Very good. The room is fine and very quiet. I had a good time staying at the appartment.\n",
      "It was a pleasure staying with Teresa. I really recommend her ! :)\n",
      "Teresa's home was clean and she was accommodating. I would book with her again in the future.\n",
      "Teresa is so nice and I spent a nice and comfortable and safe trip on nyc!\n",
      "Teresa is kind, cultivated, generous and charming and I really liked stayed at her apartment. Highly recommended.\n",
      "This was a great experience !! I highly recommend this option of accommodation in the hearth of Manhattan !!\n",
      "Great location. Everything was as stated in the description. Teresa was very accommodating.\n",
      "Great place to stay on the Upper East Side!  Convenient, clean, and Theresa was very welcoming.\n",
      "Very welcoming, great space. Thank you for your kindness I truly enjoyed my stay.\n",
      "Great location, nice apartment, clear instructions, and good timely communication from the owner.  Recommended.\n",
      "Central location, close to everything, totally what we expected. \r\n",
      "Easy walking access to public transportation.\r\n",
      "I will come back !!\n",
      "Sheri is really friendly and thoughtful. She made us feel at home and we appreciated her warm welcome.\n",
      "It was very comfortabel! Everything was very clean! We would definitely recommend this Airbnb! Thank you :)\n",
      "She was an absolute fantastic host and allowed my girlfriend and I to have an amazing experience. Beautiful room.\n",
      "Sheri is great! The room, beautiful and clean, neighbour peaceful. I loved my days in Harlem!\n",
      "Sheri is a wonderful host.  Her apartment is very cozy and extremely clean.\n",
      "I extended my stay with Sheri. Please read my other review! :)\n",
      "The stay was exactly as it was advertised. Fantastic place, very clean and comfortable. Would stay again!\n",
      "The reservation was canceled 33 days before arrival. This is an automated posting.\n",
      "Great! I was feeling unwell, so erina was nice and left me to my own devices!\n",
      "Great location, simple room with a cozy double bed, nice host.\n",
      "Great location!! Room a lit bit noisy... Erina was very discrete, we did not see her very much.\n",
      "Alina was very nice and her cat too.\n",
      "Room and area as described.\n",
      "Clean, comfortable, and conveniently located!  WIFI works perfectly.  Great host and a\r\n",
      "friendly kitty too!\n",
      "The apartment was OK for that value of money. The biggest advantage its  position near the center!\n",
      "Erina was really great! Loved the room - it's in a great location.\n",
      "The reservation was canceled the day before arrival. This is an automated posting.\n",
      "She was nice and helpfully, I didn't see her too much, but everything ok.\n",
      "We had a great time in a great neighborhood! Erina was very nice, and we hardly ever saw her.\n",
      "Alina's place is a great option, it's cheap and in a good location.\n",
      "It was a nice/clean place to stay with helpful host and great location.\n",
      "Erina was great with communication, flexible with meeting up and overall a fantastic host.\n",
      "great location,Lee although not their made sure all arrangements were met,enjoyed my stay.\n",
      "Very nice and clean apartment at a perfect location. Lee was very hospitable, thanx for staying!\n",
      "The reservation was canceled 63 days before arrival. This is an automated posting.\n",
      "Great stay! Everything as described. All clean and uncomplicated. Great neighborhood. See you next time, Lee and Nadav\n",
      "Apartment was really, really nice. Location was fantastic with a really cute wine bar and several restaurants nearby\n",
      "Very nice & comfortable room. The location is simply great. I really enjoyed my stay!\n",
      "Perfect stay and great apartment. Thank you Lee, would definitively recommend it.\n",
      "All was great, super well located and super hosts. I recommend Lee as guest for sure.\n",
      "Lee's place is comfortable, convenient and quiet. Just what I needed.\n",
      "Very nice flat and comfortable bedroom, and the location is absolutely great !\n",
      "Lee's apartment is cozy and very convenient for everywhere! Highly recommend for a stay here when visiting New York!\n",
      "Our stay at Lee's home was great! If we visit New York again we will repeat with Lee. :-)\n",
      "Lee was a tremendous host and I would most definitely look to rent his space, upon my next visit.\n",
      "Great Location, awesome apartment, wonderful host! We had a blast staying in East Village!\n",
      "The place is clean and neat. Lee is helpful. The room is exactly like the profile shown here.\n"
     ]
    }
   ],
   "source": [
    "for c in flat_df[flat_df.comments.apply(lambda x: 10 < len(x.split(' ')) < 20)]['comments'][500:550]:\n",
    "    print(c)"
   ]
  },
  {
   "cell_type": "code",
   "execution_count": null,
   "metadata": {},
   "outputs": [],
   "source": []
  },
  {
   "cell_type": "code",
   "execution_count": 88,
   "metadata": {
    "scrolled": false
   },
   "outputs": [
    {
     "name": "stdout",
     "output_type": "stream",
     "text": [
      "70769           Ok. Room as described.\n",
      "70783     Joe is great host. Approved.\n",
      "70896           Thanks for everything!\n",
      "71067       It's so nice to live here.\n",
      "71090          Nice and attentive host\n",
      "71126                 perfect location\n",
      "71227               I had a great time\n",
      "71254                     Great place!\n",
      "71301                  Pretty awesome!\n",
      "71323      Jo is very nice and helpful\n",
      "71337    Joe is super nice and helpful\n",
      "71340             Home away from Home.\n",
      "71370                            Great\n",
      "71409            Evrerything was there\n",
      "71472                      GREAT!!!!!!\n",
      "71474                 I ❤️ this place!\n",
      "71500                  Pretty accurate\n",
      "71505       Perfect Location and Host.\n",
      "71545          Joe was a gracious host\n",
      "71573                  Had a nice stay\n",
      "71589                      Great host!\n",
      "71623         It's nice place to stay.\n",
      "71626       Jj is friendly and helpful\n",
      "71638         Great host . Nice place.\n",
      "71676                      Great place\n",
      "71718            Nice and communicable\n",
      "71754    BEST PLACE IVE EVER STAYED!!!\n",
      "71794      Jj was helpful and friendly\n",
      "71845        Staying at JJ's was solid\n",
      "71886           Nice guy, comfort stay\n",
      "71953                     Es war super\n",
      "72058              Wonderful place :)!\n",
      "72156           Wonderful, great place\n",
      "72284                Right as expected\n",
      "72341     Everything was great, thanks\n",
      "72464                    good location\n",
      "72546                        Great !!!\n",
      "72580                          Perfect\n",
      "72734     Great experience, as always!\n",
      "72863               Very nice location\n",
      "73025                Very good choice~\n",
      "73112      Thanks for an awesome stay!\n",
      "73609                Really nice stay!\n",
      "74013                         Perfect!\n",
      "74033     Fits the description to a T!\n",
      "74163                       was great.\n",
      "74712     Best man cave there is in NY\n",
      "75292      Awesome place nice and cozy\n",
      "75478                 Wonderful place!\n",
      "75592                   Very welcoming\n",
      "Name: comments, dtype: object\n"
     ]
    }
   ],
   "source": [
    "print(flat_df[flat_df.comments.apply(lambda x: len(x) < 20)].comments[500:550])"
   ]
  },
  {
   "cell_type": "code",
   "execution_count": 167,
   "metadata": {},
   "outputs": [
    {
     "data": {
      "text/plain": [
       "0              9193\n",
       "1             26718\n",
       "3            185050\n",
       "4            456184\n",
       "5            351855\n",
       "            ...    \n",
       "325677    108482018\n",
       "325678     43662901\n",
       "325679     28703397\n",
       "325680     25112195\n",
       "325681     16637631\n",
       "Name: user_id, Length: 280476, dtype: int64"
      ]
     },
     "execution_count": 167,
     "metadata": {},
     "output_type": "execute_result"
    }
   ],
   "source": [
    "flat_df.user_id"
   ]
  },
  {
   "cell_type": "code",
   "execution_count": 168,
   "metadata": {},
   "outputs": [
    {
     "name": "stderr",
     "output_type": "stream",
     "text": [
      "/Users/bennett/anaconda3/envs/airbnb_p3/lib/python3.7/site-packages/pandas/core/generic.py:5208: SettingWithCopyWarning: \n",
      "A value is trying to be set on a copy of a slice from a DataFrame.\n",
      "Try using .loc[row_indexer,col_indexer] = value instead\n",
      "\n",
      "See the caveats in the documentation: http://pandas.pydata.org/pandas-docs/stable/user_guide/indexing.html#returning-a-view-versus-a-copy\n",
      "  self[name] = value\n"
     ]
    }
   ],
   "source": [
    "flat_df_newclean = flat_df[flat_df.comments.apply(lambda x: len(x.split(' ')) >= 10)]\n",
    "flat_df_newclean.comments = flat_df_newclean.comments.apply(lambda x: x.lower())\n",
    "flat_df_newclean.comments = flat_df_newclean.comments.apply(lambda x: x.replace('\\n', ' '))\n",
    "flat_df_newclean.comments = flat_df_newclean.comments.apply(lambda x: x.replace('\\r', ' '))"
   ]
  },
  {
   "cell_type": "code",
   "execution_count": 169,
   "metadata": {},
   "outputs": [],
   "source": [
    "pickle_name = datadir + 'flat_df_newclean.pkl'\n",
    "with open(pickle_name, 'wb') as pickle_file:\n",
    "    pickle.dump(flat_df, pickle_file)"
   ]
  },
  {
   "cell_type": "code",
   "execution_count": 170,
   "metadata": {
    "scrolled": true
   },
   "outputs": [
    {
     "data": {
      "text/html": [
       "<div>\n",
       "<style scoped>\n",
       "    .dataframe tbody tr th:only-of-type {\n",
       "        vertical-align: middle;\n",
       "    }\n",
       "\n",
       "    .dataframe tbody tr th {\n",
       "        vertical-align: top;\n",
       "    }\n",
       "\n",
       "    .dataframe thead th {\n",
       "        text-align: right;\n",
       "    }\n",
       "</style>\n",
       "<table border=\"1\" class=\"dataframe\">\n",
       "  <thead>\n",
       "    <tr style=\"text-align: right;\">\n",
       "      <th></th>\n",
       "      <th>listing_id</th>\n",
       "      <th>host_name</th>\n",
       "      <th>user_id</th>\n",
       "      <th>comments</th>\n",
       "    </tr>\n",
       "  </thead>\n",
       "  <tbody>\n",
       "    <tr>\n",
       "      <td>0</td>\n",
       "      <td>2515</td>\n",
       "      <td>18180    Mizi\n",
       "Name: host_name, dtype: object</td>\n",
       "      <td>9193</td>\n",
       "      <td>stephanie's offered all the most important thi...</td>\n",
       "    </tr>\n",
       "    <tr>\n",
       "      <td>3</td>\n",
       "      <td>2515</td>\n",
       "      <td>18180    Mizi\n",
       "Name: host_name, dtype: object</td>\n",
       "      <td>185050</td>\n",
       "      <td>we stayed at the 111th street apartment with s...</td>\n",
       "    </tr>\n",
       "    <tr>\n",
       "      <td>4</td>\n",
       "      <td>2515</td>\n",
       "      <td>18180    Mizi\n",
       "Name: host_name, dtype: object</td>\n",
       "      <td>456184</td>\n",
       "      <td>very conveniently located just north of centra...</td>\n",
       "    </tr>\n",
       "    <tr>\n",
       "      <td>5</td>\n",
       "      <td>2515</td>\n",
       "      <td>18180    Mizi\n",
       "Name: host_name, dtype: object</td>\n",
       "      <td>351855</td>\n",
       "      <td>we had a great stay with stephanie and her fam...</td>\n",
       "    </tr>\n",
       "    <tr>\n",
       "      <td>6</td>\n",
       "      <td>2515</td>\n",
       "      <td>18180    Mizi\n",
       "Name: host_name, dtype: object</td>\n",
       "      <td>363433</td>\n",
       "      <td>we stayed at the chez chic budget room for a w...</td>\n",
       "    </tr>\n",
       "    <tr>\n",
       "      <td>...</td>\n",
       "      <td>...</td>\n",
       "      <td>...</td>\n",
       "      <td>...</td>\n",
       "      <td>...</td>\n",
       "    </tr>\n",
       "    <tr>\n",
       "      <td>325676</td>\n",
       "      <td>18413899</td>\n",
       "      <td>3959    Alexa\n",
       "Name: host_name, dtype: object</td>\n",
       "      <td>127641350</td>\n",
       "      <td>excellent location, comfy bed, and privacy. ho...</td>\n",
       "    </tr>\n",
       "    <tr>\n",
       "      <td>325678</td>\n",
       "      <td>18423403</td>\n",
       "      <td>8153    Shannon\n",
       "Name: host_name, dtype: object</td>\n",
       "      <td>43662901</td>\n",
       "      <td>great experience! apartment was clean and tidy...</td>\n",
       "    </tr>\n",
       "    <tr>\n",
       "      <td>325679</td>\n",
       "      <td>18426417</td>\n",
       "      <td>18049    Margarita\n",
       "Name: host_name, dtype: object</td>\n",
       "      <td>28703397</td>\n",
       "      <td>margarita is the perfect host. we very much en...</td>\n",
       "    </tr>\n",
       "    <tr>\n",
       "      <td>325680</td>\n",
       "      <td>18443436</td>\n",
       "      <td>16467    Clara\n",
       "Name: host_name, dtype: object</td>\n",
       "      <td>25112195</td>\n",
       "      <td>clara is a great person, the place below the h...</td>\n",
       "    </tr>\n",
       "    <tr>\n",
       "      <td>325681</td>\n",
       "      <td>18491399</td>\n",
       "      <td>19420    Jerry\n",
       "Name: host_name, dtype: object</td>\n",
       "      <td>16637631</td>\n",
       "      <td>jerry was a great host! the linens were clean,...</td>\n",
       "    </tr>\n",
       "  </tbody>\n",
       "</table>\n",
       "<p>265954 rows × 4 columns</p>\n",
       "</div>"
      ],
      "text/plain": [
       "        listing_id                                          host_name  \\\n",
       "0             2515       18180    Mizi\n",
       "Name: host_name, dtype: object   \n",
       "3             2515       18180    Mizi\n",
       "Name: host_name, dtype: object   \n",
       "4             2515       18180    Mizi\n",
       "Name: host_name, dtype: object   \n",
       "5             2515       18180    Mizi\n",
       "Name: host_name, dtype: object   \n",
       "6             2515       18180    Mizi\n",
       "Name: host_name, dtype: object   \n",
       "...            ...                                                ...   \n",
       "325676    18413899       3959    Alexa\n",
       "Name: host_name, dtype: object   \n",
       "325678    18423403     8153    Shannon\n",
       "Name: host_name, dtype: object   \n",
       "325679    18426417  18049    Margarita\n",
       "Name: host_name, dtype: object   \n",
       "325680    18443436      16467    Clara\n",
       "Name: host_name, dtype: object   \n",
       "325681    18491399      19420    Jerry\n",
       "Name: host_name, dtype: object   \n",
       "\n",
       "          user_id                                           comments  \n",
       "0            9193  stephanie's offered all the most important thi...  \n",
       "3          185050  we stayed at the 111th street apartment with s...  \n",
       "4          456184  very conveniently located just north of centra...  \n",
       "5          351855  we had a great stay with stephanie and her fam...  \n",
       "6          363433  we stayed at the chez chic budget room for a w...  \n",
       "...           ...                                                ...  \n",
       "325676  127641350  excellent location, comfy bed, and privacy. ho...  \n",
       "325678   43662901  great experience! apartment was clean and tidy...  \n",
       "325679   28703397  margarita is the perfect host. we very much en...  \n",
       "325680   25112195  clara is a great person, the place below the h...  \n",
       "325681   16637631  jerry was a great host! the linens were clean,...  \n",
       "\n",
       "[265954 rows x 4 columns]"
      ]
     },
     "execution_count": 170,
     "metadata": {},
     "output_type": "execute_result"
    }
   ],
   "source": [
    "flat_df_newclean"
   ]
  },
  {
   "cell_type": "code",
   "execution_count": 171,
   "metadata": {},
   "outputs": [],
   "source": [
    "fdf_listing_ids = np.unique(flat_df_newclean.listing_id)\n",
    "fdf_user_ids = np.unique(flat_df_newclean.user_id)"
   ]
  },
  {
   "cell_type": "code",
   "execution_count": 173,
   "metadata": {},
   "outputs": [
    {
     "data": {
      "text/plain": [
       "0              9193\n",
       "3            185050\n",
       "4            456184\n",
       "5            351855\n",
       "6            363433\n",
       "            ...    \n",
       "325676    127641350\n",
       "325678     43662901\n",
       "325679     28703397\n",
       "325680     25112195\n",
       "325681     16637631\n",
       "Name: user_id, Length: 265954, dtype: int64"
      ]
     },
     "execution_count": 173,
     "metadata": {},
     "output_type": "execute_result"
    }
   ],
   "source": [
    "flat_df_newclean.user_id"
   ]
  },
  {
   "cell_type": "code",
   "execution_count": 452,
   "metadata": {},
   "outputs": [
    {
     "data": {
      "text/plain": [
       "(14447,)"
      ]
     },
     "execution_count": 452,
     "metadata": {},
     "output_type": "execute_result"
    }
   ],
   "source": [
    "fdf_listing_ids.shape"
   ]
  },
  {
   "cell_type": "code",
   "execution_count": 175,
   "metadata": {},
   "outputs": [
    {
     "name": "stdout",
     "output_type": "stream",
     "text": [
      "(265954, 4)\n"
     ]
    }
   ],
   "source": [
    "# get the number of reviews for every listing\n",
    "# plot the distribution\n",
    "\n",
    "n_revs_per_listing= np.zeros((len(fdf_listing_ids)))\n",
    "n_revs_per_user= np.zeros((len(fdf_user_ids)))\n",
    "\n",
    "print(flat_df_newclean.shape)\n",
    "for ilist, lid in enumerate(fdf_listing_ids):\n",
    "    n_revs_per_listing[ilist] = flat_df_newclean[flat_df_newclean.listing_id==lid].shape[0]\n",
    "for iuid, uid in enumerate(fdf_user_ids):\n",
    "    n_revs_per_user[iuid] = flat_df_newclean[flat_df_newclean.user_id == uid].shape[0]\n"
   ]
  },
  {
   "cell_type": "code",
   "execution_count": 197,
   "metadata": {},
   "outputs": [
    {
     "data": {
      "text/plain": [
       "41.0"
      ]
     },
     "execution_count": 197,
     "metadata": {},
     "output_type": "execute_result"
    }
   ],
   "source": [
    "n_revs_per_user.max()"
   ]
  },
  {
   "cell_type": "code",
   "execution_count": 241,
   "metadata": {},
   "outputs": [
    {
     "data": {
      "image/png": "[encoded data removed]",
      "text/plain": [
       "<Figure size 432x288 with 1 Axes>"
      ]
     },
     "metadata": {
      "needs_background": "light"
     },
     "output_type": "display_data"
    },
    {
     "data": {
      "image/png": "[encoded data removed]",
      "text/plain": [
       "<Figure size 432x288 with 1 Axes>"
      ]
     },
     "metadata": {
      "needs_background": "light"
     },
     "output_type": "display_data"
    },
    {
     "data": {
      "image/png": "[encoded data removed]",
      "text/plain": [
       "<Figure size 432x288 with 1 Axes>"
      ]
     },
     "metadata": {
      "needs_background": "light"
     },
     "output_type": "display_data"
    }
   ],
   "source": [
    "b_rpl, e_rpl = np.histogram(n_revs_per_listing, bins=360, range = (0, 360))\n",
    "b_rpu, e_rpu = np.histogram(n_revs_per_user, bins = 50, range=(0, 50))\n",
    "plt.bar(e_rpl[1:], b_rpl)\n",
    "plt.ylim((0, 1600))\n",
    "plt.xlim((0, 150))\n",
    "plt.ylabel('Count', fontsize = 14)\n",
    "plt.xlabel('Number of Reviews for every Listing', fontsize = 14)\n",
    "plt.show()\n",
    "\n",
    "plt.bar(e_rpu[:-1], b_rpu)\n",
    "plt.xlim(0, 20)\n",
    "plt.ylim()\n",
    "plt.xticks(range(20))\n",
    "plt.ylabel('Count', fontsize = 14)\n",
    "plt.xlabel('Number of Reviews for every User', fontsize = 14)\n",
    "plt.show()\n",
    "\n",
    "plt.bar(e_rpu[:-1], b_rpu)\n",
    "plt.xlim(1.5, 10)\n",
    "plt.ylim((0, 15000))\n",
    "plt.xticks(range(2, 10))\n",
    "plt.ylabel('Count', fontsize = 14)\n",
    "plt.xlabel('Number of Reviews for every User', fontsize = 14)\n",
    "plt.show()"
   ]
  },
  {
   "cell_type": "code",
   "execution_count": 258,
   "metadata": {},
   "outputs": [
    {
     "name": "stdout",
     "output_type": "stream",
     "text": [
      "Number of listings in NYC: 14447\n",
      "Number of listings with at least 10 reviews: 6370\n",
      "\n",
      "\n",
      "mean reviews per listing: 18.408943033155673\n",
      "stdev reviews per listing: 28.060631538354368\n",
      "median reviews per listing: 7.0\n"
     ]
    }
   ],
   "source": [
    "print('Number of listings in NYC:', len(fdf_listing_ids))\n",
    "print('Number of listings with at least 10 reviews:', len(n_revs_per_listing[n_revs_per_listing >= 10]))\n",
    "print('\\n')\n",
    "print('mean reviews per listing:', n_revs_per_listing.mean())\n",
    "print('stdev reviews per listing:', np.std(n_revs_per_listing)),\n",
    "print('median reviews per listing:', np.median(n_revs_per_listing))\n"
   ]
  },
  {
   "cell_type": "code",
   "execution_count": 262,
   "metadata": {},
   "outputs": [
    {
     "name": "stdout",
     "output_type": "stream",
     "text": [
      "Number of reviewers who have more than 1 review: 14773\n",
      "Proportion of reviewers who have more than 1 review: 0.05999\n"
     ]
    }
   ],
   "source": [
    "\n",
    "print('Number of reviewers who have more than 1 review:', len(n_revs_per_user[n_revs_per_user >= 2]))\n",
    "print('Proportion of reviewers who have more than 1 review:', \n",
    "      round(len(n_revs_per_user[n_revs_per_user >= 2]) / len(n_revs_per_user), 5))\n"
   ]
  },
  {
   "cell_type": "code",
   "execution_count": 281,
   "metadata": {},
   "outputs": [
    {
     "ename": "AttributeError",
     "evalue": "'str' object has no attribute 'values'",
     "output_type": "error",
     "traceback": [
      "\u001b[0;31m---------------------------------------------------------------------------\u001b[0m",
      "\u001b[0;31mAttributeError\u001b[0m                            Traceback (most recent call last)",
      "\u001b[0;32m<ipython-input-281-d6af3376f07c>\u001b[0m in \u001b[0;36m<module>\u001b[0;34m\u001b[0m\n\u001b[0;32m----> 1\u001b[0;31m \u001b[0mflat_df_newclean\u001b[0m\u001b[0;34m.\u001b[0m\u001b[0mhost_name\u001b[0m \u001b[0;34m=\u001b[0m \u001b[0mflat_df_newclean\u001b[0m\u001b[0;34m.\u001b[0m\u001b[0mhost_name\u001b[0m\u001b[0;34m.\u001b[0m\u001b[0mapply\u001b[0m\u001b[0;34m(\u001b[0m\u001b[0;32mlambda\u001b[0m \u001b[0mx\u001b[0m\u001b[0;34m:\u001b[0m \u001b[0mx\u001b[0m\u001b[0;34m.\u001b[0m\u001b[0mvalues\u001b[0m\u001b[0;34m[\u001b[0m\u001b[0;36m0\u001b[0m\u001b[0;34m]\u001b[0m\u001b[0;34m)\u001b[0m\u001b[0;34m\u001b[0m\u001b[0;34m\u001b[0m\u001b[0m\n\u001b[0m",
      "\u001b[0;32m~/anaconda3/envs/airbnb_p3/lib/python3.7/site-packages/pandas/core/series.py\u001b[0m in \u001b[0;36mapply\u001b[0;34m(self, func, convert_dtype, args, **kwds)\u001b[0m\n\u001b[1;32m   4040\u001b[0m             \u001b[0;32melse\u001b[0m\u001b[0;34m:\u001b[0m\u001b[0;34m\u001b[0m\u001b[0;34m\u001b[0m\u001b[0m\n\u001b[1;32m   4041\u001b[0m                 \u001b[0mvalues\u001b[0m \u001b[0;34m=\u001b[0m \u001b[0mself\u001b[0m\u001b[0;34m.\u001b[0m\u001b[0mastype\u001b[0m\u001b[0;34m(\u001b[0m\u001b[0mobject\u001b[0m\u001b[0;34m)\u001b[0m\u001b[0;34m.\u001b[0m\u001b[0mvalues\u001b[0m\u001b[0;34m\u001b[0m\u001b[0;34m\u001b[0m\u001b[0m\n\u001b[0;32m-> 4042\u001b[0;31m                 \u001b[0mmapped\u001b[0m \u001b[0;34m=\u001b[0m \u001b[0mlib\u001b[0m\u001b[0;34m.\u001b[0m\u001b[0mmap_infer\u001b[0m\u001b[0;34m(\u001b[0m\u001b[0mvalues\u001b[0m\u001b[0;34m,\u001b[0m \u001b[0mf\u001b[0m\u001b[0;34m,\u001b[0m \u001b[0mconvert\u001b[0m\u001b[0;34m=\u001b[0m\u001b[0mconvert_dtype\u001b[0m\u001b[0;34m)\u001b[0m\u001b[0;34m\u001b[0m\u001b[0;34m\u001b[0m\u001b[0m\n\u001b[0m\u001b[1;32m   4043\u001b[0m \u001b[0;34m\u001b[0m\u001b[0m\n\u001b[1;32m   4044\u001b[0m         \u001b[0;32mif\u001b[0m \u001b[0mlen\u001b[0m\u001b[0;34m(\u001b[0m\u001b[0mmapped\u001b[0m\u001b[0;34m)\u001b[0m \u001b[0;32mand\u001b[0m \u001b[0misinstance\u001b[0m\u001b[0;34m(\u001b[0m\u001b[0mmapped\u001b[0m\u001b[0;34m[\u001b[0m\u001b[0;36m0\u001b[0m\u001b[0;34m]\u001b[0m\u001b[0;34m,\u001b[0m \u001b[0mSeries\u001b[0m\u001b[0;34m)\u001b[0m\u001b[0;34m:\u001b[0m\u001b[0;34m\u001b[0m\u001b[0;34m\u001b[0m\u001b[0m\n",
      "\u001b[0;32mpandas/_libs/lib.pyx\u001b[0m in \u001b[0;36mpandas._libs.lib.map_infer\u001b[0;34m()\u001b[0m\n",
      "\u001b[0;32m<ipython-input-281-d6af3376f07c>\u001b[0m in \u001b[0;36m<lambda>\u001b[0;34m(x)\u001b[0m\n\u001b[0;32m----> 1\u001b[0;31m \u001b[0mflat_df_newclean\u001b[0m\u001b[0;34m.\u001b[0m\u001b[0mhost_name\u001b[0m \u001b[0;34m=\u001b[0m \u001b[0mflat_df_newclean\u001b[0m\u001b[0;34m.\u001b[0m\u001b[0mhost_name\u001b[0m\u001b[0;34m.\u001b[0m\u001b[0mapply\u001b[0m\u001b[0;34m(\u001b[0m\u001b[0;32mlambda\u001b[0m \u001b[0mx\u001b[0m\u001b[0;34m:\u001b[0m \u001b[0mx\u001b[0m\u001b[0;34m.\u001b[0m\u001b[0mvalues\u001b[0m\u001b[0;34m[\u001b[0m\u001b[0;36m0\u001b[0m\u001b[0;34m]\u001b[0m\u001b[0;34m)\u001b[0m\u001b[0;34m\u001b[0m\u001b[0;34m\u001b[0m\u001b[0m\n\u001b[0m",
      "\u001b[0;31mAttributeError\u001b[0m: 'str' object has no attribute 'values'"
     ]
    }
   ],
   "source": [
    "flat_df_newclean.host_name = flat_df_newclean.host_name.apply(lambda x: x.values[0])"
   ]
  },
  {
   "cell_type": "code",
   "execution_count": 286,
   "metadata": {
    "scrolled": false
   },
   "outputs": [
    {
     "data": {
      "text/plain": [
       "'Mizi'"
      ]
     },
     "execution_count": 286,
     "metadata": {},
     "output_type": "execute_result"
    }
   ],
   "source": [
    "list_of_host_names[1]"
   ]
  },
  {
   "cell_type": "code",
   "execution_count": 293,
   "metadata": {},
   "outputs": [
    {
     "ename": "TypeError",
     "evalue": "replace() argument 1 must be str, not float",
     "output_type": "error",
     "traceback": [
      "\u001b[0;31m---------------------------------------------------------------------------\u001b[0m",
      "\u001b[0;31mTypeError\u001b[0m                                 Traceback (most recent call last)",
      "\u001b[0;32m<ipython-input-293-058f146ba1fc>\u001b[0m in \u001b[0;36m<module>\u001b[0;34m\u001b[0m\n\u001b[1;32m      4\u001b[0m     \u001b[0mname\u001b[0m \u001b[0;34m=\u001b[0m \u001b[0mflat_df_newclean\u001b[0m\u001b[0;34m.\u001b[0m\u001b[0mhost_name\u001b[0m\u001b[0;34m.\u001b[0m\u001b[0miloc\u001b[0m\u001b[0;34m[\u001b[0m\u001b[0mic\u001b[0m\u001b[0;34m]\u001b[0m\u001b[0;34m\u001b[0m\u001b[0;34m\u001b[0m\u001b[0m\n\u001b[1;32m      5\u001b[0m     \u001b[0;32mif\u001b[0m \u001b[0mname\u001b[0m \u001b[0;32mis\u001b[0m \u001b[0;32mnot\u001b[0m \u001b[0mnp\u001b[0m\u001b[0;34m.\u001b[0m\u001b[0mnan\u001b[0m\u001b[0;34m:\u001b[0m\u001b[0;34m\u001b[0m\u001b[0;34m\u001b[0m\u001b[0m\n\u001b[0;32m----> 6\u001b[0;31m         \u001b[0mflat_df_HOST_NAME\u001b[0m\u001b[0;34m.\u001b[0m\u001b[0mcomments\u001b[0m\u001b[0;34m.\u001b[0m\u001b[0miloc\u001b[0m\u001b[0;34m[\u001b[0m\u001b[0mic\u001b[0m\u001b[0;34m]\u001b[0m\u001b[0;34m=\u001b[0m\u001b[0mflat_df_newclean\u001b[0m\u001b[0;34m.\u001b[0m\u001b[0mcomments\u001b[0m\u001b[0;34m.\u001b[0m\u001b[0miloc\u001b[0m\u001b[0;34m[\u001b[0m\u001b[0mic\u001b[0m\u001b[0;34m]\u001b[0m\u001b[0;34m.\u001b[0m\u001b[0mreplace\u001b[0m\u001b[0;34m(\u001b[0m\u001b[0mname\u001b[0m\u001b[0;34m,\u001b[0m \u001b[0;34m'HOST_NAME'\u001b[0m\u001b[0;34m)\u001b[0m\u001b[0;34m\u001b[0m\u001b[0;34m\u001b[0m\u001b[0m\n\u001b[0m",
      "\u001b[0;31mTypeError\u001b[0m: replace() argument 1 must be str, not float"
     ]
    }
   ],
   "source": [
    "flat_df_newclean.comments.fillna('')\n",
    "flat_df_HOST_NAME = deepcopy(flat_df_newclean)\n",
    "for ic, c in enumerate(flat_df_newclean.comments):\n",
    "    name = flat_df_newclean.host_name.iloc[ic]\n",
    "    if name is not np.nan:\n",
    "        flat_df_HOST_NAME.comments.iloc[ic]=flat_df_newclean.comments.iloc[ic].replace(name, 'HOST_NAME')"
   ]
  },
  {
   "cell_type": "code",
   "execution_count": 299,
   "metadata": {},
   "outputs": [
    {
     "data": {
      "text/plain": [
       "'Roee'"
      ]
     },
     "execution_count": 299,
     "metadata": {},
     "output_type": "execute_result"
    }
   ],
   "source": [
    "list(flat_df_HOST_NAME.host_name)[14125]"
   ]
  },
  {
   "cell_type": "code",
   "execution_count": 263,
   "metadata": {},
   "outputs": [],
   "source": [
    "test = flat_df_newclean.host_name[0]"
   ]
  },
  {
   "cell_type": "code",
   "execution_count": 278,
   "metadata": {},
   "outputs": [
    {
     "data": {
      "text/plain": [
       "0         stephanie's offered all the most important thi...\n",
       "3         we stayed at the 111th street apartment with s...\n",
       "4         very conveniently located just north of centra...\n",
       "5         we had a great stay with stephanie and her fam...\n",
       "6         we stayed at the chez chic budget room for a w...\n",
       "                                ...                        \n",
       "325676    excellent location, comfy bed, and privacy. ho...\n",
       "325678    great experience! apartment was clean and tidy...\n",
       "325679    margarita is the perfect host. we very much en...\n",
       "325680    clara is a great person, the place below the h...\n",
       "325681    jerry was a great host! the linens were clean,...\n",
       "Name: comments, Length: 265954, dtype: object"
      ]
     },
     "execution_count": 278,
     "metadata": {},
     "output_type": "execute_result"
    }
   ],
   "source": [
    "flat_df_newclean.comments"
   ]
  },
  {
   "cell_type": "code",
   "execution_count": 300,
   "metadata": {},
   "outputs": [
    {
     "data": {
      "text/plain": [
       "'Doti'"
      ]
     },
     "execution_count": 300,
     "metadata": {},
     "output_type": "execute_result"
    }
   ],
   "source": [
    "flat_df_newclean.host_name.iloc[1123]"
   ]
  },
  {
   "cell_type": "code",
   "execution_count": 301,
   "metadata": {},
   "outputs": [],
   "source": [
    "pickle_name = datadir + 'flat_df_newclean.pkl'\n",
    "with open(pickle_name, 'wb') as pickle_file:\n",
    "    pickle.dump(flat_df_newclean, pickle_file)"
   ]
  },
  {
   "cell_type": "code",
   "execution_count": 302,
   "metadata": {},
   "outputs": [],
   "source": [
    "pickle_name = datadir + 'flat_df_newclean_HOST_NAME.pkl'\n",
    "with open(pickle_name, 'wb') as pickle_file:\n",
    "    pickle.dump(flat_df_HOST_NAME, pickle_file)"
   ]
  },
  {
   "cell_type": "code",
   "execution_count": 303,
   "metadata": {},
   "outputs": [
    {
     "data": {
      "text/plain": [
       "'../../Desktop/Insight Project/airbnb/pickles/flat_df_newclean_HOST_NAME.pkl'"
      ]
     },
     "execution_count": 303,
     "metadata": {},
     "output_type": "execute_result"
    }
   ],
   "source": [
    "datadir +'flat_df_newclean_HOST_NAME.pkl'"
   ]
  },
  {
   "cell_type": "code",
   "execution_count": 341,
   "metadata": {},
   "outputs": [
    {
     "data": {
      "text/plain": [
       "265954"
      ]
     },
     "execution_count": 341,
     "metadata": {},
     "output_type": "execute_result"
    }
   ],
   "source": []
  },
  {
   "cell_type": "code",
   "execution_count": 310,
   "metadata": {},
   "outputs": [
    {
     "name": "stdout",
     "output_type": "stream",
     "text": [
      "Loaded File\n",
      "Made Corpus\n",
      "finished lda model, n=4 topics\n",
      "Loaded File\n",
      "Made Corpus\n",
      "finished lda model, n=7 topics\n",
      "Loaded File\n",
      "Made Corpus\n",
      "finished lda model, n=10 topics\n"
     ]
    }
   ],
   "source": [
    "lda04, topics04, corpus04, dictionary04 =  extract_topic_vectors(datadir+'flat_df_newclean_HOST_NAME.pkl',\n",
    "                                                             tf_idf = False, n_topics=4,\n",
    "                                                              no_below = 1000, no_above = .5)\n",
    "print('finished lda model, n=4 topics')\n",
    "\n",
    "lda07, topics07, corpus07, dictionary07 =  extract_topic_vectors(datadir+'flat_df_newclean_HOST_NAME.pkl',\n",
    "                                                             tf_idf = False, n_topics=7,\n",
    "                                                              no_below = 1000, no_above = .5)\n",
    "print('finished lda model, n=7 topics')\n",
    "\n",
    "lda10, topics10, corpus10, dictionary10 =  extract_topic_vectors(datadir+'flat_df_newclean_HOST_NAME.pkl',\n",
    "                                                             tf_idf = False, n_topics=10,\n",
    "                                                              no_below = 1000, no_above = .5)\n",
    "print('finished lda model, n=10 topics')"
   ]
  },
  {
   "cell_type": "code",
   "execution_count": 314,
   "metadata": {},
   "outputs": [
    {
     "name": "stdout",
     "output_type": "stream",
     "text": [
      "(0, '0.044*\"place\" + 0.032*\"locat\" + 0.031*\"apart\" + 0.030*\"host\" + 0.022*\"recommend\" + 0.020*\"clean\" + 0.019*\"love\" + 0.016*\"comfort\" + 0.016*\"perfect\" + 0.013*\"amaz\"') \n",
      "\n",
      "(1, '0.035*\"room\" + 0.031*\"nice\" + 0.023*\"place\" + 0.020*\"good\" + 0.018*\"apart\" + 0.017*\"clean\" + 0.017*\"locat\" + 0.013*\"bathroom\" + 0.011*\"like\" + 0.011*\"night\"') \n",
      "\n",
      "(2, '0.045*\"apart\" + 0.031*\"locat\" + 0.028*\"subway\" + 0.024*\"walk\" + 0.021*\"place\" + 0.020*\"close\" + 0.019*\"restaur\" + 0.017*\"easi\" + 0.016*\"clean\" + 0.015*\"park\"') \n",
      "\n",
      "(3, '0.033*\"apart\" + 0.028*\"place\" + 0.027*\"check\" + 0.024*\"time\" + 0.020*\"locat\" + 0.019*\"clean\" + 0.019*\"host\" + 0.014*\"arriv\" + 0.014*\"help\" + 0.013*\"need\"') \n",
      "\n",
      "\n",
      "\n",
      "(0, '0.025*\"place\" + 0.023*\"room\" + 0.021*\"time\" + 0.015*\"host\" + 0.015*\"check\" + 0.015*\"arriv\" + 0.014*\"clean\" + 0.013*\"apart\" + 0.013*\"night\" + 0.011*\"leav\"') \n",
      "\n",
      "(1, '0.037*\"apart\" + 0.030*\"place\" + 0.026*\"locat\" + 0.026*\"check\" + 0.022*\"host\" + 0.021*\"recommend\" + 0.020*\"citi\" + 0.019*\"need\" + 0.017*\"perfect\" + 0.016*\"york\"') \n",
      "\n",
      "(2, '0.038*\"place\" + 0.033*\"home\" + 0.030*\"like\" + 0.025*\"feel\" + 0.019*\"felt\" + 0.018*\"welcom\" + 0.018*\"nice\" + 0.017*\"room\" + 0.016*\"comfort\" + 0.016*\"time\"') \n",
      "\n",
      "(3, '0.039*\"apart\" + 0.032*\"locat\" + 0.031*\"restaur\" + 0.027*\"place\" + 0.024*\"host\" + 0.024*\"easi\" + 0.021*\"super\" + 0.020*\"clean\" + 0.018*\"love\" + 0.016*\"definit\"') \n",
      "\n",
      "(4, '0.044*\"nice\" + 0.042*\"place\" + 0.036*\"locat\" + 0.031*\"subway\" + 0.027*\"clean\" + 0.026*\"good\" + 0.026*\"close\" + 0.025*\"host\" + 0.023*\"room\" + 0.022*\"time\"') \n",
      "\n",
      "(5, '0.059*\"apart\" + 0.047*\"locat\" + 0.040*\"place\" + 0.031*\"recommend\" + 0.031*\"perfect\" + 0.030*\"host\" + 0.029*\"clean\" + 0.022*\"definit\" + 0.017*\"question\" + 0.015*\"comfort\"') \n",
      "\n",
      "(6, '0.042*\"apart\" + 0.021*\"locat\" + 0.016*\"good\" + 0.015*\"walk\" + 0.014*\"kitchen\" + 0.012*\"room\" + 0.012*\"clean\" + 0.012*\"street\" + 0.011*\"bedroom\" + 0.011*\"subway\"') \n",
      "\n",
      "\n",
      "\n",
      "(0, '0.042*\"home\" + 0.039*\"apart\" + 0.023*\"place\" + 0.023*\"love\" + 0.022*\"feel\" + 0.020*\"like\" + 0.020*\"host\" + 0.019*\"york\" + 0.018*\"time\" + 0.018*\"felt\"') \n",
      "\n",
      "(1, '0.076*\"apart\" + 0.036*\"locat\" + 0.032*\"easi\" + 0.024*\"clean\" + 0.020*\"comfort\" + 0.018*\"exact\" + 0.017*\"communic\" + 0.016*\"host\" + 0.014*\"quiet\" + 0.014*\"recommend\"') \n",
      "\n",
      "(2, '0.048*\"place\" + 0.037*\"room\" + 0.028*\"nice\" + 0.026*\"good\" + 0.026*\"time\" + 0.020*\"hous\" + 0.018*\"clean\" + 0.017*\"locat\" + 0.017*\"subway\" + 0.015*\"host\"') \n",
      "\n",
      "(3, '0.048*\"apart\" + 0.028*\"locat\" + 0.022*\"good\" + 0.016*\"night\" + 0.015*\"nois\" + 0.014*\"place\" + 0.014*\"street\" + 0.014*\"walk\" + 0.013*\"littl\" + 0.013*\"clean\"') \n",
      "\n",
      "(4, '0.037*\"subway\" + 0.036*\"walk\" + 0.029*\"locat\" + 0.028*\"restaur\" + 0.027*\"close\" + 0.027*\"place\" + 0.021*\"apart\" + 0.019*\"away\" + 0.016*\"block\" + 0.016*\"park\"') \n",
      "\n",
      "(5, '0.042*\"check\" + 0.036*\"apart\" + 0.030*\"host\" + 0.026*\"locat\" + 0.021*\"accommod\" + 0.020*\"time\" + 0.020*\"arriv\" + 0.019*\"place\" + 0.017*\"experi\" + 0.017*\"clean\"') \n",
      "\n",
      "(6, '0.030*\"central\" + 0.030*\"park\" + 0.029*\"nice\" + 0.029*\"locat\" + 0.027*\"apart\" + 0.027*\"flat\" + 0.026*\"time\" + 0.021*\"east\" + 0.019*\"place\" + 0.017*\"walk\"') \n",
      "\n",
      "(7, '0.025*\"room\" + 0.025*\"apart\" + 0.017*\"bathroom\" + 0.015*\"kitchen\" + 0.014*\"clean\" + 0.013*\"bedroom\" + 0.013*\"place\" + 0.011*\"night\" + 0.010*\"live\" + 0.010*\"nice\"') \n",
      "\n",
      "(8, '0.116*\"place\" + 0.058*\"locat\" + 0.052*\"recommend\" + 0.040*\"host\" + 0.039*\"clean\" + 0.037*\"perfect\" + 0.024*\"high\" + 0.023*\"definit\" + 0.022*\"nice\" + 0.019*\"help\"') \n",
      "\n",
      "(9, '0.047*\"room\" + 0.037*\"clean\" + 0.034*\"host\" + 0.034*\"apart\" + 0.034*\"friend\" + 0.033*\"nice\" + 0.030*\"help\" + 0.021*\"super\" + 0.018*\"comfort\" + 0.018*\"recommend\"') \n",
      "\n"
     ]
    },
    {
     "data": {
      "text/plain": [
       "[None, None, None, None, None, None, None, None, None, None]"
      ]
     },
     "execution_count": 314,
     "metadata": {},
     "output_type": "execute_result"
    }
   ],
   "source": [
    "[print(t, '\\n') for t in topics04]\n",
    "print('\\n')\n",
    "[print(t, '\\n') for t in topics07]\n",
    "print('\\n')\n",
    "[print(t, '\\n') for t in topics10]"
   ]
  },
  {
   "cell_type": "code",
   "execution_count": 315,
   "metadata": {},
   "outputs": [
    {
     "name": "stdout",
     "output_type": "stream",
     "text": [
      "Loaded File\n",
      "Made Corpus\n",
      "finished tf-idf lda model, n=4 topics\n",
      "Loaded File\n",
      "Made Corpus\n",
      "finished tf-idf lda model, n=7 topics\n",
      "Loaded File\n",
      "Made Corpus\n",
      "finished tf-idf lda model, n=10 topics\n"
     ]
    }
   ],
   "source": [
    "lda04_tfidf, topics04_tfidf, corpus04_tfidf, dictionary04_tfidf =  \\\n",
    "                                    extract_topic_vectors(datadir+'flat_df_newclean_HOST_NAME.pkl',\n",
    "                                                             tf_idf = True, n_topics=4,\n",
    "                                                              no_below = 1000, no_above = .5)\n",
    "print('finished tf-idf lda model, n=4 topics')\n",
    "\n",
    "lda07_tfidf, topics07_tfidf, corpus07_tfidf, dictionary07_tfidf = \\\n",
    "                                    extract_topic_vectors(datadir+'flat_df_newclean_HOST_NAME.pkl',\n",
    "                                                             tf_idf = True, n_topics=7,\n",
    "                                                              no_below = 1000, no_above = .5)\n",
    "print('finished tf-idf lda model, n=7 topics')\n",
    "\n",
    "lda10_tfidf, topics10_tfidf, corpus10_tfidf, dictionary10_tfidf = \\\n",
    "                                    extract_topic_vectors(datadir+'flat_df_newclean_HOST_NAME.pkl',\n",
    "                                                             tf_idf = True, n_topics=10,\n",
    "                                                              no_below = 1000, no_above = .5)\n",
    "print('finished tf-idf lda model, n=10 topics')"
   ]
  },
  {
   "cell_type": "code",
   "execution_count": 316,
   "metadata": {},
   "outputs": [
    {
     "name": "stdout",
     "output_type": "stream",
     "text": [
      "(0, '0.016*\"place\" + 0.015*\"nice\" + 0.015*\"host\" + 0.012*\"help\" + 0.012*\"recommend\" + 0.012*\"clean\" + 0.011*\"thank\" + 0.011*\"friend\" + 0.011*\"time\" + 0.011*\"apart\"') \n",
      "\n",
      "(1, '0.013*\"place\" + 0.011*\"locat\" + 0.011*\"apart\" + 0.011*\"perfect\" + 0.010*\"love\" + 0.010*\"host\" + 0.009*\"super\" + 0.009*\"recommend\" + 0.009*\"clean\" + 0.009*\"amaz\"') \n",
      "\n",
      "(2, '0.017*\"check\" + 0.012*\"quick\" + 0.012*\"easi\" + 0.011*\"apart\" + 0.011*\"question\" + 0.010*\"respond\" + 0.010*\"communic\" + 0.010*\"place\" + 0.009*\"arriv\" + 0.008*\"locat\"') \n",
      "\n",
      "(3, '0.010*\"room\" + 0.008*\"good\" + 0.008*\"apart\" + 0.007*\"night\" + 0.007*\"bathroom\" + 0.007*\"nice\" + 0.007*\"place\" + 0.006*\"sleep\" + 0.006*\"bedroom\" + 0.006*\"small\"') \n",
      "\n",
      "\n",
      "\n",
      "(0, '0.011*\"room\" + 0.009*\"good\" + 0.008*\"night\" + 0.008*\"apart\" + 0.008*\"bathroom\" + 0.007*\"place\" + 0.007*\"sleep\" + 0.007*\"nice\" + 0.007*\"nois\" + 0.006*\"clean\"') \n",
      "\n",
      "(1, '0.021*\"close\" + 0.019*\"nice\" + 0.017*\"place\" + 0.015*\"good\" + 0.015*\"central\" + 0.015*\"subway\" + 0.015*\"clean\" + 0.014*\"locat\" + 0.014*\"host\" + 0.014*\"park\"') \n",
      "\n",
      "(2, '0.012*\"walk\" + 0.010*\"subway\" + 0.010*\"station\" + 0.010*\"time\" + 0.010*\"place\" + 0.009*\"minut\" + 0.009*\"squar\" + 0.009*\"away\" + 0.009*\"apart\" + 0.009*\"block\"') \n",
      "\n",
      "(3, '0.016*\"place\" + 0.015*\"nice\" + 0.013*\"thank\" + 0.013*\"host\" + 0.013*\"home\" + 0.012*\"love\" + 0.012*\"amaz\" + 0.012*\"perfect\" + 0.011*\"time\" + 0.011*\"friend\"') \n",
      "\n",
      "(4, '0.010*\"villag\" + 0.010*\"apart\" + 0.009*\"walk\" + 0.009*\"restaur\" + 0.009*\"east\" + 0.008*\"place\" + 0.008*\"locat\" + 0.007*\"perfect\" + 0.007*\"easi\" + 0.007*\"close\"') \n",
      "\n",
      "(5, '0.010*\"david\" + 0.009*\"john\" + 0.009*\"place\" + 0.009*\"apart\" + 0.008*\"host\" + 0.007*\"clean\" + 0.007*\"love\" + 0.007*\"nice\" + 0.007*\"recommend\" + 0.007*\"need\"') \n",
      "\n",
      "(6, '0.017*\"check\" + 0.014*\"place\" + 0.014*\"host\" + 0.014*\"communic\" + 0.013*\"accommod\" + 0.013*\"easi\" + 0.012*\"definit\" + 0.012*\"recommend\" + 0.012*\"apart\" + 0.012*\"locat\"') \n",
      "\n",
      "\n",
      "\n",
      "(0, '0.014*\"david\" + 0.011*\"chris\" + 0.010*\"jessica\" + 0.010*\"columbia\" + 0.009*\"place\" + 0.008*\"apart\" + 0.007*\"home\" + 0.007*\"nice\" + 0.007*\"love\" + 0.007*\"time\"') \n",
      "\n",
      "(1, '0.015*\"check\" + 0.010*\"flight\" + 0.009*\"late\" + 0.009*\"arriv\" + 0.008*\"apart\" + 0.008*\"earli\" + 0.008*\"time\" + 0.008*\"place\" + 0.008*\"luggag\" + 0.007*\"stair\"') \n",
      "\n",
      "(2, '0.017*\"accommod\" + 0.017*\"communic\" + 0.015*\"check\" + 0.015*\"host\" + 0.015*\"place\" + 0.014*\"easi\" + 0.012*\"recommend\" + 0.012*\"definit\" + 0.012*\"locat\" + 0.012*\"clean\"') \n",
      "\n",
      "(3, '0.009*\"room\" + 0.008*\"apart\" + 0.008*\"towel\" + 0.007*\"good\" + 0.007*\"bathroom\" + 0.007*\"night\" + 0.007*\"kitchen\" + 0.006*\"nois\" + 0.006*\"place\" + 0.006*\"shower\"') \n",
      "\n",
      "(4, '0.020*\"villag\" + 0.018*\"east\" + 0.010*\"place\" + 0.010*\"apart\" + 0.010*\"heart\" + 0.010*\"west\" + 0.010*\"locat\" + 0.009*\"soho\" + 0.009*\"studio\" + 0.009*\"perfect\"') \n",
      "\n",
      "(5, '0.024*\"nice\" + 0.021*\"place\" + 0.020*\"host\" + 0.017*\"clean\" + 0.016*\"recommend\" + 0.015*\"good\" + 0.015*\"locat\" + 0.014*\"friend\" + 0.014*\"help\" + 0.014*\"thank\"') \n",
      "\n",
      "(6, '0.017*\"restaur\" + 0.015*\"walk\" + 0.013*\"close\" + 0.012*\"subway\" + 0.011*\"squar\" + 0.011*\"place\" + 0.011*\"distanc\" + 0.011*\"apart\" + 0.011*\"bar\" + 0.010*\"shop\"') \n",
      "\n",
      "(7, '0.018*\"park\" + 0.018*\"central\" + 0.011*\"subway\" + 0.010*\"place\" + 0.010*\"close\" + 0.010*\"block\" + 0.009*\"walk\" + 0.009*\"apart\" + 0.008*\"nice\" + 0.008*\"away\"') \n",
      "\n",
      "(8, '0.015*\"question\" + 0.012*\"quick\" + 0.012*\"respond\" + 0.011*\"host\" + 0.011*\"answer\" + 0.011*\"apart\" + 0.011*\"place\" + 0.009*\"help\" + 0.008*\"need\" + 0.008*\"recommend\"') \n",
      "\n",
      "(9, '0.014*\"room\" + 0.013*\"place\" + 0.012*\"exact\" + 0.011*\"space\" + 0.010*\"apart\" + 0.010*\"describ\" + 0.010*\"comfort\" + 0.010*\"clean\" + 0.010*\"nice\" + 0.010*\"sarah\"') \n",
      "\n"
     ]
    },
    {
     "data": {
      "text/plain": [
       "[None, None, None, None, None, None, None, None, None, None]"
      ]
     },
     "execution_count": 316,
     "metadata": {},
     "output_type": "execute_result"
    }
   ],
   "source": [
    "[print(t, '\\n') for t in topics04_tfidf]\n",
    "print('\\n')\n",
    "[print(t, '\\n') for t in topics07_tfidf]\n",
    "print('\\n')\n",
    "[print(t, '\\n') for t in topics10_tfidf]"
   ]
  },
  {
   "cell_type": "code",
   "execution_count": 1007,
   "metadata": {},
   "outputs": [
    {
     "data": {
      "text/plain": [
       "array([0.32516765, 0.        , 0.        , 0.        , 0.94565639,\n",
       "       0.        , 0.        , 0.        , 0.        , 0.        ])"
      ]
     },
     "execution_count": 1007,
     "metadata": {},
     "output_type": "execute_result"
    }
   ],
   "source": [
    "flat_df_newclean_HOST_NAME.topic_scores.iloc[0]"
   ]
  },
  {
   "cell_type": "code",
   "execution_count": 321,
   "metadata": {},
   "outputs": [
    {
     "name": "stdout",
     "output_type": "stream",
     "text": [
      "Loaded File\n",
      "Made Corpus\n",
      "finished lda model, n=4 topics\n",
      "Loaded File\n",
      "Made Corpus\n",
      "finished lda model, n=7 topics\n",
      "Loaded File\n",
      "Made Corpus\n",
      "finished lda model, n=10 topics\n"
     ]
    }
   ],
   "source": [
    "lda04_permissive, topics04_permissive, corpus04_permissive, dictionary04_permissive =  \\\n",
    "                                    extract_topic_vectors(datadir+'flat_df_newclean_HOST_NAME.pkl',\n",
    "                                                             tf_idf = Falase, n_topics=4,\n",
    "                                                              no_below = 0, no_above = 1.)\n",
    "print('finished lda model, n=4 topics')\n",
    "\n",
    "lda07_permissive, topics07_permissive, corpus07_permissive, dictionary07_permissive = \\\n",
    "                                extract_topic_vectors(datadir+'flat_df_newclean_HOST_NAME.pkl',\n",
    "                                                             tf_idf = False, n_topics=7,\n",
    "                                                              no_below = 0, no_above = 1.)\n",
    "print('finished lda model, n=7 topics')\n",
    "\n",
    "lda10_permissive, topics10_permissive, corpus10_permissive, dictionary10_permissive = \\\n",
    "                                extract_topic_vectors(datadir+'flat_df_newclean_HOST_NAME.pkl',\n",
    "                                                             tf_idf = False, n_topics=10,\n",
    "                                                              no_below = 0, no_above = 1.)\n",
    "print('finished lda model, n=10 topics')"
   ]
  },
  {
   "cell_type": "code",
   "execution_count": 322,
   "metadata": {},
   "outputs": [
    {
     "name": "stdout",
     "output_type": "stream",
     "text": [
      "(0, '0.023*\"apart\" + 0.014*\"room\" + 0.014*\"place\" + 0.014*\"stay\" + 0.012*\"great\" + 0.011*\"locat\" + 0.010*\"clean\" + 0.010*\"night\" + 0.009*\"good\" + 0.007*\"nice\"') \n",
      "\n",
      "(1, '0.027*\"apart\" + 0.022*\"walk\" + 0.018*\"park\" + 0.018*\"locat\" + 0.016*\"central\" + 0.015*\"subway\" + 0.014*\"stay\" + 0.013*\"time\" + 0.012*\"great\" + 0.010*\"minut\"') \n",
      "\n",
      "(2, '0.055*\"great\" + 0.042*\"stay\" + 0.038*\"apart\" + 0.034*\"locat\" + 0.032*\"place\" + 0.025*\"host\" + 0.020*\"clean\" + 0.017*\"recommend\" + 0.015*\"perfect\" + 0.013*\"easi\"') \n",
      "\n",
      "(3, '0.036*\"place\" + 0.034*\"stay\" + 0.027*\"nice\" + 0.019*\"great\" + 0.018*\"room\" + 0.018*\"clean\" + 0.017*\"host\" + 0.016*\"subway\" + 0.015*\"locat\" + 0.015*\"recommend\"') \n",
      "\n",
      "\n",
      "\n",
      "(0, '0.035*\"room\" + 0.029*\"stay\" + 0.023*\"place\" + 0.019*\"nice\" + 0.018*\"great\" + 0.014*\"like\" + 0.014*\"good\" + 0.012*\"host\" + 0.010*\"comfort\" + 0.010*\"clean\"') \n",
      "\n",
      "(1, '0.030*\"apart\" + 0.017*\"stay\" + 0.016*\"place\" + 0.016*\"great\" + 0.015*\"arriv\" + 0.012*\"clean\" + 0.012*\"leav\" + 0.011*\"host\" + 0.011*\"time\" + 0.010*\"need\"') \n",
      "\n",
      "(2, '0.041*\"apart\" + 0.018*\"locat\" + 0.018*\"stay\" + 0.018*\"great\" + 0.012*\"perfect\" + 0.011*\"street\" + 0.010*\"love\" + 0.009*\"comfort\" + 0.009*\"villag\" + 0.009*\"restaur\"') \n",
      "\n",
      "(3, '0.034*\"great\" + 0.028*\"apart\" + 0.027*\"subway\" + 0.027*\"walk\" + 0.024*\"locat\" + 0.024*\"place\" + 0.022*\"stay\" + 0.019*\"close\" + 0.018*\"restaur\" + 0.015*\"clean\"') \n",
      "\n",
      "(4, '0.016*\"room\" + 0.013*\"apart\" + 0.011*\"bathroom\" + 0.010*\"place\" + 0.010*\"clean\" + 0.010*\"locat\" + 0.009*\"stay\" + 0.009*\"time\" + 0.008*\"good\" + 0.008*\"night\"') \n",
      "\n",
      "(5, '0.044*\"stay\" + 0.036*\"place\" + 0.023*\"locat\" + 0.023*\"great\" + 0.022*\"apart\" + 0.021*\"recommend\" + 0.020*\"host\" + 0.016*\"check\" + 0.015*\"clean\" + 0.015*\"easi\"') \n",
      "\n",
      "(6, '0.060*\"great\" + 0.044*\"stay\" + 0.039*\"locat\" + 0.038*\"place\" + 0.034*\"apart\" + 0.032*\"host\" + 0.030*\"clean\" + 0.026*\"nice\" + 0.021*\"help\" + 0.020*\"perfect\"') \n",
      "\n",
      "\n",
      "\n",
      "(0, '0.032*\"stay\" + 0.027*\"home\" + 0.023*\"arriv\" + 0.022*\"apart\" + 0.018*\"love\" + 0.018*\"like\" + 0.017*\"thank\" + 0.016*\"felt\" + 0.015*\"place\" + 0.015*\"time\"') \n",
      "\n",
      "(1, '0.034*\"great\" + 0.030*\"stay\" + 0.028*\"time\" + 0.026*\"check\" + 0.024*\"apart\" + 0.024*\"locat\" + 0.021*\"place\" + 0.018*\"host\" + 0.018*\"exact\" + 0.015*\"accommod\"') \n",
      "\n",
      "(2, '0.053*\"place\" + 0.047*\"stay\" + 0.042*\"room\" + 0.032*\"nice\" + 0.030*\"great\" + 0.030*\"clean\" + 0.021*\"locat\" + 0.020*\"host\" + 0.013*\"comfort\" + 0.013*\"recommend\"') \n",
      "\n",
      "(3, '0.056*\"great\" + 0.040*\"locat\" + 0.039*\"place\" + 0.031*\"apart\" + 0.028*\"stay\" + 0.028*\"easi\" + 0.027*\"clean\" + 0.026*\"host\" + 0.025*\"recommend\" + 0.021*\"nice\"') \n",
      "\n",
      "(4, '0.040*\"great\" + 0.034*\"apart\" + 0.027*\"locat\" + 0.023*\"stay\" + 0.015*\"place\" + 0.014*\"comfort\" + 0.013*\"easi\" + 0.013*\"clean\" + 0.013*\"restaur\" + 0.012*\"villag\"') \n",
      "\n",
      "(5, '0.044*\"place\" + 0.038*\"nice\" + 0.036*\"stay\" + 0.030*\"good\" + 0.025*\"clean\" + 0.025*\"great\" + 0.023*\"host\" + 0.019*\"locat\" + 0.019*\"apart\" + 0.018*\"help\"') \n",
      "\n",
      "(6, '0.027*\"apart\" + 0.010*\"clean\" + 0.010*\"night\" + 0.010*\"stay\" + 0.009*\"locat\" + 0.009*\"room\" + 0.008*\"good\" + 0.007*\"bathroom\" + 0.007*\"build\" + 0.007*\"time\"') \n",
      "\n",
      "(7, '0.028*\"room\" + 0.020*\"place\" + 0.018*\"subway\" + 0.017*\"stay\" + 0.013*\"walk\" + 0.012*\"apart\" + 0.012*\"good\" + 0.011*\"nice\" + 0.011*\"clean\" + 0.010*\"comfort\"') \n",
      "\n",
      "(8, '0.030*\"walk\" + 0.029*\"apart\" + 0.026*\"great\" + 0.025*\"place\" + 0.021*\"locat\" + 0.020*\"stay\" + 0.019*\"restaur\" + 0.018*\"time\" + 0.017*\"close\" + 0.017*\"subway\"') \n",
      "\n",
      "(9, '0.045*\"stay\" + 0.038*\"apart\" + 0.035*\"great\" + 0.029*\"host\" + 0.024*\"locat\" + 0.020*\"place\" + 0.018*\"recommend\" + 0.016*\"perfect\" + 0.015*\"love\" + 0.013*\"clean\"') \n",
      "\n"
     ]
    },
    {
     "data": {
      "text/plain": [
       "[None, None, None, None, None, None, None, None, None, None]"
      ]
     },
     "execution_count": 322,
     "metadata": {},
     "output_type": "execute_result"
    }
   ],
   "source": [
    "[print(t, '\\n') for t in topics04_permissive]\n",
    "print('\\n')\n",
    "[print(t, '\\n') for t in topics07_permissive]\n",
    "print('\\n')\n",
    "[print(t, '\\n') for t in topics10_permissive]"
   ]
  },
  {
   "cell_type": "code",
   "execution_count": 324,
   "metadata": {},
   "outputs": [
    {
     "name": "stdout",
     "output_type": "stream",
     "text": [
      "Loaded File\n",
      "Made Corpus\n",
      "finished lda model, n=4 topics\n",
      "Loaded File\n",
      "Made Corpus\n",
      "finished lda model, n=7 topics\n",
      "Loaded File\n",
      "Made Corpus\n",
      "finished lda model, n=10 topics\n"
     ]
    }
   ],
   "source": [
    "lda04_permissive_tfidf, topics04_permissive_tfidf, corpus04_permissive_tfidf, dictionary04_permissive_tfidf =  \\\n",
    "                                    extract_topic_vectors(datadir+'flat_df_newclean_HOST_NAME.pkl',\n",
    "                                                             tf_idf = True, n_topics=4,\n",
    "                                                              no_below = 0, no_above = 1.)\n",
    "print('finished lda model, n=4 topics')\n",
    "\n",
    "lda07_permissive_tfidf, topics07_permissive_tfidf, corpus07_permissive_tfidf, dictionary07_permissive_tfidf = \\\n",
    "                                extract_topic_vectors(datadir+'flat_df_newclean_HOST_NAME.pkl',\n",
    "                                                             tf_idf = True, n_topics=7,\n",
    "                                                              no_below = 0, no_above = 1.)\n",
    "print('finished lda model, n=7 topics')\n",
    "\n",
    "lda10_permissive_tfidf, topics10_permissive_tfidf, corpus10_permissive_tfidf, dictionary10_permissive_tfidf = \\\n",
    "                                extract_topic_vectors(datadir+'flat_df_newclean_HOST_NAME.pkl',\n",
    "                                                             tf_idf = True, n_topics=10,\n",
    "                                                              no_below = 0, no_above = 1.)\n",
    "print('finished lda model, n=10 topics')"
   ]
  },
  {
   "cell_type": "code",
   "execution_count": 325,
   "metadata": {},
   "outputs": [
    {
     "name": "stdout",
     "output_type": "stream",
     "text": [
      "(0, '0.006*\"place\" + 0.006*\"great\" + 0.006*\"apart\" + 0.005*\"stay\" + 0.005*\"nice\" + 0.005*\"room\" + 0.005*\"host\" + 0.005*\"time\" + 0.005*\"clean\" + 0.004*\"help\"') \n",
      "\n",
      "(1, '0.013*\"great\" + 0.012*\"place\" + 0.010*\"host\" + 0.010*\"stay\" + 0.010*\"nice\" + 0.010*\"locat\" + 0.010*\"clean\" + 0.009*\"apart\" + 0.009*\"recommend\" + 0.008*\"definit\"') \n",
      "\n",
      "(2, '0.007*\"great\" + 0.006*\"place\" + 0.006*\"apart\" + 0.006*\"walk\" + 0.005*\"stay\" + 0.005*\"locat\" + 0.005*\"close\" + 0.005*\"restaur\" + 0.005*\"perfect\" + 0.005*\"nice\"') \n",
      "\n",
      "(3, '0.006*\"room\" + 0.005*\"apart\" + 0.005*\"place\" + 0.005*\"good\" + 0.005*\"great\" + 0.005*\"nice\" + 0.005*\"clean\" + 0.004*\"stay\" + 0.004*\"locat\" + 0.004*\"night\"') \n",
      "\n",
      "\n",
      "\n",
      "(0, '0.007*\"place\" + 0.007*\"great\" + 0.006*\"apart\" + 0.006*\"stay\" + 0.005*\"host\" + 0.005*\"locat\" + 0.005*\"nice\" + 0.005*\"michael\" + 0.005*\"clean\" + 0.005*\"recommend\"') \n",
      "\n",
      "(1, '0.012*\"great\" + 0.011*\"place\" + 0.010*\"locat\" + 0.010*\"nice\" + 0.009*\"close\" + 0.009*\"stay\" + 0.009*\"apart\" + 0.008*\"perfect\" + 0.008*\"clean\" + 0.008*\"host\"') \n",
      "\n",
      "(2, '0.008*\"jessica\" + 0.008*\"reserv\" + 0.008*\"cancel\" + 0.007*\"post\" + 0.006*\"arriv\" + 0.006*\"autom\" + 0.006*\"day\" + 0.006*\"place\" + 0.005*\"nice\" + 0.005*\"great\"') \n",
      "\n",
      "(3, '0.007*\"place\" + 0.007*\"great\" + 0.006*\"nice\" + 0.006*\"time\" + 0.006*\"apart\" + 0.006*\"stay\" + 0.006*\"walk\" + 0.005*\"close\" + 0.005*\"locat\" + 0.005*\"clean\"') \n",
      "\n",
      "(4, '0.006*\"room\" + 0.006*\"apart\" + 0.005*\"place\" + 0.005*\"good\" + 0.005*\"great\" + 0.004*\"nice\" + 0.004*\"night\" + 0.004*\"bathroom\" + 0.004*\"clean\" + 0.004*\"stay\"') \n",
      "\n",
      "(5, '0.011*\"great\" + 0.011*\"check\" + 0.010*\"host\" + 0.010*\"place\" + 0.009*\"stay\" + 0.009*\"apart\" + 0.008*\"easi\" + 0.008*\"communic\" + 0.008*\"clean\" + 0.008*\"locat\"') \n",
      "\n",
      "(6, '0.009*\"host\" + 0.008*\"place\" + 0.008*\"stay\" + 0.008*\"great\" + 0.007*\"nice\" + 0.007*\"home\" + 0.007*\"welcom\" + 0.006*\"help\" + 0.006*\"friend\" + 0.006*\"clean\"') \n",
      "\n",
      "\n",
      "\n",
      "(0, '0.006*\"room\" + 0.006*\"apart\" + 0.005*\"good\" + 0.005*\"place\" + 0.005*\"check\" + 0.005*\"night\" + 0.005*\"great\" + 0.005*\"nice\" + 0.005*\"clean\" + 0.004*\"stay\"') \n",
      "\n",
      "(1, '0.007*\"jam\" + 0.007*\"place\" + 0.007*\"great\" + 0.006*\"nice\" + 0.006*\"stay\" + 0.006*\"host\" + 0.005*\"apart\" + 0.005*\"time\" + 0.005*\"clean\" + 0.005*\"locat\"') \n",
      "\n",
      "(2, '0.015*\"michael\" + 0.009*\"post\" + 0.009*\"reserv\" + 0.009*\"cancel\" + 0.009*\"autom\" + 0.008*\"day\" + 0.008*\"nice\" + 0.008*\"andrew\" + 0.007*\"place\" + 0.007*\"great\"') \n",
      "\n",
      "(3, '0.006*\"place\" + 0.006*\"anna\" + 0.006*\"great\" + 0.006*\"apart\" + 0.006*\"nice\" + 0.005*\"stay\" + 0.005*\"clean\" + 0.005*\"room\" + 0.005*\"host\" + 0.005*\"good\"') \n",
      "\n",
      "(4, '0.006*\"place\" + 0.006*\"apart\" + 0.006*\"great\" + 0.005*\"room\" + 0.005*\"nice\" + 0.005*\"stay\" + 0.005*\"walk\" + 0.004*\"good\" + 0.004*\"clean\" + 0.004*\"time\"') \n",
      "\n",
      "(5, '0.007*\"sarah\" + 0.007*\"place\" + 0.007*\"great\" + 0.006*\"apart\" + 0.006*\"stay\" + 0.006*\"view\" + 0.005*\"host\" + 0.005*\"perfect\" + 0.005*\"locat\" + 0.005*\"nice\"') \n",
      "\n",
      "(6, '0.007*\"great\" + 0.007*\"place\" + 0.007*\"apart\" + 0.006*\"villag\" + 0.006*\"stay\" + 0.006*\"locat\" + 0.006*\"host\" + 0.005*\"east\" + 0.005*\"perfect\" + 0.005*\"nice\"') \n",
      "\n",
      "(7, '0.007*\"place\" + 0.006*\"great\" + 0.006*\"apart\" + 0.006*\"stay\" + 0.005*\"host\" + 0.005*\"nice\" + 0.005*\"michell\" + 0.005*\"locat\" + 0.005*\"recommend\" + 0.005*\"clean\"') \n",
      "\n",
      "(8, '0.015*\"great\" + 0.013*\"place\" + 0.011*\"host\" + 0.011*\"locat\" + 0.011*\"stay\" + 0.011*\"nice\" + 0.011*\"clean\" + 0.010*\"apart\" + 0.010*\"recommend\" + 0.009*\"close\"') \n",
      "\n",
      "(9, '0.008*\"place\" + 0.008*\"great\" + 0.007*\"stay\" + 0.007*\"host\" + 0.007*\"help\" + 0.007*\"apart\" + 0.006*\"nice\" + 0.006*\"recommend\" + 0.006*\"clean\" + 0.006*\"check\"') \n",
      "\n"
     ]
    },
    {
     "data": {
      "text/plain": [
       "[None, None, None, None, None, None, None, None, None, None]"
      ]
     },
     "execution_count": 325,
     "metadata": {},
     "output_type": "execute_result"
    }
   ],
   "source": [
    "[print(t, '\\n') for t in topics04_permissive_tfidf]\n",
    "print('\\n')\n",
    "[print(t, '\\n') for t in topics07_permissive_tfidf]\n",
    "print('\\n')\n",
    "[print(t, '\\n') for t in topics10_permissive_tfidf]"
   ]
  },
  {
   "cell_type": "code",
   "execution_count": 330,
   "metadata": {},
   "outputs": [
    {
     "name": "stdout",
     "output_type": "stream",
     "text": [
      "Loaded File\n",
      "Made Corpus\n",
      "finished lda model, n=4 topics\n",
      "Loaded File\n",
      "Made Corpus\n",
      "finished lda model, n=7 topics\n",
      "Loaded File\n",
      "Made Corpus\n",
      "finished lda model, n=10 topics\n",
      "Loaded File\n",
      "Made Corpus\n",
      "finished lda model, n=15 topics\n"
     ]
    }
   ],
   "source": [
    "lda04_strict_top, topics04_strict_top, corpus04_strict_top, dictionary04_strict_top =  \\\n",
    "                                extract_topic_vectors(datadir+'flat_df_newclean_HOST_NAME.pkl',\n",
    "                                                             tf_idf = False, n_topics=4,\n",
    "                                                              no_below = 0, no_above = .1)\n",
    "print('finished lda model, n=4 topics')\n",
    "\n",
    "lda07_strict_top, topics07_strict_top, corpus07_strict_top, dictionary07_strict_top =  \\\n",
    "                                extract_topic_vectors(datadir+'flat_df_newclean_HOST_NAME.pkl',\n",
    "                                                             tf_idf = False, n_topics=7,\n",
    "                                                              no_below = 0, no_above = .1)\n",
    "print('finished lda model, n=7 topics')\n",
    "\n",
    "lda10_strict_top, topics10_strict_top, corpus10_strict_top, dictionary10_strict_top =  \\\n",
    "                                extract_topic_vectors(datadir+'flat_df_newclean_HOST_NAME.pkl',\n",
    "                                                             tf_idf = False, n_topics=10,\n",
    "                                                              no_below = 0, no_above = .1)\n",
    "print('finished lda model, n=10 topics')\n",
    "\n",
    "lda15_strict_top, topics15_strict_top, corpus15_strict_top, dictionary15_strict_top =  \\\n",
    "                                extract_topic_vectors(datadir+'flat_df_newclean_HOST_NAME.pkl',\n",
    "                                                             tf_idf = False, n_topics=15,\n",
    "                                                              no_below = 0, no_above = .1)\n",
    "print('finished lda model, n=15 topics')"
   ]
  },
  {
   "cell_type": "code",
   "execution_count": 331,
   "metadata": {
    "scrolled": false
   },
   "outputs": [
    {
     "name": "stdout",
     "output_type": "stream",
     "text": [
      "(0, '0.014*\"wonder\" + 0.012*\"feel\" + 0.011*\"visit\" + 0.011*\"amaz\" + 0.010*\"enjoy\" + 0.010*\"come\" + 0.009*\"felt\" + 0.009*\"hous\" + 0.009*\"give\" + 0.009*\"look\"') \n",
      "\n",
      "(1, '0.014*\"super\" + 0.009*\"accommod\" + 0.009*\"bathroom\" + 0.009*\"amaz\" + 0.008*\"space\" + 0.007*\"villag\" + 0.006*\"towel\" + 0.006*\"best\" + 0.006*\"east\" + 0.005*\"bedroom\"') \n",
      "\n",
      "(2, '0.014*\"station\" + 0.012*\"minut\" + 0.010*\"squar\" + 0.010*\"flat\" + 0.009*\"kitchen\" + 0.009*\"small\" + 0.009*\"near\" + 0.008*\"question\" + 0.008*\"littl\" + 0.008*\"park\"') \n",
      "\n",
      "(3, '0.014*\"street\" + 0.012*\"park\" + 0.009*\"block\" + 0.008*\"away\" + 0.008*\"nois\" + 0.007*\"shop\" + 0.007*\"sleep\" + 0.007*\"right\" + 0.005*\"littl\" + 0.005*\"food\"') \n",
      "\n",
      "\n",
      "\n",
      "(0, '0.015*\"station\" + 0.015*\"quick\" + 0.014*\"flat\" + 0.013*\"minut\" + 0.013*\"question\" + 0.012*\"leav\" + 0.010*\"key\" + 0.009*\"respond\" + 0.009*\"answer\" + 0.008*\"late\"') \n",
      "\n",
      "(1, '0.021*\"park\" + 0.016*\"squar\" + 0.016*\"shop\" + 0.014*\"distanc\" + 0.012*\"away\" + 0.012*\"block\" + 0.011*\"bar\" + 0.010*\"right\" + 0.010*\"minut\" + 0.010*\"street\"') \n",
      "\n",
      "(2, '0.021*\"amaz\" + 0.014*\"wonder\" + 0.013*\"best\" + 0.013*\"come\" + 0.012*\"feel\" + 0.012*\"visit\" + 0.011*\"airbnb\" + 0.010*\"look\" + 0.010*\"awesom\" + 0.010*\"person\"') \n",
      "\n",
      "(3, '0.013*\"bathroom\" + 0.010*\"bedroom\" + 0.010*\"sleep\" + 0.010*\"kitchen\" + 0.009*\"small\" + 0.008*\"floor\" + 0.008*\"nois\" + 0.008*\"work\" + 0.007*\"build\" + 0.007*\"space\"') \n",
      "\n",
      "(4, '0.012*\"access\" + 0.011*\"accommod\" + 0.010*\"wonder\" + 0.010*\"quick\" + 0.010*\"spacious\" + 0.010*\"visit\" + 0.009*\"away\" + 0.009*\"excel\" + 0.008*\"trip\" + 0.008*\"provid\"') \n",
      "\n",
      "(5, '0.030*\"super\" + 0.018*\"accommod\" + 0.016*\"exact\" + 0.012*\"felt\" + 0.011*\"pictur\" + 0.010*\"kind\" + 0.010*\"safe\" + 0.010*\"describ\" + 0.010*\"flexibl\" + 0.008*\"travel\"') \n",
      "\n",
      "(6, '0.027*\"hous\" + 0.014*\"beauti\" + 0.012*\"transport\" + 0.011*\"enjoy\" + 0.010*\"public\" + 0.010*\"harlem\" + 0.009*\"space\" + 0.009*\"alex\" + 0.008*\"station\" + 0.008*\"feel\"') \n",
      "\n",
      "\n",
      "\n",
      "(0, '0.013*\"beauti\" + 0.012*\"fantast\" + 0.011*\"best\" + 0.011*\"live\" + 0.010*\"shop\" + 0.010*\"view\" + 0.009*\"space\" + 0.008*\"kitchen\" + 0.008*\"right\" + 0.008*\"spacious\"') \n",
      "\n",
      "(1, '0.015*\"towel\" + 0.014*\"bathroom\" + 0.014*\"kitchen\" + 0.009*\"shower\" + 0.009*\"leav\" + 0.009*\"water\" + 0.008*\"work\" + 0.006*\"guest\" + 0.006*\"provid\" + 0.006*\"sheet\"') \n",
      "\n",
      "(2, '0.023*\"block\" + 0.022*\"away\" + 0.016*\"store\" + 0.013*\"station\" + 0.013*\"train\" + 0.012*\"safe\" + 0.012*\"groceri\" + 0.012*\"minut\" + 0.011*\"park\" + 0.009*\"shop\"') \n",
      "\n",
      "(3, '0.030*\"quick\" + 0.024*\"respond\" + 0.017*\"respons\" + 0.016*\"excel\" + 0.015*\"question\" + 0.013*\"accommod\" + 0.012*\"super\" + 0.011*\"east\" + 0.010*\"awesom\" + 0.009*\"villag\"') \n",
      "\n",
      "(4, '0.036*\"park\" + 0.019*\"transport\" + 0.015*\"near\" + 0.015*\"squar\" + 0.014*\"enjoy\" + 0.014*\"wonder\" + 0.013*\"public\" + 0.012*\"station\" + 0.010*\"minut\" + 0.010*\"access\"') \n",
      "\n",
      "(5, '0.023*\"exact\" + 0.014*\"look\" + 0.014*\"describ\" + 0.011*\"villag\" + 0.011*\"pictur\" + 0.010*\"list\" + 0.010*\"sure\" + 0.009*\"east\" + 0.009*\"want\" + 0.009*\"leav\"') \n",
      "\n",
      "(6, '0.023*\"question\" + 0.020*\"appart\" + 0.019*\"flat\" + 0.018*\"answer\" + 0.016*\"super\" + 0.011*\"person\" + 0.011*\"enjoy\" + 0.011*\"avail\" + 0.011*\"come\" + 0.010*\"michael\"') \n",
      "\n",
      "(7, '0.035*\"amaz\" + 0.016*\"hous\" + 0.014*\"trip\" + 0.013*\"visit\" + 0.012*\"day\" + 0.012*\"super\" + 0.012*\"come\" + 0.011*\"look\" + 0.010*\"enjoy\" + 0.010*\"beauti\"') \n",
      "\n",
      "(8, '0.017*\"sleep\" + 0.013*\"small\" + 0.012*\"nois\" + 0.012*\"bedroom\" + 0.011*\"peopl\" + 0.010*\"space\" + 0.010*\"street\" + 0.010*\"bathroom\" + 0.010*\"littl\" + 0.009*\"floor\"') \n",
      "\n",
      "(9, '0.025*\"accommod\" + 0.014*\"wonder\" + 0.013*\"better\" + 0.011*\"come\" + 0.011*\"couldn\" + 0.010*\"airbnb\" + 0.009*\"go\" + 0.009*\"sure\" + 0.008*\"spacious\" + 0.008*\"feel\"') \n",
      "\n",
      "\n",
      "\n",
      "(0, '0.022*\"reserv\" + 0.021*\"day\" + 0.016*\"cancel\" + 0.016*\"chris\" + 0.016*\"post\" + 0.012*\"kevin\" + 0.011*\"jason\" + 0.010*\"fresh\" + 0.009*\"space\" + 0.009*\"go\"') \n",
      "\n",
      "(1, '0.029*\"accommod\" + 0.017*\"look\" + 0.013*\"trip\" + 0.013*\"right\" + 0.013*\"store\" + 0.012*\"super\" + 0.012*\"park\" + 0.012*\"access\" + 0.009*\"groceri\" + 0.009*\"extrem\"') \n",
      "\n",
      "(2, '0.019*\"earli\" + 0.017*\"leav\" + 0.017*\"late\" + 0.015*\"flight\" + 0.011*\"bag\" + 0.010*\"allow\" + 0.010*\"luggag\" + 0.009*\"accommod\" + 0.009*\"come\" + 0.008*\"hour\"') \n",
      "\n",
      "(3, '0.014*\"kitchen\" + 0.014*\"towel\" + 0.013*\"bathroom\" + 0.011*\"work\" + 0.010*\"shower\" + 0.008*\"bedroom\" + 0.008*\"water\" + 0.008*\"door\" + 0.007*\"leav\" + 0.006*\"provid\"') \n",
      "\n",
      "(4, '0.032*\"away\" + 0.030*\"station\" + 0.029*\"minut\" + 0.027*\"block\" + 0.027*\"squar\" + 0.021*\"park\" + 0.016*\"train\" + 0.012*\"near\" + 0.012*\"manhattan\" + 0.011*\"street\"') \n",
      "\n",
      "(5, '0.011*\"kitchen\" + 0.008*\"travel\" + 0.008*\"bathroom\" + 0.008*\"daniel\" + 0.007*\"dryer\" + 0.007*\"josh\" + 0.007*\"floor\" + 0.006*\"problem\" + 0.006*\"washer\" + 0.006*\"laura\"') \n",
      "\n",
      "(6, '0.015*\"littl\" + 0.014*\"small\" + 0.014*\"floor\" + 0.013*\"sleep\" + 0.013*\"nois\" + 0.012*\"bathroom\" + 0.012*\"overal\" + 0.011*\"issu\" + 0.010*\"peopl\" + 0.010*\"street\"') \n",
      "\n",
      "(7, '0.028*\"amaz\" + 0.027*\"view\" + 0.021*\"east\" + 0.020*\"villag\" + 0.019*\"space\" + 0.018*\"super\" + 0.013*\"live\" + 0.012*\"beauti\" + 0.012*\"bedroom\" + 0.010*\"enjoy\"') \n",
      "\n",
      "(8, '0.027*\"question\" + 0.026*\"give\" + 0.025*\"quick\" + 0.020*\"provid\" + 0.020*\"respond\" + 0.015*\"answer\" + 0.012*\"inform\" + 0.010*\"felt\" + 0.010*\"visit\" + 0.009*\"leav\"') \n",
      "\n",
      "(9, '0.035*\"appart\" + 0.023*\"exact\" + 0.018*\"pictur\" + 0.015*\"person\" + 0.015*\"look\" + 0.014*\"describ\" + 0.013*\"enjoy\" + 0.013*\"respons\" + 0.012*\"manhattan\" + 0.012*\"flat\"') \n",
      "\n",
      "(10, '0.034*\"park\" + 0.022*\"street\" + 0.016*\"museum\" + 0.015*\"nois\" + 0.012*\"sarah\" + 0.010*\"sleep\" + 0.009*\"valu\" + 0.009*\"light\" + 0.009*\"anna\" + 0.008*\"block\"') \n",
      "\n",
      "(11, '0.025*\"bar\" + 0.020*\"shop\" + 0.018*\"super\" + 0.018*\"amaz\" + 0.017*\"distanc\" + 0.015*\"awesom\" + 0.014*\"best\" + 0.013*\"villag\" + 0.011*\"lot\" + 0.010*\"feel\"') \n",
      "\n",
      "(12, '0.020*\"fantast\" + 0.017*\"accommod\" + 0.016*\"wonder\" + 0.014*\"spacious\" + 0.014*\"exact\" + 0.014*\"excel\" + 0.013*\"famili\" + 0.012*\"describ\" + 0.012*\"space\" + 0.011*\"beauti\"') \n",
      "\n",
      "(13, '0.023*\"flat\" + 0.021*\"build\" + 0.020*\"wonder\" + 0.019*\"beauti\" + 0.016*\"kind\" + 0.015*\"hous\" + 0.014*\"state\" + 0.014*\"visit\" + 0.012*\"empir\" + 0.010*\"enjoy\"') \n",
      "\n",
      "(14, '0.015*\"want\" + 0.013*\"feel\" + 0.012*\"airbnb\" + 0.012*\"live\" + 0.012*\"travel\" + 0.011*\"space\" + 0.010*\"best\" + 0.009*\"expect\" + 0.009*\"know\" + 0.007*\"work\"') \n",
      "\n"
     ]
    },
    {
     "data": {
      "text/plain": [
       "[None,\n",
       " None,\n",
       " None,\n",
       " None,\n",
       " None,\n",
       " None,\n",
       " None,\n",
       " None,\n",
       " None,\n",
       " None,\n",
       " None,\n",
       " None,\n",
       " None,\n",
       " None,\n",
       " None]"
      ]
     },
     "execution_count": 331,
     "metadata": {},
     "output_type": "execute_result"
    }
   ],
   "source": [
    "[print(t, '\\n') for t in topics04_strict_top]\n",
    "print('\\n')\n",
    "[print(t, '\\n') for t in topics07_strict_top]\n",
    "print('\\n')\n",
    "[print(t, '\\n') for t in topics10_strict_top]\n",
    "print('\\n')\n",
    "[print(t, '\\n') for t in topics15_strict_top]"
   ]
  },
  {
   "cell_type": "code",
   "execution_count": 347,
   "metadata": {},
   "outputs": [
    {
     "data": {
      "text/plain": [
       "(13297.7, 0.03760048730231544)"
      ]
     },
     "execution_count": 347,
     "metadata": {},
     "output_type": "execute_result"
    }
   ],
   "source": [
    "flat_df_HOST_NAME.shape[0] * .05, 100*100 / flat_df_HOST_NAME.shape[0]"
   ]
  },
  {
   "cell_type": "code",
   "execution_count": null,
   "metadata": {},
   "outputs": [],
   "source": []
  },
  {
   "cell_type": "code",
   "execution_count": 348,
   "metadata": {},
   "outputs": [
    {
     "name": "stdout",
     "output_type": "stream",
     "text": [
      "Loaded File\n",
      "Made Corpus\n",
      "finished lda model, n=10 topics\n",
      "(0, '0.025*\"coffe\" + 0.020*\"towel\" + 0.013*\"breakfast\" + 0.012*\"food\" + 0.009*\"water\" + 0.009*\"plenti\" + 0.009*\"fresh\" + 0.009*\"store\" + 0.008*\"fridg\" + 0.008*\"morn\"') \n",
      "\n",
      "(1, '0.076*\"awesom\" + 0.024*\"john\" + 0.023*\"cute\" + 0.016*\"sweet\" + 0.013*\"jam\" + 0.013*\"roommat\" + 0.011*\"paul\" + 0.010*\"cool\" + 0.010*\"ador\" + 0.010*\"comfi\"') \n",
      "\n",
      "(2, '0.039*\"east\" + 0.038*\"villag\" + 0.019*\"west\" + 0.016*\"soho\" + 0.014*\"spot\" + 0.014*\"heart\" + 0.013*\"upper\" + 0.012*\"lower\" + 0.012*\"loft\" + 0.012*\"explor\"') \n",
      "\n",
      "(3, '0.039*\"view\" + 0.038*\"better\" + 0.021*\"couldn\" + 0.017*\"absolut\" + 0.015*\"incred\" + 0.010*\"awesom\" + 0.010*\"hotel\" + 0.009*\"extrem\" + 0.008*\"state\" + 0.008*\"decor\"') \n",
      "\n",
      "(4, '0.031*\"flat\" + 0.027*\"transport\" + 0.023*\"lot\" + 0.020*\"nearbi\" + 0.018*\"public\" + 0.017*\"store\" + 0.015*\"famili\" + 0.015*\"plenti\" + 0.014*\"equip\" + 0.013*\"groceri\"') \n",
      "\n",
      "(5, '0.015*\"nois\" + 0.011*\"shower\" + 0.011*\"door\" + 0.011*\"floor\" + 0.010*\"issu\" + 0.010*\"window\" + 0.008*\"price\" + 0.008*\"problem\" + 0.008*\"noisi\" + 0.007*\"light\"') \n",
      "\n",
      "(6, '0.027*\"late\" + 0.022*\"flight\" + 0.021*\"key\" + 0.020*\"luggag\" + 0.018*\"stair\" + 0.016*\"earli\" + 0.015*\"meet\" + 0.013*\"floor\" + 0.013*\"flexibl\" + 0.013*\"problem\"') \n",
      "\n",
      "(7, '0.023*\"list\" + 0.022*\"book\" + 0.017*\"accur\" + 0.016*\"respond\" + 0.015*\"descript\" + 0.015*\"extrem\" + 0.014*\"hous\" + 0.013*\"answer\" + 0.012*\"avail\" + 0.011*\"process\"') \n",
      "\n",
      "(8, '0.044*\"appart\" + 0.020*\"chelsea\" + 0.019*\"alex\" + 0.018*\"michael\" + 0.017*\"metro\" + 0.017*\"line\" + 0.014*\"district\" + 0.013*\"center\" + 0.010*\"market\" + 0.010*\"mari\"') \n",
      "\n",
      "(9, '0.023*\"hous\" + 0.020*\"train\" + 0.017*\"harlem\" + 0.016*\"take\" + 0.014*\"travel\" + 0.012*\"downtown\" + 0.011*\"care\" + 0.009*\"share\" + 0.009*\"guest\" + 0.008*\"know\"') \n",
      "\n",
      "Loaded File\n",
      "Made Corpus\n",
      "finished lda model, n=10 topics\n",
      "(0, '0.040*\"answer\" + 0.037*\"appart\" + 0.035*\"respond\" + 0.026*\"avail\" + 0.022*\"accur\" + 0.019*\"descript\" + 0.019*\"prompt\" + 0.018*\"photo\" + 0.017*\"messag\" + 0.015*\"list\"') \n",
      "\n",
      "(1, '0.093*\"awesom\" + 0.056*\"studio\" + 0.042*\"cute\" + 0.042*\"weekend\" + 0.030*\"flexibl\" + 0.027*\"day\" + 0.024*\"spot\" + 0.024*\"extrem\" + 0.020*\"sweet\" + 0.018*\"reserv\"') \n",
      "\n",
      "(2, '0.047*\"east\" + 0.046*\"villag\" + 0.034*\"better\" + 0.023*\"west\" + 0.022*\"couldn\" + 0.018*\"heart\" + 0.018*\"absolut\" + 0.016*\"upper\" + 0.014*\"incred\" + 0.013*\"decor\"') \n",
      "\n",
      "(3, '0.040*\"food\" + 0.033*\"store\" + 0.028*\"nearbi\" + 0.028*\"coffe\" + 0.023*\"lot\" + 0.021*\"groceri\" + 0.018*\"corner\" + 0.017*\"plenti\" + 0.014*\"market\" + 0.013*\"breakfast\"') \n",
      "\n",
      "(4, '0.015*\"towel\" + 0.014*\"issu\" + 0.013*\"door\" + 0.013*\"nois\" + 0.012*\"problem\" + 0.010*\"wasn\" + 0.009*\"shower\" + 0.009*\"price\" + 0.009*\"think\" + 0.008*\"guest\"') \n",
      "\n",
      "(5, '0.026*\"floor\" + 0.018*\"light\" + 0.018*\"view\" + 0.016*\"larg\" + 0.015*\"window\" + 0.013*\"bed\" + 0.013*\"shower\" + 0.011*\"stair\" + 0.011*\"size\" + 0.011*\"elev\"') \n",
      "\n",
      "(6, '0.022*\"smooth\" + 0.020*\"key\" + 0.020*\"instruct\" + 0.019*\"clear\" + 0.019*\"advertis\" + 0.017*\"expect\" + 0.016*\"process\" + 0.015*\"meet\" + 0.014*\"get\" + 0.012*\"loft\"') \n",
      "\n",
      "(7, '0.052*\"late\" + 0.044*\"transport\" + 0.033*\"flight\" + 0.030*\"earli\" + 0.029*\"public\" + 0.023*\"luggag\" + 0.021*\"flexibl\" + 0.019*\"wait\" + 0.019*\"hour\" + 0.018*\"allow\"') \n",
      "\n",
      "(8, '0.042*\"flat\" + 0.038*\"famili\" + 0.027*\"line\" + 0.023*\"downtown\" + 0.022*\"train\" + 0.017*\"metro\" + 0.017*\"harlem\" + 0.014*\"center\" + 0.013*\"attract\" + 0.012*\"stop\"') \n",
      "\n",
      "(9, '0.046*\"hous\" + 0.018*\"care\" + 0.018*\"guest\" + 0.014*\"warm\" + 0.014*\"take\" + 0.014*\"share\" + 0.013*\"know\" + 0.012*\"hospit\" + 0.012*\"privaci\" + 0.011*\"michael\"') \n",
      "\n",
      "Loaded File\n",
      "Made Corpus\n",
      "finished lda model, n=7 topics\n"
     ]
    },
    {
     "ename": "NameError",
     "evalue": "name 'topics10_st_05_sb1000' is not defined",
     "output_type": "error",
     "traceback": [
      "\u001b[0;31m---------------------------------------------------------------------------\u001b[0m",
      "\u001b[0;31mNameError\u001b[0m                                 Traceback (most recent call last)",
      "\u001b[0;32m<ipython-input-348-da2ed6d14a0f>\u001b[0m in \u001b[0;36m<module>\u001b[0;34m\u001b[0m\n\u001b[1;32m     23\u001b[0m                                                      npasses= 10)\n\u001b[1;32m     24\u001b[0m \u001b[0mprint\u001b[0m\u001b[0;34m(\u001b[0m\u001b[0;34m'finished lda model, n=7 topics'\u001b[0m\u001b[0;34m)\u001b[0m\u001b[0;34m\u001b[0m\u001b[0;34m\u001b[0m\u001b[0m\n\u001b[0;32m---> 25\u001b[0;31m \u001b[0;34m[\u001b[0m\u001b[0mprint\u001b[0m\u001b[0;34m(\u001b[0m\u001b[0mt\u001b[0m\u001b[0;34m,\u001b[0m \u001b[0;34m'\\n'\u001b[0m\u001b[0;34m)\u001b[0m \u001b[0;32mfor\u001b[0m \u001b[0mt\u001b[0m \u001b[0;32min\u001b[0m \u001b[0mtopics10_st_05_sb1000\u001b[0m\u001b[0;34m]\u001b[0m\u001b[0;34m\u001b[0m\u001b[0;34m\u001b[0m\u001b[0m\n\u001b[0m\u001b[1;32m     26\u001b[0m \u001b[0;34m\u001b[0m\u001b[0m\n\u001b[1;32m     27\u001b[0m \u001b[0;34m\u001b[0m\u001b[0m\n",
      "\u001b[0;31mNameError\u001b[0m: name 'topics10_st_05_sb1000' is not defined"
     ]
    }
   ],
   "source": [
    "lda10_strict_top_05, topics10_strict_top_05, corpus10_strict_top_05, dictionary10_strict_top_05 =  \\\n",
    "                                extract_topic_vectors(datadir+'flat_df_newclean_HOST_NAME.pkl',\n",
    "                                                             tf_idf = False, n_topics=10,\n",
    "                                                              no_below = 0, no_above = .05,\n",
    "                                                     npasses= 10)\n",
    "print('finished lda model, n=10 topics')\n",
    "[print(t, '\\n') for t in topics10_strict_top_05]\n",
    "\n",
    "\n",
    "lda10_st_05_sb0200, topics10_st_05_sb0200, corpus10_st_05_sb0200, dictionary10_st_05_sb0200 =  \\\n",
    "                                extract_topic_vectors(datadir+'flat_df_newclean_HOST_NAME.pkl',\n",
    "                                                             tf_idf = False, n_topics=10,\n",
    "                                                              no_below = 200, no_above = .05,\n",
    "                                                     npasses= 10)\n",
    "print('finished lda model, n=10 topics')\n",
    "[print(t, '\\n') for t in topics10_st_05_sb0200]\n",
    "\n",
    "\n",
    "lda07_st_05_sb1000, topics07_st_05_sb1000, corpus07_st_05_sb1000, dictionary07_st_05_sb1000 =  \\\n",
    "                                extract_topic_vectors(datadir+'flat_df_newclean_HOST_NAME.pkl',\n",
    "                                                             tf_idf = False, n_topics=7,\n",
    "                                                              no_below = 1000, no_above = .05,\n",
    "                                                     npasses= 10)\n"
   ]
  },
  {
   "cell_type": "code",
   "execution_count": 349,
   "metadata": {},
   "outputs": [
    {
     "name": "stdout",
     "output_type": "stream",
     "text": [
      "finished lda model, n=7 topics\n",
      "(0, '0.035*\"respond\" + 0.032*\"late\" + 0.031*\"flexibl\" + 0.024*\"answer\" + 0.022*\"key\" + 0.021*\"meet\" + 0.017*\"earli\" + 0.017*\"prompt\" + 0.016*\"flight\" + 0.016*\"avail\"') \n",
      "\n",
      "(1, '0.053*\"hous\" + 0.047*\"flat\" + 0.038*\"metro\" + 0.033*\"appart\" + 0.027*\"day\" + 0.020*\"neighbourhood\" + 0.018*\"spend\" + 0.017*\"cosi\" + 0.017*\"harlem\" + 0.016*\"warm\"') \n",
      "\n",
      "(2, '0.022*\"food\" + 0.019*\"train\" + 0.018*\"lot\" + 0.016*\"local\" + 0.016*\"nearbi\" + 0.016*\"explor\" + 0.015*\"line\" + 0.015*\"short\" + 0.014*\"coffe\" + 0.012*\"privat\"') \n",
      "\n",
      "(3, '0.032*\"nois\" + 0.031*\"floor\" + 0.025*\"price\" + 0.023*\"transport\" + 0.022*\"pretti\" + 0.019*\"valu\" + 0.019*\"window\" + 0.019*\"stair\" + 0.018*\"public\" + 0.018*\"noisi\"') \n",
      "\n",
      "(4, '0.023*\"guest\" + 0.019*\"know\" + 0.017*\"list\" + 0.016*\"door\" + 0.016*\"issu\" + 0.014*\"book\" + 0.014*\"accur\" + 0.014*\"think\" + 0.013*\"wasn\" + 0.013*\"say\"') \n",
      "\n",
      "(5, '0.035*\"towel\" + 0.030*\"bed\" + 0.023*\"water\" + 0.022*\"shower\" + 0.018*\"plenti\" + 0.017*\"wifi\" + 0.017*\"larg\" + 0.015*\"equip\" + 0.013*\"cook\" + 0.013*\"coffe\"') \n",
      "\n",
      "(6, '0.038*\"east\" + 0.037*\"villag\" + 0.029*\"better\" + 0.026*\"awesom\" + 0.023*\"absolut\" + 0.022*\"studio\" + 0.019*\"west\" + 0.019*\"extrem\" + 0.018*\"view\" + 0.017*\"heart\"') \n",
      "\n"
     ]
    },
    {
     "data": {
      "text/plain": [
       "[None, None, None, None, None, None, None]"
      ]
     },
     "execution_count": 349,
     "metadata": {},
     "output_type": "execute_result"
    }
   ],
   "source": [
    "print('finished lda model, n=7 topics')\n",
    "[print(t, '\\n') for t in topics07_st_05_sb1000]\n",
    "\n"
   ]
  },
  {
   "cell_type": "code",
   "execution_count": 350,
   "metadata": {},
   "outputs": [
    {
     "name": "stdout",
     "output_type": "stream",
     "text": [
      "Loaded File\n",
      "Made Corpus\n",
      "finished lda model, n=10 topics\n",
      "(0, '0.051*\"absolut\" + 0.036*\"incred\" + 0.030*\"studio\" + 0.029*\"hope\" + 0.026*\"decor\" + 0.020*\"return\" + 0.018*\"soon\" + 0.017*\"futur\" + 0.015*\"charm\" + 0.015*\"truli\"') \n",
      "\n",
      "(1, '0.103*\"hous\" + 0.097*\"awesom\" + 0.091*\"better\" + 0.058*\"appart\" + 0.053*\"price\" + 0.046*\"couldn\" + 0.046*\"valu\" + 0.026*\"hotel\" + 0.023*\"david\" + 0.022*\"ask\"') \n",
      "\n",
      "(2, '0.037*\"flexibl\" + 0.034*\"late\" + 0.029*\"meet\" + 0.029*\"key\" + 0.028*\"respond\" + 0.021*\"list\" + 0.020*\"answer\" + 0.020*\"earli\" + 0.020*\"accur\" + 0.019*\"flight\"') \n",
      "\n",
      "(3, '0.064*\"east\" + 0.062*\"villag\" + 0.038*\"lot\" + 0.033*\"explor\" + 0.032*\"spot\" + 0.031*\"west\" + 0.029*\"heart\" + 0.029*\"cool\" + 0.025*\"soho\" + 0.022*\"upper\"') \n",
      "\n",
      "(4, '0.028*\"towel\" + 0.028*\"coffe\" + 0.022*\"breakfast\" + 0.022*\"take\" + 0.016*\"care\" + 0.015*\"offer\" + 0.015*\"food\" + 0.015*\"morn\" + 0.014*\"inform\" + 0.014*\"know\"') \n",
      "\n",
      "(5, '0.065*\"view\" + 0.038*\"privat\" + 0.027*\"share\" + 0.026*\"attract\" + 0.025*\"privaci\" + 0.018*\"guest\" + 0.018*\"roommat\" + 0.018*\"hospit\" + 0.017*\"warm\" + 0.017*\"talk\"') \n",
      "\n",
      "(6, '0.025*\"floor\" + 0.023*\"nois\" + 0.017*\"door\" + 0.016*\"problem\" + 0.016*\"issu\" + 0.014*\"stair\" + 0.013*\"noisi\" + 0.013*\"window\" + 0.012*\"wasn\" + 0.012*\"light\"') \n",
      "\n",
      "(7, '0.053*\"extrem\" + 0.052*\"famili\" + 0.029*\"short\" + 0.025*\"advertis\" + 0.023*\"book\" + 0.022*\"clear\" + 0.022*\"instruct\" + 0.021*\"attent\" + 0.019*\"michael\" + 0.018*\"amen\"') \n",
      "\n",
      "(8, '0.036*\"store\" + 0.023*\"plenti\" + 0.022*\"groceri\" + 0.021*\"larg\" + 0.020*\"bed\" + 0.020*\"nearbi\" + 0.019*\"food\" + 0.018*\"equip\" + 0.017*\"size\" + 0.016*\"shower\"') \n",
      "\n",
      "(9, '0.067*\"flat\" + 0.052*\"transport\" + 0.048*\"metro\" + 0.042*\"day\" + 0.037*\"downtown\" + 0.035*\"train\" + 0.035*\"public\" + 0.031*\"harlem\" + 0.028*\"line\" + 0.020*\"alex\"') \n",
      "\n"
     ]
    },
    {
     "data": {
      "text/plain": [
       "[None, None, None, None, None, None, None, None, None, None]"
      ]
     },
     "execution_count": 350,
     "metadata": {},
     "output_type": "execute_result"
    }
   ],
   "source": [
    "\n",
    "lda10_st_05_sb1000, topics10_st_05_sb1000, corpus10_st_05_sb1000, dictionary10_st_05_sb1000 =  \\\n",
    "                                extract_topic_vectors(datadir+'flat_df_newclean_HOST_NAME.pkl',\n",
    "                                                             tf_idf = False, n_topics=10,\n",
    "                                                              no_below = 1000, no_above = .05,\n",
    "                                                     npasses= 10)\n",
    "print('finished lda model, n=10 topics')\n",
    "[print(t, '\\n') for t in topics10_st_05_sb1000]"
   ]
  },
  {
   "cell_type": "code",
   "execution_count": 376,
   "metadata": {},
   "outputs": [
    {
     "data": {
      "text/plain": [
       "[(0,\n",
       "  '0.051*\"absolut\" + 0.036*\"incred\" + 0.030*\"studio\" + 0.029*\"hope\" + 0.026*\"decor\" + 0.020*\"return\" + 0.018*\"soon\" + 0.017*\"futur\" + 0.015*\"charm\" + 0.015*\"truli\"'),\n",
       " (1,\n",
       "  '0.103*\"hous\" + 0.097*\"awesom\" + 0.091*\"better\" + 0.058*\"appart\" + 0.053*\"price\" + 0.046*\"couldn\" + 0.046*\"valu\" + 0.026*\"hotel\" + 0.023*\"david\" + 0.022*\"ask\"'),\n",
       " (2,\n",
       "  '0.037*\"flexibl\" + 0.034*\"late\" + 0.029*\"meet\" + 0.029*\"key\" + 0.028*\"respond\" + 0.021*\"list\" + 0.020*\"answer\" + 0.020*\"earli\" + 0.020*\"accur\" + 0.019*\"flight\"'),\n",
       " (3,\n",
       "  '0.064*\"east\" + 0.062*\"villag\" + 0.038*\"lot\" + 0.033*\"explor\" + 0.032*\"spot\" + 0.031*\"west\" + 0.029*\"heart\" + 0.029*\"cool\" + 0.025*\"soho\" + 0.022*\"upper\"'),\n",
       " (4,\n",
       "  '0.028*\"towel\" + 0.028*\"coffe\" + 0.022*\"breakfast\" + 0.022*\"take\" + 0.016*\"care\" + 0.015*\"offer\" + 0.015*\"food\" + 0.015*\"morn\" + 0.014*\"inform\" + 0.014*\"know\"'),\n",
       " (5,\n",
       "  '0.065*\"view\" + 0.038*\"privat\" + 0.027*\"share\" + 0.026*\"attract\" + 0.025*\"privaci\" + 0.018*\"guest\" + 0.018*\"roommat\" + 0.018*\"hospit\" + 0.017*\"warm\" + 0.017*\"talk\"'),\n",
       " (6,\n",
       "  '0.025*\"floor\" + 0.023*\"nois\" + 0.017*\"door\" + 0.016*\"problem\" + 0.016*\"issu\" + 0.014*\"stair\" + 0.013*\"noisi\" + 0.013*\"window\" + 0.012*\"wasn\" + 0.012*\"light\"'),\n",
       " (7,\n",
       "  '0.053*\"extrem\" + 0.052*\"famili\" + 0.029*\"short\" + 0.025*\"advertis\" + 0.023*\"book\" + 0.022*\"clear\" + 0.022*\"instruct\" + 0.021*\"attent\" + 0.019*\"michael\" + 0.018*\"amen\"'),\n",
       " (8,\n",
       "  '0.036*\"store\" + 0.023*\"plenti\" + 0.022*\"groceri\" + 0.021*\"larg\" + 0.020*\"bed\" + 0.020*\"nearbi\" + 0.019*\"food\" + 0.018*\"equip\" + 0.017*\"size\" + 0.016*\"shower\"'),\n",
       " (9,\n",
       "  '0.067*\"flat\" + 0.052*\"transport\" + 0.048*\"metro\" + 0.042*\"day\" + 0.037*\"downtown\" + 0.035*\"train\" + 0.035*\"public\" + 0.031*\"harlem\" + 0.028*\"line\" + 0.020*\"alex\"')]"
      ]
     },
     "execution_count": 376,
     "metadata": {},
     "output_type": "execute_result"
    }
   ],
   "source": [
    "topics10_st_05_sb1000"
   ]
  },
  {
   "cell_type": "code",
   "execution_count": 371,
   "metadata": {},
   "outputs": [
    {
     "data": {
      "text/html": [
       "<div>\n",
       "<style scoped>\n",
       "    .dataframe tbody tr th:only-of-type {\n",
       "        vertical-align: middle;\n",
       "    }\n",
       "\n",
       "    .dataframe tbody tr th {\n",
       "        vertical-align: top;\n",
       "    }\n",
       "\n",
       "    .dataframe thead th {\n",
       "        text-align: right;\n",
       "    }\n",
       "</style>\n",
       "<table border=\"1\" class=\"dataframe\">\n",
       "  <thead>\n",
       "    <tr style=\"text-align: right;\">\n",
       "      <th></th>\n",
       "      <th>topic_weight_0</th>\n",
       "      <th>topic_stem_0</th>\n",
       "      <th>topic_weight_1</th>\n",
       "      <th>topic_stem_1</th>\n",
       "      <th>topic_weight_2</th>\n",
       "      <th>topic_stem_2</th>\n",
       "      <th>topic_weight_3</th>\n",
       "      <th>topic_stem_3</th>\n",
       "      <th>topic_weight_4</th>\n",
       "      <th>topic_stem_4</th>\n",
       "      <th>topic_weight_5</th>\n",
       "      <th>topic_stem_5</th>\n",
       "      <th>topic_weight_6</th>\n",
       "      <th>topic_stem_6</th>\n",
       "      <th>topic_weight_7</th>\n",
       "      <th>topic_stem_7</th>\n",
       "      <th>topic_weight_8</th>\n",
       "      <th>topic_stem_8</th>\n",
       "      <th>topic_weight_9</th>\n",
       "      <th>topic_stem_9</th>\n",
       "    </tr>\n",
       "  </thead>\n",
       "  <tbody>\n",
       "    <tr>\n",
       "      <td>0</td>\n",
       "      <td>0.051</td>\n",
       "      <td>absolut</td>\n",
       "      <td>0.103</td>\n",
       "      <td>hous</td>\n",
       "      <td>0.037</td>\n",
       "      <td>flexibl</td>\n",
       "      <td>0.064</td>\n",
       "      <td>east</td>\n",
       "      <td>0.028</td>\n",
       "      <td>towel</td>\n",
       "      <td>0.065</td>\n",
       "      <td>view</td>\n",
       "      <td>0.025</td>\n",
       "      <td>floor</td>\n",
       "      <td>0.053</td>\n",
       "      <td>extrem</td>\n",
       "      <td>0.036</td>\n",
       "      <td>store</td>\n",
       "      <td>0.067</td>\n",
       "      <td>flat</td>\n",
       "    </tr>\n",
       "    <tr>\n",
       "      <td>1</td>\n",
       "      <td>0.036</td>\n",
       "      <td>incred</td>\n",
       "      <td>0.097</td>\n",
       "      <td>awesom</td>\n",
       "      <td>0.034</td>\n",
       "      <td>late</td>\n",
       "      <td>0.062</td>\n",
       "      <td>villag</td>\n",
       "      <td>0.028</td>\n",
       "      <td>coffe</td>\n",
       "      <td>0.038</td>\n",
       "      <td>privat</td>\n",
       "      <td>0.023</td>\n",
       "      <td>nois</td>\n",
       "      <td>0.052</td>\n",
       "      <td>famili</td>\n",
       "      <td>0.023</td>\n",
       "      <td>plenti</td>\n",
       "      <td>0.052</td>\n",
       "      <td>transport</td>\n",
       "    </tr>\n",
       "    <tr>\n",
       "      <td>2</td>\n",
       "      <td>0.030</td>\n",
       "      <td>studio</td>\n",
       "      <td>0.091</td>\n",
       "      <td>better</td>\n",
       "      <td>0.029</td>\n",
       "      <td>meet</td>\n",
       "      <td>0.038</td>\n",
       "      <td>lot</td>\n",
       "      <td>0.022</td>\n",
       "      <td>breakfast</td>\n",
       "      <td>0.027</td>\n",
       "      <td>share</td>\n",
       "      <td>0.017</td>\n",
       "      <td>door</td>\n",
       "      <td>0.029</td>\n",
       "      <td>short</td>\n",
       "      <td>0.022</td>\n",
       "      <td>groceri</td>\n",
       "      <td>0.048</td>\n",
       "      <td>metro</td>\n",
       "    </tr>\n",
       "    <tr>\n",
       "      <td>3</td>\n",
       "      <td>0.029</td>\n",
       "      <td>hope</td>\n",
       "      <td>0.058</td>\n",
       "      <td>appart</td>\n",
       "      <td>0.029</td>\n",
       "      <td>key</td>\n",
       "      <td>0.033</td>\n",
       "      <td>explor</td>\n",
       "      <td>0.022</td>\n",
       "      <td>take</td>\n",
       "      <td>0.026</td>\n",
       "      <td>attract</td>\n",
       "      <td>0.016</td>\n",
       "      <td>problem</td>\n",
       "      <td>0.025</td>\n",
       "      <td>advertis</td>\n",
       "      <td>0.021</td>\n",
       "      <td>larg</td>\n",
       "      <td>0.042</td>\n",
       "      <td>day</td>\n",
       "    </tr>\n",
       "    <tr>\n",
       "      <td>4</td>\n",
       "      <td>0.026</td>\n",
       "      <td>decor</td>\n",
       "      <td>0.053</td>\n",
       "      <td>price</td>\n",
       "      <td>0.028</td>\n",
       "      <td>respond</td>\n",
       "      <td>0.032</td>\n",
       "      <td>spot</td>\n",
       "      <td>0.016</td>\n",
       "      <td>care</td>\n",
       "      <td>0.025</td>\n",
       "      <td>privaci</td>\n",
       "      <td>0.016</td>\n",
       "      <td>issu</td>\n",
       "      <td>0.023</td>\n",
       "      <td>book</td>\n",
       "      <td>0.020</td>\n",
       "      <td>bed</td>\n",
       "      <td>0.037</td>\n",
       "      <td>downtown</td>\n",
       "    </tr>\n",
       "    <tr>\n",
       "      <td>5</td>\n",
       "      <td>0.020</td>\n",
       "      <td>return</td>\n",
       "      <td>0.046</td>\n",
       "      <td>couldn</td>\n",
       "      <td>0.021</td>\n",
       "      <td>list</td>\n",
       "      <td>0.031</td>\n",
       "      <td>west</td>\n",
       "      <td>0.015</td>\n",
       "      <td>offer</td>\n",
       "      <td>0.018</td>\n",
       "      <td>guest</td>\n",
       "      <td>0.014</td>\n",
       "      <td>stair</td>\n",
       "      <td>0.022</td>\n",
       "      <td>clear</td>\n",
       "      <td>0.020</td>\n",
       "      <td>nearbi</td>\n",
       "      <td>0.035</td>\n",
       "      <td>train</td>\n",
       "    </tr>\n",
       "    <tr>\n",
       "      <td>6</td>\n",
       "      <td>0.018</td>\n",
       "      <td>soon</td>\n",
       "      <td>0.046</td>\n",
       "      <td>valu</td>\n",
       "      <td>0.020</td>\n",
       "      <td>answer</td>\n",
       "      <td>0.029</td>\n",
       "      <td>heart</td>\n",
       "      <td>0.015</td>\n",
       "      <td>food</td>\n",
       "      <td>0.018</td>\n",
       "      <td>roommat</td>\n",
       "      <td>0.013</td>\n",
       "      <td>noisi</td>\n",
       "      <td>0.022</td>\n",
       "      <td>instruct</td>\n",
       "      <td>0.019</td>\n",
       "      <td>food</td>\n",
       "      <td>0.035</td>\n",
       "      <td>public</td>\n",
       "    </tr>\n",
       "    <tr>\n",
       "      <td>7</td>\n",
       "      <td>0.017</td>\n",
       "      <td>futur</td>\n",
       "      <td>0.026</td>\n",
       "      <td>hotel</td>\n",
       "      <td>0.020</td>\n",
       "      <td>earli</td>\n",
       "      <td>0.029</td>\n",
       "      <td>cool</td>\n",
       "      <td>0.015</td>\n",
       "      <td>morn</td>\n",
       "      <td>0.018</td>\n",
       "      <td>hospit</td>\n",
       "      <td>0.013</td>\n",
       "      <td>window</td>\n",
       "      <td>0.021</td>\n",
       "      <td>attent</td>\n",
       "      <td>0.018</td>\n",
       "      <td>equip</td>\n",
       "      <td>0.031</td>\n",
       "      <td>harlem</td>\n",
       "    </tr>\n",
       "    <tr>\n",
       "      <td>8</td>\n",
       "      <td>0.015</td>\n",
       "      <td>charm</td>\n",
       "      <td>0.023</td>\n",
       "      <td>david</td>\n",
       "      <td>0.020</td>\n",
       "      <td>accur</td>\n",
       "      <td>0.025</td>\n",
       "      <td>soho</td>\n",
       "      <td>0.014</td>\n",
       "      <td>inform</td>\n",
       "      <td>0.017</td>\n",
       "      <td>warm</td>\n",
       "      <td>0.012</td>\n",
       "      <td>wasn</td>\n",
       "      <td>0.019</td>\n",
       "      <td>michael</td>\n",
       "      <td>0.017</td>\n",
       "      <td>size</td>\n",
       "      <td>0.028</td>\n",
       "      <td>line</td>\n",
       "    </tr>\n",
       "    <tr>\n",
       "      <td>9</td>\n",
       "      <td>0.015</td>\n",
       "      <td>truli</td>\n",
       "      <td>0.022</td>\n",
       "      <td>ask</td>\n",
       "      <td>0.019</td>\n",
       "      <td>flight</td>\n",
       "      <td>0.022</td>\n",
       "      <td>upper</td>\n",
       "      <td>0.014</td>\n",
       "      <td>know</td>\n",
       "      <td>0.017</td>\n",
       "      <td>talk</td>\n",
       "      <td>0.012</td>\n",
       "      <td>light</td>\n",
       "      <td>0.018</td>\n",
       "      <td>amen</td>\n",
       "      <td>0.016</td>\n",
       "      <td>shower</td>\n",
       "      <td>0.020</td>\n",
       "      <td>alex</td>\n",
       "    </tr>\n",
       "  </tbody>\n",
       "</table>\n",
       "</div>"
      ],
      "text/plain": [
       "   topic_weight_0 topic_stem_0  topic_weight_1 topic_stem_1  topic_weight_2  \\\n",
       "0           0.051      absolut           0.103         hous           0.037   \n",
       "1           0.036       incred           0.097       awesom           0.034   \n",
       "2           0.030       studio           0.091       better           0.029   \n",
       "3           0.029         hope           0.058       appart           0.029   \n",
       "4           0.026        decor           0.053        price           0.028   \n",
       "5           0.020       return           0.046       couldn           0.021   \n",
       "6           0.018         soon           0.046         valu           0.020   \n",
       "7           0.017        futur           0.026        hotel           0.020   \n",
       "8           0.015        charm           0.023        david           0.020   \n",
       "9           0.015        truli           0.022          ask           0.019   \n",
       "\n",
       "  topic_stem_2  topic_weight_3 topic_stem_3  topic_weight_4 topic_stem_4  \\\n",
       "0      flexibl           0.064         east           0.028        towel   \n",
       "1         late           0.062       villag           0.028        coffe   \n",
       "2         meet           0.038          lot           0.022    breakfast   \n",
       "3          key           0.033       explor           0.022         take   \n",
       "4      respond           0.032         spot           0.016         care   \n",
       "5         list           0.031         west           0.015        offer   \n",
       "6       answer           0.029        heart           0.015         food   \n",
       "7        earli           0.029         cool           0.015         morn   \n",
       "8        accur           0.025         soho           0.014       inform   \n",
       "9       flight           0.022        upper           0.014         know   \n",
       "\n",
       "   topic_weight_5 topic_stem_5  topic_weight_6 topic_stem_6  topic_weight_7  \\\n",
       "0           0.065         view           0.025        floor           0.053   \n",
       "1           0.038       privat           0.023         nois           0.052   \n",
       "2           0.027        share           0.017         door           0.029   \n",
       "3           0.026      attract           0.016      problem           0.025   \n",
       "4           0.025      privaci           0.016         issu           0.023   \n",
       "5           0.018        guest           0.014        stair           0.022   \n",
       "6           0.018      roommat           0.013        noisi           0.022   \n",
       "7           0.018       hospit           0.013       window           0.021   \n",
       "8           0.017         warm           0.012         wasn           0.019   \n",
       "9           0.017         talk           0.012        light           0.018   \n",
       "\n",
       "  topic_stem_7  topic_weight_8 topic_stem_8  topic_weight_9 topic_stem_9  \n",
       "0       extrem           0.036        store           0.067         flat  \n",
       "1       famili           0.023       plenti           0.052    transport  \n",
       "2        short           0.022      groceri           0.048        metro  \n",
       "3     advertis           0.021         larg           0.042          day  \n",
       "4         book           0.020          bed           0.037     downtown  \n",
       "5        clear           0.020       nearbi           0.035        train  \n",
       "6     instruct           0.019         food           0.035       public  \n",
       "7       attent           0.018        equip           0.031       harlem  \n",
       "8      michael           0.017         size           0.028         line  \n",
       "9         amen           0.016       shower           0.020         alex  "
      ]
     },
     "execution_count": 371,
     "metadata": {},
     "output_type": "execute_result"
    }
   ],
   "source": [
    "topics10_st_05_sb1000_df = pd.DataFrame()\n",
    "w_df = np.zeros((10, 10))\n",
    "st_df = np.zeros((10, 10), dtype=str)\n",
    "\n",
    "for ind, vals in topics10_st_05_sb1000:\n",
    "    w_label = 'topic_weight_'+ str(ind)\n",
    "    s_label = 'topic_stem_'+ str(ind)\n",
    "    weights_x_stems = vals.split(' + ')\n",
    "    weights = [float(i.split('*')[0]) for i in weights_x_stems]\n",
    "    stems = [i.split('*')[1][1:-1] for i in weights_x_stems]\n",
    "    topics10_st_05_sb1000_df[w_label] = weights\n",
    "    topics10_st_05_sb1000_df[s_label] = stems\n",
    "\n"
   ]
  },
  {
   "cell_type": "code",
   "execution_count": 386,
   "metadata": {},
   "outputs": [
    {
     "name": "stdout",
     "output_type": "stream",
     "text": [
      "['topic_weight_0', 'topic_weight_1', 'topic_weight_2', 'topic_weight_3', 'topic_weight_4', 'topic_weight_5', 'topic_weight_6', 'topic_weight_7', 'topic_weight_8', 'topic_weight_9'] ['topic_stem_0', 'topic_stem_1', 'topic_stem_2', 'topic_stem_3', 'topic_stem_4', 'topic_stem_5', 'topic_stem_6', 'topic_stem_7', 'topic_stem_8', 'topic_stem_9']\n"
     ]
    },
    {
     "data": {
      "text/html": [
       "<div>\n",
       "<style scoped>\n",
       "    .dataframe tbody tr th:only-of-type {\n",
       "        vertical-align: middle;\n",
       "    }\n",
       "\n",
       "    .dataframe tbody tr th {\n",
       "        vertical-align: top;\n",
       "    }\n",
       "\n",
       "    .dataframe thead th {\n",
       "        text-align: right;\n",
       "    }\n",
       "</style>\n",
       "<table border=\"1\" class=\"dataframe\">\n",
       "  <thead>\n",
       "    <tr style=\"text-align: right;\">\n",
       "      <th></th>\n",
       "      <th>topic_stem_0</th>\n",
       "      <th>topic_stem_1</th>\n",
       "      <th>topic_stem_2</th>\n",
       "      <th>topic_stem_3</th>\n",
       "      <th>topic_stem_4</th>\n",
       "      <th>topic_stem_5</th>\n",
       "      <th>topic_stem_6</th>\n",
       "      <th>topic_stem_7</th>\n",
       "      <th>topic_stem_8</th>\n",
       "      <th>topic_stem_9</th>\n",
       "    </tr>\n",
       "  </thead>\n",
       "  <tbody>\n",
       "    <tr>\n",
       "      <td>0</td>\n",
       "      <td>absolut</td>\n",
       "      <td>hous</td>\n",
       "      <td>flexibl</td>\n",
       "      <td>east</td>\n",
       "      <td>towel</td>\n",
       "      <td>view</td>\n",
       "      <td>floor</td>\n",
       "      <td>extrem</td>\n",
       "      <td>store</td>\n",
       "      <td>flat</td>\n",
       "    </tr>\n",
       "    <tr>\n",
       "      <td>1</td>\n",
       "      <td>incred</td>\n",
       "      <td>awesom</td>\n",
       "      <td>late</td>\n",
       "      <td>villag</td>\n",
       "      <td>coffe</td>\n",
       "      <td>privat</td>\n",
       "      <td>nois</td>\n",
       "      <td>famili</td>\n",
       "      <td>plenti</td>\n",
       "      <td>transport</td>\n",
       "    </tr>\n",
       "    <tr>\n",
       "      <td>2</td>\n",
       "      <td>studio</td>\n",
       "      <td>better</td>\n",
       "      <td>meet</td>\n",
       "      <td>lot</td>\n",
       "      <td>breakfast</td>\n",
       "      <td>share</td>\n",
       "      <td>door</td>\n",
       "      <td>short</td>\n",
       "      <td>groceri</td>\n",
       "      <td>metro</td>\n",
       "    </tr>\n",
       "    <tr>\n",
       "      <td>3</td>\n",
       "      <td>hope</td>\n",
       "      <td>appart</td>\n",
       "      <td>key</td>\n",
       "      <td>explor</td>\n",
       "      <td>take</td>\n",
       "      <td>attract</td>\n",
       "      <td>problem</td>\n",
       "      <td>advertis</td>\n",
       "      <td>larg</td>\n",
       "      <td>day</td>\n",
       "    </tr>\n",
       "    <tr>\n",
       "      <td>4</td>\n",
       "      <td>decor</td>\n",
       "      <td>price</td>\n",
       "      <td>respond</td>\n",
       "      <td>spot</td>\n",
       "      <td>care</td>\n",
       "      <td>privaci</td>\n",
       "      <td>issu</td>\n",
       "      <td>book</td>\n",
       "      <td>bed</td>\n",
       "      <td>downtown</td>\n",
       "    </tr>\n",
       "    <tr>\n",
       "      <td>5</td>\n",
       "      <td>return</td>\n",
       "      <td>couldn</td>\n",
       "      <td>list</td>\n",
       "      <td>west</td>\n",
       "      <td>offer</td>\n",
       "      <td>guest</td>\n",
       "      <td>stair</td>\n",
       "      <td>clear</td>\n",
       "      <td>nearbi</td>\n",
       "      <td>train</td>\n",
       "    </tr>\n",
       "    <tr>\n",
       "      <td>6</td>\n",
       "      <td>soon</td>\n",
       "      <td>valu</td>\n",
       "      <td>answer</td>\n",
       "      <td>heart</td>\n",
       "      <td>food</td>\n",
       "      <td>roommat</td>\n",
       "      <td>noisi</td>\n",
       "      <td>instruct</td>\n",
       "      <td>food</td>\n",
       "      <td>public</td>\n",
       "    </tr>\n",
       "    <tr>\n",
       "      <td>7</td>\n",
       "      <td>futur</td>\n",
       "      <td>hotel</td>\n",
       "      <td>earli</td>\n",
       "      <td>cool</td>\n",
       "      <td>morn</td>\n",
       "      <td>hospit</td>\n",
       "      <td>window</td>\n",
       "      <td>attent</td>\n",
       "      <td>equip</td>\n",
       "      <td>harlem</td>\n",
       "    </tr>\n",
       "    <tr>\n",
       "      <td>8</td>\n",
       "      <td>charm</td>\n",
       "      <td>david</td>\n",
       "      <td>accur</td>\n",
       "      <td>soho</td>\n",
       "      <td>inform</td>\n",
       "      <td>warm</td>\n",
       "      <td>wasn</td>\n",
       "      <td>michael</td>\n",
       "      <td>size</td>\n",
       "      <td>line</td>\n",
       "    </tr>\n",
       "    <tr>\n",
       "      <td>9</td>\n",
       "      <td>truli</td>\n",
       "      <td>ask</td>\n",
       "      <td>flight</td>\n",
       "      <td>upper</td>\n",
       "      <td>know</td>\n",
       "      <td>talk</td>\n",
       "      <td>light</td>\n",
       "      <td>amen</td>\n",
       "      <td>shower</td>\n",
       "      <td>alex</td>\n",
       "    </tr>\n",
       "  </tbody>\n",
       "</table>\n",
       "</div>"
      ],
      "text/plain": [
       "  topic_stem_0 topic_stem_1 topic_stem_2 topic_stem_3 topic_stem_4  \\\n",
       "0      absolut         hous      flexibl         east        towel   \n",
       "1       incred       awesom         late       villag        coffe   \n",
       "2       studio       better         meet          lot    breakfast   \n",
       "3         hope       appart          key       explor         take   \n",
       "4        decor        price      respond         spot         care   \n",
       "5       return       couldn         list         west        offer   \n",
       "6         soon         valu       answer        heart         food   \n",
       "7        futur        hotel        earli         cool         morn   \n",
       "8        charm        david        accur         soho       inform   \n",
       "9        truli          ask       flight        upper         know   \n",
       "\n",
       "  topic_stem_5 topic_stem_6 topic_stem_7 topic_stem_8 topic_stem_9  \n",
       "0         view        floor       extrem        store         flat  \n",
       "1       privat         nois       famili       plenti    transport  \n",
       "2        share         door        short      groceri        metro  \n",
       "3      attract      problem     advertis         larg          day  \n",
       "4      privaci         issu         book          bed     downtown  \n",
       "5        guest        stair        clear       nearbi        train  \n",
       "6      roommat        noisi     instruct         food       public  \n",
       "7       hospit       window       attent        equip       harlem  \n",
       "8         warm         wasn      michael         size         line  \n",
       "9         talk        light         amen       shower         alex  "
      ]
     },
     "execution_count": 386,
     "metadata": {},
     "output_type": "execute_result"
    }
   ],
   "source": [
    "w_cols = ['topic_weight_'+str(i) for i in range(10)]\n",
    "s_cols = ['topic_stem_'+str(i) for i in range(10)]\n",
    "print(w_cols)\n",
    "print(s_cols)\n",
    "topics10_st_05_sb1000_df[s_cols]"
   ]
  },
  {
   "cell_type": "code",
   "execution_count": null,
   "metadata": {},
   "outputs": [],
   "source": [
    "topic10 = pd.DataFrame('topic_stems_10': )"
   ]
  },
  {
   "cell_type": "code",
   "execution_count": 340,
   "metadata": {},
   "outputs": [
    {
     "data": {
      "text/plain": [
       "773"
      ]
     },
     "execution_count": 340,
     "metadata": {},
     "output_type": "execute_result"
    }
   ],
   "source": [
    "len(dictionary10.items())"
   ]
  },
  {
   "cell_type": "code",
   "execution_count": 333,
   "metadata": {},
   "outputs": [
    {
     "name": "stdout",
     "output_type": "stream",
     "text": [
      "(0, '0.017*\"awesom\" + 0.015*\"absolut\" + 0.013*\"incred\" + 0.011*\"extrem\" + 0.010*\"michael\" + 0.009*\"comfi\" + 0.008*\"hospit\" + 0.008*\"better\" + 0.007*\"warm\" + 0.007*\"make\"') \n",
      "\n",
      "(1, '0.034*\"flat\" + 0.025*\"hous\" + 0.016*\"metro\" + 0.015*\"harlem\" + 0.010*\"neighbourhood\" + 0.009*\"line\" + 0.008*\"equip\" + 0.008*\"downtown\" + 0.008*\"train\" + 0.007*\"appart\"') \n",
      "\n",
      "(2, '0.012*\"nois\" + 0.012*\"floor\" + 0.011*\"issu\" + 0.009*\"door\" + 0.009*\"shower\" + 0.008*\"window\" + 0.007*\"problem\" + 0.007*\"wasn\" + 0.007*\"light\" + 0.006*\"noisi\"') \n",
      "\n",
      "(3, '0.011*\"train\" + 0.010*\"famili\" + 0.010*\"short\" + 0.009*\"store\" + 0.008*\"plenti\" + 0.008*\"late\" + 0.007*\"line\" + 0.007*\"group\" + 0.007*\"abl\" + 0.006*\"earli\"') \n",
      "\n",
      "(4, '0.013*\"late\" + 0.013*\"key\" + 0.011*\"problem\" + 0.011*\"alex\" + 0.010*\"instruct\" + 0.009*\"flight\" + 0.008*\"clear\" + 0.008*\"list\" + 0.008*\"contact\" + 0.008*\"answer\"') \n",
      "\n",
      "(5, '0.022*\"villag\" + 0.016*\"east\" + 0.010*\"west\" + 0.010*\"lot\" + 0.009*\"coffe\" + 0.009*\"spot\" + 0.009*\"heart\" + 0.008*\"chelsea\" + 0.008*\"david\" + 0.008*\"studio\"') \n",
      "\n",
      "(6, '0.037*\"view\" + 0.028*\"appart\" + 0.015*\"day\" + 0.015*\"john\" + 0.009*\"reserv\" + 0.009*\"state\" + 0.009*\"empir\" + 0.009*\"chris\" + 0.008*\"rooftop\" + 0.008*\"michell\"') \n",
      "\n",
      "(7, '0.023*\"price\" + 0.017*\"better\" + 0.017*\"respond\" + 0.013*\"travel\" + 0.012*\"famili\" + 0.011*\"book\" + 0.011*\"valu\" + 0.010*\"expect\" + 0.008*\"answer\" + 0.008*\"couldn\"') \n",
      "\n",
      "(8, '0.021*\"towel\" + 0.009*\"avail\" + 0.008*\"dryer\" + 0.007*\"bed\" + 0.007*\"travel\" + 0.007*\"coffe\" + 0.006*\"fridg\" + 0.006*\"basic\" + 0.006*\"cook\" + 0.005*\"shampoo\"') \n",
      "\n",
      "(9, '0.036*\"transport\" + 0.028*\"public\" + 0.015*\"warm\" + 0.011*\"store\" + 0.008*\"groceri\" + 0.007*\"mark\" + 0.007*\"nearbi\" + 0.007*\"larg\" + 0.007*\"paul\" + 0.006*\"kevin\"') \n",
      "\n"
     ]
    },
    {
     "data": {
      "text/plain": [
       "[None, None, None, None, None, None, None, None, None, None]"
      ]
     },
     "execution_count": 333,
     "metadata": {},
     "output_type": "execute_result"
    }
   ],
   "source": [
    "[print(t, '\\n') for t in topics10_strict_top_05]"
   ]
  },
  {
   "cell_type": "code",
   "execution_count": null,
   "metadata": {},
   "outputs": [],
   "source": [
    "[print(t, '\\n') for t in topics10_strict_top_05]"
   ]
  },
  {
   "cell_type": "code",
   "execution_count": 392,
   "metadata": {},
   "outputs": [
    {
     "data": {
      "text/plain": [
       "14447"
      ]
     },
     "execution_count": 392,
     "metadata": {},
     "output_type": "execute_result"
    }
   ],
   "source": [
    "len(n_revs_per_listing)"
   ]
  },
  {
   "cell_type": "code",
   "execution_count": 398,
   "metadata": {},
   "outputs": [],
   "source": [
    "fname = datadir + 'flat_df_newclean_HOST_NAME.pkl'\n",
    "file = open(fname, 'rb')\n",
    "flat_df_newclean_HOST_NAME = pickle.load(file)\n",
    "file.close()\n"
   ]
  },
  {
   "cell_type": "code",
   "execution_count": 399,
   "metadata": {},
   "outputs": [
    {
     "data": {
      "text/plain": [
       "(265954, 4)"
      ]
     },
     "execution_count": 399,
     "metadata": {},
     "output_type": "execute_result"
    }
   ],
   "source": [
    "flat_df_newclean_HOST_NAME.shape"
   ]
  },
  {
   "cell_type": "code",
   "execution_count": 450,
   "metadata": {},
   "outputs": [
    {
     "ename": "IndexError",
     "evalue": "boolean index did not match indexed array along dimension 0; dimension is 265954 but corresponding boolean dimension is 14447",
     "output_type": "error",
     "traceback": [
      "\u001b[0;31m---------------------------------------------------------------------------\u001b[0m",
      "\u001b[0;31mIndexError\u001b[0m                                Traceback (most recent call last)",
      "\u001b[0;32m<ipython-input-450-7a802898a001>\u001b[0m in \u001b[0;36m<module>\u001b[0;34m\u001b[0m\n\u001b[1;32m      1\u001b[0m \u001b[0mfdf_listing_ids_ge20\u001b[0m \u001b[0;34m=\u001b[0m \u001b[0mfdf_listing_ids\u001b[0m\u001b[0;34m[\u001b[0m\u001b[0mn_revs_per_listing\u001b[0m \u001b[0;34m>=\u001b[0m \u001b[0;36m20\u001b[0m\u001b[0;34m]\u001b[0m\u001b[0;34m\u001b[0m\u001b[0;34m\u001b[0m\u001b[0m\n\u001b[0;32m----> 2\u001b[0;31m \u001b[0mcorpus10_st_05_sb1000_ge20\u001b[0m \u001b[0;34m=\u001b[0m \u001b[0mnp\u001b[0m\u001b[0;34m.\u001b[0m\u001b[0marray\u001b[0m\u001b[0;34m(\u001b[0m\u001b[0mcorpus10_st_05_sb1000\u001b[0m\u001b[0;34m)\u001b[0m\u001b[0;34m[\u001b[0m\u001b[0mn_revs_per_listing\u001b[0m \u001b[0;34m>=\u001b[0m \u001b[0;36m20\u001b[0m\u001b[0;34m]\u001b[0m\u001b[0;34m\u001b[0m\u001b[0;34m\u001b[0m\u001b[0m\n\u001b[0m",
      "\u001b[0;31mIndexError\u001b[0m: boolean index did not match indexed array along dimension 0; dimension is 265954 but corresponding boolean dimension is 14447"
     ]
    }
   ],
   "source": [
    "fdf_listing_ids_ge20 = fdf_listing_ids[n_revs_per_listing >= 20]"
   ]
  },
  {
   "cell_type": "code",
   "execution_count": 451,
   "metadata": {},
   "outputs": [
    {
     "data": {
      "text/plain": [
       "(14447,)"
      ]
     },
     "execution_count": 451,
     "metadata": {},
     "output_type": "execute_result"
    }
   ],
   "source": [
    "fdf_listing_ids.shape"
   ]
  },
  {
   "cell_type": "code",
   "execution_count": 612,
   "metadata": {},
   "outputs": [
    {
     "data": {
      "text/plain": [
       "array([0.25745745, 0.2696681 , 0.07539007, 0.40575163, 0.40456645,\n",
       "       0.22725742, 0.29718346, 0.02827635, 0.35165703, 0.51242225])"
      ]
     },
     "execution_count": 612,
     "metadata": {},
     "output_type": "execute_result"
    }
   ],
   "source": []
  },
  {
   "cell_type": "code",
   "execution_count": 1123,
   "metadata": {},
   "outputs": [
    {
     "data": {
      "text/plain": [
       "array([[ 3,  4,  5],\n",
       "       [ 6,  7,  8],\n",
       "       [ 0,  1,  2],\n",
       "       [ 9, 10, 11]])"
      ]
     },
     "execution_count": 1123,
     "metadata": {},
     "output_type": "execute_result"
    }
   ],
   "source": [
    "np.random.permutation([[0, 1, 2], [3, 4, 5], [6, 7, 8], [9, 10, 11]])"
   ]
  },
  {
   "cell_type": "code",
   "execution_count": 1124,
   "metadata": {},
   "outputs": [
    {
     "name": "stdout",
     "output_type": "stream",
     "text": [
      "0\n",
      "500\n",
      "1000\n",
      "1500\n",
      "2000\n",
      "2500\n",
      "3000\n",
      "3500\n"
     ]
    },
    {
     "data": {
      "text/plain": [
       "<matplotlib.lines.Line2D at 0x7fe3acfb3090>"
      ]
     },
     "execution_count": 1124,
     "metadata": {},
     "output_type": "execute_result"
    },
    {
     "data": {
      "image/png": "[encoded data removed]",
      "text/plain": [
       "<Figure size 360x432 with 1 Axes>"
      ]
     },
     "metadata": {
      "needs_background": "light"
     },
     "output_type": "display_data"
    }
   ],
   "source": [
    "random_lids = np.random.permutation(fdf_listing_ids_ge20)\n",
    "sims_within = np.zeros((len(fdf_listing_ids_ge20)))\n",
    "sims_between = np.zeros((len(fdf_listing_ids_ge20)))\n",
    "sims_random =  np.zeros((len(fdf_listing_ids_ge20)))\n",
    "n_topics = 10\n",
    "model = lda10_st_05_sb1000\n",
    "norm=True\n",
    "consistent_lengths = True\n",
    "\n",
    "flat_df_newclean_HOST_NAME['corpus10_st_05_sb1000'] = corpus10_st_05_sb1000\n",
    "for i, lid in enumerate(fdf_listing_ids_ge20):\n",
    "    if not i % 500:\n",
    "        print(i)\n",
    "    #get comments in bag-of-words format\n",
    "    comments = list(flat_df_newclean_HOST_NAME[flat_df_newclean_HOST_NAME.listing_id == lid].corpus10_st_05_sb1000)\n",
    "    \n",
    "    comms_a = comments[::2]\n",
    "    comms_b = comments[1::2]\n",
    "    topic_scores_a = np.array([get_topic_score(c, model, n_topics, norm) for c in comms_a])\n",
    "    topic_scores_b = np.array([get_topic_score(c, model, n_topics, norm) for c in comms_b])\n",
    "    \n",
    "    random_lid = random_lids[i]\n",
    "    random_comments = \\\n",
    "        list(flat_df_newclean_HOST_NAME[flat_df_newclean_HOST_NAME.listing_id == random_lid].corpus10_st_05_sb1000)\n",
    "    random_comms = random_comments[::2]\n",
    "    random_topic_scores = np.array([get_topic_score(c, model, n_topics, norm) for c in random_comms])\n",
    "    \n",
    "    if consistent_lengths:\n",
    "        minlen = np.min([len(i) for i in [topic_scores_a, topic_scores_b, random_topic_scores]])\n",
    "        topic_scores_a = np.random.permutation(topic_scores_a)[:minlen]\n",
    "        topic_scores_b = np.random.permutation(topic_scores_b)[:minlen]\n",
    "        random_topic_scores = np.random.permutation(random_topic_scores)[:minlen]\n",
    "    \n",
    "    \n",
    "    mean_topic_score_a = np.mean(topic_scores_a, axis=0)\n",
    "    mean_topic_score_b = np.mean(topic_scores_b, axis=0)\n",
    "    random_mean_topic_score = np.mean(random_topic_scores, axis=0)\n",
    "    \n",
    "    \n",
    "    r = np.random.uniform(low=0, high=1.0, size=10)\n",
    "    r_norm = r/ np.linalg.norm(r)\n",
    "    \n",
    "    \n",
    "    \n",
    "    sims_within[i] = cosine_similarity(mean_topic_score_a, mean_topic_score_b)\n",
    "    sims_between[i] = cosine_similarity(mean_topic_score_a, random_mean_topic_score) \n",
    "    sims_random_norm[i] = cosine_similarity(mean_topic_score_a, r_norm)\n",
    "    \n",
    "plt.figure(1, (5, 6))\n",
    "plt.boxplot([sims_within, sims_between], notch = True)\n",
    "plt.gca().set_xticklabels(['Within Listings', 'Between Listings'], fontsize=13)\n",
    "plt.ylabel('Normalized Topic Vector\\nCosine Similarity', fontsize=13)\n",
    "plt.gca().axhline(0.7670089074038959, ls='--', lw=0.5, alpha=0.5, c='k')"
   ]
  },
  {
   "cell_type": "code",
   "execution_count": 614,
   "metadata": {},
   "outputs": [
    {
     "data": {
      "text/plain": [
       "0.7670089074038959"
      ]
     },
     "execution_count": 614,
     "metadata": {},
     "output_type": "execute_result"
    }
   ],
   "source": [
    "np.mean(sims_random_norm, axis=0)"
   ]
  },
  {
   "cell_type": "code",
   "execution_count": 604,
   "metadata": {},
   "outputs": [],
   "source": [
    "fdf_with_misfortune = flat_df_newclean_HOST_NAME[flat_df_newclean_HOST_NAME.comments.apply(lambda x: 'unfortunately' in x)]\n",
    "fdf_with_trendy = flat_df_newclean_HOST_NAME[flat_df_newclean_HOST_NAME.comments.apply(lambda x: 'trendy' in x)]"
   ]
  },
  {
   "cell_type": "code",
   "execution_count": 593,
   "metadata": {},
   "outputs": [
    {
     "data": {
      "text/plain": [
       "\"cin is such a beautiful person, i really enjoyed her company. her apartment is a bit far but very well connected, just 100 meters from a well connected subway line. its perfect for a long holiday in ny. i wanted to extend my stay but unfortunately it was all pre-booked. i wish to see you again cin, you know who to call when you're in new delhi.\""
      ]
     },
     "execution_count": 593,
     "metadata": {},
     "output_type": "execute_result"
    }
   ],
   "source": [
    "fdf_with_misfortune.comments.iloc[2]"
   ]
  },
  {
   "cell_type": "code",
   "execution_count": 610,
   "metadata": {},
   "outputs": [
    {
     "name": "stdout",
     "output_type": "stream",
     "text": [
      "[0.3776506882673125, 0.0, 0.15832379493796708, 0.23224584372679816, 0.0, 0.3376106870619816, 0.7822515241591198, 0.09398520113469366, 0.208910891480639, 0.0]\n",
      "a.  the location    dave and rick's place is situated in what is probably one of the best locations you can choose in nyc, especially if, like us, you're a first time visitor trying to get your bearings. step out of their apartment; walk one way and you're suddenly in the heart of the west village and gorgeous bleecker street. walk the other and you step in to trendy chelsea with its glorious eateries; or take yet another direction and you find yourself on the highline promenade along the hudson river.  additionally, on the opposite end of their block you'll find a subway station connecting you to the blue a, c and e lines.  there is an abundance of wonderful restaurants and diners within a 5-minute walking radius, suiting every sort of budget, that mike and i were very much spoilt for choice at most mealtimes.   really, the location in itself is a good enough reason to choose their place above others.    b.  the apartment itself  many people have already described the place in other reviews, so suffice to say it's a 2-floor arrangement: you get to occupy the basement level, done up in a moroccan theme; whilst your hosts occupy the ground-floor level. the luxuriously furnished guest area is extremely spacious and kept spotlessly clean; it is comfortable and equipped with more creature comforts than you'll probably need while on holiday. it's a wonderful space to kick back and relax during those times when you want to rest your tired feet after walking about the city. crucially, the fact that it's equipped with wifi also means that those, like mike and i, having jobs that require you to frequently touch base with the office can get their email-writing and report-drafting done comfortably and without distractions.  despite the guest area being designed as an open plan without any doors (apart from the bathrooms, naturally), privacy is not an issue and we never once felt 'encroached' in our space.    c.  the hosts  reviewers are wont to call their hosts wonderful when drawing up these sort of reviews, because it's by far the easiest thing to say. truth is, however, that rick and dave are both genuinely lovely people who go that extra mile to make sure their guests are afforded the very best of their hospitality. it was truly a pleasure to stay with them and share their apartment.  dave was frequently home during the days we were there and was extremely helpful with giving us tips for restaurants and other venues in the immediate vicinity, and even joined us in grabbing a quick pizza on one of the evenings we were there.\n"
     ]
    }
   ],
   "source": [
    "i = 8\n",
    "df = fdf_with_trendy\n",
    "c = list(df.corpus10_st_05_sb1000)[i]\n",
    "text = list(df.comments)[i]\n",
    "tvec_trend = get_topic_score(c, model, n_topics=10, norm=True)\n",
    "print(list(tvec_trend))\n",
    "print(text)"
   ]
  },
  {
   "cell_type": "code",
   "execution_count": 647,
   "metadata": {},
   "outputs": [
    {
     "name": "stdout",
     "output_type": "stream",
     "text": [
      "1000\n",
      "1001\n"
     ]
    },
    {
     "data": {
      "image/png": "[encoded data removed]",
      "text/plain": [
       "<Figure size 432x288 with 1 Axes>"
      ]
     },
     "metadata": {
      "needs_background": "light"
     },
     "output_type": "display_data"
    }
   ],
   "source": [
    "mean_sims = []\n",
    "for i in range(1000, 1002):\n",
    "    print(i)\n",
    "    these_sims = []\n",
    "    for j in range(100000):\n",
    "        r1 = np.random.uniform(low=0, high=1.0, size=i)\n",
    "        r2 = np.random.uniform(low=0, high=1.0, size=i)\n",
    "        these_sims.append(cosine_similarity(r1, \n",
    "                                            r2))\n",
    "    mean_sims.append(np.mean(these_sims))\n",
    "plt.plot(range(1000, 1002), mean_sims)\n",
    "plt.show()\n",
    "        "
   ]
  },
  {
   "cell_type": "code",
   "execution_count": 648,
   "metadata": {},
   "outputs": [
    {
     "data": {
      "text/plain": [
       "[0.7500662007024224, 0.7501048939968434]"
      ]
     },
     "execution_count": 648,
     "metadata": {},
     "output_type": "execute_result"
    }
   ],
   "source": [
    "mean_sims"
   ]
  },
  {
   "cell_type": "code",
   "execution_count": 635,
   "metadata": {},
   "outputs": [
    {
     "name": "stdout",
     "output_type": "stream",
     "text": [
      "0.9280215524870081 0.8049345864754155\n",
      "MannwhitneyuResult(statistic=2180337.0, pvalue=0.0)\n"
     ]
    }
   ],
   "source": [
    "print(np.median(sims_within), np.median(sims_between))\n",
    "print(sc.stats.mannwhitneyu(sims_within, sims_between))\n"
   ]
  },
  {
   "cell_type": "code",
   "execution_count": 620,
   "metadata": {},
   "outputs": [
    {
     "data": {
      "text/plain": [
       "array([0., 0., 0., ..., 0., 0., 0.])"
      ]
     },
     "execution_count": 620,
     "metadata": {},
     "output_type": "execute_result"
    }
   ],
   "source": [
    "sims_within_norm"
   ]
  },
  {
   "cell_type": "code",
   "execution_count": 626,
   "metadata": {},
   "outputs": [
    {
     "data": {
      "text/plain": [
       "0.9738230294695316"
      ]
     },
     "execution_count": 626,
     "metadata": {},
     "output_type": "execute_result"
    }
   ],
   "source": [
    "0.7670089074038959**"
   ]
  },
  {
   "cell_type": "code",
   "execution_count": 623,
   "metadata": {},
   "outputs": [
    {
     "data": {
      "text/plain": [
       "<matplotlib.lines.Line2D at 0x7fe3fcd9cf50>"
      ]
     },
     "execution_count": 623,
     "metadata": {},
     "output_type": "execute_result"
    },
    {
     "data": {
      "image/png": "[encoded data removed]",
      "text/plain": [
       "<Figure size 360x432 with 1 Axes>"
      ]
     },
     "metadata": {
      "needs_background": "light"
     },
     "output_type": "display_data"
    }
   ],
   "source": [
    "plt.figure(1, (5, 6))\n",
    "plt.boxplot([sims_within, sims_between], notch = True)\n",
    "plt.gca().set_xticklabels(['Within Listings', 'Between Listings'], fontsize=13)\n",
    "plt.ylabel('Normalized Topic Vector\\nCosine Similarity', fontsize=13)\n",
    "plt.gca().axhline(0.7670089074038959, ls='--', lw=0.5, alpha=0.5, c='k')\n",
    "\n"
   ]
  },
  {
   "cell_type": "code",
   "execution_count": 739,
   "metadata": {},
   "outputs": [
    {
     "data": {
      "text/plain": [
       "array([list([(0, 1), (1, 1), (2, 1), (3, 1), (4, 1), (5, 1), (6, 1), (7, 1), (8, 1), (9, 1), (10, 1), (11, 1)]),\n",
       "       2515], dtype=object)"
      ]
     },
     "execution_count": 739,
     "metadata": {},
     "output_type": "execute_result"
    }
   ],
   "source": [
    "np.array(flat_df_newclean_HOST_NAME[['corpus10_st_05_sb1000', 'listing_id']])[0]"
   ]
  },
  {
   "cell_type": "code",
   "execution_count": 750,
   "metadata": {},
   "outputs": [
    {
     "name": "stdout",
     "output_type": "stream",
     "text": [
      "0             2515\n",
      "3             2515\n",
      "4             2515\n",
      "5             2515\n",
      "6             2515\n",
      "            ...   \n",
      "325676    18413899\n",
      "325678    18423403\n",
      "325679    18426417\n",
      "325680    18443436\n",
      "325681    18491399\n",
      "Name: listing_id, Length: 265954, dtype: int64\n",
      "0              Mizi\n",
      "3              Mizi\n",
      "4              Mizi\n",
      "5              Mizi\n",
      "6              Mizi\n",
      "            ...    \n",
      "325676        Alexa\n",
      "325678      Shannon\n",
      "325679    Margarita\n",
      "325680        Clara\n",
      "325681        Jerry\n",
      "Name: host_name, Length: 265954, dtype: object\n",
      "0              9193\n",
      "3            185050\n",
      "4            456184\n",
      "5            351855\n",
      "6            363433\n",
      "            ...    \n",
      "325676    127641350\n",
      "325678     43662901\n",
      "325679     28703397\n",
      "325680     25112195\n",
      "325681     16637631\n",
      "Name: user_id, Length: 265954, dtype: int64\n",
      "0         stephanie's offered all the most important thi...\n",
      "3         we stayed at the 111th street apartment with s...\n",
      "4         very conveniently located just north of centra...\n",
      "5         we had a great stay with stephanie and her fam...\n",
      "6         we stayed at the chez chic budget room for a w...\n",
      "                                ...                        \n",
      "325676    excellent location, comfy bed, and privacy. ho...\n",
      "325678    great experience! apartment was clean and tidy...\n",
      "325679    margarita is the perfect host. we very much en...\n",
      "325680    clara is a great person, the place below the h...\n",
      "325681    jerry was a great host! the linens were clean,...\n",
      "Name: comments, Length: 265954, dtype: object\n",
      "0         [(0, 1), (1, 1), (2, 1), (3, 1), (4, 1), (5, 1...\n",
      "3         [(10, 1), (12, 1), (13, 1), (14, 1), (15, 1), ...\n",
      "4         [(15, 1), (17, 1), (19, 1), (21, 1), (22, 1), ...\n",
      "5         [(13, 1), (15, 1), (19, 1), (26, 1), (29, 1), ...\n",
      "6         [(29, 1), (32, 1), (33, 1), (34, 1), (35, 1), ...\n",
      "                                ...                        \n",
      "325676              [(41, 1), (196, 1), (236, 1), (325, 1)]\n",
      "325678    [(46, 1), (84, 1), (130, 1), (153, 1), (242, 1...\n",
      "325679                                            [(58, 1)]\n",
      "325680                       [(470, 1), (487, 1), (531, 1)]\n",
      "325681    [(76, 1), (95, 1), (145, 1), (187, 1), (221, 1...\n",
      "Name: corpus10_st_05_sb1000, Length: 265954, dtype: object\n"
     ]
    }
   ],
   "source": [
    "for index, row in flat_df_newclean_HOST_NAME.iteritems():\n",
    "    print(row)"
   ]
  },
  {
   "cell_type": "code",
   "execution_count": null,
   "metadata": {},
   "outputs": [],
   "source": [
    "topic_score"
   ]
  },
  {
   "cell_type": "code",
   "execution_count": 573,
   "metadata": {},
   "outputs": [
    {
     "data": {
      "text/plain": [
       "{'bodies': [<matplotlib.collections.PolyCollection at 0x7fe415656290>,\n",
       "  <matplotlib.collections.PolyCollection at 0x7fe4156569d0>],\n",
       " 'cmaxes': <matplotlib.collections.LineCollection at 0x7fe259ac3690>,\n",
       " 'cmins': <matplotlib.collections.LineCollection at 0x7fe4156564d0>,\n",
       " 'cbars': <matplotlib.collections.LineCollection at 0x7fe415656450>,\n",
       " 'cmedians': <matplotlib.collections.LineCollection at 0x7fe220226490>}"
      ]
     },
     "execution_count": 573,
     "metadata": {},
     "output_type": "execute_result"
    },
    {
     "data": {
      "image/png": "[encoded data removed]",
      "text/plain": [
       "<Figure size 432x288 with 1 Axes>"
      ]
     },
     "metadata": {
      "needs_background": "light"
     },
     "output_type": "display_data"
    }
   ],
   "source": [
    "plt.violinplot([sims_within_norm, sims_between_norm], [1, 2], points=500, widths=0.3,\n",
    "                      showmeans=False, showextrema=True, showmedians=True,)"
   ]
  },
  {
   "cell_type": "code",
   "execution_count": 527,
   "metadata": {},
   "outputs": [],
   "source": [
    "from numpy import dot\n",
    "from numpy.linalg import norm\n",
    "def cosine_similarity(a, b):\n",
    "    cos_sim = np.dot(a, b)/(np.linalg.norm(a)*np.linalg.norm(b))\n",
    "    return cos_sim"
   ]
  },
  {
   "cell_type": "code",
   "execution_count": 530,
   "metadata": {},
   "outputs": [
    {
     "data": {
      "text/plain": [
       "0.5773502691896258"
      ]
     },
     "execution_count": 530,
     "metadata": {},
     "output_type": "execute_result"
    }
   ],
   "source": [
    "cosine_similarity([1, 0, 0], [1, 1, 1])"
   ]
  },
  {
   "cell_type": "code",
   "execution_count": 472,
   "metadata": {},
   "outputs": [],
   "source": [
    "test = np.array(lda10_st_05_sb1000[flat_df_newclean_HOST_NAME.corpus10_st_05_sb1000.iloc[2]])"
   ]
  },
  {
   "cell_type": "code",
   "execution_count": 484,
   "metadata": {},
   "outputs": [
    {
     "data": {
      "text/plain": [
       "array([5, 7, 9])"
      ]
     },
     "execution_count": 484,
     "metadata": {},
     "output_type": "execute_result"
    }
   ],
   "source": [
    "test[:, 0].astype(int)"
   ]
  },
  {
   "cell_type": "code",
   "execution_count": 526,
   "metadata": {
    "scrolled": true
   },
   "outputs": [
    {
     "name": "stdout",
     "output_type": "stream",
     "text": [
      "[0.         0.         0.         0.         0.         0.26887366\n",
      " 0.         0.33590093 0.         0.33688295]\n",
      "0.5464545760789359\n",
      "[0.         0.         0.         0.         0.         0.49203296\n",
      " 0.         0.61469141 0.         0.61648848]\n",
      "1.0\n"
     ]
    }
   ],
   "source": [
    "test2 = np.zeros((10))\n",
    "test2[test[:, 0].astype(int)] = test[:, 1]\n",
    "print(test2)\n",
    "print(norm(test2))\n",
    "test2_norm = test2/norm(test2)\n",
    "print(test2_norm)\n",
    "print(norm(test2_norm))\n"
   ]
  },
  {
   "cell_type": "code",
   "execution_count": 489,
   "metadata": {},
   "outputs": [
    {
     "data": {
      "text/plain": [
       "1.00000000461343"
      ]
     },
     "execution_count": 489,
     "metadata": {},
     "output_type": "execute_result"
    }
   ],
   "source": [
    "norm([0.49203296, 0.61469141 ,0.61648848])"
   ]
  },
  {
   "cell_type": "code",
   "execution_count": 498,
   "metadata": {},
   "outputs": [
    {
     "data": {
      "text/plain": [
       "0.0"
      ]
     },
     "execution_count": 498,
     "metadata": {},
     "output_type": "execute_result"
    }
   ],
   "source": [
    "norm([0, 0, 0, 0, 0])"
   ]
  },
  {
   "cell_type": "code",
   "execution_count": 478,
   "metadata": {},
   "outputs": [
    {
     "data": {
      "text/plain": [
       "array([0.70710678, 0.70710678])"
      ]
     },
     "execution_count": 478,
     "metadata": {},
     "output_type": "execute_result"
    }
   ],
   "source": [
    "[6, 6] / norm([6, 6])"
   ]
  },
  {
   "cell_type": "code",
   "execution_count": 820,
   "metadata": {},
   "outputs": [],
   "source": [
    "def get_topic_score(comment, model, n_topics, norm=True):\n",
    "    \"\"\"\n",
    "    inputs: a bag-of-words representation of a comment (from a corpus)\n",
    "    a gensim lda model\n",
    "    a number of topics\n",
    "    \n",
    "    outputs: a normalized vector of size n_topics with the scores of each topic\n",
    "    \"\"\"\n",
    "    model_output = np.array(model[comment])\n",
    "    inds = model_output[:, 0].astype(int)\n",
    "    scores = model_output[:, 1]\n",
    "    out = np.zeros((n_topics))\n",
    "    out[inds] = scores\n",
    "    if norm:\n",
    "        out = out / np.linalg.norm(out)\n",
    "    return out.astype(float)"
   ]
  },
  {
   "cell_type": "code",
   "execution_count": 529,
   "metadata": {},
   "outputs": [
    {
     "data": {
      "text/plain": [
       "0.7376864876438073"
      ]
     },
     "execution_count": 529,
     "metadata": {},
     "output_type": "execute_result"
    }
   ],
   "source": [
    "np.linalg.norm(np.array([0.24137017, 0.,0.,0.,0.69708091, 0., 0.,0., 0., 0.]))"
   ]
  },
  {
   "cell_type": "code",
   "execution_count": 649,
   "metadata": {},
   "outputs": [
    {
     "data": {
      "text/plain": [
       "(265954, 5)"
      ]
     },
     "execution_count": 649,
     "metadata": {},
     "output_type": "execute_result"
    }
   ],
   "source": [
    "flat_df_newclean_HOST_NAME.shape"
   ]
  },
  {
   "cell_type": "code",
   "execution_count": 660,
   "metadata": {},
   "outputs": [
    {
     "ename": "ValueError",
     "evalue": "shapes (2,) and (3,2) not aligned: 2 (dim 0) != 3 (dim 0)",
     "output_type": "error",
     "traceback": [
      "\u001b[0;31m---------------------------------------------------------------------------\u001b[0m",
      "\u001b[0;31mValueError\u001b[0m                                Traceback (most recent call last)",
      "\u001b[0;32m<ipython-input-660-3c0f06a2337d>\u001b[0m in \u001b[0;36m<module>\u001b[0;34m\u001b[0m\n\u001b[1;32m      1\u001b[0m \u001b[0ma\u001b[0m \u001b[0;34m=\u001b[0m \u001b[0mnp\u001b[0m\u001b[0;34m.\u001b[0m\u001b[0marray\u001b[0m\u001b[0;34m(\u001b[0m\u001b[0;34m[\u001b[0m\u001b[0;36m1\u001b[0m\u001b[0;34m,\u001b[0m \u001b[0;36m0\u001b[0m\u001b[0;34m]\u001b[0m\u001b[0;34m)\u001b[0m\u001b[0;34m\u001b[0m\u001b[0;34m\u001b[0m\u001b[0m\n\u001b[1;32m      2\u001b[0m \u001b[0mb\u001b[0m \u001b[0;34m=\u001b[0m \u001b[0mnp\u001b[0m\u001b[0;34m.\u001b[0m\u001b[0marray\u001b[0m\u001b[0;34m(\u001b[0m\u001b[0;34m[\u001b[0m\u001b[0;34m[\u001b[0m\u001b[0;36m1\u001b[0m\u001b[0;34m,\u001b[0m \u001b[0;36m0\u001b[0m\u001b[0;34m]\u001b[0m\u001b[0;34m,\u001b[0m \u001b[0;34m[\u001b[0m\u001b[0;36m0\u001b[0m\u001b[0;34m,\u001b[0m \u001b[0;36m1\u001b[0m\u001b[0;34m]\u001b[0m\u001b[0;34m,\u001b[0m \u001b[0;34m[\u001b[0m\u001b[0;34m-\u001b[0m\u001b[0;36m1\u001b[0m\u001b[0;34m,\u001b[0m \u001b[0;34m-\u001b[0m\u001b[0;36m1\u001b[0m\u001b[0;34m]\u001b[0m\u001b[0;34m]\u001b[0m\u001b[0;34m)\u001b[0m\u001b[0;34m\u001b[0m\u001b[0;34m\u001b[0m\u001b[0m\n\u001b[0;32m----> 3\u001b[0;31m \u001b[0mcosine_similarity\u001b[0m\u001b[0;34m(\u001b[0m\u001b[0ma\u001b[0m\u001b[0;34m,\u001b[0m \u001b[0mb\u001b[0m\u001b[0;34m)\u001b[0m\u001b[0;34m\u001b[0m\u001b[0;34m\u001b[0m\u001b[0m\n\u001b[0m",
      "\u001b[0;32m<ipython-input-658-a078f7d89803>\u001b[0m in \u001b[0;36mcosine_similarity\u001b[0;34m(a, b)\u001b[0m\n\u001b[1;32m      2\u001b[0m \u001b[0;32mfrom\u001b[0m \u001b[0mnumpy\u001b[0m\u001b[0;34m.\u001b[0m\u001b[0mlinalg\u001b[0m \u001b[0;32mimport\u001b[0m \u001b[0mnorm\u001b[0m\u001b[0;34m\u001b[0m\u001b[0;34m\u001b[0m\u001b[0m\n\u001b[1;32m      3\u001b[0m \u001b[0;32mdef\u001b[0m \u001b[0mcosine_similarity\u001b[0m\u001b[0;34m(\u001b[0m\u001b[0ma\u001b[0m\u001b[0;34m,\u001b[0m \u001b[0mb\u001b[0m\u001b[0;34m)\u001b[0m\u001b[0;34m:\u001b[0m\u001b[0;34m\u001b[0m\u001b[0;34m\u001b[0m\u001b[0m\n\u001b[0;32m----> 4\u001b[0;31m     \u001b[0mcos_sim\u001b[0m \u001b[0;34m=\u001b[0m \u001b[0mnp\u001b[0m\u001b[0;34m.\u001b[0m\u001b[0mdot\u001b[0m\u001b[0;34m(\u001b[0m\u001b[0ma\u001b[0m\u001b[0;34m,\u001b[0m \u001b[0mb\u001b[0m\u001b[0;34m)\u001b[0m\u001b[0;34m/\u001b[0m\u001b[0;34m(\u001b[0m\u001b[0mnp\u001b[0m\u001b[0;34m.\u001b[0m\u001b[0mlinalg\u001b[0m\u001b[0;34m.\u001b[0m\u001b[0mnorm\u001b[0m\u001b[0;34m(\u001b[0m\u001b[0ma\u001b[0m\u001b[0;34m,\u001b[0m \u001b[0maxis\u001b[0m\u001b[0;34m=\u001b[0m\u001b[0;36m1\u001b[0m\u001b[0;34m)\u001b[0m\u001b[0;34m*\u001b[0m\u001b[0mnp\u001b[0m\u001b[0;34m.\u001b[0m\u001b[0mlinalg\u001b[0m\u001b[0;34m.\u001b[0m\u001b[0mnorm\u001b[0m\u001b[0;34m(\u001b[0m\u001b[0mb\u001b[0m\u001b[0;34m,\u001b[0m \u001b[0maxis\u001b[0m\u001b[0;34m=\u001b[0m\u001b[0;36m1\u001b[0m\u001b[0;34m)\u001b[0m\u001b[0;34m)\u001b[0m\u001b[0;34m\u001b[0m\u001b[0;34m\u001b[0m\u001b[0m\n\u001b[0m\u001b[1;32m      5\u001b[0m     \u001b[0;32mreturn\u001b[0m \u001b[0mcos_sim\u001b[0m\u001b[0;34m\u001b[0m\u001b[0;34m\u001b[0m\u001b[0m\n",
      "\u001b[0;31mValueError\u001b[0m: shapes (2,) and (3,2) not aligned: 2 (dim 0) != 3 (dim 0)"
     ]
    }
   ],
   "source": [
    "a = np.array([1, 0])\n",
    "b = np.array([[1, 0], [0, 1], [-1, -1]])\n",
    "cosine_similarity(a, b)"
   ]
  },
  {
   "cell_type": "code",
   "execution_count": 676,
   "metadata": {},
   "outputs": [
    {
     "data": {
      "text/plain": [
       "((3, 2), (3, 2))"
      ]
     },
     "execution_count": 676,
     "metadata": {},
     "output_type": "execute_result"
    }
   ],
   "source": [
    "np.repeat(a[np.newaxis, :], 3, axis=0).shape, b.shape"
   ]
  },
  {
   "cell_type": "code",
   "execution_count": 687,
   "metadata": {},
   "outputs": [
    {
     "data": {
      "text/plain": [
       "(array([[1, 0],\n",
       "        [1, 0],\n",
       "        [1, 0]]), array([[ 1,  0],\n",
       "        [ 0,  1],\n",
       "        [-1, -1]]))"
      ]
     },
     "execution_count": 687,
     "metadata": {},
     "output_type": "execute_result"
    }
   ],
   "source": [
    "np.repeat(a[np.newaxis, :], 3, axis=0), b"
   ]
  },
  {
   "cell_type": "code",
   "execution_count": 689,
   "metadata": {},
   "outputs": [
    {
     "data": {
      "text/plain": [
       "(3, 2)"
      ]
     },
     "execution_count": 689,
     "metadata": {},
     "output_type": "execute_result"
    }
   ],
   "source": [
    "b.shape"
   ]
  },
  {
   "cell_type": "code",
   "execution_count": 702,
   "metadata": {},
   "outputs": [
    {
     "name": "stdout",
     "output_type": "stream",
     "text": [
      "[ 0.5  0.  -0.5] \n",
      " [1 0] \n",
      " [[ 1  0 -1]\n",
      " [ 0  1 -1]]\n"
     ]
    }
   ],
   "source": [
    "print(np.dot(a, b.T)/(np.linalg.norm(a)*np.linalg.norm(b.T)),'\\n', a, '\\n', b.T)"
   ]
  },
  {
   "cell_type": "code",
   "execution_count": 710,
   "metadata": {},
   "outputs": [
    {
     "data": {
      "text/plain": [
       "(2,)"
      ]
     },
     "execution_count": 710,
     "metadata": {},
     "output_type": "execute_result"
    }
   ],
   "source": [
    "a.shape"
   ]
  },
  {
   "cell_type": "code",
   "execution_count": 718,
   "metadata": {},
   "outputs": [
    {
     "data": {
      "text/plain": [
       "(array([[1, 0]]), array([[ 1,  0, -1],\n",
       "        [ 0,  1, -1]]))"
      ]
     },
     "execution_count": 718,
     "metadata": {},
     "output_type": "execute_result"
    }
   ],
   "source": [
    "a.reshape(2, 1).T, b.T"
   ]
  },
  {
   "cell_type": "code",
   "execution_count": 720,
   "metadata": {},
   "outputs": [
    {
     "data": {
      "text/plain": [
       "array([ 0.5,  0. , -0.5])"
      ]
     },
     "execution_count": 720,
     "metadata": {},
     "output_type": "execute_result"
    }
   ],
   "source": [
    "cosine_similarity(a.T, b.T)"
   ]
  },
  {
   "cell_type": "code",
   "execution_count": 665,
   "metadata": {},
   "outputs": [
    {
     "data": {
      "text/plain": [
       "array([1.        , 1.        , 1.41421356])"
      ]
     },
     "execution_count": 665,
     "metadata": {},
     "output_type": "execute_result"
    }
   ],
   "source": [
    "np.linalg.norm(b, axis=1)"
   ]
  },
  {
   "cell_type": "code",
   "execution_count": 679,
   "metadata": {},
   "outputs": [],
   "source": [
    "from numpy import dot\n",
    "from numpy.linalg import norm\n",
    "def cosine_similarity(a, b):\n",
    "    cos_sim = np.dot(a, b)/(np.linalg.norm(a)*np.linalg.norm(b))\n",
    "    return cos_sim"
   ]
  },
  {
   "cell_type": "code",
   "execution_count": 723,
   "metadata": {},
   "outputs": [
    {
     "name": "stdout",
     "output_type": "stream",
     "text": [
      "[[ 1  0]\n",
      " [ 0  1]\n",
      " [-1 -1]]\n",
      "[1 0]\n",
      "[0 1]\n",
      "[-1 -1]\n"
     ]
    }
   ],
   "source": [
    "print(b)\n",
    "for irow, row in enumerate(b):\n",
    "    print(row)"
   ]
  },
  {
   "cell_type": "code",
   "execution_count": 725,
   "metadata": {},
   "outputs": [
    {
     "data": {
      "text/plain": [
       "0         [(0, 1), (1, 1), (2, 1), (3, 1), (4, 1), (5, 1...\n",
       "3         [(10, 1), (12, 1), (13, 1), (14, 1), (15, 1), ...\n",
       "4         [(15, 1), (17, 1), (19, 1), (21, 1), (22, 1), ...\n",
       "5         [(13, 1), (15, 1), (19, 1), (26, 1), (29, 1), ...\n",
       "6         [(29, 1), (32, 1), (33, 1), (34, 1), (35, 1), ...\n",
       "                                ...                        \n",
       "325676              [(41, 1), (196, 1), (236, 1), (325, 1)]\n",
       "325678    [(46, 1), (84, 1), (130, 1), (153, 1), (242, 1...\n",
       "325679                                            [(58, 1)]\n",
       "325680                       [(470, 1), (487, 1), (531, 1)]\n",
       "325681    [(76, 1), (95, 1), (145, 1), (187, 1), (221, 1...\n",
       "Name: corpus10_st_05_sb1000, Length: 265954, dtype: object"
      ]
     },
     "execution_count": 725,
     "metadata": {},
     "output_type": "execute_result"
    }
   ],
   "source": [
    "flat_df_newclean_HOST_NAME.corpus10_st_05_sb1000"
   ]
  },
  {
   "cell_type": "code",
   "execution_count": 759,
   "metadata": {},
   "outputs": [
    {
     "data": {
      "text/plain": [
       "0         [(0, 1), (1, 1), (2, 1), (3, 1), (4, 1), (5, 1...\n",
       "3         [(10, 1), (12, 1), (13, 1), (14, 1), (15, 1), ...\n",
       "4         [(15, 1), (17, 1), (19, 1), (21, 1), (22, 1), ...\n",
       "5         [(13, 1), (15, 1), (19, 1), (26, 1), (29, 1), ...\n",
       "6         [(29, 1), (32, 1), (33, 1), (34, 1), (35, 1), ...\n",
       "                                ...                        \n",
       "325676              [(41, 1), (196, 1), (236, 1), (325, 1)]\n",
       "325678    [(46, 1), (84, 1), (130, 1), (153, 1), (242, 1...\n",
       "325679                                            [(58, 1)]\n",
       "325680                       [(470, 1), (487, 1), (531, 1)]\n",
       "325681    [(76, 1), (95, 1), (145, 1), (187, 1), (221, 1...\n",
       "Name: corpus10_st_05_sb1000, Length: 265954, dtype: object"
      ]
     },
     "execution_count": 759,
     "metadata": {},
     "output_type": "execute_result"
    }
   ],
   "source": [
    "flat_df_newclean_HOST_NAME.corpus10_st_05_sb1000"
   ]
  },
  {
   "cell_type": "code",
   "execution_count": 815,
   "metadata": {},
   "outputs": [
    {
     "data": {
      "text/plain": [
       "numpy.ndarray"
      ]
     },
     "execution_count": 815,
     "metadata": {},
     "output_type": "execute_result"
    }
   ],
   "source": [
    "type(flat_df_newclean_HOST_NAME.topic_scores.iloc[0])"
   ]
  },
  {
   "cell_type": "code",
   "execution_count": 837,
   "metadata": {},
   "outputs": [],
   "source": [
    "test = "
   ]
  },
  {
   "cell_type": "code",
   "execution_count": 838,
   "metadata": {},
   "outputs": [
    {
     "data": {
      "text/plain": [
       "(6, 10)"
      ]
     },
     "execution_count": 838,
     "metadata": {},
     "output_type": "execute_result"
    }
   ],
   "source": [
    "np.vstack(corpus_scores.iloc[:6].apply(lambda c: get_topic_score(c, model,n_topics=10,norm=True)))"
   ]
  },
  {
   "cell_type": "code",
   "execution_count": 840,
   "metadata": {},
   "outputs": [],
   "source": [
    "test = pd.DataFrame({'a':[0, 1, 2, 3, 4, 5],\n",
    "                     'b': corpus_scores.iloc[:6].apply(lambda c: get_topic_score(c, model,n_topics=10,norm=True))})\n"
   ]
  },
  {
   "cell_type": "code",
   "execution_count": 842,
   "metadata": {},
   "outputs": [
    {
     "data": {
      "text/plain": [
       "array([[0.32527584, 0.        , 0.        , 0.        , 0.94561918,\n",
       "        0.        , 0.        , 0.        , 0.        , 0.        ],\n",
       "       [0.        , 0.14516399, 0.20241641, 0.        , 0.        ,\n",
       "        0.        , 0.        , 0.57773628, 0.        , 0.77728747],\n",
       "       [0.        , 0.        , 0.        , 0.        , 0.        ,\n",
       "        0.49206235, 0.        , 0.61467977, 0.        , 0.61647662],\n",
       "       [0.01926908, 0.01926971, 0.01926839, 0.01926877, 0.01926925,\n",
       "        0.23578378, 0.01927031, 0.22732675, 0.01926927, 0.94346671],\n",
       "       [0.        , 0.        , 0.17255872, 0.        , 0.        ,\n",
       "        0.63367925, 0.        , 0.        , 0.25038584, 0.71132343],\n",
       "       [0.        , 0.18159151, 0.3844523 , 0.        , 0.879195  ,\n",
       "        0.        , 0.        , 0.        , 0.        , 0.21502815]])"
      ]
     },
     "execution_count": 842,
     "metadata": {},
     "output_type": "execute_result"
    }
   ],
   "source": [
    "np.vstack(test.b)"
   ]
  },
  {
   "cell_type": "code",
   "execution_count": null,
   "metadata": {},
   "outputs": [],
   "source": [
    "corpus_scores.apply(lambda c: get_topic_score(c, \n"
   ]
  },
  {
   "cell_type": "code",
   "execution_count": null,
   "metadata": {},
   "outputs": [],
   "source": []
  },
  {
   "cell_type": "code",
   "execution_count": 851,
   "metadata": {},
   "outputs": [],
   "source": [
    "# calculate the topic vector of every comment\n",
    "# on the basis of flat_df_newclean_HOST_NAME.corpus10_st_05_sb1000\n",
    "corpus_scores = flat_df_newclean_HOST_NAME.corpus10_st_05_sb1000\n",
    "model = lda10_st_05_sb1000\n",
    "flat_df_newclean_HOST_NAME['topic_scores'] = corpus_scores.apply(lambda c: get_topic_score(c,  \n",
    "                                                                                                    model,\n",
    "                                                                                                    n_topics=10,\n",
    "                                                                                                   norm=True))\n",
    "flat_df_newclean_HOST_NAME['topic_scores_unnormalized'] = corpus_scores.apply(lambda c: get_topic_score(c, \n",
    "                                                                                                  model,\n",
    "                                                                                                  n_topics=10,\n",
    "                                                                                                 norm=False))\n",
    "pickle_name = datadir + 'flat_df_newclean_HOST_NAME.pkl'\n",
    "with open(pickle_name, 'wb') as pickle_file:\n",
    "    pickle.dump(flat_df_newclean_HOST_NAME, pickle_file)\n"
   ]
  },
  {
   "cell_type": "code",
   "execution_count": 856,
   "metadata": {},
   "outputs": [
    {
     "data": {
      "text/plain": [
       "((19528, 4),\n",
       " Index(['room_id', 'host_name', 'user_id', 'comments'], dtype='object'))"
      ]
     },
     "execution_count": 856,
     "metadata": {},
     "output_type": "execute_result"
    }
   ],
   "source": [
    "room_db.shape, room_db.columns"
   ]
  },
  {
   "cell_type": "code",
   "execution_count": 858,
   "metadata": {},
   "outputs": [
    {
     "data": {
      "text/plain": [
       "Index(['listing_id', 'host_name', 'user_id', 'comments',\n",
       "       'corpus10_st_05_sb1000', 'topic_scores', 'topic_scores_unnormalized'],\n",
       "      dtype='object')"
      ]
     },
     "execution_count": 858,
     "metadata": {},
     "output_type": "execute_result"
    }
   ],
   "source": [
    "flat_df_newclean_HOST_NAME.columns"
   ]
  },
  {
   "cell_type": "code",
   "execution_count": 859,
   "metadata": {},
   "outputs": [
    {
     "data": {
      "text/plain": [
       "0             2515\n",
       "3             2515\n",
       "4             2515\n",
       "5             2515\n",
       "6             2515\n",
       "            ...   \n",
       "325676    18413899\n",
       "325678    18423403\n",
       "325679    18426417\n",
       "325680    18443436\n",
       "325681    18491399\n",
       "Name: listing_id, Length: 265954, dtype: int64"
      ]
     },
     "execution_count": 859,
     "metadata": {},
     "output_type": "execute_result"
    }
   ],
   "source": []
  },
  {
   "cell_type": "code",
   "execution_count": 865,
   "metadata": {},
   "outputs": [],
   "source": [
    "fdf_s = flat_df_newclean_HOST_NAME.sort_values(by = ['listing_id'])\n",
    "test = fdf_s.listing_id.apply(lambda lid: np.vstack(fdf_s[fdf_s.listing_id == lid].topic_scores))"
   ]
  },
  {
   "cell_type": "code",
   "execution_count": 868,
   "metadata": {},
   "outputs": [
    {
     "data": {
      "text/plain": [
       "(107, 10)"
      ]
     },
     "execution_count": 868,
     "metadata": {},
     "output_type": "execute_result"
    }
   ],
   "source": [
    "test[0].shape"
   ]
  },
  {
   "cell_type": "code",
   "execution_count": 870,
   "metadata": {},
   "outputs": [
    {
     "data": {
      "text/plain": [
       "pandas.core.series.Series"
      ]
     },
     "execution_count": 870,
     "metadata": {},
     "output_type": "execute_result"
    }
   ],
   "source": [
    "type(test)"
   ]
  },
  {
   "cell_type": "code",
   "execution_count": 883,
   "metadata": {},
   "outputs": [
    {
     "name": "stderr",
     "output_type": "stream",
     "text": [
      "/Users/bennett/anaconda3/envs/airbnb_p3/lib/python3.7/site-packages/pandas/core/generic.py:5208: SettingWithCopyWarning: \n",
      "A value is trying to be set on a copy of a slice from a DataFrame.\n",
      "Try using .loc[row_indexer,col_indexer] = value instead\n",
      "\n",
      "See the caveats in the documentation: http://pandas.pydata.org/pandas-docs/stable/user_guide/indexing.html#returning-a-view-versus-a-copy\n",
      "  self[name] = value\n"
     ]
    },
    {
     "data": {
      "text/html": [
       "<div>\n",
       "<style scoped>\n",
       "    .dataframe tbody tr th:only-of-type {\n",
       "        vertical-align: middle;\n",
       "    }\n",
       "\n",
       "    .dataframe tbody tr th {\n",
       "        vertical-align: top;\n",
       "    }\n",
       "\n",
       "    .dataframe thead th {\n",
       "        text-align: right;\n",
       "    }\n",
       "</style>\n",
       "<table border=\"1\" class=\"dataframe\">\n",
       "  <thead>\n",
       "    <tr style=\"text-align: right;\">\n",
       "      <th></th>\n",
       "      <th>a</th>\n",
       "      <th>b</th>\n",
       "    </tr>\n",
       "  </thead>\n",
       "  <tbody>\n",
       "    <tr>\n",
       "      <td>0</td>\n",
       "      <td>0</td>\n",
       "      <td>NaN</td>\n",
       "    </tr>\n",
       "    <tr>\n",
       "      <td>1</td>\n",
       "      <td>1</td>\n",
       "      <td>NaN</td>\n",
       "    </tr>\n",
       "    <tr>\n",
       "      <td>2</td>\n",
       "      <td>2</td>\n",
       "      <td>NaN</td>\n",
       "    </tr>\n",
       "  </tbody>\n",
       "</table>\n",
       "</div>"
      ],
      "text/plain": [
       "   a   b\n",
       "0  0 NaN\n",
       "1  1 NaN\n",
       "2  2 NaN"
      ]
     },
     "execution_count": 883,
     "metadata": {},
     "output_type": "execute_result"
    }
   ],
   "source": [
    "test2 = pd.DataFrame({'a': np.array([0, 1, 2])})\n",
    "b_empty = np.zeros(test2.shape[0])\n",
    "b_empty[:] = np.nan\n",
    "test2['b'] = b_empty\n",
    "test2[test2.a == 2].b = 44\n",
    "test2"
   ]
  },
  {
   "cell_type": "code",
   "execution_count": 892,
   "metadata": {},
   "outputs": [
    {
     "name": "stdout",
     "output_type": "stream",
     "text": [
      "0\n",
      "1000\n",
      "2000\n",
      "3000\n",
      "4000\n",
      "5000\n",
      "6000\n",
      "7000\n",
      "8000\n",
      "9000\n",
      "10000\n",
      "11000\n",
      "12000\n",
      "13000\n",
      "14000\n",
      "15000\n",
      "16000\n",
      "17000\n",
      "18000\n",
      "19000\n"
     ]
    }
   ],
   "source": [
    "# now restack this df by listing_id\n",
    "clean_scored_room_db = deepcopy(room_db).sort_values(by=['room_id'])\n",
    "fdf_s = flat_df_newclean_HOST_NAME.sort_values(by = ['listing_id'])\n",
    "\n",
    "topic_scores_arr = np.zeros((clean_scored_room_db.shape[0]), dtype=object)\n",
    "topic_scores_unnormalized_arr = np.zeros((clean_scored_room_db.shape[0]), dtype=object)\n",
    "for i, lid in enumerate(clean_scored_room_db.room_id):\n",
    "    \n",
    "    if lid in fdf_listing_ids:\n",
    "        this_df = fdf_s[fdf_s.listing_id == lid]\n",
    "        topic_scores_arr[i] = np.vstack(this_df.topic_scores)\n",
    "        topic_scores_unnormalized_arr[i] = np.vstack(this_df.topic_scores_unnormalized)\n",
    "    else:\n",
    "        topic_scores_arr[i] = np.nan\n",
    "        topic_scores_unnormalized_arr[i] = np.nan\n",
    "            \n",
    "clean_scored_room_db['topic_scores'] = topic_scores_arr\n",
    "clean_scored_room_db['topic_scores_unnormalized'] = topic_scores_unnormalized_arr\n",
    "clean_scored_room_db = clean_scored_room_db.dropna(subset = ['topic_scores', 'topic_scores_unnormalized'])\n",
    "clean_scored_room_db['mean_topic_score'] = \\\n",
    "    clean_scored_room_db['topic_scores'].apply(lambda x: np.mean(x, axis=0))\n",
    "clean_scored_room_db['mean_topic_score_unnormalized'] = \\\n",
    "    clean_scored_room_db['topic_scores_unnormalized'].apply(lambda x: np.mean(x, axis=0))\n"
   ]
  },
  {
   "cell_type": "code",
   "execution_count": 894,
   "metadata": {},
   "outputs": [
    {
     "data": {
      "text/plain": [
       "Index(['room_id', 'host_name', 'user_id', 'comments', 'topic_scores',\n",
       "       'topic_scores_unnormalized', 'mean_topic_score',\n",
       "       'mean_topic_score_unnormalized'],\n",
       "      dtype='object')"
      ]
     },
     "execution_count": 894,
     "metadata": {},
     "output_type": "execute_result"
    }
   ],
   "source": [
    "clean_scored_room_db.columns"
   ]
  },
  {
   "cell_type": "code",
   "execution_count": 895,
   "metadata": {},
   "outputs": [
    {
     "name": "stdout",
     "output_type": "stream",
     "text": [
      "../../Desktop/Insight Project/airbnb/pickles/clean_scored_room_db.pkl\n"
     ]
    }
   ],
   "source": [
    "pickle_name = datadir + 'clean_scored_room_db.pkl'\n",
    "print(pickle_name)\n",
    "with open(pickle_name, 'wb') as pickle_file:\n",
    "    pickle.dump(clean_scored_room_db, pickle_file)"
   ]
  },
  {
   "cell_type": "code",
   "execution_count": 913,
   "metadata": {},
   "outputs": [
    {
     "data": {
      "text/plain": [
       "(19528, 89)"
      ]
     },
     "execution_count": 913,
     "metadata": {},
     "output_type": "execute_result"
    }
   ],
   "source": []
  },
  {
   "cell_type": "code",
   "execution_count": 935,
   "metadata": {},
   "outputs": [
    {
     "data": {
      "text/plain": [
       "pandas.core.frame.DataFrame"
      ]
     },
     "execution_count": 935,
     "metadata": {},
     "output_type": "execute_result"
    }
   ],
   "source": [
    "type(listings[0])"
   ]
  },
  {
   "cell_type": "code",
   "execution_count": 923,
   "metadata": {},
   "outputs": [],
   "source": [
    "listings_nyc_sorted = listings[0].sort_values(by = 'room_id')\n",
    "listings_nyc_sorted_clean = listings_nyc_sorted[listings_nyc_sorted.room_id.isin(clean_scored_room_db.room_id)]\n",
    "rest_of_cols = sorted([c for c in listings_nyc_sorted.columns if c not in clean_scored_room_db.columns])\n",
    "clean_scored_room_db[rest_of_cols] = listings_nyc_sorted_clean[rest_of_cols]"
   ]
  },
  {
   "cell_type": "code",
   "execution_count": 938,
   "metadata": {},
   "outputs": [
    {
     "name": "stdout",
     "output_type": "stream",
     "text": [
      "../../Desktop/Insight Project/airbnb/pickles/clean_scored_room_db.pkl\n"
     ]
    }
   ],
   "source": [
    "pickle_name = datadir + 'clean_scored_room_db.pkl'\n",
    "print(pickle_name)\n",
    "with open(pickle_name, 'wb') as pickle_file:\n",
    "    pickle.dump(clean_scored_room_db, pickle_file)"
   ]
  },
  {
   "cell_type": "code",
   "execution_count": 939,
   "metadata": {},
   "outputs": [
    {
     "data": {
      "text/plain": [
       "(14447, 95)"
      ]
     },
     "execution_count": 939,
     "metadata": {},
     "output_type": "execute_result"
    }
   ],
   "source": [
    "clean_scored_room_db.shape"
   ]
  },
  {
   "cell_type": "code",
   "execution_count": 925,
   "metadata": {},
   "outputs": [
    {
     "data": {
      "text/plain": [
       "(8348173, 6)"
      ]
     },
     "execution_count": 925,
     "metadata": {},
     "output_type": "execute_result"
    }
   ],
   "source": [
    "reviews.shape"
   ]
  },
  {
   "cell_type": "code",
   "execution_count": 940,
   "metadata": {},
   "outputs": [
    {
     "data": {
      "text/plain": [
       "0    [hat, list, multipl, problem, unfortun, return...\n",
       "1       [appart, trendi, neighborhood, love, nightlif]\n",
       "2                                [decor, modern, chic]\n",
       "3        [janet, warm, bubbl, real, treat, hang, ador]\n",
       "Name: comments, dtype: object"
      ]
     },
     "execution_count": 940,
     "metadata": {},
     "output_type": "execute_result"
    }
   ],
   "source": []
  },
  {
   "cell_type": "code",
   "execution_count": 1127,
   "metadata": {},
   "outputs": [
    {
     "data": {
      "text/plain": [
       "[['hat', 'list', 'multipl', 'problem', 'unfortun', 'return', 'joke'],\n",
       " ['appart', 'trendi', 'neighborhood', 'love', 'nightlif'],\n",
       " ['decor', 'modern', 'chic'],\n",
       " ['janet', 'warm', 'bubbl', 'real', 'treat', 'hang', 'ador']]"
      ]
     },
     "execution_count": 1127,
     "metadata": {},
     "output_type": "execute_result"
    }
   ],
   "source": [
    "list(fake_rev_df.comments.map(preprocess))"
   ]
  },
  {
   "cell_type": "code",
   "execution_count": null,
   "metadata": {},
   "outputs": [],
   "source": []
  },
  {
   "cell_type": "code",
   "execution_count": 1167,
   "metadata": {},
   "outputs": [
    {
     "data": {
      "text/plain": [
       "[0.0200021,\n",
       " 0.22040394,\n",
       " 0.020000447,\n",
       " 0.02000929,\n",
       " 0.020001652,\n",
       " 0.020008553,\n",
       " 0.020000195,\n",
       " 0.02000008,\n",
       " 0.61957276,\n",
       " 0.020001013]"
      ]
     },
     "execution_count": 1167,
     "metadata": {},
     "output_type": "execute_result"
    }
   ],
   "source": []
  },
  {
   "cell_type": "code",
   "execution_count": 1173,
   "metadata": {},
   "outputs": [
    {
     "data": {
      "text/plain": [
       "(14447,)"
      ]
     },
     "execution_count": 1173,
     "metadata": {},
     "output_type": "execute_result"
    }
   ],
   "source": [
    "sims[0].shape"
   ]
  },
  {
   "cell_type": "code",
   "execution_count": 1211,
   "metadata": {},
   "outputs": [
    {
     "data": {
      "text/plain": [
       "[(22, 1), (183, 1), (289, 1), (299, 1)]"
      ]
     },
     "execution_count": 1211,
     "metadata": {},
     "output_type": "execute_result"
    }
   ],
   "source": [
    "comment_bow"
   ]
  },
  {
   "cell_type": "code",
   "execution_count": 1212,
   "metadata": {},
   "outputs": [
    {
     "name": "stdout",
     "output_type": "stream",
     "text": [
      "My priority is to be nearby a hospital in case there's an emergency. I don't want to take an ambulance. Anything medical on the premesis (bandages, bandaids, pills) a plus! \n",
      "\n",
      "0 0.9998438519243478\n",
      "La ubicación es muy cómoda. Es un poco oscuro y la limpieza podría mejorar.\n",
      "Tanto Lior cómo Nissim (el super) respondieron rápidamente a todas mis inquietudes.\n",
      "It's really the best option in NYC. the apartment looks very nice, clean, comfortable. Lior is a great host. Location is the best. You can walk around 5-10 min to Times Square and  to all main touristic places of NYC. That'd a really wonderful option for couple in love:))))))\n",
      "The host canceled this reservation 137 days before arrival. This is an automated posting.\n",
      "The host canceled this reservation 96 days before arrival. This is an automated posting.\n",
      "The host canceled this reservation 82 days before arrival. This is an automated posting.\n",
      "\n",
      "\n",
      "1 0.9992393339398333\n",
      "I liked Paul's apartment. It was was a clean place with fast internet. Paul provided everything I needed.\n",
      "Paul is very welcoming and sympathetic. He showed me all the neighborhood the first day and made me some recommendations about places in New York. Even if we didn't saw each other that much because he was often travelling, we shared great moments and I really recommend his place.\n",
      "Paul was a great host and great guy -- his apartment was as described and well located. Would stay with Paul again in a heartbeat.\n",
      "\n",
      "\n",
      "2 0.9991352634671308\n",
      "The apartment and amenities were exactly as described.  I definitely enjoyed my stay here and would come back.  Andrea was a great host, made me feel at home, and gave me plenty of privacy.\n",
      "Muy limpio, fácil\n",
      "Comunicación, atenta, ordenado.\n",
      "\n",
      "Fácil acceso, genial!!!\n",
      "\n",
      "\n"
     ]
    }
   ],
   "source": [
    "comment = \"My priority is to be nearby a hospital in case there's an emergency. I don't want to take an ambulance. Anything medical on the premesis (bandages, bandaids, pills) a plus!\"\n",
    "comment_bow = dictionary10_st_05_sb1000.doc2bow(preprocess(comment))\n",
    "comment_topic_vector = [tup[1] for tup in lda10_st_05_sb1000[comment_bow]]\n",
    "comment_topic_vector\n",
    "\n",
    "sims = sk.metrics.pairwise.cosine_similarity(np.array(comment_topic_vector).reshape(1, -1),\n",
    "                                      np.vstack(clean_scored_room_db.mean_topic_score))\n",
    "clean_scored_room_db['test_similarity'] = sims[0]\n",
    "sorted_rooms = clean_scored_room_db.sort_values(by = 'test_similarity', ascending = False)\n",
    "the_result = sorted_rooms\n",
    "#the_result = sorted_rooms[sorted_rooms.comments.apply(lambda x : len(x) >= 10)].iloc[:3]\n",
    "\n",
    "print(comment, '\\n')\n",
    "for i in range(3):\n",
    "    clist = the_result.iloc[i]\n",
    "    print(i, clist.test_similarity)\n",
    "    for c in clist.comments:\n",
    "        print(c)\n",
    "    print('\\n')"
   ]
  },
  {
   "cell_type": "code",
   "execution_count": null,
   "metadata": {},
   "outputs": [],
   "source": []
  },
  {
   "cell_type": "code",
   "execution_count": 1147,
   "metadata": {},
   "outputs": [
    {
     "name": "stdout",
     "output_type": "stream",
     "text": [
      "['hat', 'list', 'multipl', 'problem', 'unfortun', 'return', 'joke'] \n",
      " [(0, 0.016676072), (1, 0.016666675), (2, 0.84997946), (3, 0.016666712), (4, 0.016668115), (5, 0.016666887), (6, 0.016670438), (7, 0.016668795), (8, 0.016670177), (9, 0.016666686)] \n",
      "\n",
      "\n",
      "['appart', 'trendi', 'neighborhood', 'love', 'nightlif'] \n",
      " [(0, 0.03333333), (1, 0.36666667), (2, 0.03333333), (3, 0.36666664), (4, 0.03333333), (5, 0.03333333), (6, 0.03333333), (7, 0.03333333), (8, 0.03333333), (9, 0.03333333)] \n",
      "\n",
      "\n",
      "['decor', 'modern', 'chic'] \n",
      " [(0, 0.699976), (1, 0.03333532), (2, 0.033333335), (3, 0.033336762), (4, 0.033333782), (5, 0.033340503), (6, 0.03333338), (7, 0.03333769), (8, 0.03333983), (9, 0.033333335)] \n",
      "\n",
      "\n",
      "['janet', 'warm', 'bubbl', 'real', 'treat', 'hang', 'ador'] \n",
      " [(0, 0.63879126), (1, 0.016667148), (2, 0.016666671), (3, 0.016669314), (4, 0.016672518), (5, 0.22785975), (6, 0.016669324), (7, 0.016666679), (8, 0.01667011), (9, 0.016667165)] \n",
      "\n",
      "\n",
      "['horribl', 'time', 'refriger', 'work', 'hous', 'warm', 'muggi', 'recommend'] \n",
      " [(0, 0.033361893), (1, 0.6998597), (2, 0.033333447), (3, 0.03333758), (4, 0.033349503), (5, 0.033394113), (6, 0.033335075), (7, 0.033333484), (8, 0.03334924), (9, 0.03334597)] \n",
      "\n",
      "\n",
      "['perfect', 'quiet', 'apart', 'privat', 'love', 'read', 'live', 'room'] \n",
      " [(0, 0.033337437), (1, 0.033333335), (2, 0.033333335), (3, 0.033333737), (4, 0.033352036), (5, 0.36666664), (6, 0.36663678), (7, 0.033333335), (8, 0.033340037), (9, 0.033333335)] \n",
      "\n",
      "\n",
      "['overst', 'hatr', 'hous', 'dislik', 'come'] \n",
      " [(0, 0.049999993), (1, 0.55), (2, 0.049999993), (3, 0.049999993), (4, 0.049999993), (5, 0.049999993), (6, 0.049999993), (7, 0.049999993), (8, 0.049999993), (9, 0.049999993)] \n",
      "\n",
      "\n",
      "['stephen', 'warm', 'host', 'felt', 'like', 'famili', 'talk', 'morn', 'cat'] \n",
      " [(0, 0.016670905), (1, 0.016666926), (2, 0.016668668), (3, 0.016666861), (4, 0.13932954), (5, 0.5711013), (6, 0.016669713), (7, 0.1728909), (8, 0.016667984), (9, 0.016667198)] \n",
      "\n",
      "\n"
     ]
    }
   ],
   "source": [
    "fake_revs = [\"I hated this listing. It had multiple problems. Unfortunately, I won't be returning. What a joke.\",\n",
    "\"This appartment was in a very trendy neighborhood. I loved the nightlife.\",\n",
    "\"The decor was so modern and chic!\",\n",
    " \"Janet was so warm and bubbly. It was a real treat to hang out with her and her adorable cat\",\n",
    "\"I had a horrible time. The refrigerator did not work. The house was too warm and too muggy. Do not recommend!\",\n",
    "\"A perfect quiet apartment. It was so private. I loved reading in the living room\",\n",
    "\"I cannot overstate my hatred of this house. I disliked it. Never coming back lol.\",\n",
    "\"Stephen was such a warm host. I felt like a part of his family. We talked every morning about his cats\"]\n",
    "fake_rev_df = pd.DataFrame({'comments':fake_revs})\n",
    "fake_rev_df.comments.map(preprocess)\n",
    "tvs = []\n",
    "for comment in list(fake_rev_df.comments.map(preprocess)):\n",
    "    c = dictionary10_st_05_sb1000.doc2bow(comment)\n",
    "    print(comment, '\\n', lda10_st_05_sb1000[c],'\\n\\n')\n",
    "    tvs.append([tup[1] for tup in lda10_st_05_sb1000[c]])"
   ]
  },
  {
   "cell_type": "code",
   "execution_count": 1290,
   "metadata": {},
   "outputs": [
    {
     "data": {
      "text/plain": [
       "4"
      ]
     },
     "execution_count": 1290,
     "metadata": {},
     "output_type": "execute_result"
    }
   ],
   "source": [
    "len([i for i in ('help     i need somebody       '.split(' ')) if i])"
   ]
  },
  {
   "cell_type": "code",
   "execution_count": 1292,
   "metadata": {},
   "outputs": [
    {
     "data": {
      "text/plain": [
       "0         stephanie's offered all the most important thi...\n",
       "3         we stayed at the 111th street apartment with s...\n",
       "4         very conveniently located just north of centra...\n",
       "5         we had a great stay with stephanie and her fam...\n",
       "6         we stayed at the chez chic budget room for a w...\n",
       "                                ...                        \n",
       "325676    excellent location, comfy bed, and privacy. ho...\n",
       "325678    great experience! apartment was clean and tidy...\n",
       "325679    margarita is the perfect host. we very much en...\n",
       "325680    clara is a great person, the place below the h...\n",
       "325681    jerry was a great host! the linens were clean,...\n",
       "Name: comments, Length: 265954, dtype: object"
      ]
     },
     "execution_count": 1292,
     "metadata": {},
     "output_type": "execute_result"
    }
   ],
   "source": [
    "flat_df_newclean_HOST_NAME['comments']"
   ]
  },
  {
   "cell_type": "code",
   "execution_count": 1303,
   "metadata": {},
   "outputs": [
    {
     "data": {
      "text/plain": [
       "'The host canceled this reservatio'"
      ]
     },
     "execution_count": 1303,
     "metadata": {},
     "output_type": "execute_result"
    }
   ],
   "source": [
    "'The host canceled this reservation'[:33]"
   ]
  },
  {
   "cell_type": "code",
   "execution_count": 1314,
   "metadata": {},
   "outputs": [
    {
     "data": {
      "text/plain": [
       "False"
      ]
     },
     "execution_count": 1314,
     "metadata": {},
     "output_type": "execute_result"
    }
   ],
   "source": [
    "np.nan == np.nan"
   ]
  },
  {
   "cell_type": "code",
   "execution_count": null,
   "metadata": {},
   "outputs": [],
   "source": [
    "def screen_comments(comment_list, min_words = 10, lang_condition = 'en'):\n",
    "    \"\"\"\n",
    "    Input: a list of comments\n",
    "    \n",
    "    Output: a list of comments that abide the following rules:\n",
    "    nans are filled with empy strings ` fillna('') `\n",
    "    The comments are in english\n",
    "    The comments have at least 10 words\n",
    "    \"The host canceled this reservation\" reviews are removed\n",
    "    \"\"\"\n",
    "    \n",
    "    # remove nams\n",
    "    screened = [c for c in comment_list if c==c]\n",
    "    screened = [c for c in clean_comment_list(screened) if len(c.split(' ')) >= min_words\n",
    "                                                            and clean_detect(c) == lang_condition\n",
    "                                                            and c [:34] != 'The host canceled this reservation']\n",
    "    return screened\n",
    "\n",
    "\n",
    "def clean_comment_list(clist):\n",
    "    clist_clean = []\n",
    "    for i, c in enumerate(clist):\n",
    "        cclean = c.replace('\\n', ' ')\n",
    "        cclean = cclean.replace('\\r', ' ')\n",
    "        clist_clean.append(cclean)\n",
    "    return clist_clean\n",
    "\n",
    "clean_scored_room_db.comments.apply(lambda x: screen_comments(x))"
   ]
  },
  {
   "cell_type": "code",
   "execution_count": 1317,
   "metadata": {},
   "outputs": [
    {
     "data": {
      "text/plain": [
       "0        152\n",
       "1         20\n",
       "3         96\n",
       "4         60\n",
       "5         53\n",
       "        ... \n",
       "19369      2\n",
       "19375      1\n",
       "19382      1\n",
       "19406      1\n",
       "19483      1\n",
       "Name: comments, Length: 14447, dtype: int64"
      ]
     },
     "execution_count": 1317,
     "metadata": {},
     "output_type": "execute_result"
    }
   ],
   "source": [
    "clean_scored_room_db.comments.apply(lambda x: len(x))"
   ]
  },
  {
   "cell_type": "code",
   "execution_count": 1318,
   "metadata": {},
   "outputs": [
    {
     "ename": "TypeError",
     "evalue": "'function' object is not iterable",
     "output_type": "error",
     "traceback": [
      "\u001b[0;31m---------------------------------------------------------------------------\u001b[0m",
      "\u001b[0;31mTypeError\u001b[0m                                 Traceback (most recent call last)",
      "\u001b[0;32m<ipython-input-1318-3f9e8a329be6>\u001b[0m in \u001b[0;36m<module>\u001b[0;34m\u001b[0m\n\u001b[0;32m----> 1\u001b[0;31m \u001b[0mclean_scored_room_db\u001b[0m\u001b[0;34m.\u001b[0m\u001b[0mcomments\u001b[0m\u001b[0;34m.\u001b[0m\u001b[0mapply\u001b[0m\u001b[0;34m(\u001b[0m\u001b[0;32mlambda\u001b[0m \u001b[0mx\u001b[0m\u001b[0;34m:\u001b[0m \u001b[0mscreen_comments\u001b[0m\u001b[0;34m(\u001b[0m\u001b[0mx\u001b[0m\u001b[0;34m)\u001b[0m\u001b[0;34m)\u001b[0m\u001b[0;34m\u001b[0m\u001b[0;34m\u001b[0m\u001b[0m\n\u001b[0m",
      "\u001b[0;32m~/anaconda3/envs/airbnb_p3/lib/python3.7/site-packages/pandas/core/series.py\u001b[0m in \u001b[0;36mapply\u001b[0;34m(self, func, convert_dtype, args, **kwds)\u001b[0m\n\u001b[1;32m   4040\u001b[0m             \u001b[0;32melse\u001b[0m\u001b[0;34m:\u001b[0m\u001b[0;34m\u001b[0m\u001b[0;34m\u001b[0m\u001b[0m\n\u001b[1;32m   4041\u001b[0m                 \u001b[0mvalues\u001b[0m \u001b[0;34m=\u001b[0m \u001b[0mself\u001b[0m\u001b[0;34m.\u001b[0m\u001b[0mastype\u001b[0m\u001b[0;34m(\u001b[0m\u001b[0mobject\u001b[0m\u001b[0;34m)\u001b[0m\u001b[0;34m.\u001b[0m\u001b[0mvalues\u001b[0m\u001b[0;34m\u001b[0m\u001b[0;34m\u001b[0m\u001b[0m\n\u001b[0;32m-> 4042\u001b[0;31m                 \u001b[0mmapped\u001b[0m \u001b[0;34m=\u001b[0m \u001b[0mlib\u001b[0m\u001b[0;34m.\u001b[0m\u001b[0mmap_infer\u001b[0m\u001b[0;34m(\u001b[0m\u001b[0mvalues\u001b[0m\u001b[0;34m,\u001b[0m \u001b[0mf\u001b[0m\u001b[0;34m,\u001b[0m \u001b[0mconvert\u001b[0m\u001b[0;34m=\u001b[0m\u001b[0mconvert_dtype\u001b[0m\u001b[0;34m)\u001b[0m\u001b[0;34m\u001b[0m\u001b[0;34m\u001b[0m\u001b[0m\n\u001b[0m\u001b[1;32m   4043\u001b[0m \u001b[0;34m\u001b[0m\u001b[0m\n\u001b[1;32m   4044\u001b[0m         \u001b[0;32mif\u001b[0m \u001b[0mlen\u001b[0m\u001b[0;34m(\u001b[0m\u001b[0mmapped\u001b[0m\u001b[0;34m)\u001b[0m \u001b[0;32mand\u001b[0m \u001b[0misinstance\u001b[0m\u001b[0;34m(\u001b[0m\u001b[0mmapped\u001b[0m\u001b[0;34m[\u001b[0m\u001b[0;36m0\u001b[0m\u001b[0;34m]\u001b[0m\u001b[0;34m,\u001b[0m \u001b[0mSeries\u001b[0m\u001b[0;34m)\u001b[0m\u001b[0;34m:\u001b[0m\u001b[0;34m\u001b[0m\u001b[0;34m\u001b[0m\u001b[0m\n",
      "\u001b[0;32mpandas/_libs/lib.pyx\u001b[0m in \u001b[0;36mpandas._libs.lib.map_infer\u001b[0;34m()\u001b[0m\n",
      "\u001b[0;32m<ipython-input-1318-3f9e8a329be6>\u001b[0m in \u001b[0;36m<lambda>\u001b[0;34m(x)\u001b[0m\n\u001b[0;32m----> 1\u001b[0;31m \u001b[0mclean_scored_room_db\u001b[0m\u001b[0;34m.\u001b[0m\u001b[0mcomments\u001b[0m\u001b[0;34m.\u001b[0m\u001b[0mapply\u001b[0m\u001b[0;34m(\u001b[0m\u001b[0;32mlambda\u001b[0m \u001b[0mx\u001b[0m\u001b[0;34m:\u001b[0m \u001b[0mscreen_comments\u001b[0m\u001b[0;34m(\u001b[0m\u001b[0mx\u001b[0m\u001b[0;34m)\u001b[0m\u001b[0;34m)\u001b[0m\u001b[0;34m\u001b[0m\u001b[0;34m\u001b[0m\u001b[0m\n\u001b[0m",
      "\u001b[0;32m<ipython-input-1315-b80b65a7b959>\u001b[0m in \u001b[0;36mscreen_comments\u001b[0;34m(comment_list, min_words, lang_condition)\u001b[0m\n\u001b[1;32m     12\u001b[0m     \u001b[0;31m# remove nams\u001b[0m\u001b[0;34m\u001b[0m\u001b[0;34m\u001b[0m\u001b[0;34m\u001b[0m\u001b[0m\n\u001b[1;32m     13\u001b[0m     \u001b[0mscreened_comments\u001b[0m \u001b[0;34m=\u001b[0m \u001b[0;34m[\u001b[0m\u001b[0mc\u001b[0m \u001b[0;32mfor\u001b[0m \u001b[0mc\u001b[0m \u001b[0;32min\u001b[0m \u001b[0mcomment_list\u001b[0m \u001b[0;32mif\u001b[0m \u001b[0mc\u001b[0m\u001b[0;34m==\u001b[0m\u001b[0mc\u001b[0m\u001b[0;34m]\u001b[0m\u001b[0;34m\u001b[0m\u001b[0;34m\u001b[0m\u001b[0m\n\u001b[0;32m---> 14\u001b[0;31m     screened_comments = [c for c in clean_comment_list(screen_comments) if len(c.split(' ')) >= min_words\n\u001b[0m\u001b[1;32m     15\u001b[0m                                                             \u001b[0;32mand\u001b[0m \u001b[0mclean_detect\u001b[0m\u001b[0;34m(\u001b[0m\u001b[0mc\u001b[0m\u001b[0;34m)\u001b[0m \u001b[0;34m==\u001b[0m \u001b[0mlang_condition\u001b[0m\u001b[0;34m\u001b[0m\u001b[0;34m\u001b[0m\u001b[0m\n\u001b[1;32m     16\u001b[0m                                                             and c [:34] != 'The host canceled this reservation']\n",
      "\u001b[0;32m<ipython-input-1315-b80b65a7b959>\u001b[0m in \u001b[0;36mclean_comment_list\u001b[0;34m(clist)\u001b[0m\n\u001b[1;32m     20\u001b[0m \u001b[0;32mdef\u001b[0m \u001b[0mclean_comment_list\u001b[0m\u001b[0;34m(\u001b[0m\u001b[0mclist\u001b[0m\u001b[0;34m)\u001b[0m\u001b[0;34m:\u001b[0m\u001b[0;34m\u001b[0m\u001b[0;34m\u001b[0m\u001b[0m\n\u001b[1;32m     21\u001b[0m     \u001b[0mclist_clean\u001b[0m \u001b[0;34m=\u001b[0m \u001b[0;34m[\u001b[0m\u001b[0;34m]\u001b[0m\u001b[0;34m\u001b[0m\u001b[0;34m\u001b[0m\u001b[0m\n\u001b[0;32m---> 22\u001b[0;31m     \u001b[0;32mfor\u001b[0m \u001b[0mi\u001b[0m\u001b[0;34m,\u001b[0m \u001b[0mc\u001b[0m \u001b[0;32min\u001b[0m \u001b[0menumerate\u001b[0m\u001b[0;34m(\u001b[0m\u001b[0mclist\u001b[0m\u001b[0;34m)\u001b[0m\u001b[0;34m:\u001b[0m\u001b[0;34m\u001b[0m\u001b[0;34m\u001b[0m\u001b[0m\n\u001b[0m\u001b[1;32m     23\u001b[0m         \u001b[0mcclean\u001b[0m \u001b[0;34m=\u001b[0m \u001b[0mc\u001b[0m\u001b[0;34m.\u001b[0m\u001b[0mreplace\u001b[0m\u001b[0;34m(\u001b[0m\u001b[0;34m'\\n'\u001b[0m\u001b[0;34m,\u001b[0m \u001b[0;34m' '\u001b[0m\u001b[0;34m)\u001b[0m\u001b[0;34m\u001b[0m\u001b[0;34m\u001b[0m\u001b[0m\n\u001b[1;32m     24\u001b[0m         \u001b[0mcclean\u001b[0m \u001b[0;34m=\u001b[0m \u001b[0mcclean\u001b[0m\u001b[0;34m.\u001b[0m\u001b[0mreplace\u001b[0m\u001b[0;34m(\u001b[0m\u001b[0;34m'\\r'\u001b[0m\u001b[0;34m,\u001b[0m \u001b[0;34m' '\u001b[0m\u001b[0;34m)\u001b[0m\u001b[0;34m\u001b[0m\u001b[0;34m\u001b[0m\u001b[0m\n",
      "\u001b[0;31mTypeError\u001b[0m: 'function' object is not iterable"
     ]
    }
   ],
   "source": []
  },
  {
   "cell_type": "code",
   "execution_count": 1145,
   "metadata": {
    "scrolled": true
   },
   "outputs": [
    {
     "name": "stdout",
     "output_type": "stream",
     "text": [
      "[10, 10, 10, 10, 10, 10, 10]\n"
     ]
    }
   ],
   "source": [
    "print([len(i) for i in tvs])"
   ]
  },
  {
   "cell_type": "code",
   "execution_count": 1148,
   "metadata": {},
   "outputs": [
    {
     "data": {
      "text/plain": [
       "array([[0.05279525, 0.12404034, 0.9552136 , 1.0000001 , 0.26036137,\n",
       "        0.32052308, 0.15050846, 0.35352445]], dtype=float32)"
      ]
     },
     "execution_count": 1148,
     "metadata": {},
     "output_type": "execute_result"
    }
   ],
   "source": [
    "import sklearn as sk\n",
    "sk.metrics.pairwise.cosine_similarity(np.array(tvs[3]).reshape(1, -1), tvs)"
   ]
  },
  {
   "cell_type": "code",
   "execution_count": 948,
   "metadata": {},
   "outputs": [],
   "source": [
    "from sqlalchemy import create_engine\n",
    "from sqlalchemy_utils import database_exists, create_database\n",
    "import psycopg2\n",
    "import pandas as pd\n",
    "\n",
    "# Define a database name \n",
    "# Set your postgres username\n",
    "dbname = 'clean_scored_room_db'\n",
    "username = 'bennett' # change this to your username"
   ]
  },
  {
   "cell_type": "code",
   "execution_count": 949,
   "metadata": {},
   "outputs": [
    {
     "name": "stdout",
     "output_type": "stream",
     "text": [
      "postgres://bennett@localhost/clean_scored_room_db\n"
     ]
    }
   ],
   "source": [
    "## 'engine' is a connection to a database\n",
    "## Here, we're using postgres, but sqlalchemy can connect to other things too.\n",
    "engine = create_engine('postgres://%s@localhost/%s'%(username,dbname))\n",
    "print(engine.url)"
   ]
  },
  {
   "cell_type": "code",
   "execution_count": 950,
   "metadata": {},
   "outputs": [
    {
     "name": "stdout",
     "output_type": "stream",
     "text": [
      "True\n"
     ]
    }
   ],
   "source": [
    "## create a database (if it doesn't exist)\n",
    "if not database_exists(engine.url):\n",
    "    create_database(engine.url)\n",
    "print(database_exists(engine.url))"
   ]
  },
  {
   "cell_type": "code",
   "execution_count": 944,
   "metadata": {},
   "outputs": [
    {
     "data": {
      "text/plain": [
       "'/Users/bennett/Documents/GitHub'"
      ]
     },
     "execution_count": 944,
     "metadata": {},
     "output_type": "execute_result"
    }
   ],
   "source": [
    "pwd"
   ]
  },
  {
   "cell_type": "code",
   "execution_count": 1018,
   "metadata": {},
   "outputs": [
    {
     "data": {
      "text/plain": [
       "{'room_id': ['int'],\n",
       " 'host_name': ['float', 'str'],\n",
       " 'user_id': ['list'],\n",
       " 'comments': ['list'],\n",
       " 'topic_scores': ['numpy.ndarray'],\n",
       " 'topic_scores_unnormalized': ['numpy.ndarray'],\n",
       " 'mean_topic_score': ['numpy.ndarray'],\n",
       " 'mean_topic_score_unnormalized': ['numpy.ndarray'],\n",
       " 'access': ['float', 'str'],\n",
       " 'accommodates': ['float'],\n",
       " 'amenities': ['float', 'str'],\n",
       " 'availability_30': ['float'],\n",
       " 'availability_365': ['float'],\n",
       " 'availability_60': ['float'],\n",
       " 'availability_90': ['float'],\n",
       " 'bathrooms': ['float'],\n",
       " 'bed_type': ['float', 'str'],\n",
       " 'bedrooms': ['float'],\n",
       " 'beds': ['float'],\n",
       " 'calculated_host_listings_count': ['float'],\n",
       " 'calendar_last_scraped': ['float', 'str'],\n",
       " 'calendar_updated': ['float', 'str'],\n",
       " 'cancellation_policy': ['float', 'str'],\n",
       " 'city': ['float', 'str'],\n",
       " 'cleaning_fee': ['float'],\n",
       " 'coordinates': ['float', 'str'],\n",
       " 'country': ['float', 'str'],\n",
       " 'country_code': ['float', 'str'],\n",
       " 'date_last_review': ['float', 'str'],\n",
       " 'description': ['float', 'str'],\n",
       " 'experiences_offered': ['float', 'str'],\n",
       " 'extra_people': ['float'],\n",
       " 'features': ['float', 'str'],\n",
       " 'first_review': ['float', 'str'],\n",
       " 'guests_included': ['float'],\n",
       " 'has_availability': ['float'],\n",
       " 'host_about': ['float', 'str'],\n",
       " 'host_acceptance_rate': ['float'],\n",
       " 'host_id': ['float'],\n",
       " 'host_listings_count': ['float'],\n",
       " 'host_location': ['float', 'str'],\n",
       " 'host_neighbourhood': ['float', 'str'],\n",
       " 'host_picture_url': ['float', 'str'],\n",
       " 'host_response_rate': ['float'],\n",
       " 'host_response_time': ['float', 'str'],\n",
       " 'host_since': ['float', 'str'],\n",
       " 'host_thumbnail_url': ['float', 'str'],\n",
       " 'host_total_listings_count': ['float'],\n",
       " 'host_url': ['float', 'str'],\n",
       " 'host_verifications': ['float', 'str'],\n",
       " 'house_rules': ['float', 'str'],\n",
       " 'interaction': ['float', 'str'],\n",
       " 'jurisdiction_names': ['float'],\n",
       " 'last_scraped': ['float', 'str'],\n",
       " 'latitude': ['float'],\n",
       " 'license': ['float'],\n",
       " 'listing_url': ['float', 'str'],\n",
       " 'longitude': ['float'],\n",
       " 'market': ['float', 'str'],\n",
       " 'maximum_nights': ['float'],\n",
       " 'medium_url': ['float', 'str'],\n",
       " 'minimum_nights': ['float'],\n",
       " 'monthly_price': ['float'],\n",
       " 'name': ['float', 'str'],\n",
       " 'neighborhood_clean': ['float', 'str'],\n",
       " 'neighborhood_overview': ['float', 'str'],\n",
       " 'neighbourhood': ['float', 'str'],\n",
       " 'neighbourhood_group_cleansed': ['float', 'str'],\n",
       " 'notes': ['float', 'str'],\n",
       " 'number_of_reviews': ['float'],\n",
       " 'picture_url': ['float', 'str'],\n",
       " 'property_type': ['float', 'str'],\n",
       " 'review_scores_accuracy': ['float'],\n",
       " 'review_scores_checkin': ['float'],\n",
       " 'review_scores_cleanliness': ['float'],\n",
       " 'review_scores_communication': ['float'],\n",
       " 'review_scores_location': ['float'],\n",
       " 'review_scores_rating': ['float'],\n",
       " 'review_scores_value': ['float'],\n",
       " 'reviews_per_month': ['float'],\n",
       " 'room_price': ['float'],\n",
       " 'room_type': ['float', 'str'],\n",
       " 'scrape_id': ['float'],\n",
       " 'security_deposit': ['float'],\n",
       " 'smart_location': ['float', 'str'],\n",
       " 'space': ['float', 'str'],\n",
       " 'square_feet': ['float'],\n",
       " 'state': ['float', 'str'],\n",
       " 'street': ['float', 'str'],\n",
       " 'summary': ['float', 'str'],\n",
       " 'thumbnail_url': ['float', 'str'],\n",
       " 'transit': ['float', 'str'],\n",
       " 'weekly_price': ['float'],\n",
       " 'xl_picture_url': ['float', 'str'],\n",
       " 'zipcode': ['float', 'str']}"
      ]
     },
     "execution_count": 1018,
     "metadata": {},
     "output_type": "execute_result"
    }
   ],
   "source": [
    "def print_types(df):\n",
    "    \"\"\"\n",
    "    Input: a pandas dataframe\n",
    "    Output: a dictionary whose keys are the column names of that data frame,\n",
    "    and whose values are a sorted list of types of data the associated column\n",
    "    \"\"\"\n",
    "    \n",
    "    colnames = list(df.columns)\n",
    "    type_dict = {}\n",
    "    for c in colnames:\n",
    "        initial_list = sorted(list(np.unique(df[c].apply(lambda x: str(type(x))))))\n",
    "        clean_list = []\n",
    "        for i in initial_list:\n",
    "            clean_list.append(i.split(\"<class '\")[1].split(\"'>\")[0])\n",
    "        type_dict[c] = clean_list\n",
    "    return type_dict\n",
    "print_types(clean_scored_room_db)"
   ]
  },
  {
   "cell_type": "code",
   "execution_count": null,
   "metadata": {},
   "outputs": [],
   "source": []
  },
  {
   "cell_type": "code",
   "execution_count": 957,
   "metadata": {},
   "outputs": [
    {
     "name": "stdout",
     "output_type": "stream",
     "text": [
      "../../Desktop/Insight Project/airbnb/pickles/clean_scored_room_db.pkl\n"
     ]
    }
   ],
   "source": [
    "clean_scored_room_db.host_name = clean_scored_room_db.host_name.apply(lambda x: x.values[0])\n",
    "pickle_name = datadir + 'clean_scored_room_db.pkl'\n",
    "print(pickle_name)\n",
    "with open(pickle_name, 'wb') as pickle_file:\n",
    "    pickle.dump(clean_scored_room_db, pickle_file)\n"
   ]
  },
  {
   "cell_type": "code",
   "execution_count": 960,
   "metadata": {},
   "outputs": [],
   "source": [
    "test = pd.DataFrame({'a':[1, 2, 3], 'b':[4,5,6]})"
   ]
  },
  {
   "cell_type": "code",
   "execution_count": 964,
   "metadata": {},
   "outputs": [
    {
     "data": {
      "text/html": [
       "<div>\n",
       "<style scoped>\n",
       "    .dataframe tbody tr th:only-of-type {\n",
       "        vertical-align: middle;\n",
       "    }\n",
       "\n",
       "    .dataframe tbody tr th {\n",
       "        vertical-align: top;\n",
       "    }\n",
       "\n",
       "    .dataframe thead th {\n",
       "        text-align: right;\n",
       "    }\n",
       "</style>\n",
       "<table border=\"1\" class=\"dataframe\">\n",
       "  <thead>\n",
       "    <tr style=\"text-align: right;\">\n",
       "      <th></th>\n",
       "      <th>b</th>\n",
       "    </tr>\n",
       "  </thead>\n",
       "  <tbody>\n",
       "    <tr>\n",
       "      <td>0</td>\n",
       "      <td>4</td>\n",
       "    </tr>\n",
       "    <tr>\n",
       "      <td>1</td>\n",
       "      <td>5</td>\n",
       "    </tr>\n",
       "    <tr>\n",
       "      <td>2</td>\n",
       "      <td>6</td>\n",
       "    </tr>\n",
       "  </tbody>\n",
       "</table>\n",
       "</div>"
      ],
      "text/plain": [
       "   b\n",
       "0  4\n",
       "1  5\n",
       "2  6"
      ]
     },
     "execution_count": 964,
     "metadata": {},
     "output_type": "execute_result"
    }
   ],
   "source": [
    "test.drop(columns=['a'])"
   ]
  },
  {
   "cell_type": "code",
   "execution_count": 969,
   "metadata": {},
   "outputs": [
    {
     "name": "stdout",
     "output_type": "stream",
     "text": [
      "../../Desktop/Insight Project/airbnb/pickles/lda_model_dict.pkl\n"
     ]
    }
   ],
   "source": [
    "# store models as pickles\n",
    "lda_model_lol = [['LDA 4 topic <.5 >1000', lda04, topics04, corpus04, dictionary04],\n",
    "                ['LDA 7 topic <.5 >1000', lda07, topics07, corpus07, dictionary07],\n",
    "                ['LDA 10 topic <.5 >1000', lda10, topics10, corpus10, dictionary10],\n",
    "                ['LDA 4 topic <.5 >1000 tfidf', lda04_tfidf, topics04_tfidf, corpus04_tfidf, dictionary04_tfidf],\n",
    "                 ['LDA 7 topic <.5 >1000 tfidf', lda07_tfidf, topics07_tfidf, corpus07_tfidf, dictionary07_tfidf],\n",
    "                 ['LDA 10 topic <.5 >1000 tfidf', lda10_tfidf, topics10_tfidf, corpus10_tfidf, dictionary10_tfidf],\n",
    "                 ['LDA 4 topic <1 >0', lda04_permissive, topics04_permissive, \n",
    "                  corpus04_permissive, dictionary04_permissive],\n",
    "                 ['LDA 7 topic <1 >0', lda07_permissive, topics07_permissive, \n",
    "                  corpus07_permissive, dictionary07_permissive],\n",
    "                 ['LDA 10 topic <1 >0', lda10_permissive, topics10_permissive, \n",
    "                  corpus10_permissive, dictionary10_permissive],\n",
    "                 ['LDA 4 topic <1 >0 tfidf', lda04_permissive_tfidf, topics04_permissive_tfidf, \n",
    "                  corpus04_permissive_tfidf, dictionary04_permissive_tfidf],\n",
    "                 ['LDA 7 topic <1 >0 tfidf', lda07_permissive_tfidf, topics07_permissive_tfidf, \n",
    "                  corpus07_permissive_tfidf, dictionary07_permissive_tfidf],\n",
    "                 ['LDA 10 topic <1 >0 tfidf', lda10_permissive_tfidf, topics10_permissive_tfidf, \n",
    "                  corpus10_permissive_tfidf, dictionary10_permissive_tfidf],\n",
    "                ['LDA 10 topic <.05 <0', lda10_strict_top_05, topics10_strict_top_05,\n",
    "                 corpus10_strict_top_05, dictionary10_strict_top_05],\n",
    "                ['LDA 10 topic <.05 >200', lda10_st_05_sb0200, topics10_st_05_sb0200, \n",
    "                 corpus10_st_05_sb0200, dictionary10_st_05_sb0200],\n",
    "                ['LDA 7 topic <.05 >1000', lda07_st_05_sb1000, topics07_st_05_sb1000, corpus07_st_05_sb1000, \n",
    "                 dictionary07_st_05_sb1000],\n",
    "                ['LDA 10 topic <.05 >1000',\n",
    "                 lda10_st_05_sb1000, topics10_st_05_sb1000, corpus10_st_05_sb1000, dictionary10_st_05_sb1000]]\n",
    "lda_model_dict = {}\n",
    "for lm in lda_model_lol:\n",
    "    this_model_dict = {'model': lm[1],\n",
    "                       'topics': lm[2],\n",
    "                       'corpus': lm[3],\n",
    "                       'dictionary': lm[4]}\n",
    "    lda_model_dict[lm[0]] = this_model_dict\n",
    "\n",
    "pickle_name = datadir + 'lda_model_dict.pkl'\n",
    "print(pickle_name)\n",
    "with open(pickle_name, 'wb') as pickle_file:\n",
    "    pickle.dump(lda_model_dict, pickle_file)"
   ]
  },
  {
   "cell_type": "code",
   "execution_count": 1109,
   "metadata": {},
   "outputs": [],
   "source": [
    "with open(datadir + 'lda_model_dict.pkl', 'rb') as fp:\n",
    "    lmd_pkl = pickle.load(fp)"
   ]
  },
  {
   "cell_type": "code",
   "execution_count": 1114,
   "metadata": {},
   "outputs": [
    {
     "name": "stdout",
     "output_type": "stream",
     "text": [
      "../Flask/Airbnb/MVP/lda_10_less05_great1000.pkl\n"
     ]
    }
   ],
   "source": [
    "lda_10_less05_great1000 = lmd_pkl['LDA 10 topic <.05 >1000']\n",
    "pickle_name = '../Flask/Airbnb/MVP/lda_10_less05_great1000.pkl'\n",
    "print(pickle_name)\n",
    "with open(pickle_name, 'wb') as pickle_file:\n",
    "    pickle.dump(lda_10_less05_great1000, pickle_file)"
   ]
  },
  {
   "cell_type": "code",
   "execution_count": 1120,
   "metadata": {},
   "outputs": [
    {
     "data": {
      "text/plain": [
       "dict_keys(['model', 'topics', 'corpus', 'dictionary'])"
      ]
     },
     "execution_count": 1120,
     "metadata": {},
     "output_type": "execute_result"
    }
   ],
   "source": [
    "lda_10_less05_great1000.keys()"
   ]
  },
  {
   "cell_type": "code",
   "execution_count": 1117,
   "metadata": {},
   "outputs": [],
   "source": [
    "with open('../Flask/Airbnb/MVP/lda_10_less05_great1000.pkl', 'rb') as fp:\n",
    "    good_lmd_pkl = pickle.load(fp)"
   ]
  },
  {
   "cell_type": "code",
   "execution_count": 970,
   "metadata": {},
   "outputs": [
    {
     "data": {
      "text/plain": [
       "0        [[0.3251676503712088, 0.0, 0.0, 0.0, 0.9456563...\n",
       "1        [[0.0, 0.0, 0.0, 0.18682568814255882, 0.0, 0.0...\n",
       "3        [[0.0, 0.03309587654277409, 0.1352477273350135...\n",
       "4        [[0.10514095077870025, 0.0, 0.0, 0.0, 0.453662...\n",
       "5        [[0.08771791168921587, 0.08770793314506449, 0....\n",
       "                               ...                        \n",
       "19369    [[0.4266309674972206, 0.026658812829471436, 0....\n",
       "19375    [[0.017357211613313755, 0.017359088219601054, ...\n",
       "19382    [[0.08770580137777596, 0.964763821690127, 0.08...\n",
       "19406    [[0.032111729127302216, 0.03211075305272693, 0...\n",
       "19483    [[0.49502416266692345, 0.4693936440073529, 0.0...\n",
       "Name: topic_scores, Length: 14447, dtype: object"
      ]
     },
     "execution_count": 970,
     "metadata": {},
     "output_type": "execute_result"
    }
   ],
   "source": [
    "clean_scored_room_db.topic_scores"
   ]
  },
  {
   "cell_type": "code",
   "execution_count": 1001,
   "metadata": {},
   "outputs": [
    {
     "data": {
      "text/plain": [
       "0        [[0.3251676503712088, 0.0, 0.0, 0.0, 0.9456563...\n",
       "1        [[0.0, 0.0, 0.0, 0.18682568814255882, 0.0, 0.0...\n",
       "3        [[0.0, 0.03309587654277409, 0.1352477273350135...\n",
       "4        [[0.10514095077870025, 0.0, 0.0, 0.0, 0.453662...\n",
       "5        [[0.08771791168921587, 0.08770793314506449, 0....\n",
       "                               ...                        \n",
       "19369    [[0.4266309674972206, 0.026658812829471436, 0....\n",
       "19375    [[0.017357211613313755, 0.017359088219601054, ...\n",
       "19382    [[0.08770580137777596, 0.964763821690127, 0.08...\n",
       "19406    [[0.032111729127302216, 0.03211075305272693, 0...\n",
       "19483    [[0.49502416266692345, 0.4693936440073529, 0.0...\n",
       "Name: topic_scores, Length: 14447, dtype: object"
      ]
     },
     "execution_count": 1001,
     "metadata": {},
     "output_type": "execute_result"
    }
   ],
   "source": [
    "clean_scored_room_db_verbose.topic_scores.apply(lambda x: x.tolist())\n"
   ]
  },
  {
   "cell_type": "code",
   "execution_count": 1005,
   "metadata": {},
   "outputs": [
    {
     "data": {
      "text/plain": [
       "[[0.3251676503712088,\n",
       "  0.0,\n",
       "  0.0,\n",
       "  0.0,\n",
       "  0.9456563853493865,\n",
       "  0.0,\n",
       "  0.0,\n",
       "  0.0,\n",
       "  0.0,\n",
       "  0.0],\n",
       " [0.08772178026996966,\n",
       "  0.0877213947106921,\n",
       "  0.08771077549330172,\n",
       "  0.08771683988329451,\n",
       "  0.08771674185974937,\n",
       "  0.08771967603120061,\n",
       "  0.08771610797415745,\n",
       "  0.08771007625867971,\n",
       "  0.0877106970744656,\n",
       "  0.9647554686122777],\n",
       " [0.047142429866475696,\n",
       "  0.04714242459789887,\n",
       "  0.04714256684947312,\n",
       "  0.04715065938347486,\n",
       "  0.047144937709043946,\n",
       "  0.04714623904751948,\n",
       "  0.04714319381011518,\n",
       "  0.0471442264511727,\n",
       "  0.9899465340647106,\n",
       "  0.0471695314256586],\n",
       " [0.03321104530059488,\n",
       "  0.03321071128122115,\n",
       "  0.033218573107591645,\n",
       "  0.033222117424279524,\n",
       "  0.0332141720930656,\n",
       "  0.033210865919820094,\n",
       "  0.03321058138479804,\n",
       "  0.7937038131432005,\n",
       "  0.033210698910133236,\n",
       "  0.6010067498470678],\n",
       " [0.0,\n",
       "  0.678707300509623,\n",
       "  0.40417999610103905,\n",
       "  0.0,\n",
       "  0.0,\n",
       "  0.0,\n",
       "  0.0,\n",
       "  0.13709322321391104,\n",
       "  0.46051075940769454,\n",
       "  0.38095960363964265],\n",
       " [0.017239292484681798,\n",
       "  0.01723911622641312,\n",
       "  0.01723784341055487,\n",
       "  0.017238321619464154,\n",
       "  0.9353322903825713,\n",
       "  0.017240167997065563,\n",
       "  0.017244853288584626,\n",
       "  0.2329926962864201,\n",
       "  0.01723955542734491,\n",
       "  0.2622735520495534],\n",
       " [0.8918058936735948,\n",
       "  0.016375970975031216,\n",
       "  0.27175041997088056,\n",
       "  0.01637361051954909,\n",
       "  0.01637543423063218,\n",
       "  0.0163762988160704,\n",
       "  0.016373875842064522,\n",
       "  0.35910581488881066,\n",
       "  0.016375039296543117,\n",
       "  0.016374360741834106],\n",
       " [0.024110911519193996,\n",
       "  0.3032115605488466,\n",
       "  0.02411592872587214,\n",
       "  0.024115096117459923,\n",
       "  0.02411681522479647,\n",
       "  0.9504790336913713,\n",
       "  0.02411104085642308,\n",
       "  0.024112945886026433,\n",
       "  0.0241135737104926,\n",
       "  0.024125556265861933],\n",
       " [0.04714163064374887,\n",
       "  0.047145134182457284,\n",
       "  0.047141604301352565,\n",
       "  0.04714462313996899,\n",
       "  0.04715285777305358,\n",
       "  0.04714701502955338,\n",
       "  0.04714261058089137,\n",
       "  0.04714155688503922,\n",
       "  0.047141693865499996,\n",
       "  0.9899478431691505],\n",
       " [0.31622776601683794,\n",
       "  0.31622776601683794,\n",
       "  0.31622776601683794,\n",
       "  0.31622776601683794,\n",
       "  0.31622776601683794,\n",
       "  0.31622776601683794,\n",
       "  0.31622776601683794,\n",
       "  0.31622776601683794,\n",
       "  0.31622776601683794,\n",
       "  0.31622776601683794],\n",
       " [0.0,\n",
       "  0.10452690953478633,\n",
       "  0.48788777588213444,\n",
       "  0.0,\n",
       "  0.5753341239882298,\n",
       "  0.37986117711610307,\n",
       "  0.3618863213000601,\n",
       "  0.33183567580954293,\n",
       "  0.0,\n",
       "  0.18616968050273147],\n",
       " [0.0,\n",
       "  0.0,\n",
       "  0.7526668185239491,\n",
       "  0.0,\n",
       "  0.2777123063730612,\n",
       "  0.19755253441844636,\n",
       "  0.0,\n",
       "  0.39516464321617073,\n",
       "  0.0,\n",
       "  0.4014803059661539],\n",
       " [0.4978136234216477,\n",
       "  0.4970201958941487,\n",
       "  0.4969297223356743,\n",
       "  0.04517542853828135,\n",
       "  0.045176943162586164,\n",
       "  0.045175744085011516,\n",
       "  0.045175441160150556,\n",
       "  0.4959517462512128,\n",
       "  0.045177145112493475,\n",
       "  0.04517542853828135],\n",
       " [0.08775293294968305,\n",
       "  0.08773215722261325,\n",
       "  0.08771557062453111,\n",
       "  0.08773073906194193,\n",
       "  0.08772530822545405,\n",
       "  0.08771540724196529,\n",
       "  0.08772370054100637,\n",
       "  0.0877310135446525,\n",
       "  0.08773545755044283,\n",
       "  0.9647447207343574],\n",
       " [0.03315702971987652,\n",
       "  0.03315205573656299,\n",
       "  0.03315239845049707,\n",
       "  0.033151916798481604,\n",
       "  0.03315577618963114,\n",
       "  0.5916269532502396,\n",
       "  0.03315565268911436,\n",
       "  0.8007398066784696,\n",
       "  0.033152364487854954,\n",
       "  0.033151916798481604],\n",
       " [0.030310914211445772,\n",
       "  0.03031494731634993,\n",
       "  0.03031160568149582,\n",
       "  0.030312607607486705,\n",
       "  0.030307078669413054,\n",
       "  0.030306669432036495,\n",
       "  0.03030660451852159,\n",
       "  0.9386249502727353,\n",
       "  0.030313967968972923,\n",
       "  0.3341157993786285],\n",
       " [0.0,\n",
       "  0.0,\n",
       "  0.0,\n",
       "  0.0,\n",
       "  0.0,\n",
       "  0.0,\n",
       "  0.641409385874204,\n",
       "  0.3869238091767096,\n",
       "  0.0,\n",
       "  0.66248318137494],\n",
       " [0.0,\n",
       "  0.3400881436374983,\n",
       "  0.0,\n",
       "  0.20040700206390788,\n",
       "  0.8393451833406302,\n",
       "  0.0,\n",
       "  0.0,\n",
       "  0.37373352978270596,\n",
       "  0.0,\n",
       "  0.0],\n",
       " [0.06281396948358924,\n",
       "  0.06280718962831203,\n",
       "  0.7747797388190574,\n",
       "  0.06280725279466554,\n",
       "  0.06280770197762386,\n",
       "  0.0628155486424271,\n",
       "  0.06280269078024506,\n",
       "  0.06280363827554776,\n",
       "  0.06281290267406321,\n",
       "  0.6067592036462097],\n",
       " [0.08772129678962884,\n",
       "  0.08771648047030632,\n",
       "  0.08773304677896657,\n",
       "  0.9647519699403245,\n",
       "  0.08772066289142764,\n",
       "  0.08771318027864027,\n",
       "  0.08771415399855757,\n",
       "  0.08773057000145879,\n",
       "  0.08771668305632938,\n",
       "  0.08771649354037232],\n",
       " [0.0,\n",
       "  0.0,\n",
       "  0.1536101694813997,\n",
       "  0.0,\n",
       "  0.0,\n",
       "  0.0,\n",
       "  0.9881315275973617,\n",
       "  0.0,\n",
       "  0.0,\n",
       "  0.0],\n",
       " [0.08770706457203092,\n",
       "  0.08770706457203092,\n",
       "  0.08770706457203092,\n",
       "  0.08770722140448142,\n",
       "  0.08770948894032833,\n",
       "  0.08770731289007756,\n",
       "  0.08770729982070669,\n",
       "  0.08770708417608723,\n",
       "  0.08772032998346957,\n",
       "  0.9647613016972059],\n",
       " [0.0,\n",
       "  0.0,\n",
       "  0.0,\n",
       "  0.14338420412889985,\n",
       "  0.871128148101865,\n",
       "  0.34479003850960194,\n",
       "  0.0,\n",
       "  0.31889896352212344,\n",
       "  0.0,\n",
       "  0.0],\n",
       " [0.08770605104975696,\n",
       "  0.0877065150070616,\n",
       "  0.08770610332663635,\n",
       "  0.08770605104975696,\n",
       "  0.08770605104975696,\n",
       "  0.08770626669188447,\n",
       "  0.08770605104975696,\n",
       "  0.08770605104975696,\n",
       "  0.08770851459769849,\n",
       "  0.964763326915414],\n",
       " [0.024325672194053467,\n",
       "  0.9973331559128616,\n",
       "  0.024325672194053467,\n",
       "  0.024325731097162236,\n",
       "  0.024329453320535505,\n",
       "  0.024330866995145924,\n",
       "  0.024325799062287736,\n",
       "  0.024325672194053467,\n",
       "  0.024325672194053467,\n",
       "  0.024335647208972824],\n",
       " [0.01753742152940825,\n",
       "  0.017538392303545404,\n",
       "  0.017538630097479403,\n",
       "  0.017537390171966406,\n",
       "  0.3147136761326774,\n",
       "  0.9478895597111927,\n",
       "  0.017539164480550862,\n",
       "  0.01753793631407856,\n",
       "  0.017538019933923482,\n",
       "  0.017537988576481634],\n",
       " [0.02586672093823792,\n",
       "  0.32403332583085204,\n",
       "  0.025867284141737067,\n",
       "  0.025866150989786688,\n",
       "  0.025868265532265525,\n",
       "  0.5145677001238138,\n",
       "  0.02587015243261147,\n",
       "  0.02586627577140027,\n",
       "  0.025868439214781727,\n",
       "  0.790909951899752],\n",
       " [0.041901948427282745,\n",
       "  0.8796019832665007,\n",
       "  0.04188580174247325,\n",
       "  0.041893204126773234,\n",
       "  0.04188580174247325,\n",
       "  0.04188580174247325,\n",
       "  0.04188580174247325,\n",
       "  0.04188580174247325,\n",
       "  0.04188580174247325,\n",
       "  0.4607201046991216],\n",
       " [0.03900821890000061,\n",
       "  0.5035260936742021,\n",
       "  0.03900229838644194,\n",
       "  0.039004205300318194,\n",
       "  0.03900468838516685,\n",
       "  0.7405051169093547,\n",
       "  0.039005425725199,\n",
       "  0.43297158785063794,\n",
       "  0.039003362625995734,\n",
       "  0.03900063119888155],\n",
       " [0.04715652645813259,\n",
       "  0.04714727484384731,\n",
       "  0.9899465846242252,\n",
       "  0.047142396145198,\n",
       "  0.047152590834060204,\n",
       "  0.047144767003072935,\n",
       "  0.04714550987187375,\n",
       "  0.04714589974627985,\n",
       "  0.0471428334367616,\n",
       "  0.047147353872443135],\n",
       " [0.021135162006192573,\n",
       "  0.2376429004895738,\n",
       "  0.43002887099577003,\n",
       "  0.02112922232845976,\n",
       "  0.021133111276671227,\n",
       "  0.021130378741566355,\n",
       "  0.021129985596528584,\n",
       "  0.2860040753564171,\n",
       "  0.021130901164026456,\n",
       "  0.8210502171937997],\n",
       " [0.0,\n",
       "  0.1620466843175561,\n",
       "  0.0,\n",
       "  0.0,\n",
       "  0.1994207957936925,\n",
       "  0.0,\n",
       "  0.0,\n",
       "  0.0,\n",
       "  0.9482998801619575,\n",
       "  0.1862781672432754],\n",
       " [0.02400209281978333,\n",
       "  0.023997207339739944,\n",
       "  0.2770144964321544,\n",
       "  0.023996836587652115,\n",
       "  0.023999331733559642,\n",
       "  0.337191170817314,\n",
       "  0.02399803644778445,\n",
       "  0.8975151524303493,\n",
       "  0.023999643040165032,\n",
       "  0.02399923161485238],\n",
       " [0.31622776601683794,\n",
       "  0.31622776601683794,\n",
       "  0.31622776601683794,\n",
       "  0.31622776601683794,\n",
       "  0.31622776601683794,\n",
       "  0.31622776601683794,\n",
       "  0.31622776601683794,\n",
       "  0.31622776601683794,\n",
       "  0.31622776601683794,\n",
       "  0.31622776601683794],\n",
       " [0.31622776601683794,\n",
       "  0.31622776601683794,\n",
       "  0.31622776601683794,\n",
       "  0.31622776601683794,\n",
       "  0.31622776601683794,\n",
       "  0.31622776601683794,\n",
       "  0.31622776601683794,\n",
       "  0.31622776601683794,\n",
       "  0.31622776601683794,\n",
       "  0.31622776601683794],\n",
       " [0.03863977972669194,\n",
       "  0.03863518845835107,\n",
       "  0.5349017600629629,\n",
       "  0.038641409698916405,\n",
       "  0.03863880462189541,\n",
       "  0.3773295169604923,\n",
       "  0.03863821452157574,\n",
       "  0.038657004179315564,\n",
       "  0.038639653790648106,\n",
       "  0.7490329886878427],\n",
       " [0.039134438364531635,\n",
       "  0.0391296872172863,\n",
       "  0.039122615149185705,\n",
       "  0.5206937334272382,\n",
       "  0.039127260634414074,\n",
       "  0.43304448160102055,\n",
       "  0.03913372787855553,\n",
       "  0.7284449046166647,\n",
       "  0.039132656684314635,\n",
       "  0.03913517799865034],\n",
       " [0.023330571622720207,\n",
       "  0.023317346346725425,\n",
       "  0.023319590804440554,\n",
       "  0.02331795610265268,\n",
       "  0.023325080344982194,\n",
       "  0.7001539007522318,\n",
       "  0.023318169777806673,\n",
       "  0.5461007160686172,\n",
       "  0.023319503944621855,\n",
       "  0.4557975240023576],\n",
       " [0.08770622597634564,\n",
       "  0.08770615409555738,\n",
       "  0.08770614756094026,\n",
       "  0.08770614756094026,\n",
       "  0.08770658538028697,\n",
       "  0.08770663112260678,\n",
       "  0.08770614756094026,\n",
       "  0.9647631338883849,\n",
       "  0.08770959130415992,\n",
       "  0.08770614756094026],\n",
       " [0.032119078848997465,\n",
       "  0.03211249982863486,\n",
       "  0.03211060746314147,\n",
       "  0.032113530940553504,\n",
       "  0.03212331573811098,\n",
       "  0.9953476175376584,\n",
       "  0.03211170316907822,\n",
       "  0.03212302386884398,\n",
       "  0.032120947290780445,\n",
       "  0.032112140972978716],\n",
       " [0.31622776601683794,\n",
       "  0.31622776601683794,\n",
       "  0.31622776601683794,\n",
       "  0.31622776601683794,\n",
       "  0.31622776601683794,\n",
       "  0.31622776601683794,\n",
       "  0.31622776601683794,\n",
       "  0.31622776601683794,\n",
       "  0.31622776601683794,\n",
       "  0.31622776601683794],\n",
       " [0.02700746854711316,\n",
       "  0.027006430441567624,\n",
       "  0.02700507245466213,\n",
       "  0.027018072915970758,\n",
       "  0.6370443801973606,\n",
       "  0.02700679558915777,\n",
       "  0.027009505527471406,\n",
       "  0.7670325767308523,\n",
       "  0.027007755233237656,\n",
       "  0.027003403639642706],\n",
       " [0.7686405815965398,\n",
       "  0.4114386564904833,\n",
       "  0.0313802250889689,\n",
       "  0.03137869280279216,\n",
       "  0.03137921525277004,\n",
       "  0.03138675396050458,\n",
       "  0.03138072650069264,\n",
       "  0.03138972386071442,\n",
       "  0.0313791942145159,\n",
       "  0.482717355515855],\n",
       " [0.01957429081342963,\n",
       "  0.01957423612366076,\n",
       "  0.019574555511910972,\n",
       "  0.01957550055111708,\n",
       "  0.01957620714293091,\n",
       "  0.019574391442604356,\n",
       "  0.019578733810252796,\n",
       "  0.01957456426227399,\n",
       "  0.9982741046239493,\n",
       "  0.019577281249991554],\n",
       " [0.0,\n",
       "  0.0,\n",
       "  0.25444849906119205,\n",
       "  0.13893325653513117,\n",
       "  0.0,\n",
       "  0.6989913756874262,\n",
       "  0.5569744329823523,\n",
       "  0.23969038517280264,\n",
       "  0.24432062648976244,\n",
       "  0.0],\n",
       " [0.08770621783320502,\n",
       "  0.08770614595242342,\n",
       "  0.08770613941780692,\n",
       "  0.08770613941780692,\n",
       "  0.08770657723711298,\n",
       "  0.08770662297942854,\n",
       "  0.08770613941780692,\n",
       "  0.9647631488681989,\n",
       "  0.08770949167607572,\n",
       "  0.08770613941780692],\n",
       " [0.31622776601683794,\n",
       "  0.31622776601683794,\n",
       "  0.31622776601683794,\n",
       "  0.31622776601683794,\n",
       "  0.31622776601683794,\n",
       "  0.31622776601683794,\n",
       "  0.31622776601683794,\n",
       "  0.31622776601683794,\n",
       "  0.31622776601683794,\n",
       "  0.31622776601683794],\n",
       " [0.6040680647872257,\n",
       "  0.019441656126017264,\n",
       "  0.01944042545176538,\n",
       "  0.019433707418202148,\n",
       "  0.01943618324522653,\n",
       "  0.019434687614047475,\n",
       "  0.01943639463162744,\n",
       "  0.019453600905520854,\n",
       "  0.7950336822427231,\n",
       "  0.01944098142695682],\n",
       " [0.0,\n",
       "  0.0,\n",
       "  0.0,\n",
       "  0.30348681968671665,\n",
       "  0.7546939144202358,\n",
       "  0.0,\n",
       "  0.0,\n",
       "  0.0,\n",
       "  0.5422884485453433,\n",
       "  0.21037130124565143],\n",
       " [0.08770884662121489,\n",
       "  0.08770885969084936,\n",
       "  0.08771221858690918,\n",
       "  0.08772055701370361,\n",
       "  0.08771187224159563,\n",
       "  0.08770919296652846,\n",
       "  0.08771008823648992,\n",
       "  0.9647577575846282,\n",
       "  0.08771629631286508,\n",
       "  0.08772098177682401],\n",
       " [0.0,\n",
       "  0.0,\n",
       "  0.0,\n",
       "  0.24867410012931312,\n",
       "  0.5088611750422601,\n",
       "  0.5131401526293013,\n",
       "  0.0,\n",
       "  0.603368584371872,\n",
       "  0.0,\n",
       "  0.22771699895297035],\n",
       " [0.31622776601683794,\n",
       "  0.31622776601683794,\n",
       "  0.31622776601683794,\n",
       "  0.31622776601683794,\n",
       "  0.31622776601683794,\n",
       "  0.31622776601683794,\n",
       "  0.31622776601683794,\n",
       "  0.31622776601683794,\n",
       "  0.31622776601683794,\n",
       "  0.31622776601683794],\n",
       " [0.0,\n",
       "  0.2717811605427575,\n",
       "  0.2744764669211956,\n",
       "  0.0,\n",
       "  0.7947026237260597,\n",
       "  0.0,\n",
       "  0.0,\n",
       "  0.4682364890986247,\n",
       "  0.0,\n",
       "  0.0],\n",
       " [0.0,\n",
       "  0.2503764665311851,\n",
       "  0.0,\n",
       "  0.546210729561343,\n",
       "  0.45586675030884466,\n",
       "  0.22626895001448336,\n",
       "  0.2682031367366013,\n",
       "  0.0,\n",
       "  0.0,\n",
       "  0.5549958644767261],\n",
       " [0.0,\n",
       "  0.0,\n",
       "  0.0,\n",
       "  0.0,\n",
       "  0.0,\n",
       "  0.49659444735914504,\n",
       "  0.8216822917204717,\n",
       "  0.2797001364409016,\n",
       "  0.0,\n",
       "  0.0],\n",
       " [0.04189195426069748,\n",
       "  0.04189310592714068,\n",
       "  0.041890637178748885,\n",
       "  0.04188998800091641,\n",
       "  0.04188999736405822,\n",
       "  0.46103955491285115,\n",
       "  0.04189033755821082,\n",
       "  0.8794338190219307,\n",
       "  0.04189007851128728,\n",
       "  0.04188998800091641],\n",
       " [0.4228786048849245,\n",
       "  0.2143570962183094,\n",
       "  0.0,\n",
       "  0.0,\n",
       "  0.3479032036203854,\n",
       "  0.26830992302618795,\n",
       "  0.7285595335276149,\n",
       "  0.0,\n",
       "  0.0,\n",
       "  0.22671319558819697],\n",
       " [0.04714411173841152,\n",
       "  0.047143900999878564,\n",
       "  0.04714249958863438,\n",
       "  0.047145112746443084,\n",
       "  0.04714366391902898,\n",
       "  0.04714393261065851,\n",
       "  0.04714341630125275,\n",
       "  0.04714237841397793,\n",
       "  0.04714532875343937,\n",
       "  0.989948051873184],\n",
       " [0.02223988099838014,\n",
       "  0.022234503324744026,\n",
       "  0.022236738465646153,\n",
       "  0.02223771398434079,\n",
       "  0.8408007515045244,\n",
       "  0.022242307474301126,\n",
       "  0.022236354346100714,\n",
       "  0.5376776100936079,\n",
       "  0.022240320199218885,\n",
       "  0.022250897257041723],\n",
       " [0.0,\n",
       "  0.0,\n",
       "  0.0,\n",
       "  0.0,\n",
       "  0.0,\n",
       "  0.0,\n",
       "  0.8960914023766714,\n",
       "  0.0,\n",
       "  0.395329178342053,\n",
       "  0.2018292331105875],\n",
       " [0.31622776601683794,\n",
       "  0.31622776601683794,\n",
       "  0.31622776601683794,\n",
       "  0.31622776601683794,\n",
       "  0.31622776601683794,\n",
       "  0.31622776601683794,\n",
       "  0.31622776601683794,\n",
       "  0.31622776601683794,\n",
       "  0.31622776601683794,\n",
       "  0.31622776601683794],\n",
       " [0.0,\n",
       "  0.0,\n",
       "  0.0,\n",
       "  0.0,\n",
       "  0.0,\n",
       "  0.0,\n",
       "  0.12037750301286584,\n",
       "  0.0,\n",
       "  0.9167080943870513,\n",
       "  0.3809928168005909],\n",
       " [0.8243681945711023,\n",
       "  0.03047036476609346,\n",
       "  0.030489413441116622,\n",
       "  0.030471924346565503,\n",
       "  0.030470405628463905,\n",
       "  0.030469469199141175,\n",
       "  0.030478653016899032,\n",
       "  0.36780396709201124,\n",
       "  0.03047527506094212,\n",
       "  0.42265377211662236],\n",
       " [0.8486296499869477,\n",
       "  0.0,\n",
       "  0.1347167480751039,\n",
       "  0.1466911912169337,\n",
       "  0.0,\n",
       "  0.4732016572942309,\n",
       "  0.0,\n",
       "  0.0,\n",
       "  0.12744018559485012,\n",
       "  0.0],\n",
       " [0.02597679271456314,\n",
       "  0.025968064933419337,\n",
       "  0.0259625578427907,\n",
       "  0.025962784161583655,\n",
       "  0.025973241250427496,\n",
       "  0.025967763175028725,\n",
       "  0.025969483778159802,\n",
       "  0.4708462907215861,\n",
       "  0.8791524586236802,\n",
       "  0.025963863528134686],\n",
       " [0.03954330438961313,\n",
       "  0.03954459482300754,\n",
       "  0.03954802419394611,\n",
       "  0.03954524298589971,\n",
       "  0.03954453295291329,\n",
       "  0.03954356365477,\n",
       "  0.03954331322819802,\n",
       "  0.326976542244095,\n",
       "  0.9383900597410363,\n",
       "  0.03954717568979636],\n",
       " [0.9690537709339478,\n",
       "  0.0,\n",
       "  0.0,\n",
       "  0.0,\n",
       "  0.0,\n",
       "  0.0,\n",
       "  0.0,\n",
       "  0.24684972967110144,\n",
       "  0.0,\n",
       "  0.0],\n",
       " [0.0,\n",
       "  0.19368602687102723,\n",
       "  0.0,\n",
       "  0.0,\n",
       "  0.8312056552233588,\n",
       "  0.0,\n",
       "  0.0,\n",
       "  0.4436261758908201,\n",
       "  0.0,\n",
       "  0.27345693954279077],\n",
       " [0.01726240205175118,\n",
       "  0.24794376367498366,\n",
       "  0.01726365063128858,\n",
       "  0.017262966299746066,\n",
       "  0.9349056162171078,\n",
       "  0.01727077462392144,\n",
       "  0.017263449527516045,\n",
       "  0.01726471546853021,\n",
       "  0.2497777837832413,\n",
       "  0.017263448080726315],\n",
       " [0.0,\n",
       "  0.727110255564678,\n",
       "  0.269804084383362,\n",
       "  0.0,\n",
       "  0.0,\n",
       "  0.0,\n",
       "  0.0,\n",
       "  0.5673083305890319,\n",
       "  0.0,\n",
       "  0.2769073678091832],\n",
       " [0.02432521244076052,\n",
       "  0.02432521244076052,\n",
       "  0.02432521244076052,\n",
       "  0.02432521244076052,\n",
       "  0.02432521244076052,\n",
       "  0.02432521244076052,\n",
       "  0.02432521244076052,\n",
       "  0.02432521244076052,\n",
       "  0.02432521244076052,\n",
       "  0.9973337236639532],\n",
       " [0.016636542150537212,\n",
       "  0.27748686598741257,\n",
       "  0.01663764349857653,\n",
       "  0.0166335076346314,\n",
       "  0.8749639702009656,\n",
       "  0.01663318234196156,\n",
       "  0.01663634852394802,\n",
       "  0.39433717289313186,\n",
       "  0.01663347200733899,\n",
       "  0.01664096148380892],\n",
       " [0.0,\n",
       "  0.1816092175925954,\n",
       "  0.38456558080644027,\n",
       "  0.0,\n",
       "  0.8791170274145421,\n",
       "  0.0,\n",
       "  0.0,\n",
       "  0.0,\n",
       "  0.0,\n",
       "  0.21512939886084806],\n",
       " [0.0,\n",
       "  0.0,\n",
       "  0.0,\n",
       "  0.0,\n",
       "  0.25568658082088863,\n",
       "  0.6196792838380134,\n",
       "  0.0,\n",
       "  0.0,\n",
       "  0.2631215768166273,\n",
       "  0.6938220185203564],\n",
       " [0.019269029758261714,\n",
       "  0.019269654241851553,\n",
       "  0.019268336366137822,\n",
       "  0.019268715363075103,\n",
       "  0.019269199158407923,\n",
       "  0.23577709556753987,\n",
       "  0.019270252884741126,\n",
       "  0.22732838099407932,\n",
       "  0.019269217821135894,\n",
       "  0.9434679929398623],\n",
       " [0.0,\n",
       "  0.0,\n",
       "  0.0,\n",
       "  0.0,\n",
       "  0.0,\n",
       "  0.4919512459465075,\n",
       "  0.0,\n",
       "  0.6147360840529047,\n",
       "  0.0,\n",
       "  0.6165091390847169],\n",
       " [0.0,\n",
       "  0.14579090631866304,\n",
       "  0.2024272352592623,\n",
       "  0.0,\n",
       "  0.0,\n",
       "  0.0,\n",
       "  0.0,\n",
       "  0.5772829963965985,\n",
       "  0.0,\n",
       "  0.7775040630964182],\n",
       " [0.2535254672160056,\n",
       "  0.2755238157993619,\n",
       "  0.023087450704192793,\n",
       "  0.023085516873006175,\n",
       "  0.023085738097274218,\n",
       "  0.023090495171500598,\n",
       "  0.023084603382321135,\n",
       "  0.023088233266229403,\n",
       "  0.02308554396169206,\n",
       "  0.9252461634027508],\n",
       " [0.024386620721016567,\n",
       "  0.024385701893659798,\n",
       "  0.024384585947631335,\n",
       "  0.02438538237065165,\n",
       "  0.814983663571355,\n",
       "  0.024386900502357037,\n",
       "  0.02438703085502703,\n",
       "  0.02438711033836239,\n",
       "  0.5497725722734234,\n",
       "  0.17143203584729244],\n",
       " [0.0,\n",
       "  0.1358814200620471,\n",
       "  0.33707497876592113,\n",
       "  0.07430116267320538,\n",
       "  0.0,\n",
       "  0.0,\n",
       "  0.29401427213588516,\n",
       "  0.09088027979258301,\n",
       "  0.0,\n",
       "  0.8761805853375848],\n",
       " [0.026326876955562392,\n",
       "  0.02632255447640548,\n",
       "  0.02632312074005049,\n",
       "  0.36226838178832943,\n",
       "  0.026324637640238943,\n",
       "  0.7578992878626301,\n",
       "  0.026323681855844182,\n",
       "  0.5380516626530177,\n",
       "  0.026324472908996758,\n",
       "  0.026323158490960157],\n",
       " [0.8807133296829595,\n",
       "  0.0320390850787139,\n",
       "  0.03204325353601567,\n",
       "  0.03204014136639094,\n",
       "  0.03204980610024953,\n",
       "  0.032046923688113876,\n",
       "  0.03203951177119361,\n",
       "  0.46489824982717776,\n",
       "  0.032040314430473615,\n",
       "  0.03203899257894557],\n",
       " [0.0,\n",
       "  0.0,\n",
       "  0.0,\n",
       "  0.0,\n",
       "  0.8791321884915196,\n",
       "  0.4765780053234845,\n",
       "  0.0,\n",
       "  0.0,\n",
       "  0.0,\n",
       "  0.0],\n",
       " [0.14861445252250324,\n",
       "  0.1121447607665764,\n",
       "  0.0,\n",
       "  0.3436900399371057,\n",
       "  0.0,\n",
       "  0.0,\n",
       "  0.0,\n",
       "  0.26062658398249516,\n",
       "  0.8746657065090205,\n",
       "  0.11936556941080585],\n",
       " [0.021227869744543288,\n",
       "  0.02122647678635771,\n",
       "  0.021225142535222095,\n",
       "  0.02122715814393763,\n",
       "  0.021226531935404646,\n",
       "  0.5103624022855422,\n",
       "  0.7866518121940103,\n",
       "  0.2434942997557722,\n",
       "  0.021232927445848017,\n",
       "  0.24231381127903046],\n",
       " [0.020462896420229977,\n",
       "  0.020471539996345333,\n",
       "  0.020464866949784846,\n",
       "  0.020461119685139598,\n",
       "  0.02046206121753788,\n",
       "  0.7152789182020575,\n",
       "  0.020465335143491095,\n",
       "  0.4570783417632731,\n",
       "  0.02046157930386954,\n",
       "  0.5258554689926194],\n",
       " [0.029450786504647674,\n",
       "  0.029448996283105346,\n",
       "  0.02944839734869229,\n",
       "  0.029451454546877625,\n",
       "  0.029450069099691376,\n",
       "  0.36597527949263514,\n",
       "  0.029446587382059422,\n",
       "  0.32675979211148315,\n",
       "  0.02944722580665356,\n",
       "  0.8678821333477583],\n",
       " [0.019641581034319216,\n",
       "  0.01963529946579808,\n",
       "  0.7761948292408466,\n",
       "  0.019640550837333563,\n",
       "  0.01964011966862711,\n",
       "  0.30275521172528896,\n",
       "  0.0196363790332463,\n",
       "  0.01965488143693589,\n",
       "  0.019638752106813886,\n",
       "  0.5506000946915712],\n",
       " [0.08770623422002437,\n",
       "  0.08770616233922934,\n",
       "  0.08770615580461162,\n",
       "  0.08770615580461162,\n",
       "  0.08770659362399949,\n",
       "  0.08770663936632359,\n",
       "  0.08770615580461162,\n",
       "  0.9647631200144641,\n",
       "  0.08770967796356773,\n",
       "  0.08770615580461162],\n",
       " [0.0,\n",
       "  0.6011363773082278,\n",
       "  0.493885951468337,\n",
       "  0.6282608716281444,\n",
       "  0.0,\n",
       "  0.0,\n",
       "  0.0,\n",
       "  0.0,\n",
       "  0.0,\n",
       "  0.0],\n",
       " [0.02600822718439223,\n",
       "  0.6764163155517853,\n",
       "  0.026000334812169207,\n",
       "  0.6751817905869762,\n",
       "  0.02599647929428057,\n",
       "  0.28610943089219754,\n",
       "  0.025996784346245385,\n",
       "  0.02600163128301967,\n",
       "  0.025998141827488812,\n",
       "  0.02599669283065594],\n",
       " [0.022641579344443913,\n",
       "  0.022641602117446254,\n",
       "  0.9777989562356297,\n",
       "  0.0226440135253608,\n",
       "  0.02264161223878063,\n",
       "  0.022643267076950736,\n",
       "  0.022641118823729905,\n",
       "  0.02264512181147473,\n",
       "  0.022647039804338555,\n",
       "  0.19951816010149362],\n",
       " [0.5988313429020875,\n",
       "  0.0,\n",
       "  0.33150394987692444,\n",
       "  0.0,\n",
       "  0.0,\n",
       "  0.33480299171142974,\n",
       "  0.0,\n",
       "  0.6476211166377732,\n",
       "  0.0,\n",
       "  0.0],\n",
       " [0.0,\n",
       "  0.3693577039497425,\n",
       "  0.24419375900554352,\n",
       "  0.0,\n",
       "  0.5083996765668124,\n",
       "  0.0,\n",
       "  0.0,\n",
       "  0.45435594642237886,\n",
       "  0.0,\n",
       "  0.5822668953436232],\n",
       " [0.025168323749848922,\n",
       "  0.025167590774304204,\n",
       "  0.02516342724825609,\n",
       "  0.02516676219325366,\n",
       "  0.02516490257243433,\n",
       "  0.5160574947708483,\n",
       "  0.28680961890404094,\n",
       "  0.3210559460045515,\n",
       "  0.025166627220774836,\n",
       "  0.7379349134896638],\n",
       " [0.6764117473679583,\n",
       "  0.7144843559886953,\n",
       "  0.06322322717942262,\n",
       "  0.06322872432910054,\n",
       "  0.06322536103443899,\n",
       "  0.06322420931798975,\n",
       "  0.06322326250814805,\n",
       "  0.06322576378190896,\n",
       "  0.06322661167131943,\n",
       "  0.06322322011367754],\n",
       " [0.8334820931033838,\n",
       "  0.5203136803108026,\n",
       "  0.0,\n",
       "  0.0,\n",
       "  0.1859604112638768,\n",
       "  0.0,\n",
       "  0.0,\n",
       "  0.0,\n",
       "  0.0,\n",
       "  0.0],\n",
       " [0.0877456600855564,\n",
       "  0.08771942156241679,\n",
       "  0.0877130694218211,\n",
       "  0.08771743488469962,\n",
       "  0.08773000192828553,\n",
       "  0.9647495206158236,\n",
       "  0.08771479469457548,\n",
       "  0.08771310863256551,\n",
       "  0.08772972745307461,\n",
       "  0.08772628344268991],\n",
       " [0.02135823288023398,\n",
       "  0.0213569311926739,\n",
       "  0.02135769689123865,\n",
       "  0.021361912409882416,\n",
       "  0.021357283414013686,\n",
       "  0.021356314457284472,\n",
       "  0.021355933000181303,\n",
       "  0.417154003668577,\n",
       "  0.021356711228358936,\n",
       "  0.9068259763440898],\n",
       " [0.0,\n",
       "  0.1133559486814882,\n",
       "  0.30986362198134343,\n",
       "  0.0,\n",
       "  0.4732850783167706,\n",
       "  0.0,\n",
       "  0.5933031249978735,\n",
       "  0.1599746302512024,\n",
       "  0.5048263579876306,\n",
       "  0.18624195858749062],\n",
       " [0.0,\n",
       "  0.1445993224589181,\n",
       "  0.0,\n",
       "  0.0,\n",
       "  0.8450508536486793,\n",
       "  0.0,\n",
       "  0.16722859536859158,\n",
       "  0.0,\n",
       "  0.48684154258147305,\n",
       "  0.0],\n",
       " [0.017932801194313834,\n",
       "  0.35831111766264645,\n",
       "  0.01793060963885431,\n",
       "  0.01792852759439276,\n",
       "  0.017935766004259078,\n",
       "  0.01792894827688499,\n",
       "  0.017928205738898705,\n",
       "  0.017932328427322567,\n",
       "  0.01793021700186156,\n",
       "  0.932223684639527],\n",
       " [0.2089315404881264,\n",
       "  0.1392874591189429,\n",
       "  0.6643320230254811,\n",
       "  0.0,\n",
       "  0.1575113892403416,\n",
       "  0.35919711033888047,\n",
       "  0.0,\n",
       "  0.5463727026085688,\n",
       "  0.1659894510926944,\n",
       "  0.12530581973016627],\n",
       " [0.0,\n",
       "  0.0,\n",
       "  0.19905185281463095,\n",
       "  0.0,\n",
       "  0.0,\n",
       "  0.0,\n",
       "  0.4772714510234408,\n",
       "  0.4305566392366585,\n",
       "  0.5996681043827827,\n",
       "  0.4331390849649056],\n",
       " [0.022429495883422433,\n",
       "  0.02242359888404278,\n",
       "  0.02242770953408135,\n",
       "  0.022423645662421596,\n",
       "  0.022424481825942956,\n",
       "  0.5733993569692292,\n",
       "  0.8168169194477403,\n",
       "  0.022425779925955135,\n",
       "  0.02242608837089046,\n",
       "  0.022424829740135408],\n",
       " [0.018424229320425575,\n",
       "  0.01842536437549442,\n",
       "  0.018424128941405882,\n",
       "  0.018425125010139765,\n",
       "  0.01842476982283931,\n",
       "  0.4699757315144896,\n",
       "  0.018424850126055065,\n",
       "  0.20114922723742704,\n",
       "  0.01842735496866958,\n",
       "  0.8580707461949525],\n",
       " [0.0,\n",
       "  0.1261522387051987,\n",
       "  0.7923460066546106,\n",
       "  0.0,\n",
       "  0.0,\n",
       "  0.0,\n",
       "  0.0,\n",
       "  0.0,\n",
       "  0.5968864367768446,\n",
       "  0.0]]"
      ]
     },
     "execution_count": 1005,
     "metadata": {},
     "output_type": "execute_result"
    }
   ],
   "source": [
    "topic_scores_list[0]"
   ]
  },
  {
   "cell_type": "code",
   "execution_count": 1003,
   "metadata": {},
   "outputs": [
    {
     "data": {
      "text/plain": [
       "0        [0.3251676503712088, 0.08772178026996966, 0.04...\n",
       "1        [0.0, 0.11806735467970288, 0.03714155754214682...\n",
       "3        [0.0, 0.55252683881945, 0.08770995986846947, 0...\n",
       "4        [0.10514095077870025, 0.0, 0.42832337488672806...\n",
       "5        [0.08771791168921587, 0.08772797756054346, 0.3...\n",
       "                               ...                        \n",
       "19369            [0.4266309674972206, 0.03102334852557586]\n",
       "19375                               [0.017357211613313755]\n",
       "19382                                [0.08770580137777596]\n",
       "19406                               [0.032111729127302216]\n",
       "19483                                [0.49502416266692345]\n",
       "Name: topic_scores, Length: 14447, dtype: object"
      ]
     },
     "execution_count": 1003,
     "metadata": {},
     "output_type": "execute_result"
    }
   ],
   "source": [
    "topic_scores_list.apply(lambda x: [sublist[0] for sublist in x])"
   ]
  },
  {
   "cell_type": "code",
   "execution_count": 986,
   "metadata": {},
   "outputs": [
    {
     "data": {
      "text/plain": [
       "(14447, 95)"
      ]
     },
     "execution_count": 986,
     "metadata": {},
     "output_type": "execute_result"
    }
   ],
   "source": [
    "clean_scored_room_db_verbose.shape"
   ]
  },
  {
   "cell_type": "code",
   "execution_count": 1025,
   "metadata": {},
   "outputs": [],
   "source": [
    "cols2change2list = ['topic_scores', 'topic_scores_unnormalized', \n",
    "                   'mean_topic_score', 'mean_topic_score_unnormalized']"
   ]
  },
  {
   "cell_type": "code",
   "execution_count": 1027,
   "metadata": {
    "scrolled": true
   },
   "outputs": [
    {
     "data": {
      "text/plain": [
       "numpy.ndarray"
      ]
     },
     "execution_count": 1027,
     "metadata": {},
     "output_type": "execute_result"
    }
   ],
   "source": [
    "type(clean_scored_room_db_verbose.topic_scores.iloc[0][0])"
   ]
  },
  {
   "cell_type": "code",
   "execution_count": 1028,
   "metadata": {},
   "outputs": [
    {
     "data": {
      "text/plain": [
       "(14447, 95)"
      ]
     },
     "execution_count": 1028,
     "metadata": {},
     "output_type": "execute_result"
    }
   ],
   "source": [
    "clean_scored_room_db_verbose.shape"
   ]
  },
  {
   "cell_type": "code",
   "execution_count": 1034,
   "metadata": {},
   "outputs": [
    {
     "data": {
      "text/plain": [
       "[[0.02740998195899897,\n",
       "  0.5683296714406859,\n",
       "  0.5553295015755887,\n",
       "  0.027408066764335583,\n",
       "  0.02740482594053019,\n",
       "  0.027410966354763453,\n",
       "  0.027414793170965852,\n",
       "  0.027407536155366344,\n",
       "  0.6027867675945254,\n",
       "  0.027404440043098013],\n",
       " [0.0,\n",
       "  0.23397236650523404,\n",
       "  0.0,\n",
       "  0.0,\n",
       "  0.5930373995601812,\n",
       "  0.625757199043215,\n",
       "  0.0,\n",
       "  0.0,\n",
       "  0.44943464739651373,\n",
       "  0.0],\n",
       " [0.047157570151616805,\n",
       "  0.047150657753573876,\n",
       "  0.047146806409847204,\n",
       "  0.04714269690491314,\n",
       "  0.047143160541367246,\n",
       "  0.04715189587365016,\n",
       "  0.9899462724933495,\n",
       "  0.04714288130577557,\n",
       "  0.047143824384471976,\n",
       "  0.04715221198941432],\n",
       " [0.01871662492939664,\n",
       "  0.46118763850408756,\n",
       "  0.018710547889070457,\n",
       "  0.018713529262753416,\n",
       "  0.018709609850506348,\n",
       "  0.01870954852257645,\n",
       "  0.018710274701019096,\n",
       "  0.01870806410790962,\n",
       "  0.8857229407694622,\n",
       "  0.01871039038779595],\n",
       " [0.03160696019567288,\n",
       "  0.360778433978441,\n",
       "  0.031593734437399414,\n",
       "  0.031599439943371097,\n",
       "  0.031598797367822305,\n",
       "  0.666128837774682,\n",
       "  0.03159400982692032,\n",
       "  0.03159204679392512,\n",
       "  0.03160661066281942,\n",
       "  0.6473962494156974],\n",
       " [0.026137262539826952,\n",
       "  0.48705982613668497,\n",
       "  0.02612963447750863,\n",
       "  0.3718071974926314,\n",
       "  0.026137431181669186,\n",
       "  0.7872420872673123,\n",
       "  0.026134823195199924,\n",
       "  0.02613949576664681,\n",
       "  0.026145214258206127,\n",
       "  0.026135715804546687],\n",
       " [0.018251325543568595,\n",
       "  0.6370937478729858,\n",
       "  0.4082071720883679,\n",
       "  0.018252590164978467,\n",
       "  0.018251704590039566,\n",
       "  0.01825567352954501,\n",
       "  0.01825318848048421,\n",
       "  0.01825203774299163,\n",
       "  0.01825340265023911,\n",
       "  0.6520324350281168],\n",
       " [0.0,\n",
       "  0.7584905625460294,\n",
       "  0.0,\n",
       "  0.0,\n",
       "  0.29819284238682403,\n",
       "  0.44211701312072654,\n",
       "  0.0,\n",
       "  0.0,\n",
       "  0.0,\n",
       "  0.37457394728822496],\n",
       " [0.017468841659139034,\n",
       "  0.2602845988454388,\n",
       "  0.017461675258748376,\n",
       "  0.017461593951732374,\n",
       "  0.017462332219437694,\n",
       "  0.01746604469778847,\n",
       "  0.6979709594975709,\n",
       "  0.6655474387190682,\n",
       "  0.017466854515667877,\n",
       "  0.017464522630448863],\n",
       " [0.0,\n",
       "  0.0,\n",
       "  0.39007179604087505,\n",
       "  0.0,\n",
       "  0.5981725468330743,\n",
       "  0.0,\n",
       "  0.0,\n",
       "  0.0,\n",
       "  0.7000239982662589,\n",
       "  0.0],\n",
       " [0.3488420094602932,\n",
       "  0.021281358443044063,\n",
       "  0.021287516252694424,\n",
       "  0.02128185151173646,\n",
       "  0.021279593859588646,\n",
       "  0.3286766351091358,\n",
       "  0.021279918872713858,\n",
       "  0.8758483884799559,\n",
       "  0.02128233189698982,\n",
       "  0.02128278374450536],\n",
       " [0.0,\n",
       "  0.0,\n",
       "  0.4334465438509388,\n",
       "  0.0,\n",
       "  0.0,\n",
       "  0.0,\n",
       "  0.3519753781574368,\n",
       "  0.0,\n",
       "  0.8296007634968796,\n",
       "  0.0],\n",
       " [0.033517497629898654,\n",
       "  0.03351750699435102,\n",
       "  0.03351697946353436,\n",
       "  0.6925539431751561,\n",
       "  0.03352264183573214,\n",
       "  0.7151080394114916,\n",
       "  0.03351705125766918,\n",
       "  0.033521333933884914,\n",
       "  0.033539463513666996,\n",
       "  0.033519520351609884],\n",
       " [0.02496924672148215,\n",
       "  0.02497198620450001,\n",
       "  0.024982263450363345,\n",
       "  0.024964752518690122,\n",
       "  0.9252656450723001,\n",
       "  0.37268719249072685,\n",
       "  0.024969754446440652,\n",
       "  0.024964066253086867,\n",
       "  0.024969779553718822,\n",
       "  0.024962847155246947],\n",
       " [0.022204666119961067,\n",
       "  0.022204088788924922,\n",
       "  0.7925439010034515,\n",
       "  0.022205489933302045,\n",
       "  0.02220839809365031,\n",
       "  0.3013675949052854,\n",
       "  0.0222073774253142,\n",
       "  0.022205609038845317,\n",
       "  0.022205837324469926,\n",
       "  0.5268776104006966],\n",
       " [0.032108814560236794,\n",
       "  0.03211141498241843,\n",
       "  0.03211814450182685,\n",
       "  0.032108812167944076,\n",
       "  0.032108812167944076,\n",
       "  0.032108812167944076,\n",
       "  0.032108814560236794,\n",
       "  0.03210888393672554,\n",
       "  0.03212087650010784,\n",
       "  0.9953490198344263],\n",
       " [0.0,\n",
       "  0.0,\n",
       "  0.0,\n",
       "  0.0,\n",
       "  0.0,\n",
       "  0.0,\n",
       "  0.8150186728970548,\n",
       "  0.0465996579089001,\n",
       "  0.577557819366942,\n",
       "  0.0],\n",
       " [0.042902608290173797,\n",
       "  0.042903765419046294,\n",
       "  0.04290278409704669,\n",
       "  0.04290760440185258,\n",
       "  0.5399822051463815,\n",
       "  0.8328821834952266,\n",
       "  0.042902768114603695,\n",
       "  0.042903285945756583,\n",
       "  0.042908371559116115,\n",
       "  0.042906181964426436],\n",
       " [0.0,\n",
       "  0.24654275517962124,\n",
       "  0.0,\n",
       "  0.0,\n",
       "  0.49845240364460874,\n",
       "  0.0,\n",
       "  0.805384029986114,\n",
       "  0.0,\n",
       "  0.2052277647217342,\n",
       "  0.0],\n",
       " [0.0,\n",
       "  0.0,\n",
       "  0.0,\n",
       "  0.09595812598062746,\n",
       "  0.0,\n",
       "  0.0,\n",
       "  0.9953853716316541,\n",
       "  0.0,\n",
       "  0.0,\n",
       "  0.0],\n",
       " [0.0307052828198486,\n",
       "  0.030708899594717638,\n",
       "  0.030708796650461403,\n",
       "  0.3359894909499984,\n",
       "  0.492661617296177,\n",
       "  0.7986192490043857,\n",
       "  0.030715838037587845,\n",
       "  0.030719653838018935,\n",
       "  0.030714444858653468,\n",
       "  0.030715954707744908],\n",
       " [0.0,\n",
       "  0.0,\n",
       "  0.0,\n",
       "  0.0,\n",
       "  0.0,\n",
       "  0.0,\n",
       "  0.6067594785714792,\n",
       "  0.0,\n",
       "  0.7948854855661076,\n",
       "  0.0],\n",
       " [0.026963921518425058,\n",
       "  0.026965681333223676,\n",
       "  0.026970409328804217,\n",
       "  0.7762919628868459,\n",
       "  0.026976047365599113,\n",
       "  0.026968676634439137,\n",
       "  0.6257407711469313,\n",
       "  0.026976833858171786,\n",
       "  0.02696854404565294,\n",
       "  0.026974118801436242],\n",
       " [0.0,\n",
       "  0.0,\n",
       "  0.0,\n",
       "  0.0,\n",
       "  0.0,\n",
       "  0.0,\n",
       "  0.8533873740992601,\n",
       "  0.16316593429954268,\n",
       "  0.0,\n",
       "  0.49508268765139285],\n",
       " [0.1281363971908224,\n",
       "  0.0,\n",
       "  0.0,\n",
       "  0.0,\n",
       "  0.0,\n",
       "  0.0,\n",
       "  0.9740333119840119,\n",
       "  0.1866552192155692,\n",
       "  0.0,\n",
       "  0.0],\n",
       " [0.014075412774122447,\n",
       "  0.01407538865926978,\n",
       "  0.014079499717413704,\n",
       "  0.014075248164041194,\n",
       "  0.014075168480180205,\n",
       "  0.014074836114602132,\n",
       "  0.014076130977343206,\n",
       "  0.014074979755246284,\n",
       "  0.9991080555234974,\n",
       "  0.01407340599899175],\n",
       " [0.4941115940540214,\n",
       "  0.0,\n",
       "  0.27328229308167656,\n",
       "  0.0,\n",
       "  0.0,\n",
       "  0.0,\n",
       "  0.8154105587689139,\n",
       "  0.0,\n",
       "  0.12757798226019373,\n",
       "  0.0],\n",
       " [0.06771676081704868,\n",
       "  0.0,\n",
       "  0.2089181908057605,\n",
       "  0.0,\n",
       "  0.25166170810270494,\n",
       "  0.0,\n",
       "  0.8158995539695212,\n",
       "  0.0,\n",
       "  0.4616064262257245,\n",
       "  0.0982926224554748],\n",
       " [0.047163465432950566,\n",
       "  0.04715182676106305,\n",
       "  0.04714406589022089,\n",
       "  0.047146895209733614,\n",
       "  0.04715503543067803,\n",
       "  0.04717006717848025,\n",
       "  0.047145182865522,\n",
       "  0.047144092233977995,\n",
       "  0.04715485629312974,\n",
       "  0.9899441869665],\n",
       " [0.0,\n",
       "  0.0,\n",
       "  0.0,\n",
       "  0.0,\n",
       "  0.37763540296484943,\n",
       "  0.0,\n",
       "  0.9228700615104962,\n",
       "  0.07551391921486172,\n",
       "  0.0,\n",
       "  0.0],\n",
       " [0.04251798493534241,\n",
       "  0.04254117533213536,\n",
       "  0.04251848225706027,\n",
       "  0.04252502029544036,\n",
       "  0.04251710749511407,\n",
       "  0.042517459104736255,\n",
       "  0.042521973012048096,\n",
       "  0.8536162246685165,\n",
       "  0.04251844424520922,\n",
       "  0.5068276202104135],\n",
       " [0.024380735243238923,\n",
       "  0.024378228769685997,\n",
       "  0.024379018853740723,\n",
       "  0.024378157934563847,\n",
       "  0.02437939754920144,\n",
       "  0.9434916569672012,\n",
       "  0.024378896254490853,\n",
       "  0.32414326258268295,\n",
       "  0.02437823694296932,\n",
       "  0.024378373164358067],\n",
       " [0.04714096478656246,\n",
       "  0.04714096478656246,\n",
       "  0.04715106960286643,\n",
       "  0.04714097005497555,\n",
       "  0.047140975323388644,\n",
       "  0.04714098059180173,\n",
       "  0.9899487279615607,\n",
       "  0.04714096478656246,\n",
       "  0.04714229242666079,\n",
       "  0.04714096478656246],\n",
       " [0.01923827657657441,\n",
       "  0.555233563101717,\n",
       "  0.8299122939348648,\n",
       "  0.01923828374339081,\n",
       "  0.019242682735298472,\n",
       "  0.01923837834536732,\n",
       "  0.019242580966505562,\n",
       "  0.019238299510386893,\n",
       "  0.01923942613392532,\n",
       "  0.01923827657657441],\n",
       " [0.024326949801725686,\n",
       "  0.024332266998940165,\n",
       "  0.9973328210117307,\n",
       "  0.024326125149068647,\n",
       "  0.024327140106185002,\n",
       "  0.024339410212752374,\n",
       "  0.0243295959399219,\n",
       "  0.024330243881295288,\n",
       "  0.024326218035769027,\n",
       "  0.02432596429648994],\n",
       " [0.032109731679930524,\n",
       "  0.03210920297708118,\n",
       "  0.03212158084378929,\n",
       "  0.03210923407724879,\n",
       "  0.03210918623083709,\n",
       "  0.032111279511349185,\n",
       "  0.03212937741657664,\n",
       "  0.032109949381103786,\n",
       "  0.9953485199298008,\n",
       "  0.032109334554713376],\n",
       " [0.04357647756716134,\n",
       "  0.04357962037163921,\n",
       "  0.7766936340456806,\n",
       "  0.6176981165665096,\n",
       "  0.043579227521079476,\n",
       "  0.04359974990445203,\n",
       "  0.04357695807858977,\n",
       "  0.04358831178443597,\n",
       "  0.04358271772233331,\n",
       "  0.04358337030880031],\n",
       " [0.0,\n",
       "  0.05008444127062729,\n",
       "  0.04961944829589619,\n",
       "  0.0,\n",
       "  0.3751071302326845,\n",
       "  0.06807418696199312,\n",
       "  0.9217863120113488,\n",
       "  0.0,\n",
       "  0.0,\n",
       "  0.0],\n",
       " [0.0,\n",
       "  0.0,\n",
       "  0.3114577904631943,\n",
       "  0.0,\n",
       "  0.3509771825700882,\n",
       "  0.06719101047090766,\n",
       "  0.3956335587132806,\n",
       "  0.0,\n",
       "  0.7866184064759173,\n",
       "  0.0],\n",
       " [0.6805796794526968,\n",
       "  0.0438476773860517,\n",
       "  0.043854996518372935,\n",
       "  0.04384107351030269,\n",
       "  0.043838568479294036,\n",
       "  0.0438412041507725,\n",
       "  0.722103648270173,\n",
       "  0.04384348709298247,\n",
       "  0.04383982262780423,\n",
       "  0.04383661867028209],\n",
       " [0.0,\n",
       "  0.0,\n",
       "  0.30529799199868135,\n",
       "  0.0,\n",
       "  0.0,\n",
       "  0.8398465548022755,\n",
       "  0.0,\n",
       "  0.0,\n",
       "  0.44883282017731446,\n",
       "  0.0],\n",
       " [0.022774245114378682,\n",
       "  0.44064110148405455,\n",
       "  0.02277860298136761,\n",
       "  0.02276982957223303,\n",
       "  0.02277953087285961,\n",
       "  0.02276836055206471,\n",
       "  0.4428363129433404,\n",
       "  0.022772730293350613,\n",
       "  0.7785248325163552,\n",
       "  0.022772925371086588],\n",
       " [0.9357230677601082,\n",
       "  0.03970337025749751,\n",
       "  0.33438532678673566,\n",
       "  0.03969297816826013,\n",
       "  0.039706611501038824,\n",
       "  0.03970548179754176,\n",
       "  0.03970052234004288,\n",
       "  0.03969286874671722,\n",
       "  0.039697428963451444,\n",
       "  0.03970166387289593],\n",
       " [0.0,\n",
       "  0.0,\n",
       "  0.0,\n",
       "  0.0,\n",
       "  0.0,\n",
       "  0.33974036176698913,\n",
       "  0.8546357421826477,\n",
       "  0.0,\n",
       "  0.2915262921851472,\n",
       "  0.2630335638946678],\n",
       " [0.08770817250917036,\n",
       "  0.08770721844370699,\n",
       "  0.08771066222794806,\n",
       "  0.9647610338532595,\n",
       "  0.08771050539526916,\n",
       "  0.08770726418657167,\n",
       "  0.08770719883962212,\n",
       "  0.08770876716641123,\n",
       "  0.08770719883962212,\n",
       "  0.08771588998391175],\n",
       " [0.023505269625662364,\n",
       "  0.25855619271233227,\n",
       "  0.9637054182593531,\n",
       "  0.023505269625662364,\n",
       "  0.023505542825181164,\n",
       "  0.023505411479258664,\n",
       "  0.023516807051494643,\n",
       "  0.023505269625662364,\n",
       "  0.023505650528837612,\n",
       "  0.023505280133336165],\n",
       " [0.11382967706361473,\n",
       "  0.0,\n",
       "  0.0,\n",
       "  0.0,\n",
       "  0.34483104079677185,\n",
       "  0.4744080891826649,\n",
       "  0.7600658824351724,\n",
       "  0.0,\n",
       "  0.2124717808327943,\n",
       "  0.14222137514608998],\n",
       " [0.019575824950233852,\n",
       "  0.7491212091052565,\n",
       "  0.01957352666452847,\n",
       "  0.01957483913732977,\n",
       "  0.019580160485387462,\n",
       "  0.0195754005840281,\n",
       "  0.019575301419416446,\n",
       "  0.0195746685158656,\n",
       "  0.6601149736039615,\n",
       "  0.019575148297589627],\n",
       " [0.016596036336278482,\n",
       "  0.016603525774559678,\n",
       "  0.016596825218831462,\n",
       "  0.016595928761384892,\n",
       "  0.016595928761384892,\n",
       "  0.01659599800499456,\n",
       "  0.9742153296147265,\n",
       "  0.22068256921156199,\n",
       "  0.016596178532976902,\n",
       "  0.016595936180343072],\n",
       " [0.99733281377211,\n",
       "  0.024330058705940044,\n",
       "  0.02432722452821631,\n",
       "  0.024328497755938722,\n",
       "  0.024326125746285045,\n",
       "  0.02432743975354305,\n",
       "  0.024328626891134766,\n",
       "  0.024338101336570946,\n",
       "  0.024326427061742484,\n",
       "  0.02433171027713157],\n",
       " [0.03336827636391027,\n",
       "  0.7695920102700401,\n",
       "  0.03337539762393103,\n",
       "  0.0333645914536203,\n",
       "  0.03336815519063767,\n",
       "  0.03336639351767442,\n",
       "  0.03337106645618717,\n",
       "  0.03336713919935198,\n",
       "  0.03336636555461151,\n",
       "  0.63152238624557],\n",
       " [0.025984154139024763,\n",
       "  0.02598241789465732,\n",
       "  0.025979404146073037,\n",
       "  0.025980652616103134,\n",
       "  0.02598528937572655,\n",
       "  0.47278503195449684,\n",
       "  0.8781077141352174,\n",
       "  0.0259797293289646,\n",
       "  0.0259955907051842,\n",
       "  0.02598109974257903],\n",
       " [0.08770867434444957,\n",
       "  0.08770916445470664,\n",
       "  0.08771673829187926,\n",
       "  0.08770869394885986,\n",
       "  0.08770866127484271,\n",
       "  0.08770864820523586,\n",
       "  0.9647581236657838,\n",
       "  0.08770865474003929,\n",
       "  0.08772399845848736,\n",
       "  0.08772165246405685],\n",
       " [0.01957425187451629,\n",
       "  0.019574967217428643,\n",
       "  0.019574286876004356,\n",
       "  0.019574803147953332,\n",
       "  0.019577983908181357,\n",
       "  0.019576583848658704,\n",
       "  0.9982740809951516,\n",
       "  0.01957425187451629,\n",
       "  0.0195784826793863,\n",
       "  0.019575354421390377],\n",
       " [0.032115139337199755,\n",
       "  0.03211180677096753,\n",
       "  0.032117325959982415,\n",
       "  0.03213424716670208,\n",
       "  0.9953477049949329,\n",
       "  0.0321107278137739,\n",
       "  0.03211185461829319,\n",
       "  0.032116904903516603,\n",
       "  0.032111897680886285,\n",
       "  0.032114230238012215],\n",
       " [0.20067171468602585,\n",
       "  0.08845103737169954,\n",
       "  0.0,\n",
       "  0.0,\n",
       "  0.0,\n",
       "  0.0,\n",
       "  0.9499298440769023,\n",
       "  0.0,\n",
       "  0.22257710629099414,\n",
       "  0.0],\n",
       " [0.04145650929968124,\n",
       "  0.04145566000134667,\n",
       "  0.041458856451442226,\n",
       "  0.04145865261984193,\n",
       "  0.04145686446080297,\n",
       "  0.8940506618689162,\n",
       "  0.04145717329656099,\n",
       "  0.04145520292442479,\n",
       "  0.041452358547093386,\n",
       "  0.4323474791642625],\n",
       " [0.379796846740752,\n",
       "  0.0,\n",
       "  0.717556257824474,\n",
       "  0.0,\n",
       "  0.5838384811424465,\n",
       "  0.0,\n",
       "  0.0,\n",
       "  0.0,\n",
       "  0.0,\n",
       "  0.0],\n",
       " [0.3279157877712501,\n",
       "  0.030939637028477844,\n",
       "  0.030947215660431907,\n",
       "  0.030941220520008392,\n",
       "  0.030941891256595567,\n",
       "  0.03093950218967939,\n",
       "  0.5428420283317676,\n",
       "  0.03094331916489713,\n",
       "  0.030944671010286747,\n",
       "  0.768824884409969],\n",
       " [0.017116490333793987,\n",
       "  0.017117121520400173,\n",
       "  0.9614162570404555,\n",
       "  0.2708041995077699,\n",
       "  0.017116258261142825,\n",
       "  0.017116036389487315,\n",
       "  0.01711551358845997,\n",
       "  0.01711927775585686,\n",
       "  0.017116175378053124,\n",
       "  0.01711716104925834],\n",
       " [0.020635468742838177,\n",
       "  0.6166947108516685,\n",
       "  0.020648949284982395,\n",
       "  0.020636081023043342,\n",
       "  0.020637020198612282,\n",
       "  0.4582253582403618,\n",
       "  0.6377581461618658,\n",
       "  0.020641719535667173,\n",
       "  0.020635792178991752,\n",
       "  0.020636110426330033],\n",
       " [0.2450573609726313,\n",
       "  0.0,\n",
       "  0.5889356474154305,\n",
       "  0.0,\n",
       "  0.0,\n",
       "  0.3661221661927069,\n",
       "  0.0,\n",
       "  0.0,\n",
       "  0.5116311647182922,\n",
       "  0.44417316864918904],\n",
       " [0.0,\n",
       "  0.0,\n",
       "  0.458433405434057,\n",
       "  0.0,\n",
       "  0.3308717029884515,\n",
       "  0.7818723648497958,\n",
       "  0.0,\n",
       "  0.0,\n",
       "  0.2627514681744771,\n",
       "  0.0],\n",
       " [0.0877264180817212,\n",
       "  0.08771039445573742,\n",
       "  0.08771866113064342,\n",
       "  0.08771199551135163,\n",
       "  0.08772134044820187,\n",
       "  0.9647549692569687,\n",
       "  0.08771213927961086,\n",
       "  0.08772724801667224,\n",
       "  0.08771078655098988,\n",
       "  0.08771059703828453],\n",
       " [0.08770778038118428,\n",
       "  0.08770778038118428,\n",
       "  0.9647598699959682,\n",
       "  0.08770778038118428,\n",
       "  0.08770989763654566,\n",
       "  0.08771053804094509,\n",
       "  0.08772062114286673,\n",
       "  0.08770778038118428,\n",
       "  0.0877155371161039,\n",
       "  0.08770796335386982],\n",
       " [0.019574020235533365,\n",
       "  0.019574015860400112,\n",
       "  0.019574015860400112,\n",
       "  0.019574015860400112,\n",
       "  0.019574186490597056,\n",
       "  0.019574015860400112,\n",
       "  0.019574171177630665,\n",
       "  0.019574015860400112,\n",
       "  0.01957403554849976,\n",
       "  0.9982743648043803],\n",
       " [0.027324418942771007,\n",
       "  0.027322125580263548,\n",
       "  0.6357320524365351,\n",
       "  0.027320909457132656,\n",
       "  0.027317973312121168,\n",
       "  0.5749826174415035,\n",
       "  0.027313666135175874,\n",
       "  0.027317207670911378,\n",
       "  0.02731459202687143,\n",
       "  0.5099172166523152],\n",
       " [0.0,\n",
       "  0.0,\n",
       "  0.3762957396412286,\n",
       "  0.0,\n",
       "  0.0,\n",
       "  0.0,\n",
       "  0.8026431295458927,\n",
       "  0.0,\n",
       "  0.4627802101652964,\n",
       "  0.0],\n",
       " [0.0,\n",
       "  0.0,\n",
       "  0.0,\n",
       "  0.0,\n",
       "  0.19163742750300264,\n",
       "  0.0,\n",
       "  0.9781174834222995,\n",
       "  0.0,\n",
       "  0.08100175926274,\n",
       "  0.0],\n",
       " [0.031206715940697117,\n",
       "  0.03121129831355858,\n",
       "  0.480334171604372,\n",
       "  0.031210133539939306,\n",
       "  0.03120882927247341,\n",
       "  0.7790373671501504,\n",
       "  0.031206726402735613,\n",
       "  0.3944127135886588,\n",
       "  0.03121325820210359,\n",
       "  0.03121346744287352],\n",
       " [0.01670654303185352,\n",
       "  0.016705217112184007,\n",
       "  0.016707430711970176,\n",
       "  0.016709750721360238,\n",
       "  0.016708462605102628,\n",
       "  0.5120777818533716,\n",
       "  0.01670494408754245,\n",
       "  0.016709116464116002,\n",
       "  0.8576381988532927,\n",
       "  0.016706761451566767],\n",
       " [0.08770747444409571,\n",
       "  0.08772722889048998,\n",
       "  0.08770747444409571,\n",
       "  0.08770747444409571,\n",
       "  0.08770747444409571,\n",
       "  0.08770752018710755,\n",
       "  0.08770921267854523,\n",
       "  0.964760477885002,\n",
       "  0.08770765741614303,\n",
       "  0.08770747444409571],\n",
       " [0.019076261243976517,\n",
       "  0.7849686332830514,\n",
       "  0.019075399446862838,\n",
       "  0.019075399446862838,\n",
       "  0.22215432218096615,\n",
       "  0.57612877272096,\n",
       "  0.019078151121877017,\n",
       "  0.01907602620840006,\n",
       "  0.019077530755865685,\n",
       "  0.019075399446862838],\n",
       " [0.49377374189867934,\n",
       "  0.32941161162688654,\n",
       "  0.0,\n",
       "  0.0,\n",
       "  0.0,\n",
       "  0.34181864832468467,\n",
       "  0.21516086117461147,\n",
       "  0.0,\n",
       "  0.3181373868701468,\n",
       "  0.6191364150882044],\n",
       " [0.04714057136654713,\n",
       "  0.04714057136654713,\n",
       "  0.04714057136654713,\n",
       "  0.04714057136654713,\n",
       "  0.047142810423423345,\n",
       "  0.9899493170976074,\n",
       "  0.04714096649423117,\n",
       "  0.04714057136654713,\n",
       "  0.04714057136654713,\n",
       "  0.04714057136654713],\n",
       " [0.030096923802165738,\n",
       "  0.3629348811040449,\n",
       "  0.030094938390520062,\n",
       "  0.03009578003241334,\n",
       "  0.34522052046788576,\n",
       "  0.6416711695421302,\n",
       "  0.030098962184280216,\n",
       "  0.03009485599201303,\n",
       "  0.5761284150062214,\n",
       "  0.030104649643134765],\n",
       " [0.06303810750745681,\n",
       "  0.06304220067330553,\n",
       "  0.06304051690972921,\n",
       "  0.06305500854854303,\n",
       "  0.06304430713903492,\n",
       "  0.6357394730078108,\n",
       "  0.06303905154226529,\n",
       "  0.7510233693715603,\n",
       "  0.0630630962497381,\n",
       "  0.06305233847994292],\n",
       " [0.31622776601683794,\n",
       "  0.31622776601683794,\n",
       "  0.31622776601683794,\n",
       "  0.31622776601683794,\n",
       "  0.31622776601683794,\n",
       "  0.31622776601683794,\n",
       "  0.31622776601683794,\n",
       "  0.31622776601683794,\n",
       "  0.31622776601683794,\n",
       "  0.31622776601683794],\n",
       " [0.08771183282157381,\n",
       "  0.08771729610013129,\n",
       "  0.08771223145792789,\n",
       "  0.08772471335032596,\n",
       "  0.0877175901761302,\n",
       "  0.9647522570376903,\n",
       "  0.08771205501232855,\n",
       "  0.08771489774698465,\n",
       "  0.0877480760546836,\n",
       "  0.08772071391674083],\n",
       " [0.0, 0.0, 0.0, 0.0, 0.0, 0.0, 1.0, 0.0, 0.0, 0.0],\n",
       " [0.021175040008711937,\n",
       "  0.2186995103532825,\n",
       "  0.021173077550611843,\n",
       "  0.02117001320600166,\n",
       "  0.6174848506075402,\n",
       "  0.02116914731128842,\n",
       "  0.2214995157610047,\n",
       "  0.021171700636067835,\n",
       "  0.7205078679894072,\n",
       "  0.021169209414392855],\n",
       " [0.0,\n",
       "  0.0,\n",
       "  0.3432445102131377,\n",
       "  0.0,\n",
       "  0.0,\n",
       "  0.35282336286036875,\n",
       "  0.0,\n",
       "  0.0,\n",
       "  0.8704590058287891,\n",
       "  0.0],\n",
       " [0.0,\n",
       "  0.27541551750854526,\n",
       "  0.0,\n",
       "  0.0,\n",
       "  0.5013950840485782,\n",
       "  0.5926501598077677,\n",
       "  0.4252920837701518,\n",
       "  0.0,\n",
       "  0.375022257965696,\n",
       "  0.0],\n",
       " [0.0,\n",
       "  0.0,\n",
       "  0.0,\n",
       "  0.0,\n",
       "  0.0,\n",
       "  0.4959095467696519,\n",
       "  0.0,\n",
       "  0.22930046004524832,\n",
       "  0.8375529956043116,\n",
       "  0.0],\n",
       " [0.0,\n",
       "  0.29315603457299816,\n",
       "  0.9052464502360194,\n",
       "  0.0,\n",
       "  0.0,\n",
       "  0.0,\n",
       "  0.0,\n",
       "  0.0,\n",
       "  0.3075522780415084,\n",
       "  0.0],\n",
       " [0.032114758134326446,\n",
       "  0.032109576331623625,\n",
       "  0.03210958829331038,\n",
       "  0.0321115260865649,\n",
       "  0.03212274854107965,\n",
       "  0.03212208107895865,\n",
       "  0.0321105835056485,\n",
       "  0.9953482228849692,\n",
       "  0.03211761936979855,\n",
       "  0.03210960503967184],\n",
       " [0.0,\n",
       "  0.4800957224371373,\n",
       "  0.0,\n",
       "  0.0,\n",
       "  0.47033748697783656,\n",
       "  0.6980525283129567,\n",
       "  0.0,\n",
       "  0.0,\n",
       "  0.2470089337591364,\n",
       "  0.0],\n",
       " [0.0,\n",
       "  0.0,\n",
       "  0.7949353926729696,\n",
       "  0.49038166263199556,\n",
       "  0.0,\n",
       "  0.35721638600454936,\n",
       "  0.0,\n",
       "  0.0,\n",
       "  0.0,\n",
       "  0.0],\n",
       " [0.010983418923994015,\n",
       "  0.010984206542140145,\n",
       "  0.9994569701423346,\n",
       "  0.010983187752953722,\n",
       "  0.010983956959247086,\n",
       "  0.010983586676430334,\n",
       "  0.01098429553276185,\n",
       "  0.010983538601036999,\n",
       "  0.01098337084860068,\n",
       "  0.010983275720694718],\n",
       " [0.0,\n",
       "  0.0,\n",
       "  0.5602194385847358,\n",
       "  0.0,\n",
       "  0.0,\n",
       "  0.0,\n",
       "  0.7187594598020827,\n",
       "  0.28418173955481596,\n",
       "  0.2979593235332981,\n",
       "  0.0],\n",
       " [0.04714838715810457,\n",
       "  0.04714380878596304,\n",
       "  0.04714267604717083,\n",
       "  0.9899468569962199,\n",
       "  0.047143677072149996,\n",
       "  0.047143050114399884,\n",
       "  0.04714262336164561,\n",
       "  0.04716357639502522,\n",
       "  0.04714359277530964,\n",
       "  0.04714803943363813],\n",
       " [0.0,\n",
       "  0.0,\n",
       "  0.21922544400453195,\n",
       "  0.0,\n",
       "  0.0,\n",
       "  0.0,\n",
       "  0.3700786205822459,\n",
       "  0.5166204809873152,\n",
       "  0.7403278313783652,\n",
       "  0.0],\n",
       " [0.017936125933979596,\n",
       "  0.017947473960972182,\n",
       "  0.017936695206176825,\n",
       "  0.01793595755769591,\n",
       "  0.359646867060079,\n",
       "  0.017935805217248767,\n",
       "  0.9317080169772123,\n",
       "  0.017936548211008527,\n",
       "  0.017943153639343942,\n",
       "  0.0179357865087728],\n",
       " [0.03211009478642868,\n",
       "  0.03210947277747933,\n",
       "  0.03211391774912507,\n",
       "  0.03211239143485705,\n",
       "  0.03210947995450567,\n",
       "  0.03212736031945737,\n",
       "  0.9953481370084774,\n",
       "  0.032116434493027826,\n",
       "  0.03211576702957833,\n",
       "  0.032115829230473264],\n",
       " [0.04714058278131132,\n",
       "  0.9899493039252272,\n",
       "  0.04714058278131132,\n",
       "  0.04714058278131132,\n",
       "  0.04714058278131132,\n",
       "  0.04714058278131132,\n",
       "  0.0471433908227325,\n",
       "  0.04714058278131132,\n",
       "  0.04714058278131132,\n",
       "  0.04714058278131132],\n",
       " [0.0,\n",
       "  0.0,\n",
       "  0.22802009031274803,\n",
       "  0.13432615077685217,\n",
       "  0.0,\n",
       "  0.19123679286891554,\n",
       "  0.3719868045716563,\n",
       "  0.19352085847262657,\n",
       "  0.7573909486338466,\n",
       "  0.37937614338880116],\n",
       " [0.04716374445482488,\n",
       "  0.047142006502069136,\n",
       "  0.047146089612438914,\n",
       "  0.047142006502069136,\n",
       "  0.04714589994537658,\n",
       "  0.0471470906330457,\n",
       "  0.047142011770598645,\n",
       "  0.9899471693130981,\n",
       "  0.04714201703912815,\n",
       "  0.047142006502069136],\n",
       " [0.01700369411952512,\n",
       "  0.8586531330990995,\n",
       "  0.3634195382567138,\n",
       "  0.3586331295723617,\n",
       "  0.016999931368954054,\n",
       "  0.017004825952364123,\n",
       "  0.01700214279619334,\n",
       "  0.016999361495077074,\n",
       "  0.017000953975966637,\n",
       "  0.016998342054030474],\n",
       " [0.08770582565630032,\n",
       "  0.08770582565630032,\n",
       "  0.08770587793304538,\n",
       "  0.08770582565630032,\n",
       "  0.08770582565630032,\n",
       "  0.9647637750934265,\n",
       "  0.08770582565630032,\n",
       "  0.08770583219089347,\n",
       "  0.08770593674438357,\n",
       "  0.08770594981356983],\n",
       " [0.0,\n",
       "  0.7520694484302776,\n",
       "  0.0,\n",
       "  0.0,\n",
       "  0.10111266225014161,\n",
       "  0.0,\n",
       "  0.0,\n",
       "  0.0,\n",
       "  0.6512816397461753,\n",
       "  0.0],\n",
       " [0.0471438744407089,\n",
       "  0.989948695998376,\n",
       "  0.047141008422616974,\n",
       "  0.04714452245582895,\n",
       "  0.04714109271726674,\n",
       "  0.047140987348954534,\n",
       "  0.04714311578886104,\n",
       "  0.0471438744407089,\n",
       "  0.04714135613804725,\n",
       "  0.047140987348954534],\n",
       " [0.03167800418283634,\n",
       "  0.41415389386635254,\n",
       "  0.03167238342301342,\n",
       "  0.031679441228483755,\n",
       "  0.0316747407441986,\n",
       "  0.7373507550949157,\n",
       "  0.031676492807241635,\n",
       "  0.03167212149843729,\n",
       "  0.03167193744332974,\n",
       "  0.5270363071360825],\n",
       " [0.023534240597101453,\n",
       "  0.2602114600601866,\n",
       "  0.023528495115212798,\n",
       "  0.023528489856190472,\n",
       "  0.02353140335455781,\n",
       "  0.02353234997857608,\n",
       "  0.9632552346089884,\n",
       "  0.023528794879485247,\n",
       "  0.023529073607668406,\n",
       "  0.023528466190590017],\n",
       " [0.0,\n",
       "  0.0,\n",
       "  0.0,\n",
       "  0.0,\n",
       "  0.351088589914024,\n",
       "  0.0,\n",
       "  0.0,\n",
       "  0.6909526183622489,\n",
       "  0.6319187299095786,\n",
       "  0.0],\n",
       " [0.0,\n",
       "  0.0,\n",
       "  0.0,\n",
       "  0.0,\n",
       "  0.0,\n",
       "  0.20561354878428106,\n",
       "  0.9786332656088971,\n",
       "  0.0,\n",
       "  0.0,\n",
       "  0.0],\n",
       " [0.016971449499043615,\n",
       "  0.016974145030958874,\n",
       "  0.016980603181532588,\n",
       "  0.016969760366473824,\n",
       "  0.016970671941760364,\n",
       "  0.016977913971221257,\n",
       "  0.9653836463511064,\n",
       "  0.016975693823921445,\n",
       "  0.2563775528991577,\n",
       "  0.01697271129118781],\n",
       " [0.010984463612936077,\n",
       "  0.010989257938896187,\n",
       "  0.010988455986356668,\n",
       "  0.010984208911172888,\n",
       "  0.010988272887498794,\n",
       "  0.010984943352401683,\n",
       "  0.999456756296841,\n",
       "  0.010984688650638494,\n",
       "  0.010984159812037816,\n",
       "  0.01098384169055849],\n",
       " [0.014605630126514085,\n",
       "  0.014605598297039613,\n",
       "  0.014614566863577873,\n",
       "  0.22387878852611207,\n",
       "  0.014612201688782361,\n",
       "  0.014608192399209224,\n",
       "  0.9737407592112086,\n",
       "  0.014606951049704747,\n",
       "  0.014606074514946162,\n",
       "  0.01460726689602837],\n",
       " [0.03971282772708597,\n",
       "  0.03970861488045674,\n",
       "  0.03971245496116231,\n",
       "  0.039708611921997025,\n",
       "  0.03970904385711491,\n",
       "  0.33517452750734067,\n",
       "  0.03971305848694347,\n",
       "  0.039720123288734616,\n",
       "  0.9354364649041419,\n",
       "  0.03971520041177462],\n",
       " [0.014073910591718765,\n",
       "  0.014073473381584808,\n",
       "  0.9991081526222649,\n",
       "  0.014073736546437622,\n",
       "  0.014077062279159225,\n",
       "  0.014073385310478689,\n",
       "  0.0140765894211966,\n",
       "  0.014076574742678915,\n",
       "  0.014073902203994373,\n",
       "  0.014074543864910395],\n",
       " [0.026490002108473767,\n",
       "  0.02649197078499725,\n",
       "  0.026495037775791732,\n",
       "  0.026504312758570788,\n",
       "  0.02649077773741986,\n",
       "  0.5374514618602411,\n",
       "  0.02649035735837274,\n",
       "  0.026496979808572792,\n",
       "  0.8399586398669703,\n",
       "  0.02649167474341477],\n",
       " [0.09735470392313798,\n",
       "  0.0,\n",
       "  0.1095967481487097,\n",
       "  0.0,\n",
       "  0.0,\n",
       "  0.12292551375358077,\n",
       "  0.7750183415541387,\n",
       "  0.0,\n",
       "  0.6022844035357027,\n",
       "  0.0],\n",
       " [0.31622776601683794,\n",
       "  0.31622776601683794,\n",
       "  0.31622776601683794,\n",
       "  0.31622776601683794,\n",
       "  0.31622776601683794,\n",
       "  0.31622776601683794,\n",
       "  0.31622776601683794,\n",
       "  0.31622776601683794,\n",
       "  0.31622776601683794,\n",
       "  0.31622776601683794],\n",
       " [0.0, 0.0, 1.0, 0.0, 0.0, 0.0, 0.0, 0.0, 0.0, 0.0],\n",
       " [0.99827369526164,\n",
       "  0.019574621874254187,\n",
       "  0.01957501564746989,\n",
       "  0.019585763468629606,\n",
       "  0.01957510096499996,\n",
       "  0.019578268651757394,\n",
       "  0.01957553630316621,\n",
       "  0.019579509037386856,\n",
       "  0.0195760963361841,\n",
       "  0.01958072098383963],\n",
       " [0.04714158462089063,\n",
       "  0.04714539900169334,\n",
       "  0.047141574083927086,\n",
       "  0.04715372320289262,\n",
       "  0.047141574083927086,\n",
       "  0.04714470883058125,\n",
       "  0.047141574083927086,\n",
       "  0.04714432423141191,\n",
       "  0.9899478091978189,\n",
       "  0.0471449775231516],\n",
       " [0.3591147481821612,\n",
       "  0.03728252424192026,\n",
       "  0.037270198550093725,\n",
       "  0.8317337691119294,\n",
       "  0.037273280840812384,\n",
       "  0.41174050256684114,\n",
       "  0.03727257274699864,\n",
       "  0.03727424579218602,\n",
       "  0.03727287125713581,\n",
       "  0.037270104831794854],\n",
       " [0.14604491346462464,\n",
       "  0.0,\n",
       "  0.622475797330463,\n",
       "  0.0,\n",
       "  0.0,\n",
       "  0.0,\n",
       "  0.2922424204817255,\n",
       "  0.0,\n",
       "  0.7111885352421655,\n",
       "  0.0],\n",
       " [0.31622776601683794,\n",
       "  0.31622776601683794,\n",
       "  0.31622776601683794,\n",
       "  0.31622776601683794,\n",
       "  0.31622776601683794,\n",
       "  0.31622776601683794,\n",
       "  0.31622776601683794,\n",
       "  0.31622776601683794,\n",
       "  0.31622776601683794,\n",
       "  0.31622776601683794],\n",
       " [0.015188931718490145,\n",
       "  0.015188030710458782,\n",
       "  0.015188969908783469,\n",
       "  0.5936824239951592,\n",
       "  0.015188513039718899,\n",
       "  0.015189527204174923,\n",
       "  0.8035515627357179,\n",
       "  0.015194614999918744,\n",
       "  0.01519322600480603,\n",
       "  0.015193999711859649],\n",
       " [0.0,\n",
       "  0.42274696499657866,\n",
       "  0.0,\n",
       "  0.20380550980708795,\n",
       "  0.0,\n",
       "  0.0,\n",
       "  0.0,\n",
       "  0.0,\n",
       "  0.7778765561402093,\n",
       "  0.41791910840006147],\n",
       " [0.31622776601683794,\n",
       "  0.31622776601683794,\n",
       "  0.31622776601683794,\n",
       "  0.31622776601683794,\n",
       "  0.31622776601683794,\n",
       "  0.31622776601683794,\n",
       "  0.31622776601683794,\n",
       "  0.31622776601683794,\n",
       "  0.31622776601683794,\n",
       "  0.31622776601683794],\n",
       " [0.021197120334558228,\n",
       "  0.8559928246597532,\n",
       "  0.021197527791357574,\n",
       "  0.021196935557637592,\n",
       "  0.02120776474861869,\n",
       "  0.23356613891452618,\n",
       "  0.021201003808471383,\n",
       "  0.021197423558222857,\n",
       "  0.45779612226963995,\n",
       "  0.021196875544620634],\n",
       " [0.026411597460437555,\n",
       "  0.026409993255077424,\n",
       "  0.026412645701922876,\n",
       "  0.026406750419349433,\n",
       "  0.02641210350805116,\n",
       "  0.3370578669667336,\n",
       "  0.6312350630271075,\n",
       "  0.02640927205116552,\n",
       "  0.6950194799061873,\n",
       "  0.02640376232867863],\n",
       " [0.025975417002116634,\n",
       "  0.02598089445525295,\n",
       "  0.36239155041378635,\n",
       "  0.7991526578019503,\n",
       "  0.02597429950008573,\n",
       "  0.025975679445775404,\n",
       "  0.47466181863100515,\n",
       "  0.025977552108269616,\n",
       "  0.025974367227481542,\n",
       "  0.025979248679534713],\n",
       " [0.06273354146904,\n",
       "  0.06273816866313281,\n",
       "  0.06273401821024957,\n",
       "  0.6000986144943579,\n",
       "  0.06273763583472212,\n",
       "  0.06273247581221864,\n",
       "  0.06273502076896968,\n",
       "  0.7799977512302891,\n",
       "  0.06273442484245773,\n",
       "  0.06273247581221864],\n",
       " [0.016166637669721883,\n",
       "  0.418405716146155,\n",
       "  0.01616555372360429,\n",
       "  0.016165987302051328,\n",
       "  0.01617032850625229,\n",
       "  0.01616735984882273,\n",
       "  0.9071084597830792,\n",
       "  0.016166327390145722,\n",
       "  0.016166158023564848,\n",
       "  0.016165289511738127],\n",
       " [0.015349404534164222,\n",
       "  0.015345171703455512,\n",
       "  0.015344602943623619,\n",
       "  0.015347682535175702,\n",
       "  0.7352485817675719,\n",
       "  0.015344781574224088,\n",
       "  0.01534751390788886,\n",
       "  0.015345200284351587,\n",
       "  0.6764062786577566,\n",
       "  0.015345970539500809],\n",
       " [0.025566852742290234,\n",
       "  0.02556849442221361,\n",
       "  0.025562390496280406,\n",
       "  0.635011179743351,\n",
       "  0.025562958037599625,\n",
       "  0.3639425062305076,\n",
       "  0.025568183988539005,\n",
       "  0.270199794416135,\n",
       "  0.025563836012593447,\n",
       "  0.6223963131440137],\n",
       " [0.0,\n",
       "  0.0,\n",
       "  0.0,\n",
       "  0.0,\n",
       "  0.0,\n",
       "  0.3747951495940783,\n",
       "  0.0,\n",
       "  0.0,\n",
       "  0.9271076506214111,\n",
       "  0.0],\n",
       " [0.0,\n",
       "  0.0,\n",
       "  0.0,\n",
       "  0.0,\n",
       "  0.8757741239342814,\n",
       "  0.0,\n",
       "  0.443002651570537,\n",
       "  0.0,\n",
       "  0.19175070938230007,\n",
       "  0.0],\n",
       " [0.04714079259223107,\n",
       "  0.04714079259223107,\n",
       "  0.04714079259223107,\n",
       "  0.04714079259223107,\n",
       "  0.04714138265234165,\n",
       "  0.04714408006998998,\n",
       "  0.0471444383207714,\n",
       "  0.04714079259223107,\n",
       "  0.9899489894605966,\n",
       "  0.04714079259223107],\n",
       " [0.0,\n",
       "  0.5059322140210695,\n",
       "  0.0,\n",
       "  0.3102106780668132,\n",
       "  0.0,\n",
       "  0.0,\n",
       "  0.0,\n",
       "  0.0,\n",
       "  0.8048614352974471,\n",
       "  0.0],\n",
       " [0.0,\n",
       "  0.0,\n",
       "  0.0,\n",
       "  0.0,\n",
       "  0.6219106761206832,\n",
       "  0.2565888726765943,\n",
       "  0.1829284824695548,\n",
       "  0.2060753229608263,\n",
       "  0.6866290067522971,\n",
       "  0.0],\n",
       " [0.03314016098139315,\n",
       "  0.033138901845244935,\n",
       "  0.5891539514913264,\n",
       "  0.03313702857161267,\n",
       "  0.03314114236692044,\n",
       "  0.03313945426036879,\n",
       "  0.03314949031613836,\n",
       "  0.033140864616299504,\n",
       "  0.033140670190864856,\n",
       "  0.8025652828971134],\n",
       " [0.01985594398789351,\n",
       "  0.31689006230623806,\n",
       "  0.8890279411767068,\n",
       "  0.01985633342102745,\n",
       "  0.01985711395153949,\n",
       "  0.22175576820835674,\n",
       "  0.019864711226139607,\n",
       "  0.24014193829295472,\n",
       "  0.01986346304301801,\n",
       "  0.019855366495169252],\n",
       " [0.03034134641134399,\n",
       "  0.9381469081070588,\n",
       "  0.03032826725142606,\n",
       "  0.030327671332025782,\n",
       "  0.030335435229804746,\n",
       "  0.030347384684698452,\n",
       "  0.030330371327033673,\n",
       "  0.3354380936049749,\n",
       "  0.030336584704666894,\n",
       "  0.030332379377714228],\n",
       " [0.0,\n",
       "  0.0,\n",
       "  0.0,\n",
       "  0.0754149938536043,\n",
       "  0.20297130857767245,\n",
       "  0.16545077213247406,\n",
       "  0.9358630355417801,\n",
       "  0.1224070310631674,\n",
       "  0.1868640309153212,\n",
       "  0.0],\n",
       " [0.024325643126816062,\n",
       "  0.02432567937484981,\n",
       "  0.02432588327003964,\n",
       "  0.02433646996139613,\n",
       "  0.024330473177312965,\n",
       "  0.024325643126816062,\n",
       "  0.024325699764368793,\n",
       "  0.02432579491545738,\n",
       "  0.9973331852795297,\n",
       "  0.024327695671727035],\n",
       " [0.017336782561568908,\n",
       "  0.017336682475753817,\n",
       "  0.017338850463651696,\n",
       "  0.7783593512760963,\n",
       "  0.017337087661876204,\n",
       "  0.017343882197291074,\n",
       "  0.5661490634812227,\n",
       "  0.2674461898283515,\n",
       "  0.017341798152334886,\n",
       "  0.01733812564863595],\n",
       " [0.2348224934057858,\n",
       "  0.1940193338003914,\n",
       "  0.1495049550361716,\n",
       "  0.0,\n",
       "  0.8515054617374404,\n",
       "  0.0,\n",
       "  0.0,\n",
       "  0.0,\n",
       "  0.35431910105123443,\n",
       "  0.18509345310822847],\n",
       " [0.1511954218648074,\n",
       "  0.0,\n",
       "  0.03531097364687459,\n",
       "  0.0,\n",
       "  0.06810476191796362,\n",
       "  0.0,\n",
       "  0.9855226131100849,\n",
       "  0.0,\n",
       "  0.0,\n",
       "  0.0],\n",
       " [0.08773042011223026,\n",
       "  0.08772261070703516,\n",
       "  0.0877160102892552,\n",
       "  0.08772881248572148,\n",
       "  0.0877122526256676,\n",
       "  0.08771830409781041,\n",
       "  0.08772317925787364,\n",
       "  0.08772817858421192,\n",
       "  0.08771297148304957,\n",
       "  0.9647510450674777],\n",
       " [0.31622776601683794,\n",
       "  0.31622776601683794,\n",
       "  0.31622776601683794,\n",
       "  0.31622776601683794,\n",
       "  0.31622776601683794,\n",
       "  0.31622776601683794,\n",
       "  0.31622776601683794,\n",
       "  0.31622776601683794,\n",
       "  0.31622776601683794,\n",
       "  0.31622776601683794],\n",
       " [0.032115802490879156,\n",
       "  0.03211616373232687,\n",
       "  0.032123063204745526,\n",
       "  0.03211147237816148,\n",
       "  0.03211129773825629,\n",
       "  0.03211168768763363,\n",
       "  0.9953483980749283,\n",
       "  0.03211082405741757,\n",
       "  0.03211235514699729,\n",
       "  0.03210999152745859],\n",
       " [0.010984604758897518,\n",
       "  0.010983922446552009,\n",
       "  0.010988400952472005,\n",
       "  0.0109841178313466,\n",
       "  0.010984828786489221,\n",
       "  0.01099033843310528,\n",
       "  0.9995170839712203,\n",
       "  0.010985848674657846,\n",
       "  0.010988725229853604,\n",
       "  0.0],\n",
       " [0.021979024136429368,\n",
       "  0.4800459841782368,\n",
       "  0.021977537570035212,\n",
       "  0.021977550464663164,\n",
       "  0.021980919646738647,\n",
       "  0.28388972060680495,\n",
       "  0.7653030363965954,\n",
       "  0.021977051258352365,\n",
       "  0.3168209204162074,\n",
       "  0.02197708994223623],\n",
       " [0.047147966168986324,\n",
       "  0.04714681761887732,\n",
       "  0.0471438039919858,\n",
       "  0.0471472549108913,\n",
       "  0.9899465083391874,\n",
       "  0.04715997852792456,\n",
       "  0.04714641193833423,\n",
       "  0.047144478370031453,\n",
       "  0.0471427397391325,\n",
       "  0.047147302328097634],\n",
       " [0.31622776601683794,\n",
       "  0.31622776601683794,\n",
       "  0.31622776601683794,\n",
       "  0.31622776601683794,\n",
       "  0.31622776601683794,\n",
       "  0.31622776601683794,\n",
       "  0.31622776601683794,\n",
       "  0.31622776601683794,\n",
       "  0.31622776601683794,\n",
       "  0.31622776601683794],\n",
       " [0.03211271767448571,\n",
       "  0.9953491846195273,\n",
       "  0.03211019620763053,\n",
       "  0.03210961249044584,\n",
       "  0.03211016989251155,\n",
       "  0.03210948330713447,\n",
       "  0.03211387075515383,\n",
       "  0.032112600452592066,\n",
       "  0.03211088996985824,\n",
       "  0.03210873930695235],\n",
       " [0.01453628356475373,\n",
       "  0.01453643098525056,\n",
       "  0.014536605209474083,\n",
       "  0.01453771756413197,\n",
       "  0.014543045413988423,\n",
       "  0.2164618284564862,\n",
       "  0.9754246913344435,\n",
       "  0.014537930775594326,\n",
       "  0.014543163594056129,\n",
       "  0.014536975588242974],\n",
       " [0.019582376548500667,\n",
       "  0.9982734769880239,\n",
       "  0.01957504573600447,\n",
       "  0.019577664352106512,\n",
       "  0.019576671159366055,\n",
       "  0.019580145146308448,\n",
       "  0.019578552537684982,\n",
       "  0.019577353705918968,\n",
       "  0.019584041349547998,\n",
       "  0.019579913255492395],\n",
       " [0.0,\n",
       "  0.0,\n",
       "  0.0,\n",
       "  0.0,\n",
       "  0.0,\n",
       "  0.39835368827017503,\n",
       "  0.9112398216148518,\n",
       "  0.0,\n",
       "  0.0,\n",
       "  0.1046724727179075],\n",
       " [0.8218957058549349,\n",
       "  0.5619614659506753,\n",
       "  0.03295046799685874,\n",
       "  0.03295009362029358,\n",
       "  0.03295371770819071,\n",
       "  0.03296076335240055,\n",
       "  0.03295059994925465,\n",
       "  0.032952324536382666,\n",
       "  0.032949808234879155,\n",
       "  0.03294951364348362],\n",
       " [0.06324628058205431,\n",
       "  0.06324601905518158,\n",
       "  0.06324601905518158,\n",
       "  0.06325399915894657,\n",
       "  0.06324960268016727,\n",
       "  0.6954404417579598,\n",
       "  0.6959602158150563,\n",
       "  0.06324601905518158,\n",
       "  0.06324601905518158,\n",
       "  0.06324604026006315],\n",
       " [0.0,\n",
       "  0.0,\n",
       "  0.0,\n",
       "  0.0,\n",
       "  0.0,\n",
       "  0.0,\n",
       "  0.4601277580219295,\n",
       "  0.31816470450153667,\n",
       "  0.8288870050297341,\n",
       "  0.0],\n",
       " [0.31622776601683794,\n",
       "  0.31622776601683794,\n",
       "  0.31622776601683794,\n",
       "  0.31622776601683794,\n",
       "  0.31622776601683794,\n",
       "  0.31622776601683794,\n",
       "  0.31622776601683794,\n",
       "  0.31622776601683794,\n",
       "  0.31622776601683794,\n",
       "  0.31622776601683794],\n",
       " [0.0,\n",
       "  0.2194390757382295,\n",
       "  0.0,\n",
       "  0.0,\n",
       "  0.44083609839016363,\n",
       "  0.0,\n",
       "  0.8065369505650369,\n",
       "  0.0,\n",
       "  0.296434847274669,\n",
       "  0.13832770904552766],\n",
       " [0.03965723160748106,\n",
       "  0.6241079340998328,\n",
       "  0.03964813000611884,\n",
       "  0.03964735461614477,\n",
       "  0.03964911585908586,\n",
       "  0.4520454132925904,\n",
       "  0.6286010014588748,\n",
       "  0.03965630113951218,\n",
       "  0.03964761677180267,\n",
       "  0.03964619522351689],\n",
       " [0.8202583135084243,\n",
       "  0.5703927161550374,\n",
       "  0.015118613457512272,\n",
       "  0.015116162507140849,\n",
       "  0.015117570290237588,\n",
       "  0.015119018899044132,\n",
       "  0.015120623771774415,\n",
       "  0.015117485823251783,\n",
       "  0.015117946168324417,\n",
       "  0.015117143731959276],\n",
       " [0.47856833081182243,\n",
       "  0.0,\n",
       "  0.0,\n",
       "  0.0,\n",
       "  0.0,\n",
       "  0.5855124442588251,\n",
       "  0.0,\n",
       "  0.6543298330062922,\n",
       "  0.0,\n",
       "  0.0],\n",
       " [0.013985549973507884,\n",
       "  0.35064654278710816,\n",
       "  0.013984893676557896,\n",
       "  0.013982926087884425,\n",
       "  0.013983161781828766,\n",
       "  0.013989701312151846,\n",
       "  0.013983397475773107,\n",
       "  0.013986949813232558,\n",
       "  0.9356721025144219,\n",
       "  0.013986164600810251],\n",
       " [0.03662690449924967,\n",
       "  0.03662380414717933,\n",
       "  0.03663053010348596,\n",
       "  0.03662241257001243,\n",
       "  0.03662606546007552,\n",
       "  0.4687019624570325,\n",
       "  0.03662390987975818,\n",
       "  0.270827956930947,\n",
       "  0.8352129918045205,\n",
       "  0.03662426800623495],\n",
       " [0.31622776601683794,\n",
       "  0.31622776601683794,\n",
       "  0.31622776601683794,\n",
       "  0.31622776601683794,\n",
       "  0.31622776601683794,\n",
       "  0.31622776601683794,\n",
       "  0.31622776601683794,\n",
       "  0.31622776601683794,\n",
       "  0.31622776601683794,\n",
       "  0.31622776601683794],\n",
       " [0.08772296178877527,\n",
       "  0.08773854804542601,\n",
       "  0.08771287156644036,\n",
       "  0.0877133747705335,\n",
       "  0.08771466218879773,\n",
       "  0.08773530009173401,\n",
       "  0.08772305981554666,\n",
       "  0.08772228213649365,\n",
       "  0.08772464784924315,\n",
       "  0.9647496838651085],\n",
       " [0.0,\n",
       "  0.0,\n",
       "  0.3334910072208441,\n",
       "  0.0,\n",
       "  0.0,\n",
       "  0.0,\n",
       "  0.8965393932896683,\n",
       "  0.0,\n",
       "  0.0,\n",
       "  0.2915490771424604],\n",
       " [0.04968829954137067,\n",
       "  0.0,\n",
       "  0.0,\n",
       "  0.0,\n",
       "  0.16109795077164887,\n",
       "  0.1723941888871695,\n",
       "  0.9681210604860498,\n",
       "  0.0,\n",
       "  0.0,\n",
       "  0.06782609399901834],\n",
       " [0.31622776601683794,\n",
       "  0.31622776601683794,\n",
       "  0.31622776601683794,\n",
       "  0.31622776601683794,\n",
       "  0.31622776601683794,\n",
       "  0.31622776601683794,\n",
       "  0.31622776601683794,\n",
       "  0.31622776601683794,\n",
       "  0.31622776601683794,\n",
       "  0.31622776601683794],\n",
       " [0.0, 0.0, 0.0, 0.0, 0.0, 0.0, 0.0, 0.0, 1.0, 0.0],\n",
       " [0.0,\n",
       "  0.34752658219237825,\n",
       "  0.1815788131457658,\n",
       "  0.0,\n",
       "  0.3188886172721505,\n",
       "  0.0,\n",
       "  0.0,\n",
       "  0.0,\n",
       "  0.8628814861036915,\n",
       "  0.0],\n",
       " [0.03251985148985429,\n",
       "  0.5100487470969085,\n",
       "  0.0325075235869022,\n",
       "  0.03251191948942833,\n",
       "  0.8552155462860853,\n",
       "  0.0325093491579926,\n",
       "  0.03250775670294525,\n",
       "  0.03252200705638226,\n",
       "  0.032510199880175686,\n",
       "  0.03251359974142696],\n",
       " [0.03210819895610455,\n",
       "  0.03210824440879469,\n",
       "  0.032108964475096334,\n",
       "  0.032108490810220165,\n",
       "  0.0321081965638577,\n",
       "  0.0321081965638577,\n",
       "  0.9953498400646906,\n",
       "  0.0321081965638577,\n",
       "  0.03210995247304511,\n",
       "  0.032109521868612226],\n",
       " [0.03210892865123436,\n",
       "  0.0321102731230151,\n",
       "  0.03210920376556672,\n",
       "  0.03211192380900924,\n",
       "  0.03210889515905477,\n",
       "  0.995348917910248,\n",
       "  0.03211244772238999,\n",
       "  0.03211123004243199,\n",
       "  0.03211621798489256,\n",
       "  0.03211742609565639],\n",
       " [0.02535536527307414,\n",
       "  0.30062881562513355,\n",
       "  0.025365226630580426,\n",
       "  0.3284532789611299,\n",
       "  0.02535396001546359,\n",
       "  0.7248327821390098,\n",
       "  0.025355080066220385,\n",
       "  0.02535359736833829,\n",
       "  0.5220157892238758,\n",
       "  0.025355767584728774],\n",
       " [0.0195759445215949,\n",
       "  0.01957943164996002,\n",
       "  0.01959328828174464,\n",
       "  0.01957546323662606,\n",
       "  0.019581525239574463,\n",
       "  0.01958028921226813,\n",
       "  0.9982733717877336,\n",
       "  0.01957484850446132,\n",
       "  0.019577913414649234,\n",
       "  0.019578418763866512],\n",
       " [0.8099003667984626,\n",
       "  0.022468853356762953,\n",
       "  0.022471147221951784,\n",
       "  0.022479212369927334,\n",
       "  0.02247173313898597,\n",
       "  0.022470540797821403,\n",
       "  0.02247142260295785,\n",
       "  0.022487273123525123,\n",
       "  0.5831128352588153,\n",
       "  0.02247563388164105],\n",
       " [0.0,\n",
       "  0.0,\n",
       "  0.0,\n",
       "  0.0,\n",
       "  0.0,\n",
       "  0.5355616091310842,\n",
       "  0.7400082754410515,\n",
       "  0.0,\n",
       "  0.4068925105033079,\n",
       "  0.0],\n",
       " [0.026381285767604318,\n",
       "  0.849546540601732,\n",
       "  0.02638238545648998,\n",
       "  0.026383051755922038,\n",
       "  0.026381462661258848,\n",
       "  0.026383576540430477,\n",
       "  0.026382441472813913,\n",
       "  0.026383950965332564,\n",
       "  0.02638398044760832,\n",
       "  0.5222090311709172],\n",
       " [0.3699840186526096,\n",
       "  0.024934078319996326,\n",
       "  0.9263576722233953,\n",
       "  0.0249320193498501,\n",
       "  0.024931166785757075,\n",
       "  0.02493214751307977,\n",
       "  0.024936909055677747,\n",
       "  0.024932256173209273,\n",
       "  0.024936123359356722,\n",
       "  0.02493036437249305],\n",
       " [0.0877173961290553,\n",
       "  0.08771633089708065,\n",
       "  0.08772304904720295,\n",
       "  0.08772582649253562,\n",
       "  0.08771422657379332,\n",
       "  0.08771522645411309,\n",
       "  0.08773872037404465,\n",
       "  0.9647484202800414,\n",
       "  0.08774460855814989,\n",
       "  0.08772621860246493],\n",
       " [0.0,\n",
       "  0.20557987136309508,\n",
       "  0.0,\n",
       "  0.0,\n",
       "  0.0,\n",
       "  0.20462112641247243,\n",
       "  0.9462921735923866,\n",
       "  0.0,\n",
       "  0.14282238379827106,\n",
       "  0.0],\n",
       " [0.01698807633346437,\n",
       "  0.016987199261589588,\n",
       "  0.8139159565915757,\n",
       "  0.016988064942920537,\n",
       "  0.016989622599789058,\n",
       "  0.5789922777135094,\n",
       "  0.01698740001992456,\n",
       "  0.01698787984658333,\n",
       "  0.016987291809758196,\n",
       "  0.01698907727750328],\n",
       " [0.01987546012735644,\n",
       "  0.01987642543694623,\n",
       "  0.019881562957112013,\n",
       "  0.019876391748289403,\n",
       "  0.27142212763034335,\n",
       "  0.019881577210005285,\n",
       "  0.01988006899475359,\n",
       "  0.019876640526062878,\n",
       "  0.960816746125238,\n",
       "  0.019879139965255768],\n",
       " [0.0,\n",
       "  0.07527116328217962,\n",
       "  0.0,\n",
       "  0.0,\n",
       "  0.28221059609138477,\n",
       "  0.19319639316809992,\n",
       "  0.9338598611514646,\n",
       "  0.0,\n",
       "  0.07261091397921397,\n",
       "  0.0],\n",
       " [0.08773304234554469,\n",
       "  0.08772951324520406,\n",
       "  0.08774064951739002,\n",
       "  0.0877166516350738,\n",
       "  0.08774200887455826,\n",
       "  0.9647428927826432,\n",
       "  0.08774776653641027,\n",
       "  0.08772697098588463,\n",
       "  0.08771634447263675,\n",
       "  0.08772944135612305],\n",
       " [0.08770580137777596,\n",
       "  0.08770580137777596,\n",
       "  0.08770580137777596,\n",
       "  0.08770580137777596,\n",
       "  0.08770580137777596,\n",
       "  0.964763821690127,\n",
       "  0.08770580137777596,\n",
       "  0.08770580137777596,\n",
       "  0.08770580137777596,\n",
       "  0.08770580137777596],\n",
       " [0.026948486283462088,\n",
       "  0.026962263886844053,\n",
       "  0.02695250964479942,\n",
       "  0.026950711780489252,\n",
       "  0.02694984446906324,\n",
       "  0.02695802972064623,\n",
       "  0.02695353957711781,\n",
       "  0.6212881804707977,\n",
       "  0.02695747861651095,\n",
       "  0.779864606932744],\n",
       " [0.03212225212205935,\n",
       "  0.03212748210200533,\n",
       "  0.03212013237721391,\n",
       "  0.0321181561816808,\n",
       "  0.032124017778601036,\n",
       "  0.9953455139147512,\n",
       "  0.032138590426291316,\n",
       "  0.032114550701452714,\n",
       "  0.032118290161038975,\n",
       "  0.03212856111433636],\n",
       " [0.019735264295077402,\n",
       "  0.3455380180504889,\n",
       "  0.5661770446003775,\n",
       "  0.23389668759740712,\n",
       "  0.01973894160434556,\n",
       "  0.0197368355591575,\n",
       "  0.019735953445989725,\n",
       "  0.019733720597033797,\n",
       "  0.019734819563021984,\n",
       "  0.7092265730637342],\n",
       " [0.0,\n",
       "  0.09143747557883464,\n",
       "  0.0,\n",
       "  0.0,\n",
       "  0.0,\n",
       "  0.0,\n",
       "  0.44375437591584255,\n",
       "  0.0,\n",
       "  0.8914713915293699,\n",
       "  0.0],\n",
       " [0.0, 0.0, 0.0, 0.0, 0.0, 0.0, 0.0, 0.0, 1.0, 0.0],\n",
       " [0.08771757359594884,\n",
       "  0.08770738598401791,\n",
       "  0.08771099314359833,\n",
       "  0.08770738598401791,\n",
       "  0.08771180998227143,\n",
       "  0.9647606549549255,\n",
       "  0.0877097188752683,\n",
       "  0.08770738598401791,\n",
       "  0.08770740558814606,\n",
       "  0.08770738598401791],\n",
       " [0.04187702875712244,\n",
       "  0.45979799941219984,\n",
       "  0.041879936372392346,\n",
       "  0.041873696854645766,\n",
       "  0.04187623633836862,\n",
       "  0.041876966361944976,\n",
       "  0.041883046771989015,\n",
       "  0.04187875086402049,\n",
       "  0.04187562486562946,\n",
       "  0.8800885704404499],\n",
       " [0.019266501042344602,\n",
       "  0.01925638917406188,\n",
       "  0.974012753324224,\n",
       "  0.0192562197014091,\n",
       "  0.019258259650007412,\n",
       "  0.21984560942845466,\n",
       "  0.019257738678519227,\n",
       "  0.019258673916491994,\n",
       "  0.019256323895706733,\n",
       "  0.019256484580888633],\n",
       " [0.0,\n",
       "  0.0,\n",
       "  0.0,\n",
       "  0.0,\n",
       "  0.0,\n",
       "  0.0,\n",
       "  0.9546150417981824,\n",
       "  0.0,\n",
       "  0.297842444880938,\n",
       "  0.0],\n",
       " [0.04307169674759675,\n",
       "  0.04307143361703808,\n",
       "  0.5559682236849676,\n",
       "  0.043070438855169944,\n",
       "  0.04307310545875841,\n",
       "  0.8222273918608091,\n",
       "  0.043070663478817585,\n",
       "  0.04307514311613346,\n",
       "  0.04307033937898313,\n",
       "  0.043071703165415254],\n",
       " [0.018397229865932768,\n",
       "  0.018395982980000797,\n",
       "  0.5106799186909358,\n",
       "  0.01840172927437135,\n",
       "  0.018395982980000797,\n",
       "  0.6928397042236246,\n",
       "  0.018393768387267227,\n",
       "  0.01839381805717386,\n",
       "  0.018394557967507115,\n",
       "  0.5067644776318545],\n",
       " [0.0,\n",
       "  0.0,\n",
       "  0.8942939299334015,\n",
       "  0.0,\n",
       "  0.0,\n",
       "  0.0,\n",
       "  0.0,\n",
       "  0.0,\n",
       "  0.44748001841900403,\n",
       "  0.0],\n",
       " [0.0,\n",
       "  0.0,\n",
       "  0.2684954535414931,\n",
       "  0.0,\n",
       "  0.0,\n",
       "  0.0,\n",
       "  0.9632809514505868,\n",
       "  0.0,\n",
       "  0.0,\n",
       "  0.0],\n",
       " [0.0,\n",
       "  0.0,\n",
       "  0.7185683766293557,\n",
       "  0.0,\n",
       "  0.0,\n",
       "  0.35415288869179623,\n",
       "  0.5985275428411868,\n",
       "  0.0,\n",
       "  0.0,\n",
       "  0.0],\n",
       " [0.14746530227348684,\n",
       "  0.0,\n",
       "  0.05879587051187962,\n",
       "  0.0,\n",
       "  0.0,\n",
       "  0.0,\n",
       "  0.9848231178362111,\n",
       "  0.0,\n",
       "  0.0,\n",
       "  0.07014596789198686],\n",
       " [0.017196592850803494,\n",
       "  0.017207607545015997,\n",
       "  0.5456956369568023,\n",
       "  0.01719594747107572,\n",
       "  0.017198508171285924,\n",
       "  0.2572108602066587,\n",
       "  0.7962338024558551,\n",
       "  0.01720058043274434,\n",
       "  0.017195788928661204,\n",
       "  0.01719616366527733],\n",
       " [0.08770895434192573,\n",
       "  0.08770895434192573,\n",
       "  0.08770895434192573,\n",
       "  0.08770895434192573,\n",
       "  0.08770924840910638,\n",
       "  0.08770895434192573,\n",
       "  0.08774961403076978,\n",
       "  0.08770895434192573,\n",
       "  0.9647575178658534,\n",
       "  0.08770895434192573],\n",
       " [0.7015355689910174,\n",
       "  0.6898138644010379,\n",
       "  0.063259959703854,\n",
       "  0.06324505997467576,\n",
       "  0.06324503170194487,\n",
       "  0.0632533156120952,\n",
       "  0.06324504583831031,\n",
       "  0.06325487061229405,\n",
       "  0.06324503170194487,\n",
       "  0.06325308943024809],\n",
       " [0.02434020078035448,\n",
       "  0.024326605038037265,\n",
       "  0.9973321461762455,\n",
       "  0.02432693807821734,\n",
       "  0.024328861555175732,\n",
       "  0.024326851986198002,\n",
       "  0.02434622722170822,\n",
       "  0.024334312539347574,\n",
       "  0.024331353692577655,\n",
       "  0.02433022090284951],\n",
       " [0.0,\n",
       "  0.10634787822291103,\n",
       "  0.0,\n",
       "  0.0,\n",
       "  0.8469425741108374,\n",
       "  0.3414614488954591,\n",
       "  0.0,\n",
       "  0.0,\n",
       "  0.28523554755374936,\n",
       "  0.27096709447074985],\n",
       " [0.31083264095225904,\n",
       "  0.0,\n",
       "  0.0,\n",
       "  0.0,\n",
       "  0.36044403411643067,\n",
       "  0.750538589112283,\n",
       "  0.4584266504489688,\n",
       "  0.0,\n",
       "  0.0,\n",
       "  0.0],\n",
       " [0.0,\n",
       "  0.22688476244387681,\n",
       "  0.4843165268590489,\n",
       "  0.0,\n",
       "  0.33650932034103465,\n",
       "  0.0,\n",
       "  0.0,\n",
       "  0.0,\n",
       "  0.7550039050222279,\n",
       "  0.17518957476623795],\n",
       " [0.03216846996644552,\n",
       "  0.032119073748378475,\n",
       "  0.032114066178659674,\n",
       "  0.032132110655878586,\n",
       "  0.032119073748378475,\n",
       "  0.032112551705830245,\n",
       "  0.032120849007208546,\n",
       "  0.03213168239262982,\n",
       "  0.9953447327077936,\n",
       "  0.03211832967089039],\n",
       " [0.0877107672729952,\n",
       "  0.08770855197706372,\n",
       "  0.08770855197706372,\n",
       "  0.08770855197706372,\n",
       "  0.9647583198773729,\n",
       "  0.08770855197706372,\n",
       "  0.08770864999900758,\n",
       "  0.08773571712510851,\n",
       "  0.08771483191626772,\n",
       "  0.08770855197706372],\n",
       " [0.28702504380209864,\n",
       "  0.6322953909124943,\n",
       "  0.7171471442823835,\n",
       "  0.02241790507453299,\n",
       "  0.022429854059048647,\n",
       "  0.022421494446593956,\n",
       "  0.02242701128973838,\n",
       "  0.022419054208073216,\n",
       "  0.02241817398514342,\n",
       "  0.022418579856437425],\n",
       " [0.016672933187751184,\n",
       "  0.19157909021013675,\n",
       "  0.22183372636826082,\n",
       "  0.01666951955129039,\n",
       "  0.01667201108676996,\n",
       "  0.22508915886407335,\n",
       "  0.01667071176266005,\n",
       "  0.9283074349123595,\n",
       "  0.01666882875173375,\n",
       "  0.01666879925692122],\n",
       " [0.026857531366181936,\n",
       "  0.026858128652228773,\n",
       "  0.026860559816540012,\n",
       "  0.026857999590419658,\n",
       "  0.02685775347255111,\n",
       "  0.026860268677110145,\n",
       "  0.7960124670963341,\n",
       "  0.026858818982835667,\n",
       "  0.6004935989671207,\n",
       "  0.02686731905361274],\n",
       " [0.0,\n",
       "  0.0,\n",
       "  0.23323772219219735,\n",
       "  0.0,\n",
       "  0.0,\n",
       "  0.0,\n",
       "  0.0,\n",
       "  0.0,\n",
       "  0.9724197473039076,\n",
       "  0.0],\n",
       " [0.020694429560813788,\n",
       "  0.31865008739887324,\n",
       "  0.5134156008716065,\n",
       "  0.020696449212043885,\n",
       "  0.020695701478573202,\n",
       "  0.020695323757541618,\n",
       "  0.020698199062537136,\n",
       "  0.6367942444560147,\n",
       "  0.020694963380843118,\n",
       "  0.4762244480770702],\n",
       " [0.02198807822786292,\n",
       "  0.2564999529924801,\n",
       "  0.5668368508153422,\n",
       "  0.021975597999509416,\n",
       "  0.021977192613495553,\n",
       "  0.021976994514632798,\n",
       "  0.02197761336893132,\n",
       "  0.021981778356591205,\n",
       "  0.7807190259886269,\n",
       "  0.02197633473081718],\n",
       " [0.04198300151354269,\n",
       "  0.04198313914452419,\n",
       "  0.04198583233259381,\n",
       "  0.041993186206173,\n",
       "  0.04198681451732535,\n",
       "  0.46737144089900884,\n",
       "  0.04198430900786685,\n",
       "  0.041983595829144585,\n",
       "  0.04200037429697903,\n",
       "  0.8760481228123549],\n",
       " [0.0,\n",
       "  0.261654883311806,\n",
       "  0.0,\n",
       "  0.0,\n",
       "  0.0,\n",
       "  0.0,\n",
       "  0.8743317924953906,\n",
       "  0.0,\n",
       "  0.4087549861113407,\n",
       "  0.0],\n",
       " [0.024325408074167543,\n",
       "  0.024325408074167543,\n",
       "  0.9973334801619144,\n",
       "  0.024325408074167543,\n",
       "  0.024325408074167543,\n",
       "  0.024325408074167543,\n",
       "  0.024325419401568637,\n",
       "  0.024333604581597203,\n",
       "  0.024325421667048854,\n",
       "  0.024325408074167543],\n",
       " [0.7309681428581241,\n",
       "  0.01960055008493121,\n",
       "  0.01959991195288146,\n",
       "  0.01960063770031561,\n",
       "  0.01960521560415076,\n",
       "  0.019604679690049486,\n",
       "  0.019601537218262167,\n",
       "  0.019602176810568323,\n",
       "  0.6801556590828423,\n",
       "  0.0195999207144199],\n",
       " [0.31622776601683794,\n",
       "  0.31622776601683794,\n",
       "  0.31622776601683794,\n",
       "  0.31622776601683794,\n",
       "  0.31622776601683794,\n",
       "  0.31622776601683794,\n",
       "  0.31622776601683794,\n",
       "  0.31622776601683794,\n",
       "  0.31622776601683794,\n",
       "  0.31622776601683794],\n",
       " [0.03751555751348951,\n",
       "  0.4956631127824767,\n",
       "  0.8037835656371903,\n",
       "  0.03752197230824391,\n",
       "  0.03751842949676191,\n",
       "  0.31368052861654006,\n",
       "  0.037521406296942054,\n",
       "  0.03751708085254884,\n",
       "  0.037529990801686904,\n",
       "  0.03751997729309971],\n",
       " [0.04189269903513744,\n",
       "  0.04189046137317078,\n",
       "  0.04188835790850477,\n",
       "  0.04189299863841331,\n",
       "  0.041892106070320616,\n",
       "  0.8795459361804504,\n",
       "  0.041890352142809784,\n",
       "  0.4608250916080799,\n",
       "  0.041897427149334775,\n",
       "  0.04188758393337544],\n",
       " [0.6956978766580495,\n",
       "  0.6957028527379908,\n",
       "  0.06324603966943128,\n",
       "  0.06325039373937998,\n",
       "  0.06324980707086415,\n",
       "  0.0632461810353387,\n",
       "  0.0632495738171169,\n",
       "  0.06324603966943128,\n",
       "  0.06324620224022481,\n",
       "  0.06324603966943128],\n",
       " [0.9899483966472259,\n",
       "  0.04714180751674688,\n",
       "  0.047141185841087264,\n",
       "  0.047141438726101347,\n",
       "  0.04714710756516703,\n",
       "  0.04714158624235956,\n",
       "  0.04714268734585838,\n",
       "  0.04714760279831961,\n",
       "  0.04714250295053561,\n",
       "  0.047141185841087264],\n",
       " [0.01957402023469521,\n",
       "  0.019574015859561956,\n",
       "  0.019574015859561956,\n",
       "  0.019574015859561956,\n",
       "  0.01957418867732552,\n",
       "  0.019574015859561956,\n",
       "  0.019574171176792502,\n",
       "  0.019574015859561956,\n",
       "  0.019574035547661604,\n",
       "  0.9982743647616343],\n",
       " [0.0,\n",
       "  0.0,\n",
       "  0.0,\n",
       "  0.0,\n",
       "  0.0,\n",
       "  0.4670298908063474,\n",
       "  0.7186722295989758,\n",
       "  0.0,\n",
       "  0.5151633794211777,\n",
       "  0.0],\n",
       " [0.03815216756060088,\n",
       "  0.4454185457362776,\n",
       "  0.400568509702636,\n",
       "  0.038147971778210735,\n",
       "  0.038150032365667365,\n",
       "  0.7943296911054403,\n",
       "  0.03814752768608646,\n",
       "  0.038147257678074906,\n",
       "  0.03815001815471939,\n",
       "  0.03814942129490437],\n",
       " [0.22947993387784715,\n",
       "  0.31679022356246916,\n",
       "  0.0,\n",
       "  0.0,\n",
       "  0.0,\n",
       "  0.06877724516783855,\n",
       "  0.9102221183243995,\n",
       "  0.0,\n",
       "  0.0,\n",
       "  0.11725314521506774],\n",
       " [0.024325500670581025,\n",
       "  0.024326173520767092,\n",
       "  0.02432570909555449,\n",
       "  0.024325801980597007,\n",
       "  0.02433116892366364,\n",
       "  0.02432755093798301,\n",
       "  0.02432882640820104,\n",
       "  0.024325500670581025,\n",
       "  0.9973333618187407,\n",
       "  0.024325514263514078],\n",
       " [0.042034544833490964,\n",
       "  0.04203433187397227,\n",
       "  0.04205060448660649,\n",
       "  0.04203795531754767,\n",
       "  0.04204954908428591,\n",
       "  0.8741385942703473,\n",
       "  0.47089623805740166,\n",
       "  0.042037429182266196,\n",
       "  0.04203395606305693,\n",
       "  0.04203637064818799],\n",
       " [0.01563910532531035,\n",
       "  0.27514583303110435,\n",
       "  0.01564159390820755,\n",
       "  0.01563679439432272,\n",
       "  0.01563893932270632,\n",
       "  0.01563767391689142,\n",
       "  0.015643106861765295,\n",
       "  0.01563705795986069,\n",
       "  0.9268432593547419,\n",
       "  0.25207985857145243],\n",
       " [0.15262664097739076,\n",
       "  0.0,\n",
       "  0.0,\n",
       "  0.22657162499112124,\n",
       "  0.0,\n",
       "  0.7780683836607314,\n",
       "  0.0,\n",
       "  0.0,\n",
       "  0.5656677448471127,\n",
       "  0.0],\n",
       " [0.0,\n",
       "  0.1754517482451301,\n",
       "  0.2785870299278392,\n",
       "  0.0,\n",
       "  0.0,\n",
       "  0.0,\n",
       "  0.9442488818069696,\n",
       "  0.0,\n",
       "  0.0,\n",
       "  0.0],\n",
       " [0.336482775997606,\n",
       "  0.3350368775493558,\n",
       "  0.16120458393433063,\n",
       "  0.0,\n",
       "  0.0,\n",
       "  0.12477560035359322,\n",
       "  0.8474783044713139,\n",
       "  0.0,\n",
       "  0.0,\n",
       "  0.12146722712036238],\n",
       " [0.06104946898231318,\n",
       "  0.06104668584276036,\n",
       "  0.06103772249625938,\n",
       "  0.8566858803143609,\n",
       "  0.0610427703474091,\n",
       "  0.06104528063014301,\n",
       "  0.06104223827661223,\n",
       "  0.061037129032678265,\n",
       "  0.061037654282054654,\n",
       "  0.48608634631467035],\n",
       " [0.01615047857644922,\n",
       "  0.18002565364499926,\n",
       "  0.9826008990138635,\n",
       "  0.016147894323358544,\n",
       "  0.016149467974681916,\n",
       "  0.01614786063663297,\n",
       "  0.016148973501674345,\n",
       "  0.016149061327780313,\n",
       "  0.016147940041057542,\n",
       "  0.0161477126556599],\n",
       " [0.018593117051413314,\n",
       "  0.5667934298852317,\n",
       "  0.018596760133168556,\n",
       "  0.01859387198660594,\n",
       "  0.5592962169693336,\n",
       "  0.018595260651799717,\n",
       "  0.01860708508397964,\n",
       "  0.018594022627343918,\n",
       "  0.018597534114891272,\n",
       "  0.6029196137724191],\n",
       " [0.08772976740761822,\n",
       "  0.08772567643423886,\n",
       "  0.08771377601487172,\n",
       "  0.08772055944996403,\n",
       "  0.08774026278021768,\n",
       "  0.964750124462469,\n",
       "  0.08772329112228443,\n",
       "  0.08771265197745758,\n",
       "  0.0877133381630883,\n",
       "  0.08772353945613175],\n",
       " [0.02293398658652312,\n",
       "  0.26411433978562104,\n",
       "  0.0229209792692547,\n",
       "  0.02292317885251749,\n",
       "  0.29601532807837194,\n",
       "  0.2649452405275317,\n",
       "  0.2976516489749464,\n",
       "  0.022921638183716828,\n",
       "  0.8253475107175708,\n",
       "  0.02292008598871566],\n",
       " [0.03211022499188461,\n",
       "  0.9953473443424563,\n",
       "  0.03211047858484226,\n",
       "  0.03211846197823552,\n",
       "  0.032113902089770566,\n",
       "  0.032135907259812864,\n",
       "  0.03211061016609387,\n",
       "  0.03211218196395404,\n",
       "  0.03212763678005246,\n",
       "  0.03211590451718146],\n",
       " [0.9241949093110366,\n",
       "  0.02499368999044617,\n",
       "  0.025008194165185266,\n",
       "  0.024993028043707642,\n",
       "  0.024997968903540776,\n",
       "  0.02499738516148022,\n",
       "  0.37531962238008976,\n",
       "  0.02499966426923818,\n",
       "  0.02499474296057454,\n",
       "  0.024994335179039415],\n",
       " [0.08770749827799441,\n",
       "  0.08770749827799441,\n",
       "  0.08772129960188532,\n",
       "  0.08770749827799441,\n",
       "  0.08770952404049734,\n",
       "  0.08770749827799441,\n",
       "  0.08771374546816472,\n",
       "  0.08770749827799441,\n",
       "  0.9647604263855277,\n",
       "  0.08770749827799441],\n",
       " [0.0,\n",
       "  0.0,\n",
       "  0.43594727839337105,\n",
       "  0.0,\n",
       "  0.0,\n",
       "  0.6947367924113143,\n",
       "  0.24181891384922363,\n",
       "  0.0,\n",
       "  0.5184731165993398,\n",
       "  0.0],\n",
       " [0.08772822449932784,\n",
       "  0.08774051686260509,\n",
       "  0.08771148832582808,\n",
       "  0.08771157981603854,\n",
       "  0.08773133516648358,\n",
       "  0.08771778808031998,\n",
       "  0.9647524540290694,\n",
       "  0.08771182161159476,\n",
       "  0.08771297830925562,\n",
       "  0.08771150793087316],\n",
       " [0.0,\n",
       "  0.22547322864777056,\n",
       "  0.0,\n",
       "  0.0,\n",
       "  0.7708125705255321,\n",
       "  0.0,\n",
       "  0.3531137795497562,\n",
       "  0.0,\n",
       "  0.47991714178080574,\n",
       "  0.0],\n",
       " [0.39010695053015637,\n",
       "  0.0,\n",
       "  0.4802478411286835,\n",
       "  0.0,\n",
       "  0.0,\n",
       "  0.0,\n",
       "  0.7856071398856435,\n",
       "  0.0,\n",
       "  0.0,\n",
       "  0.0],\n",
       " [0.5312431094547194,\n",
       "  0.023538802364898612,\n",
       "  0.02353400390208272,\n",
       "  0.023534578946219954,\n",
       "  0.6641345753286801,\n",
       "  0.023539536948720262,\n",
       "  0.02353569046446083,\n",
       "  0.5223294765126387,\n",
       "  0.023535864029612007,\n",
       "  0.02354073261976171],\n",
       " [0.0,\n",
       "  0.4438884227258779,\n",
       "  0.0,\n",
       "  0.0,\n",
       "  0.0,\n",
       "  0.0,\n",
       "  0.7042086561479671,\n",
       "  0.0,\n",
       "  0.0,\n",
       "  0.5541238460635008],\n",
       " [0.017227737544780266,\n",
       "  0.017235341888869424,\n",
       "  0.017231801761338265,\n",
       "  0.017227477665923984,\n",
       "  0.6962820311727642,\n",
       "  0.017232315743965138,\n",
       "  0.01723220601733693,\n",
       "  0.01722835403517823,\n",
       "  0.716111873623345,\n",
       "  0.0172286615584915],\n",
       " [0.25250680092079025,\n",
       "  0.023428488920352757,\n",
       "  0.02342307601677122,\n",
       "  0.023423950247813886,\n",
       "  0.023426494417195538,\n",
       "  0.023430281879227684,\n",
       "  0.9653238652240216,\n",
       "  0.023422882324863566,\n",
       "  0.023427973281085077,\n",
       "  0.023423377024465553],\n",
       " [0.0,\n",
       "  0.0,\n",
       "  0.0,\n",
       "  0.0,\n",
       "  0.0,\n",
       "  0.0,\n",
       "  0.8248225114831973,\n",
       "  0.0,\n",
       "  0.5653917443247211,\n",
       "  0.0]]"
      ]
     },
     "execution_count": 1034,
     "metadata": {},
     "output_type": "execute_result"
    }
   ],
   "source": [
    "clean_scored_room_db_verbose.topic_scores.apply(lambda x: x.tolist())[:][6]"
   ]
  },
  {
   "cell_type": "code",
   "execution_count": 985,
   "metadata": {
    "scrolled": false
   },
   "outputs": [
    {
     "ename": "ValueError",
     "evalue": "Length of values does not match length of index",
     "output_type": "error",
     "traceback": [
      "\u001b[0;31m---------------------------------------------------------------------------\u001b[0m",
      "\u001b[0;31mValueError\u001b[0m                                Traceback (most recent call last)",
      "\u001b[0;32m<ipython-input-985-0d5a63b13b10>\u001b[0m in \u001b[0;36m<module>\u001b[0;34m\u001b[0m\n\u001b[1;32m      5\u001b[0m     \u001b[0mcol_name_unnorm\u001b[0m \u001b[0;34m=\u001b[0m \u001b[0;34m'topic_score_unnormalized_'\u001b[0m \u001b[0;34m+\u001b[0m \u001b[0mstr\u001b[0m\u001b[0;34m(\u001b[0m\u001b[0mi\u001b[0m\u001b[0;34m)\u001b[0m\u001b[0;34m\u001b[0m\u001b[0;34m\u001b[0m\u001b[0m\n\u001b[1;32m      6\u001b[0m     \u001b[0mclean_scored_room_db_verbose\u001b[0m\u001b[0;34m[\u001b[0m\u001b[0mcol_name_norm\u001b[0m\u001b[0;34m]\u001b[0m \u001b[0;34m=\u001b[0m\u001b[0;31m \u001b[0m\u001b[0;31m\\\u001b[0m\u001b[0;34m\u001b[0m\u001b[0;34m\u001b[0m\u001b[0m\n\u001b[0;32m----> 7\u001b[0;31m         \u001b[0mnp\u001b[0m\u001b[0;34m.\u001b[0m\u001b[0mvstack\u001b[0m\u001b[0;34m(\u001b[0m\u001b[0mclean_scored_room_db_verbose\u001b[0m\u001b[0;34m.\u001b[0m\u001b[0mtopic_scores\u001b[0m\u001b[0;34m)\u001b[0m\u001b[0;34m[\u001b[0m\u001b[0;34m:\u001b[0m\u001b[0;34m,\u001b[0m \u001b[0mi\u001b[0m\u001b[0;34m]\u001b[0m\u001b[0;34m\u001b[0m\u001b[0;34m\u001b[0m\u001b[0m\n\u001b[0m\u001b[1;32m      8\u001b[0m     \u001b[0mclean_scored_room_db_verbose\u001b[0m\u001b[0;34m[\u001b[0m\u001b[0mcol_name_unnorm\u001b[0m\u001b[0;34m]\u001b[0m \u001b[0;34m=\u001b[0m\u001b[0;31m \u001b[0m\u001b[0;31m\\\u001b[0m\u001b[0;34m\u001b[0m\u001b[0;34m\u001b[0m\u001b[0m\n\u001b[1;32m      9\u001b[0m         \u001b[0mnp\u001b[0m\u001b[0;34m.\u001b[0m\u001b[0mvstack\u001b[0m\u001b[0;34m(\u001b[0m\u001b[0mclean_scored_room_db_verbose\u001b[0m\u001b[0;34m.\u001b[0m\u001b[0mtopic_scores_unnormalized\u001b[0m\u001b[0;34m)\u001b[0m\u001b[0;34m[\u001b[0m\u001b[0;34m:\u001b[0m\u001b[0;34m,\u001b[0m \u001b[0mi\u001b[0m\u001b[0;34m]\u001b[0m\u001b[0;34m\u001b[0m\u001b[0;34m\u001b[0m\u001b[0m\n",
      "\u001b[0;32m~/anaconda3/envs/airbnb_p3/lib/python3.7/site-packages/pandas/core/frame.py\u001b[0m in \u001b[0;36m__setitem__\u001b[0;34m(self, key, value)\u001b[0m\n\u001b[1;32m   3470\u001b[0m         \u001b[0;32melse\u001b[0m\u001b[0;34m:\u001b[0m\u001b[0;34m\u001b[0m\u001b[0;34m\u001b[0m\u001b[0m\n\u001b[1;32m   3471\u001b[0m             \u001b[0;31m# set column\u001b[0m\u001b[0;34m\u001b[0m\u001b[0;34m\u001b[0m\u001b[0;34m\u001b[0m\u001b[0m\n\u001b[0;32m-> 3472\u001b[0;31m             \u001b[0mself\u001b[0m\u001b[0;34m.\u001b[0m\u001b[0m_set_item\u001b[0m\u001b[0;34m(\u001b[0m\u001b[0mkey\u001b[0m\u001b[0;34m,\u001b[0m \u001b[0mvalue\u001b[0m\u001b[0;34m)\u001b[0m\u001b[0;34m\u001b[0m\u001b[0;34m\u001b[0m\u001b[0m\n\u001b[0m\u001b[1;32m   3473\u001b[0m \u001b[0;34m\u001b[0m\u001b[0m\n\u001b[1;32m   3474\u001b[0m     \u001b[0;32mdef\u001b[0m \u001b[0m_setitem_slice\u001b[0m\u001b[0;34m(\u001b[0m\u001b[0mself\u001b[0m\u001b[0;34m,\u001b[0m \u001b[0mkey\u001b[0m\u001b[0;34m,\u001b[0m \u001b[0mvalue\u001b[0m\u001b[0;34m)\u001b[0m\u001b[0;34m:\u001b[0m\u001b[0;34m\u001b[0m\u001b[0;34m\u001b[0m\u001b[0m\n",
      "\u001b[0;32m~/anaconda3/envs/airbnb_p3/lib/python3.7/site-packages/pandas/core/frame.py\u001b[0m in \u001b[0;36m_set_item\u001b[0;34m(self, key, value)\u001b[0m\n\u001b[1;32m   3547\u001b[0m \u001b[0;34m\u001b[0m\u001b[0m\n\u001b[1;32m   3548\u001b[0m         \u001b[0mself\u001b[0m\u001b[0;34m.\u001b[0m\u001b[0m_ensure_valid_index\u001b[0m\u001b[0;34m(\u001b[0m\u001b[0mvalue\u001b[0m\u001b[0;34m)\u001b[0m\u001b[0;34m\u001b[0m\u001b[0;34m\u001b[0m\u001b[0m\n\u001b[0;32m-> 3549\u001b[0;31m         \u001b[0mvalue\u001b[0m \u001b[0;34m=\u001b[0m \u001b[0mself\u001b[0m\u001b[0;34m.\u001b[0m\u001b[0m_sanitize_column\u001b[0m\u001b[0;34m(\u001b[0m\u001b[0mkey\u001b[0m\u001b[0;34m,\u001b[0m \u001b[0mvalue\u001b[0m\u001b[0;34m)\u001b[0m\u001b[0;34m\u001b[0m\u001b[0;34m\u001b[0m\u001b[0m\n\u001b[0m\u001b[1;32m   3550\u001b[0m         \u001b[0mNDFrame\u001b[0m\u001b[0;34m.\u001b[0m\u001b[0m_set_item\u001b[0m\u001b[0;34m(\u001b[0m\u001b[0mself\u001b[0m\u001b[0;34m,\u001b[0m \u001b[0mkey\u001b[0m\u001b[0;34m,\u001b[0m \u001b[0mvalue\u001b[0m\u001b[0;34m)\u001b[0m\u001b[0;34m\u001b[0m\u001b[0;34m\u001b[0m\u001b[0m\n\u001b[1;32m   3551\u001b[0m \u001b[0;34m\u001b[0m\u001b[0m\n",
      "\u001b[0;32m~/anaconda3/envs/airbnb_p3/lib/python3.7/site-packages/pandas/core/frame.py\u001b[0m in \u001b[0;36m_sanitize_column\u001b[0;34m(self, key, value, broadcast)\u001b[0m\n\u001b[1;32m   3732\u001b[0m \u001b[0;34m\u001b[0m\u001b[0m\n\u001b[1;32m   3733\u001b[0m             \u001b[0;31m# turn me into an ndarray\u001b[0m\u001b[0;34m\u001b[0m\u001b[0;34m\u001b[0m\u001b[0;34m\u001b[0m\u001b[0m\n\u001b[0;32m-> 3734\u001b[0;31m             \u001b[0mvalue\u001b[0m \u001b[0;34m=\u001b[0m \u001b[0msanitize_index\u001b[0m\u001b[0;34m(\u001b[0m\u001b[0mvalue\u001b[0m\u001b[0;34m,\u001b[0m \u001b[0mself\u001b[0m\u001b[0;34m.\u001b[0m\u001b[0mindex\u001b[0m\u001b[0;34m,\u001b[0m \u001b[0mcopy\u001b[0m\u001b[0;34m=\u001b[0m\u001b[0;32mFalse\u001b[0m\u001b[0;34m)\u001b[0m\u001b[0;34m\u001b[0m\u001b[0;34m\u001b[0m\u001b[0m\n\u001b[0m\u001b[1;32m   3735\u001b[0m             \u001b[0;32mif\u001b[0m \u001b[0;32mnot\u001b[0m \u001b[0misinstance\u001b[0m\u001b[0;34m(\u001b[0m\u001b[0mvalue\u001b[0m\u001b[0;34m,\u001b[0m \u001b[0;34m(\u001b[0m\u001b[0mnp\u001b[0m\u001b[0;34m.\u001b[0m\u001b[0mndarray\u001b[0m\u001b[0;34m,\u001b[0m \u001b[0mIndex\u001b[0m\u001b[0;34m)\u001b[0m\u001b[0;34m)\u001b[0m\u001b[0;34m:\u001b[0m\u001b[0;34m\u001b[0m\u001b[0;34m\u001b[0m\u001b[0m\n\u001b[1;32m   3736\u001b[0m                 \u001b[0;32mif\u001b[0m \u001b[0misinstance\u001b[0m\u001b[0;34m(\u001b[0m\u001b[0mvalue\u001b[0m\u001b[0;34m,\u001b[0m \u001b[0mlist\u001b[0m\u001b[0;34m)\u001b[0m \u001b[0;32mand\u001b[0m \u001b[0mlen\u001b[0m\u001b[0;34m(\u001b[0m\u001b[0mvalue\u001b[0m\u001b[0;34m)\u001b[0m \u001b[0;34m>\u001b[0m \u001b[0;36m0\u001b[0m\u001b[0;34m:\u001b[0m\u001b[0;34m\u001b[0m\u001b[0;34m\u001b[0m\u001b[0m\n",
      "\u001b[0;32m~/anaconda3/envs/airbnb_p3/lib/python3.7/site-packages/pandas/core/internals/construction.py\u001b[0m in \u001b[0;36msanitize_index\u001b[0;34m(data, index, copy)\u001b[0m\n\u001b[1;32m    610\u001b[0m \u001b[0;34m\u001b[0m\u001b[0m\n\u001b[1;32m    611\u001b[0m     \u001b[0;32mif\u001b[0m \u001b[0mlen\u001b[0m\u001b[0;34m(\u001b[0m\u001b[0mdata\u001b[0m\u001b[0;34m)\u001b[0m \u001b[0;34m!=\u001b[0m \u001b[0mlen\u001b[0m\u001b[0;34m(\u001b[0m\u001b[0mindex\u001b[0m\u001b[0;34m)\u001b[0m\u001b[0;34m:\u001b[0m\u001b[0;34m\u001b[0m\u001b[0;34m\u001b[0m\u001b[0m\n\u001b[0;32m--> 612\u001b[0;31m         \u001b[0;32mraise\u001b[0m \u001b[0mValueError\u001b[0m\u001b[0;34m(\u001b[0m\u001b[0;34m\"Length of values does not match length of index\"\u001b[0m\u001b[0;34m)\u001b[0m\u001b[0;34m\u001b[0m\u001b[0;34m\u001b[0m\u001b[0m\n\u001b[0m\u001b[1;32m    613\u001b[0m \u001b[0;34m\u001b[0m\u001b[0m\n\u001b[1;32m    614\u001b[0m     \u001b[0;32mif\u001b[0m \u001b[0misinstance\u001b[0m\u001b[0;34m(\u001b[0m\u001b[0mdata\u001b[0m\u001b[0;34m,\u001b[0m \u001b[0mABCIndexClass\u001b[0m\u001b[0;34m)\u001b[0m \u001b[0;32mand\u001b[0m \u001b[0;32mnot\u001b[0m \u001b[0mcopy\u001b[0m\u001b[0;34m:\u001b[0m\u001b[0;34m\u001b[0m\u001b[0;34m\u001b[0m\u001b[0m\n",
      "\u001b[0;31mValueError\u001b[0m: Length of values does not match length of index"
     ]
    }
   ],
   "source": [
    "clean_scored_room_db_verbose = deepcopy(clean_scored_room_db)\n",
    "\n",
    "for i in range(10):\n",
    "    col_name_norm = 'topic_score_normalized_' + str(i)\n",
    "    col_name_unnorm = 'topic_score_unnormalized_' + str(i)\n",
    "    \n",
    "    topic_scores_norm_aslist = \\\n",
    "        clean_scored_room_db_verbose.topic_scores.apply(lambda x: x.tolist())\n",
    "    topic_scores_unnorm_aslist = \\\n",
    "        clean_scored_room_db_verbose.topic_scores_unnormalized.apply(lambda x: x.tolist())\n",
    "    \n",
    "    clean_scored_room_db_verbose[col_name_norm] = \\\n",
    "        np.vstack(clean_scored_room_db_verbose.topic_scores)[:, i]\n",
    "    clean_scored_room_db_verbose[col_name_unnorm] = \\\n",
    "        np.vstack(clean_scored_room_db_verbose.topic_scores_unnormalized)[:, i]\n",
    "    \n",
    "clean_scored_room_db_verbose = \\\n",
    "    clean_scored_room_db_verbose.drop(columns=['topic_scores', 'topic_scores_unnormalized'])\n",
    "\n",
    "pickle_name = datadir + 'clean_scored_room_db_verbose.pkl'\n",
    "print(pickle_name)\n",
    "with open(pickle_name, 'wb') as pickle_file:\n",
    "    pickle.dump(clean_scored_room_db_verbose, pickle_file)\n",
    "\n",
    "clean_scored_room_db_verbose.to_sql('clean_scored_room_db', engine, if_exists='replace')"
   ]
  },
  {
   "cell_type": "code",
   "execution_count": 1298,
   "metadata": {},
   "outputs": [
    {
     "ename": "AttributeError",
     "evalue": "'list' object has no attribute 'replace'",
     "output_type": "error",
     "traceback": [
      "\u001b[0;31m---------------------------------------------------------------------------\u001b[0m",
      "\u001b[0;31mAttributeError\u001b[0m                            Traceback (most recent call last)",
      "\u001b[0;32m<ipython-input-1298-0812f19c0a49>\u001b[0m in \u001b[0;36m<module>\u001b[0;34m\u001b[0m\n\u001b[0;32m----> 1\u001b[0;31m \u001b[0mscreen_comments\u001b[0m\u001b[0;34m(\u001b[0m\u001b[0mclean_scored_room_db\u001b[0m\u001b[0;34m.\u001b[0m\u001b[0mcomments\u001b[0m\u001b[0;34m)\u001b[0m\u001b[0;34m\u001b[0m\u001b[0;34m\u001b[0m\u001b[0m\n\u001b[0m",
      "\u001b[0;32m<ipython-input-1297-b9bf742b7ab0>\u001b[0m in \u001b[0;36mscreen_comments\u001b[0;34m(comment_series, min_words, lang_condition)\u001b[0m\n\u001b[1;32m     10\u001b[0m     \"\"\"\n\u001b[1;32m     11\u001b[0m     \u001b[0mscreened\u001b[0m \u001b[0;34m=\u001b[0m \u001b[0mcomment_series\u001b[0m\u001b[0;34m.\u001b[0m\u001b[0mfillna\u001b[0m\u001b[0;34m(\u001b[0m\u001b[0;34m''\u001b[0m\u001b[0;34m)\u001b[0m\u001b[0;34m\u001b[0m\u001b[0;34m\u001b[0m\u001b[0m\n\u001b[0;32m---> 12\u001b[0;31m     \u001b[0mscreened\u001b[0m \u001b[0;34m=\u001b[0m \u001b[0mscreened\u001b[0m\u001b[0;34m[\u001b[0m\u001b[0mscreened\u001b[0m\u001b[0;34m.\u001b[0m\u001b[0mapply\u001b[0m\u001b[0;34m(\u001b[0m\u001b[0;32mlambda\u001b[0m \u001b[0mx\u001b[0m\u001b[0;34m:\u001b[0m \u001b[0mlen\u001b[0m\u001b[0;34m(\u001b[0m\u001b[0;34m[\u001b[0m\u001b[0mi\u001b[0m \u001b[0;32mfor\u001b[0m \u001b[0mi\u001b[0m \u001b[0;32min\u001b[0m \u001b[0mclean1comment\u001b[0m\u001b[0;34m(\u001b[0m\u001b[0mx\u001b[0m\u001b[0;34m)\u001b[0m\u001b[0;34m.\u001b[0m\u001b[0msplit\u001b[0m\u001b[0;34m(\u001b[0m\u001b[0;34m' '\u001b[0m\u001b[0;34m)\u001b[0m \u001b[0;32mif\u001b[0m \u001b[0mi\u001b[0m\u001b[0;34m]\u001b[0m\u001b[0;34m)\u001b[0m \u001b[0;34m>=\u001b[0m \u001b[0mmin_words\u001b[0m\u001b[0;34m)\u001b[0m\u001b[0;34m]\u001b[0m\u001b[0;34m\u001b[0m\u001b[0;34m\u001b[0m\u001b[0m\n\u001b[0m\u001b[1;32m     13\u001b[0m     \u001b[0mscreened\u001b[0m \u001b[0;34m=\u001b[0m \u001b[0mscreened\u001b[0m\u001b[0;34m[\u001b[0m\u001b[0mscreened\u001b[0m\u001b[0;34m.\u001b[0m\u001b[0mapply\u001b[0m\u001b[0;34m(\u001b[0m\u001b[0;32mlambda\u001b[0m \u001b[0mx\u001b[0m\u001b[0;34m:\u001b[0m \u001b[0mclean_detect\u001b[0m\u001b[0;34m(\u001b[0m\u001b[0mx\u001b[0m\u001b[0;34m)\u001b[0m \u001b[0;34m==\u001b[0m \u001b[0mlang_condition\u001b[0m\u001b[0;34m)\u001b[0m\u001b[0;34m]\u001b[0m\u001b[0;34m\u001b[0m\u001b[0;34m\u001b[0m\u001b[0m\n\u001b[1;32m     14\u001b[0m \u001b[0;34m\u001b[0m\u001b[0m\n",
      "\u001b[0;32m~/anaconda3/envs/airbnb_p3/lib/python3.7/site-packages/pandas/core/series.py\u001b[0m in \u001b[0;36mapply\u001b[0;34m(self, func, convert_dtype, args, **kwds)\u001b[0m\n\u001b[1;32m   4040\u001b[0m             \u001b[0;32melse\u001b[0m\u001b[0;34m:\u001b[0m\u001b[0;34m\u001b[0m\u001b[0;34m\u001b[0m\u001b[0m\n\u001b[1;32m   4041\u001b[0m                 \u001b[0mvalues\u001b[0m \u001b[0;34m=\u001b[0m \u001b[0mself\u001b[0m\u001b[0;34m.\u001b[0m\u001b[0mastype\u001b[0m\u001b[0;34m(\u001b[0m\u001b[0mobject\u001b[0m\u001b[0;34m)\u001b[0m\u001b[0;34m.\u001b[0m\u001b[0mvalues\u001b[0m\u001b[0;34m\u001b[0m\u001b[0;34m\u001b[0m\u001b[0m\n\u001b[0;32m-> 4042\u001b[0;31m                 \u001b[0mmapped\u001b[0m \u001b[0;34m=\u001b[0m \u001b[0mlib\u001b[0m\u001b[0;34m.\u001b[0m\u001b[0mmap_infer\u001b[0m\u001b[0;34m(\u001b[0m\u001b[0mvalues\u001b[0m\u001b[0;34m,\u001b[0m \u001b[0mf\u001b[0m\u001b[0;34m,\u001b[0m \u001b[0mconvert\u001b[0m\u001b[0;34m=\u001b[0m\u001b[0mconvert_dtype\u001b[0m\u001b[0;34m)\u001b[0m\u001b[0;34m\u001b[0m\u001b[0;34m\u001b[0m\u001b[0m\n\u001b[0m\u001b[1;32m   4043\u001b[0m \u001b[0;34m\u001b[0m\u001b[0m\n\u001b[1;32m   4044\u001b[0m         \u001b[0;32mif\u001b[0m \u001b[0mlen\u001b[0m\u001b[0;34m(\u001b[0m\u001b[0mmapped\u001b[0m\u001b[0;34m)\u001b[0m \u001b[0;32mand\u001b[0m \u001b[0misinstance\u001b[0m\u001b[0;34m(\u001b[0m\u001b[0mmapped\u001b[0m\u001b[0;34m[\u001b[0m\u001b[0;36m0\u001b[0m\u001b[0;34m]\u001b[0m\u001b[0;34m,\u001b[0m \u001b[0mSeries\u001b[0m\u001b[0;34m)\u001b[0m\u001b[0;34m:\u001b[0m\u001b[0;34m\u001b[0m\u001b[0;34m\u001b[0m\u001b[0m\n",
      "\u001b[0;32mpandas/_libs/lib.pyx\u001b[0m in \u001b[0;36mpandas._libs.lib.map_infer\u001b[0;34m()\u001b[0m\n",
      "\u001b[0;32m<ipython-input-1297-b9bf742b7ab0>\u001b[0m in \u001b[0;36m<lambda>\u001b[0;34m(x)\u001b[0m\n\u001b[1;32m     10\u001b[0m     \"\"\"\n\u001b[1;32m     11\u001b[0m     \u001b[0mscreened\u001b[0m \u001b[0;34m=\u001b[0m \u001b[0mcomment_series\u001b[0m\u001b[0;34m.\u001b[0m\u001b[0mfillna\u001b[0m\u001b[0;34m(\u001b[0m\u001b[0;34m''\u001b[0m\u001b[0;34m)\u001b[0m\u001b[0;34m\u001b[0m\u001b[0;34m\u001b[0m\u001b[0m\n\u001b[0;32m---> 12\u001b[0;31m     \u001b[0mscreened\u001b[0m \u001b[0;34m=\u001b[0m \u001b[0mscreened\u001b[0m\u001b[0;34m[\u001b[0m\u001b[0mscreened\u001b[0m\u001b[0;34m.\u001b[0m\u001b[0mapply\u001b[0m\u001b[0;34m(\u001b[0m\u001b[0;32mlambda\u001b[0m \u001b[0mx\u001b[0m\u001b[0;34m:\u001b[0m \u001b[0mlen\u001b[0m\u001b[0;34m(\u001b[0m\u001b[0;34m[\u001b[0m\u001b[0mi\u001b[0m \u001b[0;32mfor\u001b[0m \u001b[0mi\u001b[0m \u001b[0;32min\u001b[0m \u001b[0mclean1comment\u001b[0m\u001b[0;34m(\u001b[0m\u001b[0mx\u001b[0m\u001b[0;34m)\u001b[0m\u001b[0;34m.\u001b[0m\u001b[0msplit\u001b[0m\u001b[0;34m(\u001b[0m\u001b[0;34m' '\u001b[0m\u001b[0;34m)\u001b[0m \u001b[0;32mif\u001b[0m \u001b[0mi\u001b[0m\u001b[0;34m]\u001b[0m\u001b[0;34m)\u001b[0m \u001b[0;34m>=\u001b[0m \u001b[0mmin_words\u001b[0m\u001b[0;34m)\u001b[0m\u001b[0;34m]\u001b[0m\u001b[0;34m\u001b[0m\u001b[0;34m\u001b[0m\u001b[0m\n\u001b[0m\u001b[1;32m     13\u001b[0m     \u001b[0mscreened\u001b[0m \u001b[0;34m=\u001b[0m \u001b[0mscreened\u001b[0m\u001b[0;34m[\u001b[0m\u001b[0mscreened\u001b[0m\u001b[0;34m.\u001b[0m\u001b[0mapply\u001b[0m\u001b[0;34m(\u001b[0m\u001b[0;32mlambda\u001b[0m \u001b[0mx\u001b[0m\u001b[0;34m:\u001b[0m \u001b[0mclean_detect\u001b[0m\u001b[0;34m(\u001b[0m\u001b[0mx\u001b[0m\u001b[0;34m)\u001b[0m \u001b[0;34m==\u001b[0m \u001b[0mlang_condition\u001b[0m\u001b[0;34m)\u001b[0m\u001b[0;34m]\u001b[0m\u001b[0;34m\u001b[0m\u001b[0;34m\u001b[0m\u001b[0m\n\u001b[1;32m     14\u001b[0m \u001b[0;34m\u001b[0m\u001b[0m\n",
      "\u001b[0;32m<ipython-input-1297-b9bf742b7ab0>\u001b[0m in \u001b[0;36mclean1comment\u001b[0;34m(c)\u001b[0m\n\u001b[1;32m     14\u001b[0m \u001b[0;34m\u001b[0m\u001b[0m\n\u001b[1;32m     15\u001b[0m \u001b[0;32mdef\u001b[0m \u001b[0mclean1comment\u001b[0m\u001b[0;34m(\u001b[0m\u001b[0mc\u001b[0m\u001b[0;34m)\u001b[0m\u001b[0;34m:\u001b[0m\u001b[0;34m\u001b[0m\u001b[0;34m\u001b[0m\u001b[0m\n\u001b[0;32m---> 16\u001b[0;31m     \u001b[0mcclean\u001b[0m \u001b[0;34m=\u001b[0m \u001b[0mc\u001b[0m\u001b[0;34m.\u001b[0m\u001b[0mreplace\u001b[0m\u001b[0;34m(\u001b[0m\u001b[0;34m'\\n'\u001b[0m\u001b[0;34m,\u001b[0m \u001b[0;34m' '\u001b[0m\u001b[0;34m)\u001b[0m\u001b[0;34m\u001b[0m\u001b[0;34m\u001b[0m\u001b[0m\n\u001b[0m\u001b[1;32m     17\u001b[0m     \u001b[0mcclean\u001b[0m \u001b[0;34m=\u001b[0m \u001b[0mcclean\u001b[0m\u001b[0;34m.\u001b[0m\u001b[0mreplace\u001b[0m\u001b[0;34m(\u001b[0m\u001b[0;34m'\\r'\u001b[0m\u001b[0;34m,\u001b[0m \u001b[0;34m' '\u001b[0m\u001b[0;34m)\u001b[0m\u001b[0;34m\u001b[0m\u001b[0;34m\u001b[0m\u001b[0m\n\u001b[1;32m     18\u001b[0m     \u001b[0;32mreturn\u001b[0m \u001b[0mcclean\u001b[0m\u001b[0;34m\u001b[0m\u001b[0;34m\u001b[0m\u001b[0m\n",
      "\u001b[0;31mAttributeError\u001b[0m: 'list' object has no attribute 'replace'"
     ]
    }
   ],
   "source": []
  },
  {
   "cell_type": "code",
   "execution_count": 3,
   "metadata": {},
   "outputs": [],
   "source": [
    "clean_scored_room_db = \\\n",
    "    pd.read_json('/Users/bennett/Documents/Flask/Airbnb/MVP/clean_scored_room_db.json', orient='columns')"
   ]
  },
  {
   "cell_type": "code",
   "execution_count": 9,
   "metadata": {},
   "outputs": [
    {
     "data": {
      "text/plain": [
       "array(['Entire home/apt', 'Shared room'], dtype=object)"
      ]
     },
     "execution_count": 9,
     "metadata": {},
     "output_type": "execute_result"
    }
   ],
   "source": [
    "room_types = np.unique(clean_scored_room_db.room_type.dropna())\n",
    "room_types_allowed = room_types[np.array([True, False, True])]\n",
    "np.unique(clean_scored_room_db[clean_scored_room_db.room_type.isin(room_types_allowed)].room_type)"
   ]
  },
  {
   "cell_type": "code",
   "execution_count": 12,
   "metadata": {},
   "outputs": [
    {
     "data": {
      "text/plain": [
       "0        3.0\n",
       "1        2.0\n",
       "3        5.0\n",
       "4        1.0\n",
       "5        2.0\n",
       "        ... \n",
       "19369    2.0\n",
       "19375    NaN\n",
       "19382    NaN\n",
       "19406    NaN\n",
       "19483    6.0\n",
       "Name: accommodates, Length: 14447, dtype: float64"
      ]
     },
     "execution_count": 12,
     "metadata": {},
     "output_type": "execute_result"
    }
   ],
   "source": [
    "clean_scored_room_db.accommodates"
   ]
  },
  {
   "cell_type": "code",
   "execution_count": 14,
   "metadata": {},
   "outputs": [
    {
     "name": "stdout",
     "output_type": "stream",
     "text": [
      "<class 'str'> <class 'str'>\n"
     ]
    }
   ],
   "source": [
    "x = '1'\n",
    "y = '2'\n",
    "xy = [x, y]\n",
    "for i in xy:\n",
    "    i = float(i)\n",
    "print(type(x), type(y))"
   ]
  },
  {
   "cell_type": "code",
   "execution_count": 1055,
   "metadata": {},
   "outputs": [
    {
     "data": {
      "text/plain": [
       "numpy.int64"
      ]
     },
     "execution_count": 1055,
     "metadata": {},
     "output_type": "execute_result"
    }
   ],
   "source": [
    "csrdb_from_json['room_id'].iloc[0]"
   ]
  },
  {
   "cell_type": "code",
   "execution_count": 1071,
   "metadata": {},
   "outputs": [
    {
     "data": {
      "text/plain": [
       "array(['Mizi', 'Jennifer', 'Cindy', ..., 'Margarita', 'Clara', 'Jerry'],\n",
       "      dtype=object)"
      ]
     },
     "execution_count": 1071,
     "metadata": {},
     "output_type": "execute_result"
    }
   ],
   "source": [
    "clean_scored_room_db.host_name.values"
   ]
  },
  {
   "cell_type": "code",
   "execution_count": 1093,
   "metadata": {},
   "outputs": [],
   "source": [
    "room_df = pd.read_json('/Users/bennett/Documents/Flask/Airbnb/MVP/clean_scored_room_db.json', orient='columns')"
   ]
  },
  {
   "cell_type": "code",
   "execution_count": 1105,
   "metadata": {},
   "outputs": [
    {
     "data": {
      "text/html": [
       "<div>\n",
       "<style scoped>\n",
       "    .dataframe tbody tr th:only-of-type {\n",
       "        vertical-align: middle;\n",
       "    }\n",
       "\n",
       "    .dataframe tbody tr th {\n",
       "        vertical-align: top;\n",
       "    }\n",
       "\n",
       "    .dataframe thead th {\n",
       "        text-align: right;\n",
       "    }\n",
       "</style>\n",
       "<table border=\"1\" class=\"dataframe\">\n",
       "  <thead>\n",
       "    <tr style=\"text-align: right;\">\n",
       "      <th></th>\n",
       "      <th>room_id</th>\n",
       "      <th>host_name</th>\n",
       "      <th>user_id</th>\n",
       "      <th>comments</th>\n",
       "      <th>topic_scores</th>\n",
       "      <th>topic_scores_unnormalized</th>\n",
       "      <th>mean_topic_score</th>\n",
       "      <th>mean_topic_score_unnormalized</th>\n",
       "      <th>access</th>\n",
       "      <th>accommodates</th>\n",
       "      <th>...</th>\n",
       "      <th>space</th>\n",
       "      <th>square_feet</th>\n",
       "      <th>state</th>\n",
       "      <th>street</th>\n",
       "      <th>summary</th>\n",
       "      <th>thumbnail_url</th>\n",
       "      <th>transit</th>\n",
       "      <th>weekly_price</th>\n",
       "      <th>xl_picture_url</th>\n",
       "      <th>zipcode</th>\n",
       "    </tr>\n",
       "  </thead>\n",
       "  <tbody>\n",
       "    <tr>\n",
       "      <td>0</td>\n",
       "      <td>2515</td>\n",
       "      <td>Mizi</td>\n",
       "      <td>[9193, 26718, 68468, 185050, 456184, 351855, 3...</td>\n",
       "      <td>[Stephanie's offered all the most important th...</td>\n",
       "      <td>[[0.3251676504, 0.0, 0.0, 0.0, 0.9456563853000...</td>\n",
       "      <td>[[0.2411227524, 0.0, 0.0, 0.0, 0.6973283291, 0...</td>\n",
       "      <td>[0.1318628789, 0.15361392070000002, 0.15458180...</td>\n",
       "      <td>[0.0719636972, 0.0824470806, 0.081701333100000...</td>\n",
       "      <td>None</td>\n",
       "      <td>3.0</td>\n",
       "      <td>...</td>\n",
       "      <td>None</td>\n",
       "      <td>NaN</td>\n",
       "      <td>NY</td>\n",
       "      <td>Long Island City, New York, NY 10021, United S...</td>\n",
       "      <td>This apartment is flooded with light. It is 2 ...</td>\n",
       "      <td>https://a0.muscache.com/im/pictures/b510574b-e...</td>\n",
       "      <td>None</td>\n",
       "      <td>NaN</td>\n",
       "      <td>https://a0.muscache.com/im/pictures/b510574b-e...</td>\n",
       "      <td>10021</td>\n",
       "    </tr>\n",
       "  </tbody>\n",
       "</table>\n",
       "<p>1 rows × 95 columns</p>\n",
       "</div>"
      ],
      "text/plain": [
       "   room_id host_name                                            user_id  \\\n",
       "0     2515      Mizi  [9193, 26718, 68468, 185050, 456184, 351855, 3...   \n",
       "\n",
       "                                            comments  \\\n",
       "0  [Stephanie's offered all the most important th...   \n",
       "\n",
       "                                        topic_scores  \\\n",
       "0  [[0.3251676504, 0.0, 0.0, 0.0, 0.9456563853000...   \n",
       "\n",
       "                           topic_scores_unnormalized  \\\n",
       "0  [[0.2411227524, 0.0, 0.0, 0.0, 0.6973283291, 0...   \n",
       "\n",
       "                                    mean_topic_score  \\\n",
       "0  [0.1318628789, 0.15361392070000002, 0.15458180...   \n",
       "\n",
       "                       mean_topic_score_unnormalized access  accommodates  \\\n",
       "0  [0.0719636972, 0.0824470806, 0.081701333100000...   None           3.0   \n",
       "\n",
       "   ... space  square_feet  state  \\\n",
       "0  ...  None          NaN     NY   \n",
       "\n",
       "                                              street  \\\n",
       "0  Long Island City, New York, NY 10021, United S...   \n",
       "\n",
       "                                             summary  \\\n",
       "0  This apartment is flooded with light. It is 2 ...   \n",
       "\n",
       "                                       thumbnail_url transit  weekly_price  \\\n",
       "0  https://a0.muscache.com/im/pictures/b510574b-e...    None           NaN   \n",
       "\n",
       "                                      xl_picture_url  zipcode  \n",
       "0  https://a0.muscache.com/im/pictures/b510574b-e...    10021  \n",
       "\n",
       "[1 rows x 95 columns]"
      ]
     },
     "execution_count": 1105,
     "metadata": {},
     "output_type": "execute_result"
    }
   ],
   "source": [
    "room_df[room_df.room_id == 2515]"
   ]
  },
  {
   "cell_type": "code",
   "execution_count": 1103,
   "metadata": {},
   "outputs": [],
   "source": [
    "user_input = 54321\n",
    "room_df = room_df.dropna(subset = ['room_id', 'mean_topic_score', 'topic_scores'])\n",
    "query_results=room_df[room_df.room_id.apply(lambda x: x > float(user_input))]\n",
    "listings = []\n",
    "for i in range(0, 10):\n",
    "    listings.append(dict(listing_id = query_results.iloc[i]['room_id'],\n",
    "                        mean_topic_score =  query_results.iloc[i]['mean_topic_score']))"
   ]
  },
  {
   "cell_type": "code",
   "execution_count": 1104,
   "metadata": {},
   "outputs": [
    {
     "data": {
      "text/plain": [
       "[{'listing_id': 54453,\n",
       "  'mean_topic_score': [0.4351450553,\n",
       "   0.0606205924,\n",
       "   0.1766637875,\n",
       "   0.0200866123,\n",
       "   0.3945048504,\n",
       "   0.23145671480000002,\n",
       "   0.0527060518,\n",
       "   0.048502279200000005,\n",
       "   0.0604842507,\n",
       "   0.040747115]},\n",
       " {'listing_id': 54544,\n",
       "  'mean_topic_score': [0.1839472795,\n",
       "   0.1183796891,\n",
       "   0.13392099500000001,\n",
       "   0.0558752311,\n",
       "   0.21314608980000002,\n",
       "   0.0921960186,\n",
       "   0.2263809433,\n",
       "   0.15817994200000002,\n",
       "   0.165490266,\n",
       "   0.3675628383]},\n",
       " {'listing_id': 54860,\n",
       "  'mean_topic_score': [0.1289011686,\n",
       "   0.1425173227,\n",
       "   0.1347576356,\n",
       "   0.08011280700000001,\n",
       "   0.35489794900000005,\n",
       "   0.18019607810000002,\n",
       "   0.1686818833,\n",
       "   0.08843401070000001,\n",
       "   0.1568832349,\n",
       "   0.275969309]},\n",
       " {'listing_id': 55320,\n",
       "  'mean_topic_score': [0.1917952674,\n",
       "   0.1140676795,\n",
       "   0.288049007,\n",
       "   0.1447897898,\n",
       "   0.1499385812,\n",
       "   0.1562146602,\n",
       "   0.2124737087,\n",
       "   0.0967432543,\n",
       "   0.1478361963,\n",
       "   0.2824340696]},\n",
       " {'listing_id': 55668,\n",
       "  'mean_topic_score': [0.6541525823000001,\n",
       "   0.10931283680000001,\n",
       "   0.0832548476,\n",
       "   0.194748638,\n",
       "   0.18715729,\n",
       "   0.13760543990000002,\n",
       "   0.1211389462,\n",
       "   0.07472130540000001,\n",
       "   0.0699274008,\n",
       "   0.0744946014]},\n",
       " {'listing_id': 55737,\n",
       "  'mean_topic_score': [0.20007916480000001,\n",
       "   0.1438593383,\n",
       "   0.2212194173,\n",
       "   0.23013074930000002,\n",
       "   0.1322736081,\n",
       "   0.0509356232,\n",
       "   0.1878770509,\n",
       "   0.1452908517,\n",
       "   0.2367018139,\n",
       "   0.1274002197]},\n",
       " {'listing_id': 55857,\n",
       "  'mean_topic_score': [0.2823195788,\n",
       "   0.0610996694,\n",
       "   0.0605800794,\n",
       "   0.15867651330000002,\n",
       "   0.1187889599,\n",
       "   0.17283621870000002,\n",
       "   0.0892891504,\n",
       "   0.26029268,\n",
       "   0.38546905880000004,\n",
       "   0.2076511171]},\n",
       " {'listing_id': 56027,\n",
       "  'mean_topic_score': [0.2021854982,\n",
       "   0.18830700900000003,\n",
       "   0.16379684460000002,\n",
       "   0.0757120963,\n",
       "   0.0716514508,\n",
       "   0.4170760784,\n",
       "   0.07630011710000001,\n",
       "   0.0742516928,\n",
       "   0.039005986400000005,\n",
       "   0.3702154717]},\n",
       " {'listing_id': 56467,\n",
       "  'mean_topic_score': [0.189661505,\n",
       "   0.0689240124,\n",
       "   0.2663083767,\n",
       "   0.3197274323,\n",
       "   0.1674250742,\n",
       "   0.0770120727,\n",
       "   0.1940014049,\n",
       "   0.12941287070000002,\n",
       "   0.09923195430000001,\n",
       "   0.1661177099]},\n",
       " {'listing_id': 56859,\n",
       "  'mean_topic_score': [0.16831345250000002,\n",
       "   0.14678961740000002,\n",
       "   0.13949126480000001,\n",
       "   0.08198309890000001,\n",
       "   0.20133904660000002,\n",
       "   0.1801620269,\n",
       "   0.1895585324,\n",
       "   0.13295091450000002,\n",
       "   0.1824091148,\n",
       "   0.3823748823]}]"
      ]
     },
     "execution_count": 1104,
     "metadata": {},
     "output_type": "execute_result"
    }
   ],
   "source": [
    "listings"
   ]
  },
  {
   "cell_type": "code",
   "execution_count": 1107,
   "metadata": {},
   "outputs": [
    {
     "ename": "TypeError",
     "evalue": "Object of type LdaMulticore is not JSON serializable",
     "output_type": "error",
     "traceback": [
      "\u001b[0;31m---------------------------------------------------------------------------\u001b[0m",
      "\u001b[0;31mTypeError\u001b[0m                                 Traceback (most recent call last)",
      "\u001b[0;32m<ipython-input-1107-ead9f1276784>\u001b[0m in \u001b[0;36m<module>\u001b[0;34m\u001b[0m\n\u001b[1;32m      1\u001b[0m \u001b[0;32mimport\u001b[0m \u001b[0mjson\u001b[0m\u001b[0;34m\u001b[0m\u001b[0;34m\u001b[0m\u001b[0m\n\u001b[1;32m      2\u001b[0m \u001b[0;32mwith\u001b[0m \u001b[0mopen\u001b[0m\u001b[0;34m(\u001b[0m\u001b[0;34m'../Flask/Airbnb/MVP/model_dict.json'\u001b[0m\u001b[0;34m,\u001b[0m \u001b[0;34m'w'\u001b[0m\u001b[0;34m)\u001b[0m \u001b[0;32mas\u001b[0m \u001b[0mfp\u001b[0m\u001b[0;34m:\u001b[0m\u001b[0;34m\u001b[0m\u001b[0;34m\u001b[0m\u001b[0m\n\u001b[0;32m----> 3\u001b[0;31m     \u001b[0mjson\u001b[0m\u001b[0;34m.\u001b[0m\u001b[0mdump\u001b[0m\u001b[0;34m(\u001b[0m\u001b[0mlda_model_dict\u001b[0m\u001b[0;34m,\u001b[0m \u001b[0mfp\u001b[0m\u001b[0;34m)\u001b[0m\u001b[0;34m\u001b[0m\u001b[0;34m\u001b[0m\u001b[0m\n\u001b[0m",
      "\u001b[0;32m~/anaconda3/envs/airbnb_p3/lib/python3.7/json/__init__.py\u001b[0m in \u001b[0;36mdump\u001b[0;34m(obj, fp, skipkeys, ensure_ascii, check_circular, allow_nan, cls, indent, separators, default, sort_keys, **kw)\u001b[0m\n\u001b[1;32m    177\u001b[0m     \u001b[0;31m# could accelerate with writelines in some versions of Python, at\u001b[0m\u001b[0;34m\u001b[0m\u001b[0;34m\u001b[0m\u001b[0;34m\u001b[0m\u001b[0m\n\u001b[1;32m    178\u001b[0m     \u001b[0;31m# a debuggability cost\u001b[0m\u001b[0;34m\u001b[0m\u001b[0;34m\u001b[0m\u001b[0;34m\u001b[0m\u001b[0m\n\u001b[0;32m--> 179\u001b[0;31m     \u001b[0;32mfor\u001b[0m \u001b[0mchunk\u001b[0m \u001b[0;32min\u001b[0m \u001b[0miterable\u001b[0m\u001b[0;34m:\u001b[0m\u001b[0;34m\u001b[0m\u001b[0;34m\u001b[0m\u001b[0m\n\u001b[0m\u001b[1;32m    180\u001b[0m         \u001b[0mfp\u001b[0m\u001b[0;34m.\u001b[0m\u001b[0mwrite\u001b[0m\u001b[0;34m(\u001b[0m\u001b[0mchunk\u001b[0m\u001b[0;34m)\u001b[0m\u001b[0;34m\u001b[0m\u001b[0;34m\u001b[0m\u001b[0m\n\u001b[1;32m    181\u001b[0m \u001b[0;34m\u001b[0m\u001b[0m\n",
      "\u001b[0;32m~/anaconda3/envs/airbnb_p3/lib/python3.7/json/encoder.py\u001b[0m in \u001b[0;36m_iterencode\u001b[0;34m(o, _current_indent_level)\u001b[0m\n\u001b[1;32m    429\u001b[0m             \u001b[0;32myield\u001b[0m \u001b[0;32mfrom\u001b[0m \u001b[0m_iterencode_list\u001b[0m\u001b[0;34m(\u001b[0m\u001b[0mo\u001b[0m\u001b[0;34m,\u001b[0m \u001b[0m_current_indent_level\u001b[0m\u001b[0;34m)\u001b[0m\u001b[0;34m\u001b[0m\u001b[0;34m\u001b[0m\u001b[0m\n\u001b[1;32m    430\u001b[0m         \u001b[0;32melif\u001b[0m \u001b[0misinstance\u001b[0m\u001b[0;34m(\u001b[0m\u001b[0mo\u001b[0m\u001b[0;34m,\u001b[0m \u001b[0mdict\u001b[0m\u001b[0;34m)\u001b[0m\u001b[0;34m:\u001b[0m\u001b[0;34m\u001b[0m\u001b[0;34m\u001b[0m\u001b[0m\n\u001b[0;32m--> 431\u001b[0;31m             \u001b[0;32myield\u001b[0m \u001b[0;32mfrom\u001b[0m \u001b[0m_iterencode_dict\u001b[0m\u001b[0;34m(\u001b[0m\u001b[0mo\u001b[0m\u001b[0;34m,\u001b[0m \u001b[0m_current_indent_level\u001b[0m\u001b[0;34m)\u001b[0m\u001b[0;34m\u001b[0m\u001b[0;34m\u001b[0m\u001b[0m\n\u001b[0m\u001b[1;32m    432\u001b[0m         \u001b[0;32melse\u001b[0m\u001b[0;34m:\u001b[0m\u001b[0;34m\u001b[0m\u001b[0;34m\u001b[0m\u001b[0m\n\u001b[1;32m    433\u001b[0m             \u001b[0;32mif\u001b[0m \u001b[0mmarkers\u001b[0m \u001b[0;32mis\u001b[0m \u001b[0;32mnot\u001b[0m \u001b[0;32mNone\u001b[0m\u001b[0;34m:\u001b[0m\u001b[0;34m\u001b[0m\u001b[0;34m\u001b[0m\u001b[0m\n",
      "\u001b[0;32m~/anaconda3/envs/airbnb_p3/lib/python3.7/json/encoder.py\u001b[0m in \u001b[0;36m_iterencode_dict\u001b[0;34m(dct, _current_indent_level)\u001b[0m\n\u001b[1;32m    403\u001b[0m                 \u001b[0;32melse\u001b[0m\u001b[0;34m:\u001b[0m\u001b[0;34m\u001b[0m\u001b[0;34m\u001b[0m\u001b[0m\n\u001b[1;32m    404\u001b[0m                     \u001b[0mchunks\u001b[0m \u001b[0;34m=\u001b[0m \u001b[0m_iterencode\u001b[0m\u001b[0;34m(\u001b[0m\u001b[0mvalue\u001b[0m\u001b[0;34m,\u001b[0m \u001b[0m_current_indent_level\u001b[0m\u001b[0;34m)\u001b[0m\u001b[0;34m\u001b[0m\u001b[0;34m\u001b[0m\u001b[0m\n\u001b[0;32m--> 405\u001b[0;31m                 \u001b[0;32myield\u001b[0m \u001b[0;32mfrom\u001b[0m \u001b[0mchunks\u001b[0m\u001b[0;34m\u001b[0m\u001b[0;34m\u001b[0m\u001b[0m\n\u001b[0m\u001b[1;32m    406\u001b[0m         \u001b[0;32mif\u001b[0m \u001b[0mnewline_indent\u001b[0m \u001b[0;32mis\u001b[0m \u001b[0;32mnot\u001b[0m \u001b[0;32mNone\u001b[0m\u001b[0;34m:\u001b[0m\u001b[0;34m\u001b[0m\u001b[0;34m\u001b[0m\u001b[0m\n\u001b[1;32m    407\u001b[0m             \u001b[0m_current_indent_level\u001b[0m \u001b[0;34m-=\u001b[0m \u001b[0;36m1\u001b[0m\u001b[0;34m\u001b[0m\u001b[0;34m\u001b[0m\u001b[0m\n",
      "\u001b[0;32m~/anaconda3/envs/airbnb_p3/lib/python3.7/json/encoder.py\u001b[0m in \u001b[0;36m_iterencode_dict\u001b[0;34m(dct, _current_indent_level)\u001b[0m\n\u001b[1;32m    403\u001b[0m                 \u001b[0;32melse\u001b[0m\u001b[0;34m:\u001b[0m\u001b[0;34m\u001b[0m\u001b[0;34m\u001b[0m\u001b[0m\n\u001b[1;32m    404\u001b[0m                     \u001b[0mchunks\u001b[0m \u001b[0;34m=\u001b[0m \u001b[0m_iterencode\u001b[0m\u001b[0;34m(\u001b[0m\u001b[0mvalue\u001b[0m\u001b[0;34m,\u001b[0m \u001b[0m_current_indent_level\u001b[0m\u001b[0;34m)\u001b[0m\u001b[0;34m\u001b[0m\u001b[0;34m\u001b[0m\u001b[0m\n\u001b[0;32m--> 405\u001b[0;31m                 \u001b[0;32myield\u001b[0m \u001b[0;32mfrom\u001b[0m \u001b[0mchunks\u001b[0m\u001b[0;34m\u001b[0m\u001b[0;34m\u001b[0m\u001b[0m\n\u001b[0m\u001b[1;32m    406\u001b[0m         \u001b[0;32mif\u001b[0m \u001b[0mnewline_indent\u001b[0m \u001b[0;32mis\u001b[0m \u001b[0;32mnot\u001b[0m \u001b[0;32mNone\u001b[0m\u001b[0;34m:\u001b[0m\u001b[0;34m\u001b[0m\u001b[0;34m\u001b[0m\u001b[0m\n\u001b[1;32m    407\u001b[0m             \u001b[0m_current_indent_level\u001b[0m \u001b[0;34m-=\u001b[0m \u001b[0;36m1\u001b[0m\u001b[0;34m\u001b[0m\u001b[0;34m\u001b[0m\u001b[0m\n",
      "\u001b[0;32m~/anaconda3/envs/airbnb_p3/lib/python3.7/json/encoder.py\u001b[0m in \u001b[0;36m_iterencode\u001b[0;34m(o, _current_indent_level)\u001b[0m\n\u001b[1;32m    436\u001b[0m                     \u001b[0;32mraise\u001b[0m \u001b[0mValueError\u001b[0m\u001b[0;34m(\u001b[0m\u001b[0;34m\"Circular reference detected\"\u001b[0m\u001b[0;34m)\u001b[0m\u001b[0;34m\u001b[0m\u001b[0;34m\u001b[0m\u001b[0m\n\u001b[1;32m    437\u001b[0m                 \u001b[0mmarkers\u001b[0m\u001b[0;34m[\u001b[0m\u001b[0mmarkerid\u001b[0m\u001b[0;34m]\u001b[0m \u001b[0;34m=\u001b[0m \u001b[0mo\u001b[0m\u001b[0;34m\u001b[0m\u001b[0;34m\u001b[0m\u001b[0m\n\u001b[0;32m--> 438\u001b[0;31m             \u001b[0mo\u001b[0m \u001b[0;34m=\u001b[0m \u001b[0m_default\u001b[0m\u001b[0;34m(\u001b[0m\u001b[0mo\u001b[0m\u001b[0;34m)\u001b[0m\u001b[0;34m\u001b[0m\u001b[0;34m\u001b[0m\u001b[0m\n\u001b[0m\u001b[1;32m    439\u001b[0m             \u001b[0;32myield\u001b[0m \u001b[0;32mfrom\u001b[0m \u001b[0m_iterencode\u001b[0m\u001b[0;34m(\u001b[0m\u001b[0mo\u001b[0m\u001b[0;34m,\u001b[0m \u001b[0m_current_indent_level\u001b[0m\u001b[0;34m)\u001b[0m\u001b[0;34m\u001b[0m\u001b[0;34m\u001b[0m\u001b[0m\n\u001b[1;32m    440\u001b[0m             \u001b[0;32mif\u001b[0m \u001b[0mmarkers\u001b[0m \u001b[0;32mis\u001b[0m \u001b[0;32mnot\u001b[0m \u001b[0;32mNone\u001b[0m\u001b[0;34m:\u001b[0m\u001b[0;34m\u001b[0m\u001b[0;34m\u001b[0m\u001b[0m\n",
      "\u001b[0;32m~/anaconda3/envs/airbnb_p3/lib/python3.7/json/encoder.py\u001b[0m in \u001b[0;36mdefault\u001b[0;34m(self, o)\u001b[0m\n\u001b[1;32m    177\u001b[0m \u001b[0;34m\u001b[0m\u001b[0m\n\u001b[1;32m    178\u001b[0m         \"\"\"\n\u001b[0;32m--> 179\u001b[0;31m         raise TypeError(f'Object of type {o.__class__.__name__} '\n\u001b[0m\u001b[1;32m    180\u001b[0m                         f'is not JSON serializable')\n\u001b[1;32m    181\u001b[0m \u001b[0;34m\u001b[0m\u001b[0m\n",
      "\u001b[0;31mTypeError\u001b[0m: Object of type LdaMulticore is not JSON serializable"
     ]
    }
   ],
   "source": []
  },
  {
   "cell_type": "code",
   "execution_count": null,
   "metadata": {},
   "outputs": [],
   "source": []
  }
 ],
 "metadata": {
  "kernelspec": {
   "display_name": "Airbnb 3.7",
   "language": "python",
   "name": "airbnb_p3"
  },
  "language_info": {
   "codemirror_mode": {
    "name": "ipython",
    "version": 3
   },
   "file_extension": ".py",
   "mimetype": "text/x-python",
   "name": "python",
   "nbconvert_exporter": "python",
   "pygments_lexer": "ipython3",
   "version": "3.7.4"
  }
 },
 "nbformat": 4,
 "nbformat_minor": 2
}
