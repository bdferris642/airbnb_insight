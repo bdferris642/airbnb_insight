{
 "cells": [
  {
   "cell_type": "code",
   "execution_count": 1,
   "metadata": {},
   "outputs": [
    {
     "name": "stderr",
     "output_type": "stream",
     "text": [
      "[nltk_data] Downloading package wordnet to /Users/bennett/nltk_data...\n",
      "[nltk_data]   Package wordnet is already up-to-date!\n"
     ]
    }
   ],
   "source": [
    "import numpy as np\n",
    "import pandas as pd\n",
    "import scipy as sc\n",
    "import matplotlib.pyplot as plt\n",
    "from math import *\n",
    "from copy import *\n",
    "import copy\n",
    "import pickle\n",
    "import gensim\n",
    "from gensim.utils import simple_preprocess\n",
    "from gensim.parsing.preprocessing import STOPWORDS\n",
    "from nltk.stem import WordNetLemmatizer, SnowballStemmer\n",
    "from nltk.stem.porter import *\n",
    "import numpy as np\n",
    "np.random.seed(2019)\n",
    "from langdetect import detect\n",
    "import nltk\n",
    "nltk.download('wordnet')\n",
    "from nltk.stem import WordNetLemmatizer, SnowballStemmer\n",
    "from gensim import corpora, models\n",
    "from pprint import pprint"
   ]
  },
  {
   "cell_type": "code",
   "execution_count": 2,
   "metadata": {},
   "outputs": [],
   "source": [
    "def flatten(l):\n",
    "    flat_list = [item for sublist in l for item in sublist]\n",
    "    return flat_list\n",
    "\n",
    "def flatten_df(input_df, flatten_col):\n",
    "    cols = list(input_df.columns)\n",
    "    other_cols = [c for c in cols if not c == flatten_col]\n",
    "    fc_flat = pd.DataFrame([[i,x] for i,y in input_df[flatten_col].apply(list).iteritems()\n",
    "                            for x in y], columns=['I', flatten_col])\n",
    "    fc_flat = fc_flat.set_index('I')\n",
    "    output_df = input_df[other_cols].merge(fc_flat, left_index=True, right_index=True)\n",
    "    return output_df"
   ]
  },
  {
   "cell_type": "code",
   "execution_count": 64,
   "metadata": {},
   "outputs": [
    {
     "name": "stdout",
     "output_type": "stream",
     "text": [
      "   A  B\n",
      "0  1  a\n",
      "0  1  b\n",
      "1  2  c\n",
      "   A  C\n",
      "0  1  a\n",
      "0  1  b\n",
      "1  2  c\n"
     ]
    }
   ],
   "source": [
    "ab = flatten_df(input_df[['A', 'B']], 'B')\n",
    "ac = flatten_df(input_df[['A', 'C']], 'C')\n",
    "print(ab)\n",
    "print(ac)"
   ]
  },
  {
   "cell_type": "code",
   "execution_count": 86,
   "metadata": {},
   "outputs": [
    {
     "name": "stdout",
     "output_type": "stream",
     "text": [
      "   A  B  C\n",
      "0  1  a  a\n",
      "0  1  b  b\n",
      "1  2  c  c\n"
     ]
    }
   ],
   "source": [
    "output_df = ab\n",
    "output_df['C'] = flatten(input_df['C'])\n",
    "print(output_df)"
   ]
  },
  {
   "cell_type": "code",
   "execution_count": 342,
   "metadata": {},
   "outputs": [],
   "source": [
    "def extract_topic_vectors(flat_pickle_name, \n",
    "                          tf_idf = True, n_topics = 20, npasses=5, **kwargs):\n",
    "    \n",
    "    \"\"\"\n",
    "    input: directory to a pickle, tf_idf bool, number of topics\n",
    "    important kwargs: no_below (a number), no_above (between 0 and 1), keep_n (a number of words in the dictionary)\n",
    "    output: an lda_model, topics, a corpus, a dictionary\n",
    "    \"\"\"\n",
    "    \n",
    "    file = open(flat_pickle_name, 'rb')\n",
    "    preproc_df = pickle.load(file)\n",
    "    file.close()\n",
    "    print('Loaded File')\n",
    "    \n",
    "    corpus, dictionary = get_corpus(preproc_df, **kwargs)\n",
    "    \n",
    "    if tf_idf:\n",
    "        tfidf = models.TfidfModel(corpus)\n",
    "        corpus = tfidf[corpus]\n",
    "\n",
    "    print('Made Corpus')\n",
    "    lda_model = gensim.models.LdaMulticore(corpus, num_topics=n_topics, id2word=dictionary, passes=npasses,\n",
    "                                           workers=5)\n",
    "    topics = lda_model.show_topics(num_topics=n_topics, num_words=10, log=False, formatted=True)\n",
    "\n",
    "    return lda_model, topics, corpus, dictionary\n",
    "    "
   ]
  },
  {
   "cell_type": "code",
   "execution_count": 306,
   "metadata": {},
   "outputs": [
    {
     "data": {
      "text/plain": [
       "2659.54"
      ]
     },
     "execution_count": 306,
     "metadata": {},
     "output_type": "execute_result"
    }
   ],
   "source": [
    "flat_df_HOST_NAME.shape[0]*0.01"
   ]
  },
  {
   "cell_type": "code",
   "execution_count": 652,
   "metadata": {},
   "outputs": [],
   "source": [
    "fake_revs = [\"I hated this listing. It had multiple problems. Unfortunately, I won't be returning. What a joke.\",\n",
    "\"This appartment was in a very trendy neighborhood. I loved the nightlife.\",\n",
    "\"The decor was so modern and chic!\",\n",
    " \"Janet was so warm and bubbly. It was a real treat to hang out with her and her adorable cat\"]\n",
    "fake_rev_df = pd.DataFrame({'comments':fake_revs})"
   ]
  },
  {
   "cell_type": "code",
   "execution_count": 653,
   "metadata": {},
   "outputs": [
    {
     "data": {
      "text/plain": [
       "0    [hat, list, multipl, problem, unfortun, return...\n",
       "1       [appart, trendi, neighborhood, love, nightlif]\n",
       "2                                [decor, modern, chic]\n",
       "3        [janet, warm, bubbl, real, treat, hang, ador]\n",
       "Name: comments, dtype: object"
      ]
     },
     "execution_count": 653,
     "metadata": {},
     "output_type": "execute_result"
    }
   ],
   "source": [
    "fake_rev_df.comments.map(preprocess)"
   ]
  },
  {
   "cell_type": "code",
   "execution_count": 27,
   "metadata": {},
   "outputs": [],
   "source": [
    "def get_corpus(preproc_df, **kwargs):\n",
    "    \"\"\"\n",
    "    input: a processed, flat df\n",
    "    with a single row for every comment under column 'comments'\n",
    "    outputs: corpus, a dict reporting how many words and how many times these words appear\n",
    "    \"\"\"\n",
    "\n",
    "    processed_comments = preproc_df['comments'].map(preprocess)\n",
    "    \n",
    "    # Create a dictionary containing the number of times a word appears in the training set.\n",
    "    dictionary = gensim.corpora.Dictionary(processed_comments)\n",
    "    \n",
    "    # Filter out tokens that appear in < than no_below documents (absolute number)\n",
    "    # or > than no_above documents (fraction of total corpus size, not absolute number).\n",
    "    # after the above two steps, keep only the first keep_n most frequent tokens.\n",
    "    dictionary.filter_extremes(**kwargs)\n",
    "\n",
    "    # Gensim doc2bow\n",
    "    corpus = [dictionary.doc2bow(comment) for comment in processed_comments]\n",
    "    return corpus, dictionary"
   ]
  },
  {
   "cell_type": "code",
   "execution_count": 21,
   "metadata": {},
   "outputs": [],
   "source": [
    "# Tokenization: Split the text into sentences and the sentences into words. \n",
    "# Lowercase the words and remove punctuation.\n",
    "\n",
    "# Words that have fewer than 3 characters are removed.\n",
    "\n",
    "# Words are lemmatized — words in third person are changed to first person \n",
    "# and verbs in past and future tenses are changed into present.\n",
    "\n",
    "# Words are stemmed — words are reduced to their root form.\n",
    "\n",
    "# All stopwords are removed.\n",
    "\n",
    "\n",
    "stemmer = SnowballStemmer(\"english\")\n",
    "def lemmatize_stemming(text):\n",
    "    return stemmer.stem(WordNetLemmatizer().lemmatize(text, pos='v'))\n",
    "\n",
    "def preprocess(text):\n",
    "    result = []\n",
    "    for token in gensim.utils.simple_preprocess(text):\n",
    "        if token not in gensim.parsing.preprocessing.STOPWORDS and len(token) > 3:\n",
    "            result.append(lemmatize_stemming(token))\n",
    "    return result\n",
    "\n"
   ]
  },
  {
   "cell_type": "code",
   "execution_count": 158,
   "metadata": {},
   "outputs": [],
   "source": [
    "# data cleaning functions\n",
    "\n",
    "def clean_detect(x):\n",
    "    try:\n",
    "        return detect(x)\n",
    "    except:\n",
    "        return 'No Language'\n",
    "    \n",
    "def name2HOST_NAME(x):\n",
    "    if type(x['host_name']) is str:\n",
    "        return x['comments'].replace(x['host_name'], 'HOST_NAME')\n",
    "    else:\n",
    "        return x['comments']\n",
    "\n",
    "def preproc_df(df, pickle_name='', extract_host = False, change_name2HOST_NAME = False, \n",
    "               lang_condition = 'en', min_num_reviews = None):\n",
    "    \"\"\"\n",
    "    input a df in the format of room_db\n",
    "    with columns ['room_id', 'host_name', 'user_id', 'comments']\n",
    "    with dtype int, str, list-of-int, list-of-str\n",
    "    \n",
    "    output flat_df with columns ['listing_id', 'host_name', 'user_id', 'comments', host_names_extracted, 'old_index']\n",
    "    with dtype int, str, int, list-of-str, int\n",
    "    \n",
    "    if find_host, automatically find the name of the host(s) within a given listing\n",
    "    fill a column with a list of these guesses.\n",
    "    else, put an empty list\n",
    "    \n",
    "    args:\n",
    "    lang_select selects the language of comments to condition on. 'en' for english. '' --> no filtering\n",
    "    min_num_reviews: int. Filter out listings with less than min_num_reviews\n",
    "    \n",
    "    \"\"\"\n",
    "   \n",
    "    \n",
    "    lids = []\n",
    "    hns = []\n",
    "    uids = []\n",
    "    flat_doc_comments = []\n",
    "    host_names_extracted = []\n",
    "    for index, row in df.head(n=df.shape[0]).iterrows():\n",
    "        lid = row.room_id\n",
    "        hn = row.host_name\n",
    "        uid = row.user_id\n",
    "        cs = row.comments\n",
    "        lids.extend([lid]*len(cs))\n",
    "        hns.extend([hn]*len(cs))\n",
    "        uids.extend(uid)\n",
    "        flat_doc_comments.extend(cs)\n",
    "        if extract_host:\n",
    "            host_names_extracted.extend(extract_host_names(cs))\n",
    "        else:\n",
    "            host_names_extracted.extend([[]*len(cs)])\n",
    "\n",
    "    flat_df = pd.DataFrame({'listing_id':lids, \n",
    "                                'host_name': hns, \n",
    "                                'user_id':uids,\n",
    "                                'comments':flat_doc_comments})\n",
    "    \n",
    "    flat_df.comments = flat_df.comments.fillna('')\n",
    "    \n",
    "    \n",
    "    if change_name2HOST_NAME:\n",
    "        flat_df['comments'] = flat_df.apply(lambda x: name2HOST_NAME(x), axis=1)\n",
    "\n",
    "    # ONLY LOOKS AT REVIEWS WITH 3+ CHARACTERS\n",
    "    # ONLY LOOK AT REVIEWS IN ENGLISH\n",
    "    flat_df = flat_df[flat_df.comments.apply(lambda x: len(x) >= 3)]\n",
    "    if lang_condition:\n",
    "        flat_df = flat_df[flat_df.comments.apply(lambda x: clean_detect(x) == lang_condition)]\n",
    "\n",
    "    # REMOVE AUTOMATED MESSAGES\n",
    "    flat_df = flat_df[flat_df.comments.apply(lambda x: x[:34] != 'The host canceled this reservation')]\n",
    "\n",
    "    if pickle_name:\n",
    "        with open(pickle_name, 'wb') as pickle_file:\n",
    "            pickle.dump(flat_df, pickle_file)\n",
    "\n",
    "    return flat_df"
   ]
  },
  {
   "cell_type": "code",
   "execution_count": 918,
   "metadata": {},
   "outputs": [],
   "source": [
    "# data loading functions\n",
    "\n",
    "def load_room_db(listing_fnames, review_fnames, room_db_pickle_name='', load_from_pickle = False):\n",
    "    \n",
    "    listings = []\n",
    "    reviews = []\n",
    "    if load_from_pickle:        \n",
    "        for fname in listing_fnames:\n",
    "            file = open(fname, 'rb')\n",
    "            object_file = pickle.load(file)\n",
    "            listings.append(object_file)\n",
    "            file.close()\n",
    "        for fname in review_fnames:\n",
    "            file = open(fname, 'rb')\n",
    "            object_file = pickle.load(file)\n",
    "            reviews.append(object_file)\n",
    "            file.close()    \n",
    "    else:\n",
    "        for fname in listing_fnames:\n",
    "            listings.append(pd.read_csv(fname, sep=';'))\n",
    "        for fname in review_fnames:\n",
    "            reviews.append(pd.read_csv(fname, sep=';'))\n",
    "      \n",
    "    # clean up column names\n",
    "    l2d = {'id':'room_id', \n",
    "        'geolocation':'coordinates', \n",
    "        'neighbourhood_cleansed': 'neighborhood_clean',\n",
    "       'price':'room_price',\n",
    "       'last_review':'date_last_review'}\n",
    "    for i, L in enumerate(listings):\n",
    "        L = L.rename(columns={c:c.lower().replace(' ', '_') for c in L.columns})\n",
    "        L = L.rename(columns=l2d)\n",
    "        listings[i] = L\n",
    "    for i, R in enumerate(reviews):\n",
    "        R = R.rename(columns={c:c.lower().replace(' ', '_') for c in R.columns})\n",
    "        reviews[i] = R\n",
    "        \n",
    "    reviews = reviews[0]  \n",
    "    listing = listings[0]\n",
    "    room_id_list = []\n",
    "    for L in listings:\n",
    "        room_id_list.extend(list(L.room_id))\n",
    "    unique_room_id_list = sorted(np.unique(room_id_list))\n",
    "\n",
    "    # build a DataFrame of room_id --> host_name, list of reviewers, list of comments\n",
    "    # Takes some compute time (~10 minutes)\n",
    "    \n",
    "    hosts_for_room = [listing[listing.room_id == rid].host_name \n",
    "                      for rid in unique_room_id_list]\n",
    "    print('Loaded Hosts')\n",
    "    \n",
    "    reviewers_for_room = {rid: list(reviews[reviews.listing_id == rid].reviewer_id) \n",
    "                          for rid in unique_room_id_list}\n",
    "    print('Loaded Reviewer IDs')\n",
    "    \n",
    "    reviewer_names_for_room = {rid: list(reviews[reviews.listing_id == rid].reviewer_name) \n",
    "                               for rid in unique_room_id_list}\n",
    "    print('Loaded Reviewer names')\n",
    "    \n",
    "    comments_for_room = {rid: list(reviews[reviews.listing_id == rid].comments) \n",
    "                         for rid in unique_room_id_list}\n",
    "    print('Loaded Comments')\n",
    "    room_db = pd.DataFrame({'room_id':unique_room_id_list,\n",
    "                        'host_name':hosts_for_room,\n",
    "                       'user_id':[reviewers_for_room[k] for k in unique_room_id_list],\n",
    "                        'user_name': [reviewer_names_for_room[k] for k in unique_room_id_list],\n",
    "                       'comments': [comments_for_room[k] for k in unique_room_id_list]})\n",
    "\n",
    "    if room_db_pickle_name:\n",
    "        with open(room_db_pickle_name, 'wb') as pickle_file:\n",
    "            pickle.dump(room_db, pickle_file)\n",
    "            \n",
    "    return room_db, listings, reviews"
   ]
  },
  {
   "cell_type": "code",
   "execution_count": 145,
   "metadata": {
    "scrolled": true
   },
   "outputs": [
    {
     "name": "stdout",
     "output_type": "stream",
     "text": [
      "Loaded Hosts\n",
      "Loaded Reviewers\n",
      "Loaded Comments\n"
     ]
    }
   ],
   "source": [
    "datadir = '../../Desktop/Insight Project/airbnb/pickles/'\n",
    "room_db, listings, reviews = load_room_db(listing_fnames = [datadir + 'lis_nyc2.pkl'],\n",
    "                                          review_fnames= [datadir + 'reviews.pkl'],\n",
    "                                          load_from_pickle=True)"
   ]
  },
  {
   "cell_type": "code",
   "execution_count": 165,
   "metadata": {
    "scrolled": false
   },
   "outputs": [],
   "source": [
    "flat_df = preproc_df(room_db)"
   ]
  },
  {
   "cell_type": "code",
   "execution_count": 166,
   "metadata": {},
   "outputs": [],
   "source": [
    "pickle_name = datadir + 'flat_df.pkl'\n",
    "with open(pickle_name, 'wb') as pickle_file:\n",
    "    pickle.dump(flat_df, pickle_file)"
   ]
  },
  {
   "cell_type": "code",
   "execution_count": 28,
   "metadata": {},
   "outputs": [
    {
     "name": "stdout",
     "output_type": "stream",
     "text": [
      "Loaded File\n",
      "Made Corpus\n"
     ]
    }
   ],
   "source": [
    "lda_model, topics = extract_topic_vectors(pickle_name)"
   ]
  },
  {
   "cell_type": "code",
   "execution_count": 31,
   "metadata": {},
   "outputs": [],
   "source": [
    "corpus, dictionary = get_corpus(flat_df)"
   ]
  },
  {
   "cell_type": "code",
   "execution_count": 29,
   "metadata": {},
   "outputs": [
    {
     "data": {
      "text/plain": [
       "[(0,\n",
       "  '0.010*\"brian\" + 0.009*\"eric\" + 0.008*\"place\" + 0.008*\"nicol\" + 0.007*\"apart\" + 0.007*\"lisa\" + 0.007*\"nice\" + 0.007*\"host\" + 0.006*\"clean\" + 0.006*\"help\"'),\n",
       " (1,\n",
       "  '0.010*\"michell\" + 0.008*\"place\" + 0.008*\"columbia\" + 0.007*\"kyle\" + 0.007*\"apart\" + 0.006*\"locat\" + 0.006*\"perfect\" + 0.006*\"host\" + 0.006*\"nice\" + 0.006*\"clean\"'),\n",
       " (2,\n",
       "  '0.012*\"accur\" + 0.011*\"spot\" + 0.011*\"matt\" + 0.010*\"good\" + 0.010*\"place\" + 0.009*\"descript\" + 0.008*\"robert\" + 0.008*\"apart\" + 0.008*\"host\" + 0.008*\"nice\"'),\n",
       " (3,\n",
       "  '0.012*\"check\" + 0.009*\"paul\" + 0.009*\"andrew\" + 0.008*\"place\" + 0.008*\"easi\" + 0.007*\"apart\" + 0.006*\"clean\" + 0.006*\"time\" + 0.006*\"host\" + 0.006*\"nice\"'),\n",
       " (4,\n",
       "  '0.008*\"place\" + 0.006*\"charli\" + 0.006*\"nice\" + 0.006*\"host\" + 0.006*\"elizabeth\" + 0.006*\"clean\" + 0.006*\"apart\" + 0.005*\"room\" + 0.005*\"help\" + 0.005*\"time\"'),\n",
       " (5,\n",
       "  '0.018*\"alex\" + 0.014*\"price\" + 0.010*\"place\" + 0.008*\"mari\" + 0.007*\"adam\" + 0.007*\"host\" + 0.007*\"locat\" + 0.007*\"nice\" + 0.007*\"apart\" + 0.007*\"recommend\"'),\n",
       " (6,\n",
       "  '0.020*\"michael\" + 0.008*\"place\" + 0.007*\"apart\" + 0.007*\"nice\" + 0.006*\"carlo\" + 0.006*\"good\" + 0.006*\"locat\" + 0.006*\"host\" + 0.006*\"clean\" + 0.006*\"victor\"'),\n",
       " (7,\n",
       "  '0.011*\"advertis\" + 0.009*\"place\" + 0.009*\"exact\" + 0.008*\"describ\" + 0.008*\"kevin\" + 0.008*\"apart\" + 0.007*\"host\" + 0.007*\"clean\" + 0.007*\"locat\" + 0.006*\"easi\"'),\n",
       " (8,\n",
       "  '0.009*\"jason\" + 0.008*\"maria\" + 0.006*\"apart\" + 0.006*\"place\" + 0.006*\"vanessa\" + 0.005*\"carol\" + 0.005*\"nice\" + 0.005*\"host\" + 0.005*\"room\" + 0.005*\"clean\"'),\n",
       " (9,\n",
       "  '0.015*\"view\" + 0.011*\"mike\" + 0.008*\"apart\" + 0.007*\"place\" + 0.007*\"build\" + 0.006*\"locat\" + 0.006*\"amaz\" + 0.006*\"state\" + 0.006*\"empir\" + 0.006*\"nice\"'),\n",
       " (10,\n",
       "  '0.010*\"nick\" + 0.008*\"place\" + 0.007*\"laura\" + 0.007*\"sean\" + 0.007*\"amanda\" + 0.007*\"apart\" + 0.006*\"nice\" + 0.006*\"host\" + 0.006*\"locat\" + 0.005*\"help\"'),\n",
       " (11,\n",
       "  '0.012*\"jam\" + 0.007*\"place\" + 0.006*\"apart\" + 0.006*\"nice\" + 0.006*\"host\" + 0.006*\"room\" + 0.005*\"clean\" + 0.005*\"bianca\" + 0.005*\"steve\" + 0.005*\"locat\"'),\n",
       " (12,\n",
       "  '0.020*\"awesom\" + 0.012*\"excel\" + 0.011*\"place\" + 0.010*\"host\" + 0.009*\"locat\" + 0.009*\"nice\" + 0.008*\"clean\" + 0.008*\"mark\" + 0.007*\"apart\" + 0.007*\"recommend\"'),\n",
       " (13,\n",
       "  '0.029*\"place\" + 0.027*\"locat\" + 0.025*\"host\" + 0.025*\"nice\" + 0.018*\"good\" + 0.018*\"clean\" + 0.017*\"perfect\" + 0.015*\"recommend\" + 0.015*\"apart\" + 0.013*\"comfort\"'),\n",
       " (14,\n",
       "  '0.008*\"joseph\" + 0.008*\"josh\" + 0.007*\"place\" + 0.007*\"apart\" + 0.007*\"thoma\" + 0.006*\"host\" + 0.006*\"justin\" + 0.006*\"patrick\" + 0.006*\"help\" + 0.006*\"nice\"'),\n",
       " (15,\n",
       "  '0.007*\"room\" + 0.006*\"apart\" + 0.006*\"good\" + 0.006*\"night\" + 0.006*\"bathroom\" + 0.005*\"place\" + 0.005*\"sleep\" + 0.005*\"bedroom\" + 0.005*\"nois\" + 0.005*\"small\"'),\n",
       " (16,\n",
       "  '0.011*\"restaur\" + 0.011*\"close\" + 0.010*\"place\" + 0.009*\"walk\" + 0.008*\"locat\" + 0.008*\"apart\" + 0.008*\"villag\" + 0.008*\"transport\" + 0.008*\"subway\" + 0.007*\"easi\"'),\n",
       " (17,\n",
       "  '0.007*\"apart\" + 0.006*\"daniel\" + 0.006*\"place\" + 0.005*\"nice\" + 0.005*\"kitchen\" + 0.005*\"kate\" + 0.005*\"clean\" + 0.005*\"comfort\" + 0.005*\"need\" + 0.005*\"locat\"'),\n",
       " (18,\n",
       "  '0.027*\"anna\" + 0.021*\"cancel\" + 0.020*\"reserv\" + 0.020*\"post\" + 0.018*\"autom\" + 0.015*\"day\" + 0.013*\"arriv\" + 0.010*\"jenni\" + 0.010*\"marco\" + 0.009*\"place\"'),\n",
       " (19,\n",
       "  '0.017*\"valu\" + 0.016*\"sarah\" + 0.008*\"place\" + 0.007*\"good\" + 0.007*\"money\" + 0.007*\"apart\" + 0.007*\"locat\" + 0.007*\"julia\" + 0.007*\"host\" + 0.006*\"nice\"')]"
      ]
     },
     "execution_count": 29,
     "metadata": {},
     "output_type": "execute_result"
    }
   ],
   "source": [
    "topics"
   ]
  },
  {
   "cell_type": "code",
   "execution_count": 144,
   "metadata": {},
   "outputs": [
    {
     "data": {
      "text/plain": [
       "\"stephanie's offered all the most important things: a warm welcome into a comfortable home; a comfortable bed in a quiet room; fresh & clean towels & blankets; and easy access to manhattan.  finding myself travelling to nyc in the future i feel i already have a open invitation to make home away from home through stephanie's generousity.\""
      ]
     },
     "execution_count": 144,
     "metadata": {},
     "output_type": "execute_result"
    }
   ],
   "source": [
    "flat_df.comments[0]"
   ]
  },
  {
   "cell_type": "code",
   "execution_count": null,
   "metadata": {},
   "outputs": [],
   "source": []
  },
  {
   "cell_type": "code",
   "execution_count": 83,
   "metadata": {},
   "outputs": [
    {
     "data": {
      "image/png": "[encoded data removed]",
      "text/plain": [
       "<Figure size 432x288 with 1 Axes>"
      ]
     },
     "metadata": {
      "needs_background": "light"
     },
     "output_type": "display_data"
    },
    {
     "data": {
      "image/png": "[encoded data removed]",
      "text/plain": [
       "<Figure size 432x288 with 1 Axes>"
      ]
     },
     "metadata": {
      "needs_background": "light"
     },
     "output_type": "display_data"
    }
   ],
   "source": [
    "\n",
    "def center(L):\n",
    "    return [np.mean([a, b]) for (a, b) in zip(L[:-1], L[0:])]\n",
    "\n",
    "nb = 200\n",
    "bw = 3000. / (1*nb)\n",
    "b, e = np.histogram(list(flat_df.comments.apply(lambda x: len(x))), bins=nb, range=(0, 3000))\n",
    "plt.bar(center(e), b, width=bw, lw=0, facecolor = 'navy')\n",
    "plt.xlim(0, 40)\n",
    "plt.xlabel('Review Length (in characters)')\n",
    "plt.ylabel('Count')\n",
    "plt.show()\n",
    "\n",
    "nb = 250\n",
    "bw = 500. / (1*nb)\n",
    "b, e = np.histogram(list(flat_df.comments.apply(lambda x: len(x.split(' ')))), bins=nb, range = (0, 500))\n",
    "plt.bar(center(e), b, width=bw, lw=0, facecolor = 'navy')\n",
    "plt.xlim(0, 100)\n",
    "plt.xlabel('Review Length (in words)')\n",
    "plt.ylabel('Count')\n",
    "plt.show()"
   ]
  },
  {
   "cell_type": "code",
   "execution_count": 109,
   "metadata": {},
   "outputs": [],
   "source": []
  },
  {
   "cell_type": "code",
   "execution_count": 118,
   "metadata": {},
   "outputs": [
    {
     "data": {
      "text/plain": [
       "True"
      ]
     },
     "execution_count": 118,
     "metadata": {},
     "output_type": "execute_result"
    }
   ],
   "source": [
    "'The host canceled my reservation'.lower()[:32] == 'the host canceled my reservation'"
   ]
  },
  {
   "cell_type": "code",
   "execution_count": 148,
   "metadata": {
    "scrolled": false
   },
   "outputs": [
    {
     "name": "stdout",
     "output_type": "stream",
     "text": [
      "The appartment is clean, the bed is good.\n",
      "Wonderfull apt and wonderfull host\n",
      "great location! very nice, clean, roomy, quite place\n",
      "Great apartment!\n",
      "Great hospitality!\n",
      "very nice room so great place\n",
      "Great place to stay.\n",
      "Right place in the right spot! Just go there!\n",
      "Perfect.\n",
      "Nice apartment in a central location!\n",
      "Good location. Good price. Will was responsive and flexible.\n",
      "Had a wonderful stay! Will was very helpful.\n",
      "great stay!\n",
      "It's really good~ he is so nice~\n",
      "Great experience , really big Apartment..\n",
      "great Harlem Appartment!\n",
      "Evrythings good\n",
      "The location gave us ready access to the city.\n",
      "Great place to stay! Great area and great host\n",
      "We had a wonderful time staying here. Thank You.\n",
      "This was a fantastic apartment in a great location.\n",
      "Great for a short trip. Close to subway!\n",
      "Clean, quiet, nicely and creatively decorated.\n",
      "Great location. Quite place in popular place!\n",
      "Great space and wonderful location! Thank you Justin!\n",
      "Great place.\n",
      "Good place to host a large group!\n",
      "Great Clean place, in a perfect location\n",
      "Great apartment in a great location.\n",
      "everything was great\n",
      "Great stay, great host. Would rent again.\n",
      "Seith was responsive to requests.  Thanks Seith!\n",
      "Clean, accurate, great location, big place.\n",
      "Great place.\n",
      "Great place, perfect location. all around great experience\n",
      "Great location, friendly doormen, en-suite bathroom was a bonus!\n",
      "Great apartment, great location! I would definetely recommend it!\n",
      "Nice place, quiet and central location, very nice host\n",
      "Great studio. Perfect location. Would go again.\n",
      "Spacious apartment close to central park!\n",
      "Great place to stay.  I will come back\n",
      "Great people great location!  Fun place to be!\n",
      "Everything was good and clean, we had no problems.\n",
      "Camille is a lovely girl !!\n",
      "Cute, cozy space, excellent address, helpful host: awesome experience!\n",
      "Great accommodating host.\n",
      "Great little apartment in awesome neighborhood.\n",
      "The host canceled my reservation 11 days before arrival.\n",
      "Apartment exactly as described. Check-in was easy. Great location.\n",
      "Great apartment very well located.\n"
     ]
    }
   ],
   "source": [
    "for c in flat_df[flat_df.comments.apply(lambda x: len(x.split(' ')) < 10)]['comments'][500:550]:\n",
    "    print(c)"
   ]
  },
  {
   "cell_type": "code",
   "execution_count": 104,
   "metadata": {},
   "outputs": [
    {
     "name": "stdout",
     "output_type": "stream",
     "text": [
      "Really nice stay, really friendly host!\n",
      "We loved staying here and the LES!\n",
      "Other than a slight miscommunication, everything is superb.\n",
      "Great host, great apartment and fabulous stay in NYC!\n",
      "Great space, very clean and photos were accurate.\n",
      "Great apartment in a cool, lively neighbourhood.\n",
      "Lovely apt! 6th floor walk up.\n",
      "Really friendly and responsive host, and nice place.\n",
      "The apartment was spacious and comfortable.\n",
      "Host was courteous and prompt in assisting our rental.\n",
      "Comfortable, very quiet, and well located.\n",
      "The host canceled my reservation 17 days before arrival.\n",
      "Very welcome host and great place to stay\n",
      "Host, apartment, and neighborhood very nice!\n",
      "Great location, easy access by tube, perfect !\n",
      "Isabel was a great host. Location was perfect!\n",
      "Fabulous location we had a great time!!!!!!!\n",
      "A great place and a fantastic location..\n",
      "The host canceled my reservation 82 days before arrival.\n",
      "Very nice host and great room!\n",
      "Very nice accommodations. Everything was as described.\n",
      "It was great .. Very comfortable\n",
      "Excellent location!  Value for the $.\n",
      "Nothing to say !!! Simply perfect !!!\n",
      "Comfortable and quiet place in nice neighborhood.\n",
      "Great host and good stay. Everything went well\n",
      "Great location, cute place! Had a great time!\n",
      "Great location, great host and clean apartment. Would recommend.\n",
      "Terrific location but noise is big issue.\n",
      "wonderful place!  perfect and comfortable\n",
      "Nice stay. Good cat who makes him understand !\n",
      "The description of the apartment was accurate. No complaints.\n",
      "It was a good place to stay.\n",
      "Great apartment & neighborhood.  Highly recommend!\n",
      "hip neighbourhood with many restaurants and bars\n",
      "The place was great. Thanks a lot!\n",
      "Good Location with a quite big Apartment!\n",
      "The place was clean and tidy.\n",
      "The place was nice and the host response quickly.\n",
      "Recommend. Nice apt and good location.\n",
      "Was great! Sergio is nice and helpful host. Thx!\n",
      "The place is cozy. She is a nice host.\n",
      "Peggy's place was super convenient. I'd definitely stay again.\n",
      "Very Clean Apartment\r\n",
      "\r\n",
      "\r\n",
      "Very Talented Host \r\n",
      "\r\n",
      "\r\n",
      "Very Nice Neighborhood\n",
      "The location is very convenient. Check-in time is flexible.\n",
      "Quiet clean comfortable. Easy to deal with AJ.\n",
      "Great place, great location.  Comfy and clean.\n",
      "Great location. Very clean. A ver good host\n",
      "Great hosts, convenient location by Central Park, quiet room.\n",
      "Great location, great apartment. Will come back again!\n"
     ]
    }
   ],
   "source": [
    "for c in flat_df[flat_df.comments.apply(lambda x: 5 < len(x.split(' ')) < 10)]['comments'][500:550]:\n",
    "    print(c)"
   ]
  },
  {
   "cell_type": "code",
   "execution_count": 103,
   "metadata": {},
   "outputs": [
    {
     "name": "stdout",
     "output_type": "stream",
     "text": [
      "Rahul and his wife are very welcoming.  The location is perfect for Columbia and the neighborhood is safe.\n",
      "It was great to be hosted by Purva's parents in the Columbia's campus.\n",
      "Rahul was a wonderful host! He was very accommodating and made my family's stay in NYC very comfortable.\n",
      "Very good. The room is fine and very quiet. I had a good time staying at the appartment.\n",
      "It was a pleasure staying with Teresa. I really recommend her ! :)\n",
      "Teresa's home was clean and she was accommodating. I would book with her again in the future.\n",
      "Teresa is so nice and I spent a nice and comfortable and safe trip on nyc!\n",
      "Teresa is kind, cultivated, generous and charming and I really liked stayed at her apartment. Highly recommended.\n",
      "This was a great experience !! I highly recommend this option of accommodation in the hearth of Manhattan !!\n",
      "Great location. Everything was as stated in the description. Teresa was very accommodating.\n",
      "Great place to stay on the Upper East Side!  Convenient, clean, and Theresa was very welcoming.\n",
      "Very welcoming, great space. Thank you for your kindness I truly enjoyed my stay.\n",
      "Great location, nice apartment, clear instructions, and good timely communication from the owner.  Recommended.\n",
      "Central location, close to everything, totally what we expected. \r\n",
      "Easy walking access to public transportation.\r\n",
      "I will come back !!\n",
      "Sheri is really friendly and thoughtful. She made us feel at home and we appreciated her warm welcome.\n",
      "It was very comfortabel! Everything was very clean! We would definitely recommend this Airbnb! Thank you :)\n",
      "She was an absolute fantastic host and allowed my girlfriend and I to have an amazing experience. Beautiful room.\n",
      "Sheri is great! The room, beautiful and clean, neighbour peaceful. I loved my days in Harlem!\n",
      "Sheri is a wonderful host.  Her apartment is very cozy and extremely clean.\n",
      "I extended my stay with Sheri. Please read my other review! :)\n",
      "The stay was exactly as it was advertised. Fantastic place, very clean and comfortable. Would stay again!\n",
      "The reservation was canceled 33 days before arrival. This is an automated posting.\n",
      "Great! I was feeling unwell, so erina was nice and left me to my own devices!\n",
      "Great location, simple room with a cozy double bed, nice host.\n",
      "Great location!! Room a lit bit noisy... Erina was very discrete, we did not see her very much.\n",
      "Alina was very nice and her cat too.\n",
      "Room and area as described.\n",
      "Clean, comfortable, and conveniently located!  WIFI works perfectly.  Great host and a\r\n",
      "friendly kitty too!\n",
      "The apartment was OK for that value of money. The biggest advantage its  position near the center!\n",
      "Erina was really great! Loved the room - it's in a great location.\n",
      "The reservation was canceled the day before arrival. This is an automated posting.\n",
      "She was nice and helpfully, I didn't see her too much, but everything ok.\n",
      "We had a great time in a great neighborhood! Erina was very nice, and we hardly ever saw her.\n",
      "Alina's place is a great option, it's cheap and in a good location.\n",
      "It was a nice/clean place to stay with helpful host and great location.\n",
      "Erina was great with communication, flexible with meeting up and overall a fantastic host.\n",
      "great location,Lee although not their made sure all arrangements were met,enjoyed my stay.\n",
      "Very nice and clean apartment at a perfect location. Lee was very hospitable, thanx for staying!\n",
      "The reservation was canceled 63 days before arrival. This is an automated posting.\n",
      "Great stay! Everything as described. All clean and uncomplicated. Great neighborhood. See you next time, Lee and Nadav\n",
      "Apartment was really, really nice. Location was fantastic with a really cute wine bar and several restaurants nearby\n",
      "Very nice & comfortable room. The location is simply great. I really enjoyed my stay!\n",
      "Perfect stay and great apartment. Thank you Lee, would definitively recommend it.\n",
      "All was great, super well located and super hosts. I recommend Lee as guest for sure.\n",
      "Lee's place is comfortable, convenient and quiet. Just what I needed.\n",
      "Very nice flat and comfortable bedroom, and the location is absolutely great !\n",
      "Lee's apartment is cozy and very convenient for everywhere! Highly recommend for a stay here when visiting New York!\n",
      "Our stay at Lee's home was great! If we visit New York again we will repeat with Lee. :-)\n",
      "Lee was a tremendous host and I would most definitely look to rent his space, upon my next visit.\n",
      "Great Location, awesome apartment, wonderful host! We had a blast staying in East Village!\n",
      "The place is clean and neat. Lee is helpful. The room is exactly like the profile shown here.\n"
     ]
    }
   ],
   "source": [
    "for c in flat_df[flat_df.comments.apply(lambda x: 10 < len(x.split(' ')) < 20)]['comments'][500:550]:\n",
    "    print(c)"
   ]
  },
  {
   "cell_type": "code",
   "execution_count": null,
   "metadata": {},
   "outputs": [],
   "source": []
  },
  {
   "cell_type": "code",
   "execution_count": 88,
   "metadata": {
    "scrolled": false
   },
   "outputs": [
    {
     "name": "stdout",
     "output_type": "stream",
     "text": [
      "70769           Ok. Room as described.\n",
      "70783     Joe is great host. Approved.\n",
      "70896           Thanks for everything!\n",
      "71067       It's so nice to live here.\n",
      "71090          Nice and attentive host\n",
      "71126                 perfect location\n",
      "71227               I had a great time\n",
      "71254                     Great place!\n",
      "71301                  Pretty awesome!\n",
      "71323      Jo is very nice and helpful\n",
      "71337    Joe is super nice and helpful\n",
      "71340             Home away from Home.\n",
      "71370                            Great\n",
      "71409            Evrerything was there\n",
      "71472                      GREAT!!!!!!\n",
      "71474                 I ❤️ this place!\n",
      "71500                  Pretty accurate\n",
      "71505       Perfect Location and Host.\n",
      "71545          Joe was a gracious host\n",
      "71573                  Had a nice stay\n",
      "71589                      Great host!\n",
      "71623         It's nice place to stay.\n",
      "71626       Jj is friendly and helpful\n",
      "71638         Great host . Nice place.\n",
      "71676                      Great place\n",
      "71718            Nice and communicable\n",
      "71754    BEST PLACE IVE EVER STAYED!!!\n",
      "71794      Jj was helpful and friendly\n",
      "71845        Staying at JJ's was solid\n",
      "71886           Nice guy, comfort stay\n",
      "71953                     Es war super\n",
      "72058              Wonderful place :)!\n",
      "72156           Wonderful, great place\n",
      "72284                Right as expected\n",
      "72341     Everything was great, thanks\n",
      "72464                    good location\n",
      "72546                        Great !!!\n",
      "72580                          Perfect\n",
      "72734     Great experience, as always!\n",
      "72863               Very nice location\n",
      "73025                Very good choice~\n",
      "73112      Thanks for an awesome stay!\n",
      "73609                Really nice stay!\n",
      "74013                         Perfect!\n",
      "74033     Fits the description to a T!\n",
      "74163                       was great.\n",
      "74712     Best man cave there is in NY\n",
      "75292      Awesome place nice and cozy\n",
      "75478                 Wonderful place!\n",
      "75592                   Very welcoming\n",
      "Name: comments, dtype: object\n"
     ]
    }
   ],
   "source": [
    "print(flat_df[flat_df.comments.apply(lambda x: len(x) < 20)].comments[500:550])"
   ]
  },
  {
   "cell_type": "code",
   "execution_count": 167,
   "metadata": {},
   "outputs": [
    {
     "data": {
      "text/plain": [
       "0              9193\n",
       "1             26718\n",
       "3            185050\n",
       "4            456184\n",
       "5            351855\n",
       "            ...    \n",
       "325677    108482018\n",
       "325678     43662901\n",
       "325679     28703397\n",
       "325680     25112195\n",
       "325681     16637631\n",
       "Name: user_id, Length: 280476, dtype: int64"
      ]
     },
     "execution_count": 167,
     "metadata": {},
     "output_type": "execute_result"
    }
   ],
   "source": [
    "flat_df.user_id"
   ]
  },
  {
   "cell_type": "code",
   "execution_count": 168,
   "metadata": {},
   "outputs": [
    {
     "name": "stderr",
     "output_type": "stream",
     "text": [
      "/Users/bennett/anaconda3/envs/airbnb_p3/lib/python3.7/site-packages/pandas/core/generic.py:5208: SettingWithCopyWarning: \n",
      "A value is trying to be set on a copy of a slice from a DataFrame.\n",
      "Try using .loc[row_indexer,col_indexer] = value instead\n",
      "\n",
      "See the caveats in the documentation: http://pandas.pydata.org/pandas-docs/stable/user_guide/indexing.html#returning-a-view-versus-a-copy\n",
      "  self[name] = value\n"
     ]
    }
   ],
   "source": [
    "flat_df_newclean = flat_df[flat_df.comments.apply(lambda x: len(x.split(' ')) >= 10)]\n",
    "flat_df_newclean.comments = flat_df_newclean.comments.apply(lambda x: x.lower())\n",
    "flat_df_newclean.comments = flat_df_newclean.comments.apply(lambda x: x.replace('\\n', ' '))\n",
    "flat_df_newclean.comments = flat_df_newclean.comments.apply(lambda x: x.replace('\\r', ' '))"
   ]
  },
  {
   "cell_type": "code",
   "execution_count": 169,
   "metadata": {},
   "outputs": [],
   "source": [
    "pickle_name = datadir + 'flat_df_newclean.pkl'\n",
    "with open(pickle_name, 'wb') as pickle_file:\n",
    "    pickle.dump(flat_df, pickle_file)"
   ]
  },
  {
   "cell_type": "code",
   "execution_count": 170,
   "metadata": {
    "scrolled": true
   },
   "outputs": [
    {
     "data": {
      "text/html": [
       "<div>\n",
       "<style scoped>\n",
       "    .dataframe tbody tr th:only-of-type {\n",
       "        vertical-align: middle;\n",
       "    }\n",
       "\n",
       "    .dataframe tbody tr th {\n",
       "        vertical-align: top;\n",
       "    }\n",
       "\n",
       "    .dataframe thead th {\n",
       "        text-align: right;\n",
       "    }\n",
       "</style>\n",
       "<table border=\"1\" class=\"dataframe\">\n",
       "  <thead>\n",
       "    <tr style=\"text-align: right;\">\n",
       "      <th></th>\n",
       "      <th>listing_id</th>\n",
       "      <th>host_name</th>\n",
       "      <th>user_id</th>\n",
       "      <th>comments</th>\n",
       "    </tr>\n",
       "  </thead>\n",
       "  <tbody>\n",
       "    <tr>\n",
       "      <td>0</td>\n",
       "      <td>2515</td>\n",
       "      <td>18180    Mizi\n",
       "Name: host_name, dtype: object</td>\n",
       "      <td>9193</td>\n",
       "      <td>stephanie's offered all the most important thi...</td>\n",
       "    </tr>\n",
       "    <tr>\n",
       "      <td>3</td>\n",
       "      <td>2515</td>\n",
       "      <td>18180    Mizi\n",
       "Name: host_name, dtype: object</td>\n",
       "      <td>185050</td>\n",
       "      <td>we stayed at the 111th street apartment with s...</td>\n",
       "    </tr>\n",
       "    <tr>\n",
       "      <td>4</td>\n",
       "      <td>2515</td>\n",
       "      <td>18180    Mizi\n",
       "Name: host_name, dtype: object</td>\n",
       "      <td>456184</td>\n",
       "      <td>very conveniently located just north of centra...</td>\n",
       "    </tr>\n",
       "    <tr>\n",
       "      <td>5</td>\n",
       "      <td>2515</td>\n",
       "      <td>18180    Mizi\n",
       "Name: host_name, dtype: object</td>\n",
       "      <td>351855</td>\n",
       "      <td>we had a great stay with stephanie and her fam...</td>\n",
       "    </tr>\n",
       "    <tr>\n",
       "      <td>6</td>\n",
       "      <td>2515</td>\n",
       "      <td>18180    Mizi\n",
       "Name: host_name, dtype: object</td>\n",
       "      <td>363433</td>\n",
       "      <td>we stayed at the chez chic budget room for a w...</td>\n",
       "    </tr>\n",
       "    <tr>\n",
       "      <td>...</td>\n",
       "      <td>...</td>\n",
       "      <td>...</td>\n",
       "      <td>...</td>\n",
       "      <td>...</td>\n",
       "    </tr>\n",
       "    <tr>\n",
       "      <td>325676</td>\n",
       "      <td>18413899</td>\n",
       "      <td>3959    Alexa\n",
       "Name: host_name, dtype: object</td>\n",
       "      <td>127641350</td>\n",
       "      <td>excellent location, comfy bed, and privacy. ho...</td>\n",
       "    </tr>\n",
       "    <tr>\n",
       "      <td>325678</td>\n",
       "      <td>18423403</td>\n",
       "      <td>8153    Shannon\n",
       "Name: host_name, dtype: object</td>\n",
       "      <td>43662901</td>\n",
       "      <td>great experience! apartment was clean and tidy...</td>\n",
       "    </tr>\n",
       "    <tr>\n",
       "      <td>325679</td>\n",
       "      <td>18426417</td>\n",
       "      <td>18049    Margarita\n",
       "Name: host_name, dtype: object</td>\n",
       "      <td>28703397</td>\n",
       "      <td>margarita is the perfect host. we very much en...</td>\n",
       "    </tr>\n",
       "    <tr>\n",
       "      <td>325680</td>\n",
       "      <td>18443436</td>\n",
       "      <td>16467    Clara\n",
       "Name: host_name, dtype: object</td>\n",
       "      <td>25112195</td>\n",
       "      <td>clara is a great person, the place below the h...</td>\n",
       "    </tr>\n",
       "    <tr>\n",
       "      <td>325681</td>\n",
       "      <td>18491399</td>\n",
       "      <td>19420    Jerry\n",
       "Name: host_name, dtype: object</td>\n",
       "      <td>16637631</td>\n",
       "      <td>jerry was a great host! the linens were clean,...</td>\n",
       "    </tr>\n",
       "  </tbody>\n",
       "</table>\n",
       "<p>265954 rows × 4 columns</p>\n",
       "</div>"
      ],
      "text/plain": [
       "        listing_id                                          host_name  \\\n",
       "0             2515       18180    Mizi\n",
       "Name: host_name, dtype: object   \n",
       "3             2515       18180    Mizi\n",
       "Name: host_name, dtype: object   \n",
       "4             2515       18180    Mizi\n",
       "Name: host_name, dtype: object   \n",
       "5             2515       18180    Mizi\n",
       "Name: host_name, dtype: object   \n",
       "6             2515       18180    Mizi\n",
       "Name: host_name, dtype: object   \n",
       "...            ...                                                ...   \n",
       "325676    18413899       3959    Alexa\n",
       "Name: host_name, dtype: object   \n",
       "325678    18423403     8153    Shannon\n",
       "Name: host_name, dtype: object   \n",
       "325679    18426417  18049    Margarita\n",
       "Name: host_name, dtype: object   \n",
       "325680    18443436      16467    Clara\n",
       "Name: host_name, dtype: object   \n",
       "325681    18491399      19420    Jerry\n",
       "Name: host_name, dtype: object   \n",
       "\n",
       "          user_id                                           comments  \n",
       "0            9193  stephanie's offered all the most important thi...  \n",
       "3          185050  we stayed at the 111th street apartment with s...  \n",
       "4          456184  very conveniently located just north of centra...  \n",
       "5          351855  we had a great stay with stephanie and her fam...  \n",
       "6          363433  we stayed at the chez chic budget room for a w...  \n",
       "...           ...                                                ...  \n",
       "325676  127641350  excellent location, comfy bed, and privacy. ho...  \n",
       "325678   43662901  great experience! apartment was clean and tidy...  \n",
       "325679   28703397  margarita is the perfect host. we very much en...  \n",
       "325680   25112195  clara is a great person, the place below the h...  \n",
       "325681   16637631  jerry was a great host! the linens were clean,...  \n",
       "\n",
       "[265954 rows x 4 columns]"
      ]
     },
     "execution_count": 170,
     "metadata": {},
     "output_type": "execute_result"
    }
   ],
   "source": [
    "flat_df_newclean"
   ]
  },
  {
   "cell_type": "code",
   "execution_count": 171,
   "metadata": {},
   "outputs": [],
   "source": [
    "fdf_listing_ids = np.unique(flat_df_newclean.listing_id)\n",
    "fdf_user_ids = np.unique(flat_df_newclean.user_id)"
   ]
  },
  {
   "cell_type": "code",
   "execution_count": 173,
   "metadata": {},
   "outputs": [
    {
     "data": {
      "text/plain": [
       "0              9193\n",
       "3            185050\n",
       "4            456184\n",
       "5            351855\n",
       "6            363433\n",
       "            ...    \n",
       "325676    127641350\n",
       "325678     43662901\n",
       "325679     28703397\n",
       "325680     25112195\n",
       "325681     16637631\n",
       "Name: user_id, Length: 265954, dtype: int64"
      ]
     },
     "execution_count": 173,
     "metadata": {},
     "output_type": "execute_result"
    }
   ],
   "source": [
    "flat_df_newclean.user_id"
   ]
  },
  {
   "cell_type": "code",
   "execution_count": 452,
   "metadata": {},
   "outputs": [
    {
     "data": {
      "text/plain": [
       "(14447,)"
      ]
     },
     "execution_count": 452,
     "metadata": {},
     "output_type": "execute_result"
    }
   ],
   "source": [
    "fdf_listing_ids.shape"
   ]
  },
  {
   "cell_type": "code",
   "execution_count": 175,
   "metadata": {},
   "outputs": [
    {
     "name": "stdout",
     "output_type": "stream",
     "text": [
      "(265954, 4)\n"
     ]
    }
   ],
   "source": [
    "# get the number of reviews for every listing\n",
    "# plot the distribution\n",
    "\n",
    "n_revs_per_listing= np.zeros((len(fdf_listing_ids)))\n",
    "n_revs_per_user= np.zeros((len(fdf_user_ids)))\n",
    "\n",
    "print(flat_df_newclean.shape)\n",
    "for ilist, lid in enumerate(fdf_listing_ids):\n",
    "    n_revs_per_listing[ilist] = flat_df_newclean[flat_df_newclean.listing_id==lid].shape[0]\n",
    "for iuid, uid in enumerate(fdf_user_ids):\n",
    "    n_revs_per_user[iuid] = flat_df_newclean[flat_df_newclean.user_id == uid].shape[0]\n"
   ]
  },
  {
   "cell_type": "code",
   "execution_count": 197,
   "metadata": {},
   "outputs": [
    {
     "data": {
      "text/plain": [
       "41.0"
      ]
     },
     "execution_count": 197,
     "metadata": {},
     "output_type": "execute_result"
    }
   ],
   "source": [
    "n_revs_per_user.max()"
   ]
  },
  {
   "cell_type": "code",
   "execution_count": 241,
   "metadata": {},
   "outputs": [
    {
     "data": {
      "image/png": "[encoded data removed]",
      "text/plain": [
       "<Figure size 432x288 with 1 Axes>"
      ]
     },
     "metadata": {
      "needs_background": "light"
     },
     "output_type": "display_data"
    },
    {
     "data": {
      "image/png": "[encoded data removed]",
      "text/plain": [
       "<Figure size 432x288 with 1 Axes>"
      ]
     },
     "metadata": {
      "needs_background": "light"
     },
     "output_type": "display_data"
    },
    {
     "data": {
      "image/png": "[encoded data removed]",
      "text/plain": [
       "<Figure size 432x288 with 1 Axes>"
      ]
     },
     "metadata": {
      "needs_background": "light"
     },
     "output_type": "display_data"
    }
   ],
   "source": [
    "b_rpl, e_rpl = np.histogram(n_revs_per_listing, bins=360, range = (0, 360))\n",
    "b_rpu, e_rpu = np.histogram(n_revs_per_user, bins = 50, range=(0, 50))\n",
    "plt.bar(e_rpl[1:], b_rpl)\n",
    "plt.ylim((0, 1600))\n",
    "plt.xlim((0, 150))\n",
    "plt.ylabel('Count', fontsize = 14)\n",
    "plt.xlabel('Number of Reviews for every Listing', fontsize = 14)\n",
    "plt.show()\n",
    "\n",
    "plt.bar(e_rpu[:-1], b_rpu)\n",
    "plt.xlim(0, 20)\n",
    "plt.ylim()\n",
    "plt.xticks(range(20))\n",
    "plt.ylabel('Count', fontsize = 14)\n",
    "plt.xlabel('Number of Reviews for every User', fontsize = 14)\n",
    "plt.show()\n",
    "\n",
    "plt.bar(e_rpu[:-1], b_rpu)\n",
    "plt.xlim(1.5, 10)\n",
    "plt.ylim((0, 15000))\n",
    "plt.xticks(range(2, 10))\n",
    "plt.ylabel('Count', fontsize = 14)\n",
    "plt.xlabel('Number of Reviews for every User', fontsize = 14)\n",
    "plt.show()"
   ]
  },
  {
   "cell_type": "code",
   "execution_count": 258,
   "metadata": {},
   "outputs": [
    {
     "name": "stdout",
     "output_type": "stream",
     "text": [
      "Number of listings in NYC: 14447\n",
      "Number of listings with at least 10 reviews: 6370\n",
      "\n",
      "\n",
      "mean reviews per listing: 18.408943033155673\n",
      "stdev reviews per listing: 28.060631538354368\n",
      "median reviews per listing: 7.0\n"
     ]
    }
   ],
   "source": [
    "print('Number of listings in NYC:', len(fdf_listing_ids))\n",
    "print('Number of listings with at least 10 reviews:', len(n_revs_per_listing[n_revs_per_listing >= 10]))\n",
    "print('\\n')\n",
    "print('mean reviews per listing:', n_revs_per_listing.mean())\n",
    "print('stdev reviews per listing:', np.std(n_revs_per_listing)),\n",
    "print('median reviews per listing:', np.median(n_revs_per_listing))\n"
   ]
  },
  {
   "cell_type": "code",
   "execution_count": 262,
   "metadata": {},
   "outputs": [
    {
     "name": "stdout",
     "output_type": "stream",
     "text": [
      "Number of reviewers who have more than 1 review: 14773\n",
      "Proportion of reviewers who have more than 1 review: 0.05999\n"
     ]
    }
   ],
   "source": [
    "\n",
    "print('Number of reviewers who have more than 1 review:', len(n_revs_per_user[n_revs_per_user >= 2]))\n",
    "print('Proportion of reviewers who have more than 1 review:', \n",
    "      round(len(n_revs_per_user[n_revs_per_user >= 2]) / len(n_revs_per_user), 5))\n"
   ]
  },
  {
   "cell_type": "code",
   "execution_count": 281,
   "metadata": {},
   "outputs": [
    {
     "ename": "AttributeError",
     "evalue": "'str' object has no attribute 'values'",
     "output_type": "error",
     "traceback": [
      "\u001b[0;31m---------------------------------------------------------------------------\u001b[0m",
      "\u001b[0;31mAttributeError\u001b[0m                            Traceback (most recent call last)",
      "\u001b[0;32m<ipython-input-281-d6af3376f07c>\u001b[0m in \u001b[0;36m<module>\u001b[0;34m\u001b[0m\n\u001b[0;32m----> 1\u001b[0;31m \u001b[0mflat_df_newclean\u001b[0m\u001b[0;34m.\u001b[0m\u001b[0mhost_name\u001b[0m \u001b[0;34m=\u001b[0m \u001b[0mflat_df_newclean\u001b[0m\u001b[0;34m.\u001b[0m\u001b[0mhost_name\u001b[0m\u001b[0;34m.\u001b[0m\u001b[0mapply\u001b[0m\u001b[0;34m(\u001b[0m\u001b[0;32mlambda\u001b[0m \u001b[0mx\u001b[0m\u001b[0;34m:\u001b[0m \u001b[0mx\u001b[0m\u001b[0;34m.\u001b[0m\u001b[0mvalues\u001b[0m\u001b[0;34m[\u001b[0m\u001b[0;36m0\u001b[0m\u001b[0;34m]\u001b[0m\u001b[0;34m)\u001b[0m\u001b[0;34m\u001b[0m\u001b[0;34m\u001b[0m\u001b[0m\n\u001b[0m",
      "\u001b[0;32m~/anaconda3/envs/airbnb_p3/lib/python3.7/site-packages/pandas/core/series.py\u001b[0m in \u001b[0;36mapply\u001b[0;34m(self, func, convert_dtype, args, **kwds)\u001b[0m\n\u001b[1;32m   4040\u001b[0m             \u001b[0;32melse\u001b[0m\u001b[0;34m:\u001b[0m\u001b[0;34m\u001b[0m\u001b[0;34m\u001b[0m\u001b[0m\n\u001b[1;32m   4041\u001b[0m                 \u001b[0mvalues\u001b[0m \u001b[0;34m=\u001b[0m \u001b[0mself\u001b[0m\u001b[0;34m.\u001b[0m\u001b[0mastype\u001b[0m\u001b[0;34m(\u001b[0m\u001b[0mobject\u001b[0m\u001b[0;34m)\u001b[0m\u001b[0;34m.\u001b[0m\u001b[0mvalues\u001b[0m\u001b[0;34m\u001b[0m\u001b[0;34m\u001b[0m\u001b[0m\n\u001b[0;32m-> 4042\u001b[0;31m                 \u001b[0mmapped\u001b[0m \u001b[0;34m=\u001b[0m \u001b[0mlib\u001b[0m\u001b[0;34m.\u001b[0m\u001b[0mmap_infer\u001b[0m\u001b[0;34m(\u001b[0m\u001b[0mvalues\u001b[0m\u001b[0;34m,\u001b[0m \u001b[0mf\u001b[0m\u001b[0;34m,\u001b[0m \u001b[0mconvert\u001b[0m\u001b[0;34m=\u001b[0m\u001b[0mconvert_dtype\u001b[0m\u001b[0;34m)\u001b[0m\u001b[0;34m\u001b[0m\u001b[0;34m\u001b[0m\u001b[0m\n\u001b[0m\u001b[1;32m   4043\u001b[0m \u001b[0;34m\u001b[0m\u001b[0m\n\u001b[1;32m   4044\u001b[0m         \u001b[0;32mif\u001b[0m \u001b[0mlen\u001b[0m\u001b[0;34m(\u001b[0m\u001b[0mmapped\u001b[0m\u001b[0;34m)\u001b[0m \u001b[0;32mand\u001b[0m \u001b[0misinstance\u001b[0m\u001b[0;34m(\u001b[0m\u001b[0mmapped\u001b[0m\u001b[0;34m[\u001b[0m\u001b[0;36m0\u001b[0m\u001b[0;34m]\u001b[0m\u001b[0;34m,\u001b[0m \u001b[0mSeries\u001b[0m\u001b[0;34m)\u001b[0m\u001b[0;34m:\u001b[0m\u001b[0;34m\u001b[0m\u001b[0;34m\u001b[0m\u001b[0m\n",
      "\u001b[0;32mpandas/_libs/lib.pyx\u001b[0m in \u001b[0;36mpandas._libs.lib.map_infer\u001b[0;34m()\u001b[0m\n",
      "\u001b[0;32m<ipython-input-281-d6af3376f07c>\u001b[0m in \u001b[0;36m<lambda>\u001b[0;34m(x)\u001b[0m\n\u001b[0;32m----> 1\u001b[0;31m \u001b[0mflat_df_newclean\u001b[0m\u001b[0;34m.\u001b[0m\u001b[0mhost_name\u001b[0m \u001b[0;34m=\u001b[0m \u001b[0mflat_df_newclean\u001b[0m\u001b[0;34m.\u001b[0m\u001b[0mhost_name\u001b[0m\u001b[0;34m.\u001b[0m\u001b[0mapply\u001b[0m\u001b[0;34m(\u001b[0m\u001b[0;32mlambda\u001b[0m \u001b[0mx\u001b[0m\u001b[0;34m:\u001b[0m \u001b[0mx\u001b[0m\u001b[0;34m.\u001b[0m\u001b[0mvalues\u001b[0m\u001b[0;34m[\u001b[0m\u001b[0;36m0\u001b[0m\u001b[0;34m]\u001b[0m\u001b[0;34m)\u001b[0m\u001b[0;34m\u001b[0m\u001b[0;34m\u001b[0m\u001b[0m\n\u001b[0m",
      "\u001b[0;31mAttributeError\u001b[0m: 'str' object has no attribute 'values'"
     ]
    }
   ],
   "source": [
    "flat_df_newclean.host_name = flat_df_newclean.host_name.apply(lambda x: x.values[0])"
   ]
  },
  {
   "cell_type": "code",
   "execution_count": 286,
   "metadata": {
    "scrolled": false
   },
   "outputs": [
    {
     "data": {
      "text/plain": [
       "'Mizi'"
      ]
     },
     "execution_count": 286,
     "metadata": {},
     "output_type": "execute_result"
    }
   ],
   "source": [
    "list_of_host_names[1]"
   ]
  },
  {
   "cell_type": "code",
   "execution_count": 293,
   "metadata": {},
   "outputs": [
    {
     "ename": "TypeError",
     "evalue": "replace() argument 1 must be str, not float",
     "output_type": "error",
     "traceback": [
      "\u001b[0;31m---------------------------------------------------------------------------\u001b[0m",
      "\u001b[0;31mTypeError\u001b[0m                                 Traceback (most recent call last)",
      "\u001b[0;32m<ipython-input-293-058f146ba1fc>\u001b[0m in \u001b[0;36m<module>\u001b[0;34m\u001b[0m\n\u001b[1;32m      4\u001b[0m     \u001b[0mname\u001b[0m \u001b[0;34m=\u001b[0m \u001b[0mflat_df_newclean\u001b[0m\u001b[0;34m.\u001b[0m\u001b[0mhost_name\u001b[0m\u001b[0;34m.\u001b[0m\u001b[0miloc\u001b[0m\u001b[0;34m[\u001b[0m\u001b[0mic\u001b[0m\u001b[0;34m]\u001b[0m\u001b[0;34m\u001b[0m\u001b[0;34m\u001b[0m\u001b[0m\n\u001b[1;32m      5\u001b[0m     \u001b[0;32mif\u001b[0m \u001b[0mname\u001b[0m \u001b[0;32mis\u001b[0m \u001b[0;32mnot\u001b[0m \u001b[0mnp\u001b[0m\u001b[0;34m.\u001b[0m\u001b[0mnan\u001b[0m\u001b[0;34m:\u001b[0m\u001b[0;34m\u001b[0m\u001b[0;34m\u001b[0m\u001b[0m\n\u001b[0;32m----> 6\u001b[0;31m         \u001b[0mflat_df_HOST_NAME\u001b[0m\u001b[0;34m.\u001b[0m\u001b[0mcomments\u001b[0m\u001b[0;34m.\u001b[0m\u001b[0miloc\u001b[0m\u001b[0;34m[\u001b[0m\u001b[0mic\u001b[0m\u001b[0;34m]\u001b[0m\u001b[0;34m=\u001b[0m\u001b[0mflat_df_newclean\u001b[0m\u001b[0;34m.\u001b[0m\u001b[0mcomments\u001b[0m\u001b[0;34m.\u001b[0m\u001b[0miloc\u001b[0m\u001b[0;34m[\u001b[0m\u001b[0mic\u001b[0m\u001b[0;34m]\u001b[0m\u001b[0;34m.\u001b[0m\u001b[0mreplace\u001b[0m\u001b[0;34m(\u001b[0m\u001b[0mname\u001b[0m\u001b[0;34m,\u001b[0m \u001b[0;34m'HOST_NAME'\u001b[0m\u001b[0;34m)\u001b[0m\u001b[0;34m\u001b[0m\u001b[0;34m\u001b[0m\u001b[0m\n\u001b[0m",
      "\u001b[0;31mTypeError\u001b[0m: replace() argument 1 must be str, not float"
     ]
    }
   ],
   "source": [
    "flat_df_newclean.comments.fillna('')\n",
    "flat_df_HOST_NAME = deepcopy(flat_df_newclean)\n",
    "for ic, c in enumerate(flat_df_newclean.comments):\n",
    "    name = flat_df_newclean.host_name.iloc[ic]\n",
    "    if name is not np.nan:\n",
    "        flat_df_HOST_NAME.comments.iloc[ic]=flat_df_newclean.comments.iloc[ic].replace(name, 'HOST_NAME')"
   ]
  },
  {
   "cell_type": "code",
   "execution_count": 299,
   "metadata": {},
   "outputs": [
    {
     "data": {
      "text/plain": [
       "'Roee'"
      ]
     },
     "execution_count": 299,
     "metadata": {},
     "output_type": "execute_result"
    }
   ],
   "source": [
    "list(flat_df_HOST_NAME.host_name)[14125]"
   ]
  },
  {
   "cell_type": "code",
   "execution_count": 263,
   "metadata": {},
   "outputs": [],
   "source": [
    "test = flat_df_newclean.host_name[0]"
   ]
  },
  {
   "cell_type": "code",
   "execution_count": 278,
   "metadata": {},
   "outputs": [
    {
     "data": {
      "text/plain": [
       "0         stephanie's offered all the most important thi...\n",
       "3         we stayed at the 111th street apartment with s...\n",
       "4         very conveniently located just north of centra...\n",
       "5         we had a great stay with stephanie and her fam...\n",
       "6         we stayed at the chez chic budget room for a w...\n",
       "                                ...                        \n",
       "325676    excellent location, comfy bed, and privacy. ho...\n",
       "325678    great experience! apartment was clean and tidy...\n",
       "325679    margarita is the perfect host. we very much en...\n",
       "325680    clara is a great person, the place below the h...\n",
       "325681    jerry was a great host! the linens were clean,...\n",
       "Name: comments, Length: 265954, dtype: object"
      ]
     },
     "execution_count": 278,
     "metadata": {},
     "output_type": "execute_result"
    }
   ],
   "source": [
    "flat_df_newclean.comments"
   ]
  },
  {
   "cell_type": "code",
   "execution_count": 300,
   "metadata": {},
   "outputs": [
    {
     "data": {
      "text/plain": [
       "'Doti'"
      ]
     },
     "execution_count": 300,
     "metadata": {},
     "output_type": "execute_result"
    }
   ],
   "source": [
    "flat_df_newclean.host_name.iloc[1123]"
   ]
  },
  {
   "cell_type": "code",
   "execution_count": 301,
   "metadata": {},
   "outputs": [],
   "source": [
    "pickle_name = datadir + 'flat_df_newclean.pkl'\n",
    "with open(pickle_name, 'wb') as pickle_file:\n",
    "    pickle.dump(flat_df_newclean, pickle_file)"
   ]
  },
  {
   "cell_type": "code",
   "execution_count": 302,
   "metadata": {},
   "outputs": [],
   "source": [
    "pickle_name = datadir + 'flat_df_newclean_HOST_NAME.pkl'\n",
    "with open(pickle_name, 'wb') as pickle_file:\n",
    "    pickle.dump(flat_df_HOST_NAME, pickle_file)"
   ]
  },
  {
   "cell_type": "code",
   "execution_count": 303,
   "metadata": {},
   "outputs": [
    {
     "data": {
      "text/plain": [
       "'../../Desktop/Insight Project/airbnb/pickles/flat_df_newclean_HOST_NAME.pkl'"
      ]
     },
     "execution_count": 303,
     "metadata": {},
     "output_type": "execute_result"
    }
   ],
   "source": [
    "datadir +'flat_df_newclean_HOST_NAME.pkl'"
   ]
  },
  {
   "cell_type": "code",
   "execution_count": 341,
   "metadata": {},
   "outputs": [
    {
     "data": {
      "text/plain": [
       "265954"
      ]
     },
     "execution_count": 341,
     "metadata": {},
     "output_type": "execute_result"
    }
   ],
   "source": []
  },
  {
   "cell_type": "code",
   "execution_count": 310,
   "metadata": {},
   "outputs": [
    {
     "name": "stdout",
     "output_type": "stream",
     "text": [
      "Loaded File\n",
      "Made Corpus\n",
      "finished lda model, n=4 topics\n",
      "Loaded File\n",
      "Made Corpus\n",
      "finished lda model, n=7 topics\n",
      "Loaded File\n",
      "Made Corpus\n",
      "finished lda model, n=10 topics\n"
     ]
    }
   ],
   "source": [
    "lda04, topics04, corpus04, dictionary04 =  extract_topic_vectors(datadir+'flat_df_newclean_HOST_NAME.pkl',\n",
    "                                                             tf_idf = False, n_topics=4,\n",
    "                                                              no_below = 1000, no_above = .5)\n",
    "print('finished lda model, n=4 topics')\n",
    "\n",
    "lda07, topics07, corpus07, dictionary07 =  extract_topic_vectors(datadir+'flat_df_newclean_HOST_NAME.pkl',\n",
    "                                                             tf_idf = False, n_topics=7,\n",
    "                                                              no_below = 1000, no_above = .5)\n",
    "print('finished lda model, n=7 topics')\n",
    "\n",
    "lda10, topics10, corpus10, dictionary10 =  extract_topic_vectors(datadir+'flat_df_newclean_HOST_NAME.pkl',\n",
    "                                                             tf_idf = False, n_topics=10,\n",
    "                                                              no_below = 1000, no_above = .5)\n",
    "print('finished lda model, n=10 topics')"
   ]
  },
  {
   "cell_type": "code",
   "execution_count": 314,
   "metadata": {},
   "outputs": [
    {
     "name": "stdout",
     "output_type": "stream",
     "text": [
      "(0, '0.044*\"place\" + 0.032*\"locat\" + 0.031*\"apart\" + 0.030*\"host\" + 0.022*\"recommend\" + 0.020*\"clean\" + 0.019*\"love\" + 0.016*\"comfort\" + 0.016*\"perfect\" + 0.013*\"amaz\"') \n",
      "\n",
      "(1, '0.035*\"room\" + 0.031*\"nice\" + 0.023*\"place\" + 0.020*\"good\" + 0.018*\"apart\" + 0.017*\"clean\" + 0.017*\"locat\" + 0.013*\"bathroom\" + 0.011*\"like\" + 0.011*\"night\"') \n",
      "\n",
      "(2, '0.045*\"apart\" + 0.031*\"locat\" + 0.028*\"subway\" + 0.024*\"walk\" + 0.021*\"place\" + 0.020*\"close\" + 0.019*\"restaur\" + 0.017*\"easi\" + 0.016*\"clean\" + 0.015*\"park\"') \n",
      "\n",
      "(3, '0.033*\"apart\" + 0.028*\"place\" + 0.027*\"check\" + 0.024*\"time\" + 0.020*\"locat\" + 0.019*\"clean\" + 0.019*\"host\" + 0.014*\"arriv\" + 0.014*\"help\" + 0.013*\"need\"') \n",
      "\n",
      "\n",
      "\n",
      "(0, '0.025*\"place\" + 0.023*\"room\" + 0.021*\"time\" + 0.015*\"host\" + 0.015*\"check\" + 0.015*\"arriv\" + 0.014*\"clean\" + 0.013*\"apart\" + 0.013*\"night\" + 0.011*\"leav\"') \n",
      "\n",
      "(1, '0.037*\"apart\" + 0.030*\"place\" + 0.026*\"locat\" + 0.026*\"check\" + 0.022*\"host\" + 0.021*\"recommend\" + 0.020*\"citi\" + 0.019*\"need\" + 0.017*\"perfect\" + 0.016*\"york\"') \n",
      "\n",
      "(2, '0.038*\"place\" + 0.033*\"home\" + 0.030*\"like\" + 0.025*\"feel\" + 0.019*\"felt\" + 0.018*\"welcom\" + 0.018*\"nice\" + 0.017*\"room\" + 0.016*\"comfort\" + 0.016*\"time\"') \n",
      "\n",
      "(3, '0.039*\"apart\" + 0.032*\"locat\" + 0.031*\"restaur\" + 0.027*\"place\" + 0.024*\"host\" + 0.024*\"easi\" + 0.021*\"super\" + 0.020*\"clean\" + 0.018*\"love\" + 0.016*\"definit\"') \n",
      "\n",
      "(4, '0.044*\"nice\" + 0.042*\"place\" + 0.036*\"locat\" + 0.031*\"subway\" + 0.027*\"clean\" + 0.026*\"good\" + 0.026*\"close\" + 0.025*\"host\" + 0.023*\"room\" + 0.022*\"time\"') \n",
      "\n",
      "(5, '0.059*\"apart\" + 0.047*\"locat\" + 0.040*\"place\" + 0.031*\"recommend\" + 0.031*\"perfect\" + 0.030*\"host\" + 0.029*\"clean\" + 0.022*\"definit\" + 0.017*\"question\" + 0.015*\"comfort\"') \n",
      "\n",
      "(6, '0.042*\"apart\" + 0.021*\"locat\" + 0.016*\"good\" + 0.015*\"walk\" + 0.014*\"kitchen\" + 0.012*\"room\" + 0.012*\"clean\" + 0.012*\"street\" + 0.011*\"bedroom\" + 0.011*\"subway\"') \n",
      "\n",
      "\n",
      "\n",
      "(0, '0.042*\"home\" + 0.039*\"apart\" + 0.023*\"place\" + 0.023*\"love\" + 0.022*\"feel\" + 0.020*\"like\" + 0.020*\"host\" + 0.019*\"york\" + 0.018*\"time\" + 0.018*\"felt\"') \n",
      "\n",
      "(1, '0.076*\"apart\" + 0.036*\"locat\" + 0.032*\"easi\" + 0.024*\"clean\" + 0.020*\"comfort\" + 0.018*\"exact\" + 0.017*\"communic\" + 0.016*\"host\" + 0.014*\"quiet\" + 0.014*\"recommend\"') \n",
      "\n",
      "(2, '0.048*\"place\" + 0.037*\"room\" + 0.028*\"nice\" + 0.026*\"good\" + 0.026*\"time\" + 0.020*\"hous\" + 0.018*\"clean\" + 0.017*\"locat\" + 0.017*\"subway\" + 0.015*\"host\"') \n",
      "\n",
      "(3, '0.048*\"apart\" + 0.028*\"locat\" + 0.022*\"good\" + 0.016*\"night\" + 0.015*\"nois\" + 0.014*\"place\" + 0.014*\"street\" + 0.014*\"walk\" + 0.013*\"littl\" + 0.013*\"clean\"') \n",
      "\n",
      "(4, '0.037*\"subway\" + 0.036*\"walk\" + 0.029*\"locat\" + 0.028*\"restaur\" + 0.027*\"close\" + 0.027*\"place\" + 0.021*\"apart\" + 0.019*\"away\" + 0.016*\"block\" + 0.016*\"park\"') \n",
      "\n",
      "(5, '0.042*\"check\" + 0.036*\"apart\" + 0.030*\"host\" + 0.026*\"locat\" + 0.021*\"accommod\" + 0.020*\"time\" + 0.020*\"arriv\" + 0.019*\"place\" + 0.017*\"experi\" + 0.017*\"clean\"') \n",
      "\n",
      "(6, '0.030*\"central\" + 0.030*\"park\" + 0.029*\"nice\" + 0.029*\"locat\" + 0.027*\"apart\" + 0.027*\"flat\" + 0.026*\"time\" + 0.021*\"east\" + 0.019*\"place\" + 0.017*\"walk\"') \n",
      "\n",
      "(7, '0.025*\"room\" + 0.025*\"apart\" + 0.017*\"bathroom\" + 0.015*\"kitchen\" + 0.014*\"clean\" + 0.013*\"bedroom\" + 0.013*\"place\" + 0.011*\"night\" + 0.010*\"live\" + 0.010*\"nice\"') \n",
      "\n",
      "(8, '0.116*\"place\" + 0.058*\"locat\" + 0.052*\"recommend\" + 0.040*\"host\" + 0.039*\"clean\" + 0.037*\"perfect\" + 0.024*\"high\" + 0.023*\"definit\" + 0.022*\"nice\" + 0.019*\"help\"') \n",
      "\n",
      "(9, '0.047*\"room\" + 0.037*\"clean\" + 0.034*\"host\" + 0.034*\"apart\" + 0.034*\"friend\" + 0.033*\"nice\" + 0.030*\"help\" + 0.021*\"super\" + 0.018*\"comfort\" + 0.018*\"recommend\"') \n",
      "\n"
     ]
    },
    {
     "data": {
      "text/plain": [
       "[None, None, None, None, None, None, None, None, None, None]"
      ]
     },
     "execution_count": 314,
     "metadata": {},
     "output_type": "execute_result"
    }
   ],
   "source": [
    "[print(t, '\\n') for t in topics04]\n",
    "print('\\n')\n",
    "[print(t, '\\n') for t in topics07]\n",
    "print('\\n')\n",
    "[print(t, '\\n') for t in topics10]"
   ]
  },
  {
   "cell_type": "code",
   "execution_count": 315,
   "metadata": {},
   "outputs": [
    {
     "name": "stdout",
     "output_type": "stream",
     "text": [
      "Loaded File\n",
      "Made Corpus\n",
      "finished tf-idf lda model, n=4 topics\n",
      "Loaded File\n",
      "Made Corpus\n",
      "finished tf-idf lda model, n=7 topics\n",
      "Loaded File\n",
      "Made Corpus\n",
      "finished tf-idf lda model, n=10 topics\n"
     ]
    }
   ],
   "source": [
    "lda04_tfidf, topics04_tfidf, corpus04_tfidf, dictionary04_tfidf =  \\\n",
    "                                    extract_topic_vectors(datadir+'flat_df_newclean_HOST_NAME.pkl',\n",
    "                                                             tf_idf = True, n_topics=4,\n",
    "                                                              no_below = 1000, no_above = .5)\n",
    "print('finished tf-idf lda model, n=4 topics')\n",
    "\n",
    "lda07_tfidf, topics07_tfidf, corpus07_tfidf, dictionary07_tfidf = \\\n",
    "                                    extract_topic_vectors(datadir+'flat_df_newclean_HOST_NAME.pkl',\n",
    "                                                             tf_idf = True, n_topics=7,\n",
    "                                                              no_below = 1000, no_above = .5)\n",
    "print('finished tf-idf lda model, n=7 topics')\n",
    "\n",
    "lda10_tfidf, topics10_tfidf, corpus10_tfidf, dictionary10_tfidf = \\\n",
    "                                    extract_topic_vectors(datadir+'flat_df_newclean_HOST_NAME.pkl',\n",
    "                                                             tf_idf = True, n_topics=10,\n",
    "                                                              no_below = 1000, no_above = .5)\n",
    "print('finished tf-idf lda model, n=10 topics')"
   ]
  },
  {
   "cell_type": "code",
   "execution_count": 316,
   "metadata": {},
   "outputs": [
    {
     "name": "stdout",
     "output_type": "stream",
     "text": [
      "(0, '0.016*\"place\" + 0.015*\"nice\" + 0.015*\"host\" + 0.012*\"help\" + 0.012*\"recommend\" + 0.012*\"clean\" + 0.011*\"thank\" + 0.011*\"friend\" + 0.011*\"time\" + 0.011*\"apart\"') \n",
      "\n",
      "(1, '0.013*\"place\" + 0.011*\"locat\" + 0.011*\"apart\" + 0.011*\"perfect\" + 0.010*\"love\" + 0.010*\"host\" + 0.009*\"super\" + 0.009*\"recommend\" + 0.009*\"clean\" + 0.009*\"amaz\"') \n",
      "\n",
      "(2, '0.017*\"check\" + 0.012*\"quick\" + 0.012*\"easi\" + 0.011*\"apart\" + 0.011*\"question\" + 0.010*\"respond\" + 0.010*\"communic\" + 0.010*\"place\" + 0.009*\"arriv\" + 0.008*\"locat\"') \n",
      "\n",
      "(3, '0.010*\"room\" + 0.008*\"good\" + 0.008*\"apart\" + 0.007*\"night\" + 0.007*\"bathroom\" + 0.007*\"nice\" + 0.007*\"place\" + 0.006*\"sleep\" + 0.006*\"bedroom\" + 0.006*\"small\"') \n",
      "\n",
      "\n",
      "\n",
      "(0, '0.011*\"room\" + 0.009*\"good\" + 0.008*\"night\" + 0.008*\"apart\" + 0.008*\"bathroom\" + 0.007*\"place\" + 0.007*\"sleep\" + 0.007*\"nice\" + 0.007*\"nois\" + 0.006*\"clean\"') \n",
      "\n",
      "(1, '0.021*\"close\" + 0.019*\"nice\" + 0.017*\"place\" + 0.015*\"good\" + 0.015*\"central\" + 0.015*\"subway\" + 0.015*\"clean\" + 0.014*\"locat\" + 0.014*\"host\" + 0.014*\"park\"') \n",
      "\n",
      "(2, '0.012*\"walk\" + 0.010*\"subway\" + 0.010*\"station\" + 0.010*\"time\" + 0.010*\"place\" + 0.009*\"minut\" + 0.009*\"squar\" + 0.009*\"away\" + 0.009*\"apart\" + 0.009*\"block\"') \n",
      "\n",
      "(3, '0.016*\"place\" + 0.015*\"nice\" + 0.013*\"thank\" + 0.013*\"host\" + 0.013*\"home\" + 0.012*\"love\" + 0.012*\"amaz\" + 0.012*\"perfect\" + 0.011*\"time\" + 0.011*\"friend\"') \n",
      "\n",
      "(4, '0.010*\"villag\" + 0.010*\"apart\" + 0.009*\"walk\" + 0.009*\"restaur\" + 0.009*\"east\" + 0.008*\"place\" + 0.008*\"locat\" + 0.007*\"perfect\" + 0.007*\"easi\" + 0.007*\"close\"') \n",
      "\n",
      "(5, '0.010*\"david\" + 0.009*\"john\" + 0.009*\"place\" + 0.009*\"apart\" + 0.008*\"host\" + 0.007*\"clean\" + 0.007*\"love\" + 0.007*\"nice\" + 0.007*\"recommend\" + 0.007*\"need\"') \n",
      "\n",
      "(6, '0.017*\"check\" + 0.014*\"place\" + 0.014*\"host\" + 0.014*\"communic\" + 0.013*\"accommod\" + 0.013*\"easi\" + 0.012*\"definit\" + 0.012*\"recommend\" + 0.012*\"apart\" + 0.012*\"locat\"') \n",
      "\n",
      "\n",
      "\n",
      "(0, '0.014*\"david\" + 0.011*\"chris\" + 0.010*\"jessica\" + 0.010*\"columbia\" + 0.009*\"place\" + 0.008*\"apart\" + 0.007*\"home\" + 0.007*\"nice\" + 0.007*\"love\" + 0.007*\"time\"') \n",
      "\n",
      "(1, '0.015*\"check\" + 0.010*\"flight\" + 0.009*\"late\" + 0.009*\"arriv\" + 0.008*\"apart\" + 0.008*\"earli\" + 0.008*\"time\" + 0.008*\"place\" + 0.008*\"luggag\" + 0.007*\"stair\"') \n",
      "\n",
      "(2, '0.017*\"accommod\" + 0.017*\"communic\" + 0.015*\"check\" + 0.015*\"host\" + 0.015*\"place\" + 0.014*\"easi\" + 0.012*\"recommend\" + 0.012*\"definit\" + 0.012*\"locat\" + 0.012*\"clean\"') \n",
      "\n",
      "(3, '0.009*\"room\" + 0.008*\"apart\" + 0.008*\"towel\" + 0.007*\"good\" + 0.007*\"bathroom\" + 0.007*\"night\" + 0.007*\"kitchen\" + 0.006*\"nois\" + 0.006*\"place\" + 0.006*\"shower\"') \n",
      "\n",
      "(4, '0.020*\"villag\" + 0.018*\"east\" + 0.010*\"place\" + 0.010*\"apart\" + 0.010*\"heart\" + 0.010*\"west\" + 0.010*\"locat\" + 0.009*\"soho\" + 0.009*\"studio\" + 0.009*\"perfect\"') \n",
      "\n",
      "(5, '0.024*\"nice\" + 0.021*\"place\" + 0.020*\"host\" + 0.017*\"clean\" + 0.016*\"recommend\" + 0.015*\"good\" + 0.015*\"locat\" + 0.014*\"friend\" + 0.014*\"help\" + 0.014*\"thank\"') \n",
      "\n",
      "(6, '0.017*\"restaur\" + 0.015*\"walk\" + 0.013*\"close\" + 0.012*\"subway\" + 0.011*\"squar\" + 0.011*\"place\" + 0.011*\"distanc\" + 0.011*\"apart\" + 0.011*\"bar\" + 0.010*\"shop\"') \n",
      "\n",
      "(7, '0.018*\"park\" + 0.018*\"central\" + 0.011*\"subway\" + 0.010*\"place\" + 0.010*\"close\" + 0.010*\"block\" + 0.009*\"walk\" + 0.009*\"apart\" + 0.008*\"nice\" + 0.008*\"away\"') \n",
      "\n",
      "(8, '0.015*\"question\" + 0.012*\"quick\" + 0.012*\"respond\" + 0.011*\"host\" + 0.011*\"answer\" + 0.011*\"apart\" + 0.011*\"place\" + 0.009*\"help\" + 0.008*\"need\" + 0.008*\"recommend\"') \n",
      "\n",
      "(9, '0.014*\"room\" + 0.013*\"place\" + 0.012*\"exact\" + 0.011*\"space\" + 0.010*\"apart\" + 0.010*\"describ\" + 0.010*\"comfort\" + 0.010*\"clean\" + 0.010*\"nice\" + 0.010*\"sarah\"') \n",
      "\n"
     ]
    },
    {
     "data": {
      "text/plain": [
       "[None, None, None, None, None, None, None, None, None, None]"
      ]
     },
     "execution_count": 316,
     "metadata": {},
     "output_type": "execute_result"
    }
   ],
   "source": [
    "[print(t, '\\n') for t in topics04_tfidf]\n",
    "print('\\n')\n",
    "[print(t, '\\n') for t in topics07_tfidf]\n",
    "print('\\n')\n",
    "[print(t, '\\n') for t in topics10_tfidf]"
   ]
  },
  {
   "cell_type": "code",
   "execution_count": 321,
   "metadata": {},
   "outputs": [
    {
     "name": "stdout",
     "output_type": "stream",
     "text": [
      "Loaded File\n",
      "Made Corpus\n",
      "finished lda model, n=4 topics\n",
      "Loaded File\n",
      "Made Corpus\n",
      "finished lda model, n=7 topics\n",
      "Loaded File\n",
      "Made Corpus\n",
      "finished lda model, n=10 topics\n"
     ]
    }
   ],
   "source": [
    "lda04_permissive, topics04_permissive, corpus04_permissive, dictionary04_permissive =  \\\n",
    "                                    extract_topic_vectors(datadir+'flat_df_newclean_HOST_NAME.pkl',\n",
    "                                                             tf_idf = False, n_topics=4,\n",
    "                                                              no_below = 0, no_above = 1.)\n",
    "print('finished lda model, n=4 topics')\n",
    "\n",
    "lda07_permissive, topics07_permissive, corpus07_permissive, dictionary07_permissive = \\\n",
    "                                extract_topic_vectors(datadir+'flat_df_newclean_HOST_NAME.pkl',\n",
    "                                                             tf_idf = False, n_topics=7,\n",
    "                                                              no_below = 0, no_above = 1.)\n",
    "print('finished lda model, n=7 topics')\n",
    "\n",
    "lda10_permissive, topics10_permissive, corpus10_permissive, dictionary10_permissive = \\\n",
    "                                extract_topic_vectors(datadir+'flat_df_newclean_HOST_NAME.pkl',\n",
    "                                                             tf_idf = False, n_topics=10,\n",
    "                                                              no_below = 0, no_above = 1.)\n",
    "print('finished lda model, n=10 topics')"
   ]
  },
  {
   "cell_type": "code",
   "execution_count": 322,
   "metadata": {},
   "outputs": [
    {
     "name": "stdout",
     "output_type": "stream",
     "text": [
      "(0, '0.023*\"apart\" + 0.014*\"room\" + 0.014*\"place\" + 0.014*\"stay\" + 0.012*\"great\" + 0.011*\"locat\" + 0.010*\"clean\" + 0.010*\"night\" + 0.009*\"good\" + 0.007*\"nice\"') \n",
      "\n",
      "(1, '0.027*\"apart\" + 0.022*\"walk\" + 0.018*\"park\" + 0.018*\"locat\" + 0.016*\"central\" + 0.015*\"subway\" + 0.014*\"stay\" + 0.013*\"time\" + 0.012*\"great\" + 0.010*\"minut\"') \n",
      "\n",
      "(2, '0.055*\"great\" + 0.042*\"stay\" + 0.038*\"apart\" + 0.034*\"locat\" + 0.032*\"place\" + 0.025*\"host\" + 0.020*\"clean\" + 0.017*\"recommend\" + 0.015*\"perfect\" + 0.013*\"easi\"') \n",
      "\n",
      "(3, '0.036*\"place\" + 0.034*\"stay\" + 0.027*\"nice\" + 0.019*\"great\" + 0.018*\"room\" + 0.018*\"clean\" + 0.017*\"host\" + 0.016*\"subway\" + 0.015*\"locat\" + 0.015*\"recommend\"') \n",
      "\n",
      "\n",
      "\n",
      "(0, '0.035*\"room\" + 0.029*\"stay\" + 0.023*\"place\" + 0.019*\"nice\" + 0.018*\"great\" + 0.014*\"like\" + 0.014*\"good\" + 0.012*\"host\" + 0.010*\"comfort\" + 0.010*\"clean\"') \n",
      "\n",
      "(1, '0.030*\"apart\" + 0.017*\"stay\" + 0.016*\"place\" + 0.016*\"great\" + 0.015*\"arriv\" + 0.012*\"clean\" + 0.012*\"leav\" + 0.011*\"host\" + 0.011*\"time\" + 0.010*\"need\"') \n",
      "\n",
      "(2, '0.041*\"apart\" + 0.018*\"locat\" + 0.018*\"stay\" + 0.018*\"great\" + 0.012*\"perfect\" + 0.011*\"street\" + 0.010*\"love\" + 0.009*\"comfort\" + 0.009*\"villag\" + 0.009*\"restaur\"') \n",
      "\n",
      "(3, '0.034*\"great\" + 0.028*\"apart\" + 0.027*\"subway\" + 0.027*\"walk\" + 0.024*\"locat\" + 0.024*\"place\" + 0.022*\"stay\" + 0.019*\"close\" + 0.018*\"restaur\" + 0.015*\"clean\"') \n",
      "\n",
      "(4, '0.016*\"room\" + 0.013*\"apart\" + 0.011*\"bathroom\" + 0.010*\"place\" + 0.010*\"clean\" + 0.010*\"locat\" + 0.009*\"stay\" + 0.009*\"time\" + 0.008*\"good\" + 0.008*\"night\"') \n",
      "\n",
      "(5, '0.044*\"stay\" + 0.036*\"place\" + 0.023*\"locat\" + 0.023*\"great\" + 0.022*\"apart\" + 0.021*\"recommend\" + 0.020*\"host\" + 0.016*\"check\" + 0.015*\"clean\" + 0.015*\"easi\"') \n",
      "\n",
      "(6, '0.060*\"great\" + 0.044*\"stay\" + 0.039*\"locat\" + 0.038*\"place\" + 0.034*\"apart\" + 0.032*\"host\" + 0.030*\"clean\" + 0.026*\"nice\" + 0.021*\"help\" + 0.020*\"perfect\"') \n",
      "\n",
      "\n",
      "\n",
      "(0, '0.032*\"stay\" + 0.027*\"home\" + 0.023*\"arriv\" + 0.022*\"apart\" + 0.018*\"love\" + 0.018*\"like\" + 0.017*\"thank\" + 0.016*\"felt\" + 0.015*\"place\" + 0.015*\"time\"') \n",
      "\n",
      "(1, '0.034*\"great\" + 0.030*\"stay\" + 0.028*\"time\" + 0.026*\"check\" + 0.024*\"apart\" + 0.024*\"locat\" + 0.021*\"place\" + 0.018*\"host\" + 0.018*\"exact\" + 0.015*\"accommod\"') \n",
      "\n",
      "(2, '0.053*\"place\" + 0.047*\"stay\" + 0.042*\"room\" + 0.032*\"nice\" + 0.030*\"great\" + 0.030*\"clean\" + 0.021*\"locat\" + 0.020*\"host\" + 0.013*\"comfort\" + 0.013*\"recommend\"') \n",
      "\n",
      "(3, '0.056*\"great\" + 0.040*\"locat\" + 0.039*\"place\" + 0.031*\"apart\" + 0.028*\"stay\" + 0.028*\"easi\" + 0.027*\"clean\" + 0.026*\"host\" + 0.025*\"recommend\" + 0.021*\"nice\"') \n",
      "\n",
      "(4, '0.040*\"great\" + 0.034*\"apart\" + 0.027*\"locat\" + 0.023*\"stay\" + 0.015*\"place\" + 0.014*\"comfort\" + 0.013*\"easi\" + 0.013*\"clean\" + 0.013*\"restaur\" + 0.012*\"villag\"') \n",
      "\n",
      "(5, '0.044*\"place\" + 0.038*\"nice\" + 0.036*\"stay\" + 0.030*\"good\" + 0.025*\"clean\" + 0.025*\"great\" + 0.023*\"host\" + 0.019*\"locat\" + 0.019*\"apart\" + 0.018*\"help\"') \n",
      "\n",
      "(6, '0.027*\"apart\" + 0.010*\"clean\" + 0.010*\"night\" + 0.010*\"stay\" + 0.009*\"locat\" + 0.009*\"room\" + 0.008*\"good\" + 0.007*\"bathroom\" + 0.007*\"build\" + 0.007*\"time\"') \n",
      "\n",
      "(7, '0.028*\"room\" + 0.020*\"place\" + 0.018*\"subway\" + 0.017*\"stay\" + 0.013*\"walk\" + 0.012*\"apart\" + 0.012*\"good\" + 0.011*\"nice\" + 0.011*\"clean\" + 0.010*\"comfort\"') \n",
      "\n",
      "(8, '0.030*\"walk\" + 0.029*\"apart\" + 0.026*\"great\" + 0.025*\"place\" + 0.021*\"locat\" + 0.020*\"stay\" + 0.019*\"restaur\" + 0.018*\"time\" + 0.017*\"close\" + 0.017*\"subway\"') \n",
      "\n",
      "(9, '0.045*\"stay\" + 0.038*\"apart\" + 0.035*\"great\" + 0.029*\"host\" + 0.024*\"locat\" + 0.020*\"place\" + 0.018*\"recommend\" + 0.016*\"perfect\" + 0.015*\"love\" + 0.013*\"clean\"') \n",
      "\n"
     ]
    },
    {
     "data": {
      "text/plain": [
       "[None, None, None, None, None, None, None, None, None, None]"
      ]
     },
     "execution_count": 322,
     "metadata": {},
     "output_type": "execute_result"
    }
   ],
   "source": [
    "[print(t, '\\n') for t in topics04_permissive]\n",
    "print('\\n')\n",
    "[print(t, '\\n') for t in topics07_permissive]\n",
    "print('\\n')\n",
    "[print(t, '\\n') for t in topics10_permissive]"
   ]
  },
  {
   "cell_type": "code",
   "execution_count": 324,
   "metadata": {},
   "outputs": [
    {
     "name": "stdout",
     "output_type": "stream",
     "text": [
      "Loaded File\n",
      "Made Corpus\n",
      "finished lda model, n=4 topics\n",
      "Loaded File\n",
      "Made Corpus\n",
      "finished lda model, n=7 topics\n",
      "Loaded File\n",
      "Made Corpus\n",
      "finished lda model, n=10 topics\n"
     ]
    }
   ],
   "source": [
    "lda04_permissive_tfidf, topics04_permissive_tfidf, corpus04_permissive_tfidf, dictionary04_permissive_tfidf =  \\\n",
    "                                    extract_topic_vectors(datadir+'flat_df_newclean_HOST_NAME.pkl',\n",
    "                                                             tf_idf = True, n_topics=4,\n",
    "                                                              no_below = 0, no_above = 1.)\n",
    "print('finished lda model, n=4 topics')\n",
    "\n",
    "lda07_permissive_tfidf, topics07_permissive_tfidf, corpus07_permissive_tfidf, dictionary07_permissive_tfidf = \\\n",
    "                                extract_topic_vectors(datadir+'flat_df_newclean_HOST_NAME.pkl',\n",
    "                                                             tf_idf = True, n_topics=7,\n",
    "                                                              no_below = 0, no_above = 1.)\n",
    "print('finished lda model, n=7 topics')\n",
    "\n",
    "lda10_permissive_tfidf, topics10_permissive_tfidf, corpus10_permissive_tfidf, dictionary10_permissive_tfidf = \\\n",
    "                                extract_topic_vectors(datadir+'flat_df_newclean_HOST_NAME.pkl',\n",
    "                                                             tf_idf = True, n_topics=10,\n",
    "                                                              no_below = 0, no_above = 1.)\n",
    "print('finished lda model, n=10 topics')"
   ]
  },
  {
   "cell_type": "code",
   "execution_count": 325,
   "metadata": {},
   "outputs": [
    {
     "name": "stdout",
     "output_type": "stream",
     "text": [
      "(0, '0.006*\"place\" + 0.006*\"great\" + 0.006*\"apart\" + 0.005*\"stay\" + 0.005*\"nice\" + 0.005*\"room\" + 0.005*\"host\" + 0.005*\"time\" + 0.005*\"clean\" + 0.004*\"help\"') \n",
      "\n",
      "(1, '0.013*\"great\" + 0.012*\"place\" + 0.010*\"host\" + 0.010*\"stay\" + 0.010*\"nice\" + 0.010*\"locat\" + 0.010*\"clean\" + 0.009*\"apart\" + 0.009*\"recommend\" + 0.008*\"definit\"') \n",
      "\n",
      "(2, '0.007*\"great\" + 0.006*\"place\" + 0.006*\"apart\" + 0.006*\"walk\" + 0.005*\"stay\" + 0.005*\"locat\" + 0.005*\"close\" + 0.005*\"restaur\" + 0.005*\"perfect\" + 0.005*\"nice\"') \n",
      "\n",
      "(3, '0.006*\"room\" + 0.005*\"apart\" + 0.005*\"place\" + 0.005*\"good\" + 0.005*\"great\" + 0.005*\"nice\" + 0.005*\"clean\" + 0.004*\"stay\" + 0.004*\"locat\" + 0.004*\"night\"') \n",
      "\n",
      "\n",
      "\n",
      "(0, '0.007*\"place\" + 0.007*\"great\" + 0.006*\"apart\" + 0.006*\"stay\" + 0.005*\"host\" + 0.005*\"locat\" + 0.005*\"nice\" + 0.005*\"michael\" + 0.005*\"clean\" + 0.005*\"recommend\"') \n",
      "\n",
      "(1, '0.012*\"great\" + 0.011*\"place\" + 0.010*\"locat\" + 0.010*\"nice\" + 0.009*\"close\" + 0.009*\"stay\" + 0.009*\"apart\" + 0.008*\"perfect\" + 0.008*\"clean\" + 0.008*\"host\"') \n",
      "\n",
      "(2, '0.008*\"jessica\" + 0.008*\"reserv\" + 0.008*\"cancel\" + 0.007*\"post\" + 0.006*\"arriv\" + 0.006*\"autom\" + 0.006*\"day\" + 0.006*\"place\" + 0.005*\"nice\" + 0.005*\"great\"') \n",
      "\n",
      "(3, '0.007*\"place\" + 0.007*\"great\" + 0.006*\"nice\" + 0.006*\"time\" + 0.006*\"apart\" + 0.006*\"stay\" + 0.006*\"walk\" + 0.005*\"close\" + 0.005*\"locat\" + 0.005*\"clean\"') \n",
      "\n",
      "(4, '0.006*\"room\" + 0.006*\"apart\" + 0.005*\"place\" + 0.005*\"good\" + 0.005*\"great\" + 0.004*\"nice\" + 0.004*\"night\" + 0.004*\"bathroom\" + 0.004*\"clean\" + 0.004*\"stay\"') \n",
      "\n",
      "(5, '0.011*\"great\" + 0.011*\"check\" + 0.010*\"host\" + 0.010*\"place\" + 0.009*\"stay\" + 0.009*\"apart\" + 0.008*\"easi\" + 0.008*\"communic\" + 0.008*\"clean\" + 0.008*\"locat\"') \n",
      "\n",
      "(6, '0.009*\"host\" + 0.008*\"place\" + 0.008*\"stay\" + 0.008*\"great\" + 0.007*\"nice\" + 0.007*\"home\" + 0.007*\"welcom\" + 0.006*\"help\" + 0.006*\"friend\" + 0.006*\"clean\"') \n",
      "\n",
      "\n",
      "\n",
      "(0, '0.006*\"room\" + 0.006*\"apart\" + 0.005*\"good\" + 0.005*\"place\" + 0.005*\"check\" + 0.005*\"night\" + 0.005*\"great\" + 0.005*\"nice\" + 0.005*\"clean\" + 0.004*\"stay\"') \n",
      "\n",
      "(1, '0.007*\"jam\" + 0.007*\"place\" + 0.007*\"great\" + 0.006*\"nice\" + 0.006*\"stay\" + 0.006*\"host\" + 0.005*\"apart\" + 0.005*\"time\" + 0.005*\"clean\" + 0.005*\"locat\"') \n",
      "\n",
      "(2, '0.015*\"michael\" + 0.009*\"post\" + 0.009*\"reserv\" + 0.009*\"cancel\" + 0.009*\"autom\" + 0.008*\"day\" + 0.008*\"nice\" + 0.008*\"andrew\" + 0.007*\"place\" + 0.007*\"great\"') \n",
      "\n",
      "(3, '0.006*\"place\" + 0.006*\"anna\" + 0.006*\"great\" + 0.006*\"apart\" + 0.006*\"nice\" + 0.005*\"stay\" + 0.005*\"clean\" + 0.005*\"room\" + 0.005*\"host\" + 0.005*\"good\"') \n",
      "\n",
      "(4, '0.006*\"place\" + 0.006*\"apart\" + 0.006*\"great\" + 0.005*\"room\" + 0.005*\"nice\" + 0.005*\"stay\" + 0.005*\"walk\" + 0.004*\"good\" + 0.004*\"clean\" + 0.004*\"time\"') \n",
      "\n",
      "(5, '0.007*\"sarah\" + 0.007*\"place\" + 0.007*\"great\" + 0.006*\"apart\" + 0.006*\"stay\" + 0.006*\"view\" + 0.005*\"host\" + 0.005*\"perfect\" + 0.005*\"locat\" + 0.005*\"nice\"') \n",
      "\n",
      "(6, '0.007*\"great\" + 0.007*\"place\" + 0.007*\"apart\" + 0.006*\"villag\" + 0.006*\"stay\" + 0.006*\"locat\" + 0.006*\"host\" + 0.005*\"east\" + 0.005*\"perfect\" + 0.005*\"nice\"') \n",
      "\n",
      "(7, '0.007*\"place\" + 0.006*\"great\" + 0.006*\"apart\" + 0.006*\"stay\" + 0.005*\"host\" + 0.005*\"nice\" + 0.005*\"michell\" + 0.005*\"locat\" + 0.005*\"recommend\" + 0.005*\"clean\"') \n",
      "\n",
      "(8, '0.015*\"great\" + 0.013*\"place\" + 0.011*\"host\" + 0.011*\"locat\" + 0.011*\"stay\" + 0.011*\"nice\" + 0.011*\"clean\" + 0.010*\"apart\" + 0.010*\"recommend\" + 0.009*\"close\"') \n",
      "\n",
      "(9, '0.008*\"place\" + 0.008*\"great\" + 0.007*\"stay\" + 0.007*\"host\" + 0.007*\"help\" + 0.007*\"apart\" + 0.006*\"nice\" + 0.006*\"recommend\" + 0.006*\"clean\" + 0.006*\"check\"') \n",
      "\n"
     ]
    },
    {
     "data": {
      "text/plain": [
       "[None, None, None, None, None, None, None, None, None, None]"
      ]
     },
     "execution_count": 325,
     "metadata": {},
     "output_type": "execute_result"
    }
   ],
   "source": [
    "[print(t, '\\n') for t in topics04_permissive_tfidf]\n",
    "print('\\n')\n",
    "[print(t, '\\n') for t in topics07_permissive_tfidf]\n",
    "print('\\n')\n",
    "[print(t, '\\n') for t in topics10_permissive_tfidf]"
   ]
  },
  {
   "cell_type": "code",
   "execution_count": 330,
   "metadata": {},
   "outputs": [
    {
     "name": "stdout",
     "output_type": "stream",
     "text": [
      "Loaded File\n",
      "Made Corpus\n",
      "finished lda model, n=4 topics\n",
      "Loaded File\n",
      "Made Corpus\n",
      "finished lda model, n=7 topics\n",
      "Loaded File\n",
      "Made Corpus\n",
      "finished lda model, n=10 topics\n",
      "Loaded File\n",
      "Made Corpus\n",
      "finished lda model, n=15 topics\n"
     ]
    }
   ],
   "source": [
    "lda04_strict_top, topics04_strict_top, corpus04_strict_top, dictionary04_strict_top =  \\\n",
    "                                extract_topic_vectors(datadir+'flat_df_newclean_HOST_NAME.pkl',\n",
    "                                                             tf_idf = False, n_topics=4,\n",
    "                                                              no_below = 0, no_above = .1)\n",
    "print('finished lda model, n=4 topics')\n",
    "\n",
    "lda07_strict_top, topics07_strict_top, corpus07_strict_top, dictionary07_strict_top =  \\\n",
    "                                extract_topic_vectors(datadir+'flat_df_newclean_HOST_NAME.pkl',\n",
    "                                                             tf_idf = False, n_topics=7,\n",
    "                                                              no_below = 0, no_above = .1)\n",
    "print('finished lda model, n=7 topics')\n",
    "\n",
    "lda10_strict_top, topics10_strict_top, corpus10_strict_top, dictionary10_strict_top =  \\\n",
    "                                extract_topic_vectors(datadir+'flat_df_newclean_HOST_NAME.pkl',\n",
    "                                                             tf_idf = False, n_topics=10,\n",
    "                                                              no_below = 0, no_above = .1)\n",
    "print('finished lda model, n=10 topics')\n",
    "\n",
    "lda15_strict_top, topics15_strict_top, corpus15_strict_top, dictionary15_strict_top =  \\\n",
    "                                extract_topic_vectors(datadir+'flat_df_newclean_HOST_NAME.pkl',\n",
    "                                                             tf_idf = False, n_topics=15,\n",
    "                                                              no_below = 0, no_above = .1)\n",
    "print('finished lda model, n=15 topics')"
   ]
  },
  {
   "cell_type": "code",
   "execution_count": 331,
   "metadata": {
    "scrolled": false
   },
   "outputs": [
    {
     "name": "stdout",
     "output_type": "stream",
     "text": [
      "(0, '0.014*\"wonder\" + 0.012*\"feel\" + 0.011*\"visit\" + 0.011*\"amaz\" + 0.010*\"enjoy\" + 0.010*\"come\" + 0.009*\"felt\" + 0.009*\"hous\" + 0.009*\"give\" + 0.009*\"look\"') \n",
      "\n",
      "(1, '0.014*\"super\" + 0.009*\"accommod\" + 0.009*\"bathroom\" + 0.009*\"amaz\" + 0.008*\"space\" + 0.007*\"villag\" + 0.006*\"towel\" + 0.006*\"best\" + 0.006*\"east\" + 0.005*\"bedroom\"') \n",
      "\n",
      "(2, '0.014*\"station\" + 0.012*\"minut\" + 0.010*\"squar\" + 0.010*\"flat\" + 0.009*\"kitchen\" + 0.009*\"small\" + 0.009*\"near\" + 0.008*\"question\" + 0.008*\"littl\" + 0.008*\"park\"') \n",
      "\n",
      "(3, '0.014*\"street\" + 0.012*\"park\" + 0.009*\"block\" + 0.008*\"away\" + 0.008*\"nois\" + 0.007*\"shop\" + 0.007*\"sleep\" + 0.007*\"right\" + 0.005*\"littl\" + 0.005*\"food\"') \n",
      "\n",
      "\n",
      "\n",
      "(0, '0.015*\"station\" + 0.015*\"quick\" + 0.014*\"flat\" + 0.013*\"minut\" + 0.013*\"question\" + 0.012*\"leav\" + 0.010*\"key\" + 0.009*\"respond\" + 0.009*\"answer\" + 0.008*\"late\"') \n",
      "\n",
      "(1, '0.021*\"park\" + 0.016*\"squar\" + 0.016*\"shop\" + 0.014*\"distanc\" + 0.012*\"away\" + 0.012*\"block\" + 0.011*\"bar\" + 0.010*\"right\" + 0.010*\"minut\" + 0.010*\"street\"') \n",
      "\n",
      "(2, '0.021*\"amaz\" + 0.014*\"wonder\" + 0.013*\"best\" + 0.013*\"come\" + 0.012*\"feel\" + 0.012*\"visit\" + 0.011*\"airbnb\" + 0.010*\"look\" + 0.010*\"awesom\" + 0.010*\"person\"') \n",
      "\n",
      "(3, '0.013*\"bathroom\" + 0.010*\"bedroom\" + 0.010*\"sleep\" + 0.010*\"kitchen\" + 0.009*\"small\" + 0.008*\"floor\" + 0.008*\"nois\" + 0.008*\"work\" + 0.007*\"build\" + 0.007*\"space\"') \n",
      "\n",
      "(4, '0.012*\"access\" + 0.011*\"accommod\" + 0.010*\"wonder\" + 0.010*\"quick\" + 0.010*\"spacious\" + 0.010*\"visit\" + 0.009*\"away\" + 0.009*\"excel\" + 0.008*\"trip\" + 0.008*\"provid\"') \n",
      "\n",
      "(5, '0.030*\"super\" + 0.018*\"accommod\" + 0.016*\"exact\" + 0.012*\"felt\" + 0.011*\"pictur\" + 0.010*\"kind\" + 0.010*\"safe\" + 0.010*\"describ\" + 0.010*\"flexibl\" + 0.008*\"travel\"') \n",
      "\n",
      "(6, '0.027*\"hous\" + 0.014*\"beauti\" + 0.012*\"transport\" + 0.011*\"enjoy\" + 0.010*\"public\" + 0.010*\"harlem\" + 0.009*\"space\" + 0.009*\"alex\" + 0.008*\"station\" + 0.008*\"feel\"') \n",
      "\n",
      "\n",
      "\n",
      "(0, '0.013*\"beauti\" + 0.012*\"fantast\" + 0.011*\"best\" + 0.011*\"live\" + 0.010*\"shop\" + 0.010*\"view\" + 0.009*\"space\" + 0.008*\"kitchen\" + 0.008*\"right\" + 0.008*\"spacious\"') \n",
      "\n",
      "(1, '0.015*\"towel\" + 0.014*\"bathroom\" + 0.014*\"kitchen\" + 0.009*\"shower\" + 0.009*\"leav\" + 0.009*\"water\" + 0.008*\"work\" + 0.006*\"guest\" + 0.006*\"provid\" + 0.006*\"sheet\"') \n",
      "\n",
      "(2, '0.023*\"block\" + 0.022*\"away\" + 0.016*\"store\" + 0.013*\"station\" + 0.013*\"train\" + 0.012*\"safe\" + 0.012*\"groceri\" + 0.012*\"minut\" + 0.011*\"park\" + 0.009*\"shop\"') \n",
      "\n",
      "(3, '0.030*\"quick\" + 0.024*\"respond\" + 0.017*\"respons\" + 0.016*\"excel\" + 0.015*\"question\" + 0.013*\"accommod\" + 0.012*\"super\" + 0.011*\"east\" + 0.010*\"awesom\" + 0.009*\"villag\"') \n",
      "\n",
      "(4, '0.036*\"park\" + 0.019*\"transport\" + 0.015*\"near\" + 0.015*\"squar\" + 0.014*\"enjoy\" + 0.014*\"wonder\" + 0.013*\"public\" + 0.012*\"station\" + 0.010*\"minut\" + 0.010*\"access\"') \n",
      "\n",
      "(5, '0.023*\"exact\" + 0.014*\"look\" + 0.014*\"describ\" + 0.011*\"villag\" + 0.011*\"pictur\" + 0.010*\"list\" + 0.010*\"sure\" + 0.009*\"east\" + 0.009*\"want\" + 0.009*\"leav\"') \n",
      "\n",
      "(6, '0.023*\"question\" + 0.020*\"appart\" + 0.019*\"flat\" + 0.018*\"answer\" + 0.016*\"super\" + 0.011*\"person\" + 0.011*\"enjoy\" + 0.011*\"avail\" + 0.011*\"come\" + 0.010*\"michael\"') \n",
      "\n",
      "(7, '0.035*\"amaz\" + 0.016*\"hous\" + 0.014*\"trip\" + 0.013*\"visit\" + 0.012*\"day\" + 0.012*\"super\" + 0.012*\"come\" + 0.011*\"look\" + 0.010*\"enjoy\" + 0.010*\"beauti\"') \n",
      "\n",
      "(8, '0.017*\"sleep\" + 0.013*\"small\" + 0.012*\"nois\" + 0.012*\"bedroom\" + 0.011*\"peopl\" + 0.010*\"space\" + 0.010*\"street\" + 0.010*\"bathroom\" + 0.010*\"littl\" + 0.009*\"floor\"') \n",
      "\n",
      "(9, '0.025*\"accommod\" + 0.014*\"wonder\" + 0.013*\"better\" + 0.011*\"come\" + 0.011*\"couldn\" + 0.010*\"airbnb\" + 0.009*\"go\" + 0.009*\"sure\" + 0.008*\"spacious\" + 0.008*\"feel\"') \n",
      "\n",
      "\n",
      "\n",
      "(0, '0.022*\"reserv\" + 0.021*\"day\" + 0.016*\"cancel\" + 0.016*\"chris\" + 0.016*\"post\" + 0.012*\"kevin\" + 0.011*\"jason\" + 0.010*\"fresh\" + 0.009*\"space\" + 0.009*\"go\"') \n",
      "\n",
      "(1, '0.029*\"accommod\" + 0.017*\"look\" + 0.013*\"trip\" + 0.013*\"right\" + 0.013*\"store\" + 0.012*\"super\" + 0.012*\"park\" + 0.012*\"access\" + 0.009*\"groceri\" + 0.009*\"extrem\"') \n",
      "\n",
      "(2, '0.019*\"earli\" + 0.017*\"leav\" + 0.017*\"late\" + 0.015*\"flight\" + 0.011*\"bag\" + 0.010*\"allow\" + 0.010*\"luggag\" + 0.009*\"accommod\" + 0.009*\"come\" + 0.008*\"hour\"') \n",
      "\n",
      "(3, '0.014*\"kitchen\" + 0.014*\"towel\" + 0.013*\"bathroom\" + 0.011*\"work\" + 0.010*\"shower\" + 0.008*\"bedroom\" + 0.008*\"water\" + 0.008*\"door\" + 0.007*\"leav\" + 0.006*\"provid\"') \n",
      "\n",
      "(4, '0.032*\"away\" + 0.030*\"station\" + 0.029*\"minut\" + 0.027*\"block\" + 0.027*\"squar\" + 0.021*\"park\" + 0.016*\"train\" + 0.012*\"near\" + 0.012*\"manhattan\" + 0.011*\"street\"') \n",
      "\n",
      "(5, '0.011*\"kitchen\" + 0.008*\"travel\" + 0.008*\"bathroom\" + 0.008*\"daniel\" + 0.007*\"dryer\" + 0.007*\"josh\" + 0.007*\"floor\" + 0.006*\"problem\" + 0.006*\"washer\" + 0.006*\"laura\"') \n",
      "\n",
      "(6, '0.015*\"littl\" + 0.014*\"small\" + 0.014*\"floor\" + 0.013*\"sleep\" + 0.013*\"nois\" + 0.012*\"bathroom\" + 0.012*\"overal\" + 0.011*\"issu\" + 0.010*\"peopl\" + 0.010*\"street\"') \n",
      "\n",
      "(7, '0.028*\"amaz\" + 0.027*\"view\" + 0.021*\"east\" + 0.020*\"villag\" + 0.019*\"space\" + 0.018*\"super\" + 0.013*\"live\" + 0.012*\"beauti\" + 0.012*\"bedroom\" + 0.010*\"enjoy\"') \n",
      "\n",
      "(8, '0.027*\"question\" + 0.026*\"give\" + 0.025*\"quick\" + 0.020*\"provid\" + 0.020*\"respond\" + 0.015*\"answer\" + 0.012*\"inform\" + 0.010*\"felt\" + 0.010*\"visit\" + 0.009*\"leav\"') \n",
      "\n",
      "(9, '0.035*\"appart\" + 0.023*\"exact\" + 0.018*\"pictur\" + 0.015*\"person\" + 0.015*\"look\" + 0.014*\"describ\" + 0.013*\"enjoy\" + 0.013*\"respons\" + 0.012*\"manhattan\" + 0.012*\"flat\"') \n",
      "\n",
      "(10, '0.034*\"park\" + 0.022*\"street\" + 0.016*\"museum\" + 0.015*\"nois\" + 0.012*\"sarah\" + 0.010*\"sleep\" + 0.009*\"valu\" + 0.009*\"light\" + 0.009*\"anna\" + 0.008*\"block\"') \n",
      "\n",
      "(11, '0.025*\"bar\" + 0.020*\"shop\" + 0.018*\"super\" + 0.018*\"amaz\" + 0.017*\"distanc\" + 0.015*\"awesom\" + 0.014*\"best\" + 0.013*\"villag\" + 0.011*\"lot\" + 0.010*\"feel\"') \n",
      "\n",
      "(12, '0.020*\"fantast\" + 0.017*\"accommod\" + 0.016*\"wonder\" + 0.014*\"spacious\" + 0.014*\"exact\" + 0.014*\"excel\" + 0.013*\"famili\" + 0.012*\"describ\" + 0.012*\"space\" + 0.011*\"beauti\"') \n",
      "\n",
      "(13, '0.023*\"flat\" + 0.021*\"build\" + 0.020*\"wonder\" + 0.019*\"beauti\" + 0.016*\"kind\" + 0.015*\"hous\" + 0.014*\"state\" + 0.014*\"visit\" + 0.012*\"empir\" + 0.010*\"enjoy\"') \n",
      "\n",
      "(14, '0.015*\"want\" + 0.013*\"feel\" + 0.012*\"airbnb\" + 0.012*\"live\" + 0.012*\"travel\" + 0.011*\"space\" + 0.010*\"best\" + 0.009*\"expect\" + 0.009*\"know\" + 0.007*\"work\"') \n",
      "\n"
     ]
    },
    {
     "data": {
      "text/plain": [
       "[None,\n",
       " None,\n",
       " None,\n",
       " None,\n",
       " None,\n",
       " None,\n",
       " None,\n",
       " None,\n",
       " None,\n",
       " None,\n",
       " None,\n",
       " None,\n",
       " None,\n",
       " None,\n",
       " None]"
      ]
     },
     "execution_count": 331,
     "metadata": {},
     "output_type": "execute_result"
    }
   ],
   "source": [
    "[print(t, '\\n') for t in topics04_strict_top]\n",
    "print('\\n')\n",
    "[print(t, '\\n') for t in topics07_strict_top]\n",
    "print('\\n')\n",
    "[print(t, '\\n') for t in topics10_strict_top]\n",
    "print('\\n')\n",
    "[print(t, '\\n') for t in topics15_strict_top]"
   ]
  },
  {
   "cell_type": "code",
   "execution_count": 347,
   "metadata": {},
   "outputs": [
    {
     "data": {
      "text/plain": [
       "(13297.7, 0.03760048730231544)"
      ]
     },
     "execution_count": 347,
     "metadata": {},
     "output_type": "execute_result"
    }
   ],
   "source": [
    "flat_df_HOST_NAME.shape[0] * .05, 100*100 / flat_df_HOST_NAME.shape[0]"
   ]
  },
  {
   "cell_type": "code",
   "execution_count": 348,
   "metadata": {},
   "outputs": [
    {
     "name": "stdout",
     "output_type": "stream",
     "text": [
      "Loaded File\n",
      "Made Corpus\n",
      "finished lda model, n=10 topics\n",
      "(0, '0.025*\"coffe\" + 0.020*\"towel\" + 0.013*\"breakfast\" + 0.012*\"food\" + 0.009*\"water\" + 0.009*\"plenti\" + 0.009*\"fresh\" + 0.009*\"store\" + 0.008*\"fridg\" + 0.008*\"morn\"') \n",
      "\n",
      "(1, '0.076*\"awesom\" + 0.024*\"john\" + 0.023*\"cute\" + 0.016*\"sweet\" + 0.013*\"jam\" + 0.013*\"roommat\" + 0.011*\"paul\" + 0.010*\"cool\" + 0.010*\"ador\" + 0.010*\"comfi\"') \n",
      "\n",
      "(2, '0.039*\"east\" + 0.038*\"villag\" + 0.019*\"west\" + 0.016*\"soho\" + 0.014*\"spot\" + 0.014*\"heart\" + 0.013*\"upper\" + 0.012*\"lower\" + 0.012*\"loft\" + 0.012*\"explor\"') \n",
      "\n",
      "(3, '0.039*\"view\" + 0.038*\"better\" + 0.021*\"couldn\" + 0.017*\"absolut\" + 0.015*\"incred\" + 0.010*\"awesom\" + 0.010*\"hotel\" + 0.009*\"extrem\" + 0.008*\"state\" + 0.008*\"decor\"') \n",
      "\n",
      "(4, '0.031*\"flat\" + 0.027*\"transport\" + 0.023*\"lot\" + 0.020*\"nearbi\" + 0.018*\"public\" + 0.017*\"store\" + 0.015*\"famili\" + 0.015*\"plenti\" + 0.014*\"equip\" + 0.013*\"groceri\"') \n",
      "\n",
      "(5, '0.015*\"nois\" + 0.011*\"shower\" + 0.011*\"door\" + 0.011*\"floor\" + 0.010*\"issu\" + 0.010*\"window\" + 0.008*\"price\" + 0.008*\"problem\" + 0.008*\"noisi\" + 0.007*\"light\"') \n",
      "\n",
      "(6, '0.027*\"late\" + 0.022*\"flight\" + 0.021*\"key\" + 0.020*\"luggag\" + 0.018*\"stair\" + 0.016*\"earli\" + 0.015*\"meet\" + 0.013*\"floor\" + 0.013*\"flexibl\" + 0.013*\"problem\"') \n",
      "\n",
      "(7, '0.023*\"list\" + 0.022*\"book\" + 0.017*\"accur\" + 0.016*\"respond\" + 0.015*\"descript\" + 0.015*\"extrem\" + 0.014*\"hous\" + 0.013*\"answer\" + 0.012*\"avail\" + 0.011*\"process\"') \n",
      "\n",
      "(8, '0.044*\"appart\" + 0.020*\"chelsea\" + 0.019*\"alex\" + 0.018*\"michael\" + 0.017*\"metro\" + 0.017*\"line\" + 0.014*\"district\" + 0.013*\"center\" + 0.010*\"market\" + 0.010*\"mari\"') \n",
      "\n",
      "(9, '0.023*\"hous\" + 0.020*\"train\" + 0.017*\"harlem\" + 0.016*\"take\" + 0.014*\"travel\" + 0.012*\"downtown\" + 0.011*\"care\" + 0.009*\"share\" + 0.009*\"guest\" + 0.008*\"know\"') \n",
      "\n",
      "Loaded File\n",
      "Made Corpus\n",
      "finished lda model, n=10 topics\n",
      "(0, '0.040*\"answer\" + 0.037*\"appart\" + 0.035*\"respond\" + 0.026*\"avail\" + 0.022*\"accur\" + 0.019*\"descript\" + 0.019*\"prompt\" + 0.018*\"photo\" + 0.017*\"messag\" + 0.015*\"list\"') \n",
      "\n",
      "(1, '0.093*\"awesom\" + 0.056*\"studio\" + 0.042*\"cute\" + 0.042*\"weekend\" + 0.030*\"flexibl\" + 0.027*\"day\" + 0.024*\"spot\" + 0.024*\"extrem\" + 0.020*\"sweet\" + 0.018*\"reserv\"') \n",
      "\n",
      "(2, '0.047*\"east\" + 0.046*\"villag\" + 0.034*\"better\" + 0.023*\"west\" + 0.022*\"couldn\" + 0.018*\"heart\" + 0.018*\"absolut\" + 0.016*\"upper\" + 0.014*\"incred\" + 0.013*\"decor\"') \n",
      "\n",
      "(3, '0.040*\"food\" + 0.033*\"store\" + 0.028*\"nearbi\" + 0.028*\"coffe\" + 0.023*\"lot\" + 0.021*\"groceri\" + 0.018*\"corner\" + 0.017*\"plenti\" + 0.014*\"market\" + 0.013*\"breakfast\"') \n",
      "\n",
      "(4, '0.015*\"towel\" + 0.014*\"issu\" + 0.013*\"door\" + 0.013*\"nois\" + 0.012*\"problem\" + 0.010*\"wasn\" + 0.009*\"shower\" + 0.009*\"price\" + 0.009*\"think\" + 0.008*\"guest\"') \n",
      "\n",
      "(5, '0.026*\"floor\" + 0.018*\"light\" + 0.018*\"view\" + 0.016*\"larg\" + 0.015*\"window\" + 0.013*\"bed\" + 0.013*\"shower\" + 0.011*\"stair\" + 0.011*\"size\" + 0.011*\"elev\"') \n",
      "\n",
      "(6, '0.022*\"smooth\" + 0.020*\"key\" + 0.020*\"instruct\" + 0.019*\"clear\" + 0.019*\"advertis\" + 0.017*\"expect\" + 0.016*\"process\" + 0.015*\"meet\" + 0.014*\"get\" + 0.012*\"loft\"') \n",
      "\n",
      "(7, '0.052*\"late\" + 0.044*\"transport\" + 0.033*\"flight\" + 0.030*\"earli\" + 0.029*\"public\" + 0.023*\"luggag\" + 0.021*\"flexibl\" + 0.019*\"wait\" + 0.019*\"hour\" + 0.018*\"allow\"') \n",
      "\n",
      "(8, '0.042*\"flat\" + 0.038*\"famili\" + 0.027*\"line\" + 0.023*\"downtown\" + 0.022*\"train\" + 0.017*\"metro\" + 0.017*\"harlem\" + 0.014*\"center\" + 0.013*\"attract\" + 0.012*\"stop\"') \n",
      "\n",
      "(9, '0.046*\"hous\" + 0.018*\"care\" + 0.018*\"guest\" + 0.014*\"warm\" + 0.014*\"take\" + 0.014*\"share\" + 0.013*\"know\" + 0.012*\"hospit\" + 0.012*\"privaci\" + 0.011*\"michael\"') \n",
      "\n",
      "Loaded File\n",
      "Made Corpus\n",
      "finished lda model, n=7 topics\n"
     ]
    },
    {
     "ename": "NameError",
     "evalue": "name 'topics10_st_05_sb1000' is not defined",
     "output_type": "error",
     "traceback": [
      "\u001b[0;31m---------------------------------------------------------------------------\u001b[0m",
      "\u001b[0;31mNameError\u001b[0m                                 Traceback (most recent call last)",
      "\u001b[0;32m<ipython-input-348-da2ed6d14a0f>\u001b[0m in \u001b[0;36m<module>\u001b[0;34m\u001b[0m\n\u001b[1;32m     23\u001b[0m                                                      npasses= 10)\n\u001b[1;32m     24\u001b[0m \u001b[0mprint\u001b[0m\u001b[0;34m(\u001b[0m\u001b[0;34m'finished lda model, n=7 topics'\u001b[0m\u001b[0;34m)\u001b[0m\u001b[0;34m\u001b[0m\u001b[0;34m\u001b[0m\u001b[0m\n\u001b[0;32m---> 25\u001b[0;31m \u001b[0;34m[\u001b[0m\u001b[0mprint\u001b[0m\u001b[0;34m(\u001b[0m\u001b[0mt\u001b[0m\u001b[0;34m,\u001b[0m \u001b[0;34m'\\n'\u001b[0m\u001b[0;34m)\u001b[0m \u001b[0;32mfor\u001b[0m \u001b[0mt\u001b[0m \u001b[0;32min\u001b[0m \u001b[0mtopics10_st_05_sb1000\u001b[0m\u001b[0;34m]\u001b[0m\u001b[0;34m\u001b[0m\u001b[0;34m\u001b[0m\u001b[0m\n\u001b[0m\u001b[1;32m     26\u001b[0m \u001b[0;34m\u001b[0m\u001b[0m\n\u001b[1;32m     27\u001b[0m \u001b[0;34m\u001b[0m\u001b[0m\n",
      "\u001b[0;31mNameError\u001b[0m: name 'topics10_st_05_sb1000' is not defined"
     ]
    }
   ],
   "source": [
    "lda10_strict_top_05, topics10_strict_top_05, corpus10_strict_top_05, dictionary10_strict_top_05 =  \\\n",
    "                                extract_topic_vectors(datadir+'flat_df_newclean_HOST_NAME.pkl',\n",
    "                                                             tf_idf = False, n_topics=10,\n",
    "                                                              no_below = 0, no_above = .05,\n",
    "                                                     npasses= 10)\n",
    "print('finished lda model, n=10 topics')\n",
    "[print(t, '\\n') for t in topics10_strict_top_05]\n",
    "\n",
    "\n",
    "lda10_st_05_sb0200, topics10_st_05_sb0200, corpus10_st_05_sb0200, dictionary10_st_05_sb0200 =  \\\n",
    "                                extract_topic_vectors(datadir+'flat_df_newclean_HOST_NAME.pkl',\n",
    "                                                             tf_idf = False, n_topics=10,\n",
    "                                                              no_below = 200, no_above = .05,\n",
    "                                                     npasses= 10)\n",
    "print('finished lda model, n=10 topics')\n",
    "[print(t, '\\n') for t in topics10_st_05_sb0200]\n",
    "\n",
    "\n",
    "lda07_st_05_sb1000, topics07_st_05_sb1000, corpus07_st_05_sb1000, dictionary07_st_05_sb1000 =  \\\n",
    "                                extract_topic_vectors(datadir+'flat_df_newclean_HOST_NAME.pkl',\n",
    "                                                             tf_idf = False, n_topics=7,\n",
    "                                                              no_below = 1000, no_above = .05,\n",
    "                                                     npasses= 10)\n"
   ]
  },
  {
   "cell_type": "code",
   "execution_count": 349,
   "metadata": {},
   "outputs": [
    {
     "name": "stdout",
     "output_type": "stream",
     "text": [
      "finished lda model, n=7 topics\n",
      "(0, '0.035*\"respond\" + 0.032*\"late\" + 0.031*\"flexibl\" + 0.024*\"answer\" + 0.022*\"key\" + 0.021*\"meet\" + 0.017*\"earli\" + 0.017*\"prompt\" + 0.016*\"flight\" + 0.016*\"avail\"') \n",
      "\n",
      "(1, '0.053*\"hous\" + 0.047*\"flat\" + 0.038*\"metro\" + 0.033*\"appart\" + 0.027*\"day\" + 0.020*\"neighbourhood\" + 0.018*\"spend\" + 0.017*\"cosi\" + 0.017*\"harlem\" + 0.016*\"warm\"') \n",
      "\n",
      "(2, '0.022*\"food\" + 0.019*\"train\" + 0.018*\"lot\" + 0.016*\"local\" + 0.016*\"nearbi\" + 0.016*\"explor\" + 0.015*\"line\" + 0.015*\"short\" + 0.014*\"coffe\" + 0.012*\"privat\"') \n",
      "\n",
      "(3, '0.032*\"nois\" + 0.031*\"floor\" + 0.025*\"price\" + 0.023*\"transport\" + 0.022*\"pretti\" + 0.019*\"valu\" + 0.019*\"window\" + 0.019*\"stair\" + 0.018*\"public\" + 0.018*\"noisi\"') \n",
      "\n",
      "(4, '0.023*\"guest\" + 0.019*\"know\" + 0.017*\"list\" + 0.016*\"door\" + 0.016*\"issu\" + 0.014*\"book\" + 0.014*\"accur\" + 0.014*\"think\" + 0.013*\"wasn\" + 0.013*\"say\"') \n",
      "\n",
      "(5, '0.035*\"towel\" + 0.030*\"bed\" + 0.023*\"water\" + 0.022*\"shower\" + 0.018*\"plenti\" + 0.017*\"wifi\" + 0.017*\"larg\" + 0.015*\"equip\" + 0.013*\"cook\" + 0.013*\"coffe\"') \n",
      "\n",
      "(6, '0.038*\"east\" + 0.037*\"villag\" + 0.029*\"better\" + 0.026*\"awesom\" + 0.023*\"absolut\" + 0.022*\"studio\" + 0.019*\"west\" + 0.019*\"extrem\" + 0.018*\"view\" + 0.017*\"heart\"') \n",
      "\n"
     ]
    },
    {
     "data": {
      "text/plain": [
       "[None, None, None, None, None, None, None]"
      ]
     },
     "execution_count": 349,
     "metadata": {},
     "output_type": "execute_result"
    }
   ],
   "source": [
    "print('finished lda model, n=7 topics')\n",
    "[print(t, '\\n') for t in topics07_st_05_sb1000]\n",
    "\n"
   ]
  },
  {
   "cell_type": "code",
   "execution_count": 350,
   "metadata": {},
   "outputs": [
    {
     "name": "stdout",
     "output_type": "stream",
     "text": [
      "Loaded File\n",
      "Made Corpus\n",
      "finished lda model, n=10 topics\n",
      "(0, '0.051*\"absolut\" + 0.036*\"incred\" + 0.030*\"studio\" + 0.029*\"hope\" + 0.026*\"decor\" + 0.020*\"return\" + 0.018*\"soon\" + 0.017*\"futur\" + 0.015*\"charm\" + 0.015*\"truli\"') \n",
      "\n",
      "(1, '0.103*\"hous\" + 0.097*\"awesom\" + 0.091*\"better\" + 0.058*\"appart\" + 0.053*\"price\" + 0.046*\"couldn\" + 0.046*\"valu\" + 0.026*\"hotel\" + 0.023*\"david\" + 0.022*\"ask\"') \n",
      "\n",
      "(2, '0.037*\"flexibl\" + 0.034*\"late\" + 0.029*\"meet\" + 0.029*\"key\" + 0.028*\"respond\" + 0.021*\"list\" + 0.020*\"answer\" + 0.020*\"earli\" + 0.020*\"accur\" + 0.019*\"flight\"') \n",
      "\n",
      "(3, '0.064*\"east\" + 0.062*\"villag\" + 0.038*\"lot\" + 0.033*\"explor\" + 0.032*\"spot\" + 0.031*\"west\" + 0.029*\"heart\" + 0.029*\"cool\" + 0.025*\"soho\" + 0.022*\"upper\"') \n",
      "\n",
      "(4, '0.028*\"towel\" + 0.028*\"coffe\" + 0.022*\"breakfast\" + 0.022*\"take\" + 0.016*\"care\" + 0.015*\"offer\" + 0.015*\"food\" + 0.015*\"morn\" + 0.014*\"inform\" + 0.014*\"know\"') \n",
      "\n",
      "(5, '0.065*\"view\" + 0.038*\"privat\" + 0.027*\"share\" + 0.026*\"attract\" + 0.025*\"privaci\" + 0.018*\"guest\" + 0.018*\"roommat\" + 0.018*\"hospit\" + 0.017*\"warm\" + 0.017*\"talk\"') \n",
      "\n",
      "(6, '0.025*\"floor\" + 0.023*\"nois\" + 0.017*\"door\" + 0.016*\"problem\" + 0.016*\"issu\" + 0.014*\"stair\" + 0.013*\"noisi\" + 0.013*\"window\" + 0.012*\"wasn\" + 0.012*\"light\"') \n",
      "\n",
      "(7, '0.053*\"extrem\" + 0.052*\"famili\" + 0.029*\"short\" + 0.025*\"advertis\" + 0.023*\"book\" + 0.022*\"clear\" + 0.022*\"instruct\" + 0.021*\"attent\" + 0.019*\"michael\" + 0.018*\"amen\"') \n",
      "\n",
      "(8, '0.036*\"store\" + 0.023*\"plenti\" + 0.022*\"groceri\" + 0.021*\"larg\" + 0.020*\"bed\" + 0.020*\"nearbi\" + 0.019*\"food\" + 0.018*\"equip\" + 0.017*\"size\" + 0.016*\"shower\"') \n",
      "\n",
      "(9, '0.067*\"flat\" + 0.052*\"transport\" + 0.048*\"metro\" + 0.042*\"day\" + 0.037*\"downtown\" + 0.035*\"train\" + 0.035*\"public\" + 0.031*\"harlem\" + 0.028*\"line\" + 0.020*\"alex\"') \n",
      "\n"
     ]
    },
    {
     "data": {
      "text/plain": [
       "[None, None, None, None, None, None, None, None, None, None]"
      ]
     },
     "execution_count": 350,
     "metadata": {},
     "output_type": "execute_result"
    }
   ],
   "source": [
    "\n",
    "lda10_st_05_sb1000, topics10_st_05_sb1000, corpus10_st_05_sb1000, dictionary10_st_05_sb1000 =  \\\n",
    "                                extract_topic_vectors(datadir+'flat_df_newclean_HOST_NAME.pkl',\n",
    "                                                             tf_idf = False, n_topics=10,\n",
    "                                                              no_below = 1000, no_above = .05,\n",
    "                                                     npasses= 10)\n",
    "print('finished lda model, n=10 topics')\n",
    "[print(t, '\\n') for t in topics10_st_05_sb1000]"
   ]
  },
  {
   "cell_type": "code",
   "execution_count": 376,
   "metadata": {},
   "outputs": [
    {
     "data": {
      "text/plain": [
       "[(0,\n",
       "  '0.051*\"absolut\" + 0.036*\"incred\" + 0.030*\"studio\" + 0.029*\"hope\" + 0.026*\"decor\" + 0.020*\"return\" + 0.018*\"soon\" + 0.017*\"futur\" + 0.015*\"charm\" + 0.015*\"truli\"'),\n",
       " (1,\n",
       "  '0.103*\"hous\" + 0.097*\"awesom\" + 0.091*\"better\" + 0.058*\"appart\" + 0.053*\"price\" + 0.046*\"couldn\" + 0.046*\"valu\" + 0.026*\"hotel\" + 0.023*\"david\" + 0.022*\"ask\"'),\n",
       " (2,\n",
       "  '0.037*\"flexibl\" + 0.034*\"late\" + 0.029*\"meet\" + 0.029*\"key\" + 0.028*\"respond\" + 0.021*\"list\" + 0.020*\"answer\" + 0.020*\"earli\" + 0.020*\"accur\" + 0.019*\"flight\"'),\n",
       " (3,\n",
       "  '0.064*\"east\" + 0.062*\"villag\" + 0.038*\"lot\" + 0.033*\"explor\" + 0.032*\"spot\" + 0.031*\"west\" + 0.029*\"heart\" + 0.029*\"cool\" + 0.025*\"soho\" + 0.022*\"upper\"'),\n",
       " (4,\n",
       "  '0.028*\"towel\" + 0.028*\"coffe\" + 0.022*\"breakfast\" + 0.022*\"take\" + 0.016*\"care\" + 0.015*\"offer\" + 0.015*\"food\" + 0.015*\"morn\" + 0.014*\"inform\" + 0.014*\"know\"'),\n",
       " (5,\n",
       "  '0.065*\"view\" + 0.038*\"privat\" + 0.027*\"share\" + 0.026*\"attract\" + 0.025*\"privaci\" + 0.018*\"guest\" + 0.018*\"roommat\" + 0.018*\"hospit\" + 0.017*\"warm\" + 0.017*\"talk\"'),\n",
       " (6,\n",
       "  '0.025*\"floor\" + 0.023*\"nois\" + 0.017*\"door\" + 0.016*\"problem\" + 0.016*\"issu\" + 0.014*\"stair\" + 0.013*\"noisi\" + 0.013*\"window\" + 0.012*\"wasn\" + 0.012*\"light\"'),\n",
       " (7,\n",
       "  '0.053*\"extrem\" + 0.052*\"famili\" + 0.029*\"short\" + 0.025*\"advertis\" + 0.023*\"book\" + 0.022*\"clear\" + 0.022*\"instruct\" + 0.021*\"attent\" + 0.019*\"michael\" + 0.018*\"amen\"'),\n",
       " (8,\n",
       "  '0.036*\"store\" + 0.023*\"plenti\" + 0.022*\"groceri\" + 0.021*\"larg\" + 0.020*\"bed\" + 0.020*\"nearbi\" + 0.019*\"food\" + 0.018*\"equip\" + 0.017*\"size\" + 0.016*\"shower\"'),\n",
       " (9,\n",
       "  '0.067*\"flat\" + 0.052*\"transport\" + 0.048*\"metro\" + 0.042*\"day\" + 0.037*\"downtown\" + 0.035*\"train\" + 0.035*\"public\" + 0.031*\"harlem\" + 0.028*\"line\" + 0.020*\"alex\"')]"
      ]
     },
     "execution_count": 376,
     "metadata": {},
     "output_type": "execute_result"
    }
   ],
   "source": [
    "topics10_st_05_sb1000"
   ]
  },
  {
   "cell_type": "code",
   "execution_count": 371,
   "metadata": {},
   "outputs": [
    {
     "data": {
      "text/html": [
       "<div>\n",
       "<style scoped>\n",
       "    .dataframe tbody tr th:only-of-type {\n",
       "        vertical-align: middle;\n",
       "    }\n",
       "\n",
       "    .dataframe tbody tr th {\n",
       "        vertical-align: top;\n",
       "    }\n",
       "\n",
       "    .dataframe thead th {\n",
       "        text-align: right;\n",
       "    }\n",
       "</style>\n",
       "<table border=\"1\" class=\"dataframe\">\n",
       "  <thead>\n",
       "    <tr style=\"text-align: right;\">\n",
       "      <th></th>\n",
       "      <th>topic_weight_0</th>\n",
       "      <th>topic_stem_0</th>\n",
       "      <th>topic_weight_1</th>\n",
       "      <th>topic_stem_1</th>\n",
       "      <th>topic_weight_2</th>\n",
       "      <th>topic_stem_2</th>\n",
       "      <th>topic_weight_3</th>\n",
       "      <th>topic_stem_3</th>\n",
       "      <th>topic_weight_4</th>\n",
       "      <th>topic_stem_4</th>\n",
       "      <th>topic_weight_5</th>\n",
       "      <th>topic_stem_5</th>\n",
       "      <th>topic_weight_6</th>\n",
       "      <th>topic_stem_6</th>\n",
       "      <th>topic_weight_7</th>\n",
       "      <th>topic_stem_7</th>\n",
       "      <th>topic_weight_8</th>\n",
       "      <th>topic_stem_8</th>\n",
       "      <th>topic_weight_9</th>\n",
       "      <th>topic_stem_9</th>\n",
       "    </tr>\n",
       "  </thead>\n",
       "  <tbody>\n",
       "    <tr>\n",
       "      <td>0</td>\n",
       "      <td>0.051</td>\n",
       "      <td>absolut</td>\n",
       "      <td>0.103</td>\n",
       "      <td>hous</td>\n",
       "      <td>0.037</td>\n",
       "      <td>flexibl</td>\n",
       "      <td>0.064</td>\n",
       "      <td>east</td>\n",
       "      <td>0.028</td>\n",
       "      <td>towel</td>\n",
       "      <td>0.065</td>\n",
       "      <td>view</td>\n",
       "      <td>0.025</td>\n",
       "      <td>floor</td>\n",
       "      <td>0.053</td>\n",
       "      <td>extrem</td>\n",
       "      <td>0.036</td>\n",
       "      <td>store</td>\n",
       "      <td>0.067</td>\n",
       "      <td>flat</td>\n",
       "    </tr>\n",
       "    <tr>\n",
       "      <td>1</td>\n",
       "      <td>0.036</td>\n",
       "      <td>incred</td>\n",
       "      <td>0.097</td>\n",
       "      <td>awesom</td>\n",
       "      <td>0.034</td>\n",
       "      <td>late</td>\n",
       "      <td>0.062</td>\n",
       "      <td>villag</td>\n",
       "      <td>0.028</td>\n",
       "      <td>coffe</td>\n",
       "      <td>0.038</td>\n",
       "      <td>privat</td>\n",
       "      <td>0.023</td>\n",
       "      <td>nois</td>\n",
       "      <td>0.052</td>\n",
       "      <td>famili</td>\n",
       "      <td>0.023</td>\n",
       "      <td>plenti</td>\n",
       "      <td>0.052</td>\n",
       "      <td>transport</td>\n",
       "    </tr>\n",
       "    <tr>\n",
       "      <td>2</td>\n",
       "      <td>0.030</td>\n",
       "      <td>studio</td>\n",
       "      <td>0.091</td>\n",
       "      <td>better</td>\n",
       "      <td>0.029</td>\n",
       "      <td>meet</td>\n",
       "      <td>0.038</td>\n",
       "      <td>lot</td>\n",
       "      <td>0.022</td>\n",
       "      <td>breakfast</td>\n",
       "      <td>0.027</td>\n",
       "      <td>share</td>\n",
       "      <td>0.017</td>\n",
       "      <td>door</td>\n",
       "      <td>0.029</td>\n",
       "      <td>short</td>\n",
       "      <td>0.022</td>\n",
       "      <td>groceri</td>\n",
       "      <td>0.048</td>\n",
       "      <td>metro</td>\n",
       "    </tr>\n",
       "    <tr>\n",
       "      <td>3</td>\n",
       "      <td>0.029</td>\n",
       "      <td>hope</td>\n",
       "      <td>0.058</td>\n",
       "      <td>appart</td>\n",
       "      <td>0.029</td>\n",
       "      <td>key</td>\n",
       "      <td>0.033</td>\n",
       "      <td>explor</td>\n",
       "      <td>0.022</td>\n",
       "      <td>take</td>\n",
       "      <td>0.026</td>\n",
       "      <td>attract</td>\n",
       "      <td>0.016</td>\n",
       "      <td>problem</td>\n",
       "      <td>0.025</td>\n",
       "      <td>advertis</td>\n",
       "      <td>0.021</td>\n",
       "      <td>larg</td>\n",
       "      <td>0.042</td>\n",
       "      <td>day</td>\n",
       "    </tr>\n",
       "    <tr>\n",
       "      <td>4</td>\n",
       "      <td>0.026</td>\n",
       "      <td>decor</td>\n",
       "      <td>0.053</td>\n",
       "      <td>price</td>\n",
       "      <td>0.028</td>\n",
       "      <td>respond</td>\n",
       "      <td>0.032</td>\n",
       "      <td>spot</td>\n",
       "      <td>0.016</td>\n",
       "      <td>care</td>\n",
       "      <td>0.025</td>\n",
       "      <td>privaci</td>\n",
       "      <td>0.016</td>\n",
       "      <td>issu</td>\n",
       "      <td>0.023</td>\n",
       "      <td>book</td>\n",
       "      <td>0.020</td>\n",
       "      <td>bed</td>\n",
       "      <td>0.037</td>\n",
       "      <td>downtown</td>\n",
       "    </tr>\n",
       "    <tr>\n",
       "      <td>5</td>\n",
       "      <td>0.020</td>\n",
       "      <td>return</td>\n",
       "      <td>0.046</td>\n",
       "      <td>couldn</td>\n",
       "      <td>0.021</td>\n",
       "      <td>list</td>\n",
       "      <td>0.031</td>\n",
       "      <td>west</td>\n",
       "      <td>0.015</td>\n",
       "      <td>offer</td>\n",
       "      <td>0.018</td>\n",
       "      <td>guest</td>\n",
       "      <td>0.014</td>\n",
       "      <td>stair</td>\n",
       "      <td>0.022</td>\n",
       "      <td>clear</td>\n",
       "      <td>0.020</td>\n",
       "      <td>nearbi</td>\n",
       "      <td>0.035</td>\n",
       "      <td>train</td>\n",
       "    </tr>\n",
       "    <tr>\n",
       "      <td>6</td>\n",
       "      <td>0.018</td>\n",
       "      <td>soon</td>\n",
       "      <td>0.046</td>\n",
       "      <td>valu</td>\n",
       "      <td>0.020</td>\n",
       "      <td>answer</td>\n",
       "      <td>0.029</td>\n",
       "      <td>heart</td>\n",
       "      <td>0.015</td>\n",
       "      <td>food</td>\n",
       "      <td>0.018</td>\n",
       "      <td>roommat</td>\n",
       "      <td>0.013</td>\n",
       "      <td>noisi</td>\n",
       "      <td>0.022</td>\n",
       "      <td>instruct</td>\n",
       "      <td>0.019</td>\n",
       "      <td>food</td>\n",
       "      <td>0.035</td>\n",
       "      <td>public</td>\n",
       "    </tr>\n",
       "    <tr>\n",
       "      <td>7</td>\n",
       "      <td>0.017</td>\n",
       "      <td>futur</td>\n",
       "      <td>0.026</td>\n",
       "      <td>hotel</td>\n",
       "      <td>0.020</td>\n",
       "      <td>earli</td>\n",
       "      <td>0.029</td>\n",
       "      <td>cool</td>\n",
       "      <td>0.015</td>\n",
       "      <td>morn</td>\n",
       "      <td>0.018</td>\n",
       "      <td>hospit</td>\n",
       "      <td>0.013</td>\n",
       "      <td>window</td>\n",
       "      <td>0.021</td>\n",
       "      <td>attent</td>\n",
       "      <td>0.018</td>\n",
       "      <td>equip</td>\n",
       "      <td>0.031</td>\n",
       "      <td>harlem</td>\n",
       "    </tr>\n",
       "    <tr>\n",
       "      <td>8</td>\n",
       "      <td>0.015</td>\n",
       "      <td>charm</td>\n",
       "      <td>0.023</td>\n",
       "      <td>david</td>\n",
       "      <td>0.020</td>\n",
       "      <td>accur</td>\n",
       "      <td>0.025</td>\n",
       "      <td>soho</td>\n",
       "      <td>0.014</td>\n",
       "      <td>inform</td>\n",
       "      <td>0.017</td>\n",
       "      <td>warm</td>\n",
       "      <td>0.012</td>\n",
       "      <td>wasn</td>\n",
       "      <td>0.019</td>\n",
       "      <td>michael</td>\n",
       "      <td>0.017</td>\n",
       "      <td>size</td>\n",
       "      <td>0.028</td>\n",
       "      <td>line</td>\n",
       "    </tr>\n",
       "    <tr>\n",
       "      <td>9</td>\n",
       "      <td>0.015</td>\n",
       "      <td>truli</td>\n",
       "      <td>0.022</td>\n",
       "      <td>ask</td>\n",
       "      <td>0.019</td>\n",
       "      <td>flight</td>\n",
       "      <td>0.022</td>\n",
       "      <td>upper</td>\n",
       "      <td>0.014</td>\n",
       "      <td>know</td>\n",
       "      <td>0.017</td>\n",
       "      <td>talk</td>\n",
       "      <td>0.012</td>\n",
       "      <td>light</td>\n",
       "      <td>0.018</td>\n",
       "      <td>amen</td>\n",
       "      <td>0.016</td>\n",
       "      <td>shower</td>\n",
       "      <td>0.020</td>\n",
       "      <td>alex</td>\n",
       "    </tr>\n",
       "  </tbody>\n",
       "</table>\n",
       "</div>"
      ],
      "text/plain": [
       "   topic_weight_0 topic_stem_0  topic_weight_1 topic_stem_1  topic_weight_2  \\\n",
       "0           0.051      absolut           0.103         hous           0.037   \n",
       "1           0.036       incred           0.097       awesom           0.034   \n",
       "2           0.030       studio           0.091       better           0.029   \n",
       "3           0.029         hope           0.058       appart           0.029   \n",
       "4           0.026        decor           0.053        price           0.028   \n",
       "5           0.020       return           0.046       couldn           0.021   \n",
       "6           0.018         soon           0.046         valu           0.020   \n",
       "7           0.017        futur           0.026        hotel           0.020   \n",
       "8           0.015        charm           0.023        david           0.020   \n",
       "9           0.015        truli           0.022          ask           0.019   \n",
       "\n",
       "  topic_stem_2  topic_weight_3 topic_stem_3  topic_weight_4 topic_stem_4  \\\n",
       "0      flexibl           0.064         east           0.028        towel   \n",
       "1         late           0.062       villag           0.028        coffe   \n",
       "2         meet           0.038          lot           0.022    breakfast   \n",
       "3          key           0.033       explor           0.022         take   \n",
       "4      respond           0.032         spot           0.016         care   \n",
       "5         list           0.031         west           0.015        offer   \n",
       "6       answer           0.029        heart           0.015         food   \n",
       "7        earli           0.029         cool           0.015         morn   \n",
       "8        accur           0.025         soho           0.014       inform   \n",
       "9       flight           0.022        upper           0.014         know   \n",
       "\n",
       "   topic_weight_5 topic_stem_5  topic_weight_6 topic_stem_6  topic_weight_7  \\\n",
       "0           0.065         view           0.025        floor           0.053   \n",
       "1           0.038       privat           0.023         nois           0.052   \n",
       "2           0.027        share           0.017         door           0.029   \n",
       "3           0.026      attract           0.016      problem           0.025   \n",
       "4           0.025      privaci           0.016         issu           0.023   \n",
       "5           0.018        guest           0.014        stair           0.022   \n",
       "6           0.018      roommat           0.013        noisi           0.022   \n",
       "7           0.018       hospit           0.013       window           0.021   \n",
       "8           0.017         warm           0.012         wasn           0.019   \n",
       "9           0.017         talk           0.012        light           0.018   \n",
       "\n",
       "  topic_stem_7  topic_weight_8 topic_stem_8  topic_weight_9 topic_stem_9  \n",
       "0       extrem           0.036        store           0.067         flat  \n",
       "1       famili           0.023       plenti           0.052    transport  \n",
       "2        short           0.022      groceri           0.048        metro  \n",
       "3     advertis           0.021         larg           0.042          day  \n",
       "4         book           0.020          bed           0.037     downtown  \n",
       "5        clear           0.020       nearbi           0.035        train  \n",
       "6     instruct           0.019         food           0.035       public  \n",
       "7       attent           0.018        equip           0.031       harlem  \n",
       "8      michael           0.017         size           0.028         line  \n",
       "9         amen           0.016       shower           0.020         alex  "
      ]
     },
     "execution_count": 371,
     "metadata": {},
     "output_type": "execute_result"
    }
   ],
   "source": [
    "topics10_st_05_sb1000_df = pd.DataFrame()\n",
    "w_df = np.zeros((10, 10))\n",
    "st_df = np.zeros((10, 10), dtype=str)\n",
    "\n",
    "for ind, vals in topics10_st_05_sb1000:\n",
    "    w_label = 'topic_weight_'+ str(ind)\n",
    "    s_label = 'topic_stem_'+ str(ind)\n",
    "    weights_x_stems = vals.split(' + ')\n",
    "    weights = [float(i.split('*')[0]) for i in weights_x_stems]\n",
    "    stems = [i.split('*')[1][1:-1] for i in weights_x_stems]\n",
    "    topics10_st_05_sb1000_df[w_label] = weights\n",
    "    topics10_st_05_sb1000_df[s_label] = stems\n",
    "\n"
   ]
  },
  {
   "cell_type": "code",
   "execution_count": 386,
   "metadata": {},
   "outputs": [
    {
     "name": "stdout",
     "output_type": "stream",
     "text": [
      "['topic_weight_0', 'topic_weight_1', 'topic_weight_2', 'topic_weight_3', 'topic_weight_4', 'topic_weight_5', 'topic_weight_6', 'topic_weight_7', 'topic_weight_8', 'topic_weight_9'] ['topic_stem_0', 'topic_stem_1', 'topic_stem_2', 'topic_stem_3', 'topic_stem_4', 'topic_stem_5', 'topic_stem_6', 'topic_stem_7', 'topic_stem_8', 'topic_stem_9']\n"
     ]
    },
    {
     "data": {
      "text/html": [
       "<div>\n",
       "<style scoped>\n",
       "    .dataframe tbody tr th:only-of-type {\n",
       "        vertical-align: middle;\n",
       "    }\n",
       "\n",
       "    .dataframe tbody tr th {\n",
       "        vertical-align: top;\n",
       "    }\n",
       "\n",
       "    .dataframe thead th {\n",
       "        text-align: right;\n",
       "    }\n",
       "</style>\n",
       "<table border=\"1\" class=\"dataframe\">\n",
       "  <thead>\n",
       "    <tr style=\"text-align: right;\">\n",
       "      <th></th>\n",
       "      <th>topic_stem_0</th>\n",
       "      <th>topic_stem_1</th>\n",
       "      <th>topic_stem_2</th>\n",
       "      <th>topic_stem_3</th>\n",
       "      <th>topic_stem_4</th>\n",
       "      <th>topic_stem_5</th>\n",
       "      <th>topic_stem_6</th>\n",
       "      <th>topic_stem_7</th>\n",
       "      <th>topic_stem_8</th>\n",
       "      <th>topic_stem_9</th>\n",
       "    </tr>\n",
       "  </thead>\n",
       "  <tbody>\n",
       "    <tr>\n",
       "      <td>0</td>\n",
       "      <td>absolut</td>\n",
       "      <td>hous</td>\n",
       "      <td>flexibl</td>\n",
       "      <td>east</td>\n",
       "      <td>towel</td>\n",
       "      <td>view</td>\n",
       "      <td>floor</td>\n",
       "      <td>extrem</td>\n",
       "      <td>store</td>\n",
       "      <td>flat</td>\n",
       "    </tr>\n",
       "    <tr>\n",
       "      <td>1</td>\n",
       "      <td>incred</td>\n",
       "      <td>awesom</td>\n",
       "      <td>late</td>\n",
       "      <td>villag</td>\n",
       "      <td>coffe</td>\n",
       "      <td>privat</td>\n",
       "      <td>nois</td>\n",
       "      <td>famili</td>\n",
       "      <td>plenti</td>\n",
       "      <td>transport</td>\n",
       "    </tr>\n",
       "    <tr>\n",
       "      <td>2</td>\n",
       "      <td>studio</td>\n",
       "      <td>better</td>\n",
       "      <td>meet</td>\n",
       "      <td>lot</td>\n",
       "      <td>breakfast</td>\n",
       "      <td>share</td>\n",
       "      <td>door</td>\n",
       "      <td>short</td>\n",
       "      <td>groceri</td>\n",
       "      <td>metro</td>\n",
       "    </tr>\n",
       "    <tr>\n",
       "      <td>3</td>\n",
       "      <td>hope</td>\n",
       "      <td>appart</td>\n",
       "      <td>key</td>\n",
       "      <td>explor</td>\n",
       "      <td>take</td>\n",
       "      <td>attract</td>\n",
       "      <td>problem</td>\n",
       "      <td>advertis</td>\n",
       "      <td>larg</td>\n",
       "      <td>day</td>\n",
       "    </tr>\n",
       "    <tr>\n",
       "      <td>4</td>\n",
       "      <td>decor</td>\n",
       "      <td>price</td>\n",
       "      <td>respond</td>\n",
       "      <td>spot</td>\n",
       "      <td>care</td>\n",
       "      <td>privaci</td>\n",
       "      <td>issu</td>\n",
       "      <td>book</td>\n",
       "      <td>bed</td>\n",
       "      <td>downtown</td>\n",
       "    </tr>\n",
       "    <tr>\n",
       "      <td>5</td>\n",
       "      <td>return</td>\n",
       "      <td>couldn</td>\n",
       "      <td>list</td>\n",
       "      <td>west</td>\n",
       "      <td>offer</td>\n",
       "      <td>guest</td>\n",
       "      <td>stair</td>\n",
       "      <td>clear</td>\n",
       "      <td>nearbi</td>\n",
       "      <td>train</td>\n",
       "    </tr>\n",
       "    <tr>\n",
       "      <td>6</td>\n",
       "      <td>soon</td>\n",
       "      <td>valu</td>\n",
       "      <td>answer</td>\n",
       "      <td>heart</td>\n",
       "      <td>food</td>\n",
       "      <td>roommat</td>\n",
       "      <td>noisi</td>\n",
       "      <td>instruct</td>\n",
       "      <td>food</td>\n",
       "      <td>public</td>\n",
       "    </tr>\n",
       "    <tr>\n",
       "      <td>7</td>\n",
       "      <td>futur</td>\n",
       "      <td>hotel</td>\n",
       "      <td>earli</td>\n",
       "      <td>cool</td>\n",
       "      <td>morn</td>\n",
       "      <td>hospit</td>\n",
       "      <td>window</td>\n",
       "      <td>attent</td>\n",
       "      <td>equip</td>\n",
       "      <td>harlem</td>\n",
       "    </tr>\n",
       "    <tr>\n",
       "      <td>8</td>\n",
       "      <td>charm</td>\n",
       "      <td>david</td>\n",
       "      <td>accur</td>\n",
       "      <td>soho</td>\n",
       "      <td>inform</td>\n",
       "      <td>warm</td>\n",
       "      <td>wasn</td>\n",
       "      <td>michael</td>\n",
       "      <td>size</td>\n",
       "      <td>line</td>\n",
       "    </tr>\n",
       "    <tr>\n",
       "      <td>9</td>\n",
       "      <td>truli</td>\n",
       "      <td>ask</td>\n",
       "      <td>flight</td>\n",
       "      <td>upper</td>\n",
       "      <td>know</td>\n",
       "      <td>talk</td>\n",
       "      <td>light</td>\n",
       "      <td>amen</td>\n",
       "      <td>shower</td>\n",
       "      <td>alex</td>\n",
       "    </tr>\n",
       "  </tbody>\n",
       "</table>\n",
       "</div>"
      ],
      "text/plain": [
       "  topic_stem_0 topic_stem_1 topic_stem_2 topic_stem_3 topic_stem_4  \\\n",
       "0      absolut         hous      flexibl         east        towel   \n",
       "1       incred       awesom         late       villag        coffe   \n",
       "2       studio       better         meet          lot    breakfast   \n",
       "3         hope       appart          key       explor         take   \n",
       "4        decor        price      respond         spot         care   \n",
       "5       return       couldn         list         west        offer   \n",
       "6         soon         valu       answer        heart         food   \n",
       "7        futur        hotel        earli         cool         morn   \n",
       "8        charm        david        accur         soho       inform   \n",
       "9        truli          ask       flight        upper         know   \n",
       "\n",
       "  topic_stem_5 topic_stem_6 topic_stem_7 topic_stem_8 topic_stem_9  \n",
       "0         view        floor       extrem        store         flat  \n",
       "1       privat         nois       famili       plenti    transport  \n",
       "2        share         door        short      groceri        metro  \n",
       "3      attract      problem     advertis         larg          day  \n",
       "4      privaci         issu         book          bed     downtown  \n",
       "5        guest        stair        clear       nearbi        train  \n",
       "6      roommat        noisi     instruct         food       public  \n",
       "7       hospit       window       attent        equip       harlem  \n",
       "8         warm         wasn      michael         size         line  \n",
       "9         talk        light         amen       shower         alex  "
      ]
     },
     "execution_count": 386,
     "metadata": {},
     "output_type": "execute_result"
    }
   ],
   "source": [
    "w_cols = ['topic_weight_'+str(i) for i in range(10)]\n",
    "s_cols = ['topic_stem_'+str(i) for i in range(10)]\n",
    "print(w_cols)\n",
    "print(s_cols)\n",
    "topics10_st_05_sb1000_df[s_cols]"
   ]
  },
  {
   "cell_type": "code",
   "execution_count": null,
   "metadata": {},
   "outputs": [],
   "source": [
    "topic10 = pd.DataFrame('topic_stems_10': )"
   ]
  },
  {
   "cell_type": "code",
   "execution_count": 340,
   "metadata": {},
   "outputs": [
    {
     "data": {
      "text/plain": [
       "773"
      ]
     },
     "execution_count": 340,
     "metadata": {},
     "output_type": "execute_result"
    }
   ],
   "source": [
    "len(dictionary10.items())"
   ]
  },
  {
   "cell_type": "code",
   "execution_count": 333,
   "metadata": {},
   "outputs": [
    {
     "name": "stdout",
     "output_type": "stream",
     "text": [
      "(0, '0.017*\"awesom\" + 0.015*\"absolut\" + 0.013*\"incred\" + 0.011*\"extrem\" + 0.010*\"michael\" + 0.009*\"comfi\" + 0.008*\"hospit\" + 0.008*\"better\" + 0.007*\"warm\" + 0.007*\"make\"') \n",
      "\n",
      "(1, '0.034*\"flat\" + 0.025*\"hous\" + 0.016*\"metro\" + 0.015*\"harlem\" + 0.010*\"neighbourhood\" + 0.009*\"line\" + 0.008*\"equip\" + 0.008*\"downtown\" + 0.008*\"train\" + 0.007*\"appart\"') \n",
      "\n",
      "(2, '0.012*\"nois\" + 0.012*\"floor\" + 0.011*\"issu\" + 0.009*\"door\" + 0.009*\"shower\" + 0.008*\"window\" + 0.007*\"problem\" + 0.007*\"wasn\" + 0.007*\"light\" + 0.006*\"noisi\"') \n",
      "\n",
      "(3, '0.011*\"train\" + 0.010*\"famili\" + 0.010*\"short\" + 0.009*\"store\" + 0.008*\"plenti\" + 0.008*\"late\" + 0.007*\"line\" + 0.007*\"group\" + 0.007*\"abl\" + 0.006*\"earli\"') \n",
      "\n",
      "(4, '0.013*\"late\" + 0.013*\"key\" + 0.011*\"problem\" + 0.011*\"alex\" + 0.010*\"instruct\" + 0.009*\"flight\" + 0.008*\"clear\" + 0.008*\"list\" + 0.008*\"contact\" + 0.008*\"answer\"') \n",
      "\n",
      "(5, '0.022*\"villag\" + 0.016*\"east\" + 0.010*\"west\" + 0.010*\"lot\" + 0.009*\"coffe\" + 0.009*\"spot\" + 0.009*\"heart\" + 0.008*\"chelsea\" + 0.008*\"david\" + 0.008*\"studio\"') \n",
      "\n",
      "(6, '0.037*\"view\" + 0.028*\"appart\" + 0.015*\"day\" + 0.015*\"john\" + 0.009*\"reserv\" + 0.009*\"state\" + 0.009*\"empir\" + 0.009*\"chris\" + 0.008*\"rooftop\" + 0.008*\"michell\"') \n",
      "\n",
      "(7, '0.023*\"price\" + 0.017*\"better\" + 0.017*\"respond\" + 0.013*\"travel\" + 0.012*\"famili\" + 0.011*\"book\" + 0.011*\"valu\" + 0.010*\"expect\" + 0.008*\"answer\" + 0.008*\"couldn\"') \n",
      "\n",
      "(8, '0.021*\"towel\" + 0.009*\"avail\" + 0.008*\"dryer\" + 0.007*\"bed\" + 0.007*\"travel\" + 0.007*\"coffe\" + 0.006*\"fridg\" + 0.006*\"basic\" + 0.006*\"cook\" + 0.005*\"shampoo\"') \n",
      "\n",
      "(9, '0.036*\"transport\" + 0.028*\"public\" + 0.015*\"warm\" + 0.011*\"store\" + 0.008*\"groceri\" + 0.007*\"mark\" + 0.007*\"nearbi\" + 0.007*\"larg\" + 0.007*\"paul\" + 0.006*\"kevin\"') \n",
      "\n"
     ]
    },
    {
     "data": {
      "text/plain": [
       "[None, None, None, None, None, None, None, None, None, None]"
      ]
     },
     "execution_count": 333,
     "metadata": {},
     "output_type": "execute_result"
    }
   ],
   "source": [
    "[print(t, '\\n') for t in topics10_strict_top_05]"
   ]
  },
  {
   "cell_type": "code",
   "execution_count": null,
   "metadata": {},
   "outputs": [],
   "source": [
    "[print(t, '\\n') for t in topics10_strict_top_05]"
   ]
  },
  {
   "cell_type": "code",
   "execution_count": 392,
   "metadata": {},
   "outputs": [
    {
     "data": {
      "text/plain": [
       "14447"
      ]
     },
     "execution_count": 392,
     "metadata": {},
     "output_type": "execute_result"
    }
   ],
   "source": [
    "len(n_revs_per_listing)"
   ]
  },
  {
   "cell_type": "code",
   "execution_count": 398,
   "metadata": {},
   "outputs": [],
   "source": [
    "fname = datadir + 'flat_df_newclean_HOST_NAME.pkl'\n",
    "file = open(fname, 'rb')\n",
    "flat_df_newclean_HOST_NAME = pickle.load(file)\n",
    "file.close()\n"
   ]
  },
  {
   "cell_type": "code",
   "execution_count": 399,
   "metadata": {},
   "outputs": [
    {
     "data": {
      "text/plain": [
       "(265954, 4)"
      ]
     },
     "execution_count": 399,
     "metadata": {},
     "output_type": "execute_result"
    }
   ],
   "source": [
    "flat_df_newclean_HOST_NAME.shape"
   ]
  },
  {
   "cell_type": "code",
   "execution_count": 450,
   "metadata": {},
   "outputs": [
    {
     "ename": "IndexError",
     "evalue": "boolean index did not match indexed array along dimension 0; dimension is 265954 but corresponding boolean dimension is 14447",
     "output_type": "error",
     "traceback": [
      "\u001b[0;31m---------------------------------------------------------------------------\u001b[0m",
      "\u001b[0;31mIndexError\u001b[0m                                Traceback (most recent call last)",
      "\u001b[0;32m<ipython-input-450-7a802898a001>\u001b[0m in \u001b[0;36m<module>\u001b[0;34m\u001b[0m\n\u001b[1;32m      1\u001b[0m \u001b[0mfdf_listing_ids_ge20\u001b[0m \u001b[0;34m=\u001b[0m \u001b[0mfdf_listing_ids\u001b[0m\u001b[0;34m[\u001b[0m\u001b[0mn_revs_per_listing\u001b[0m \u001b[0;34m>=\u001b[0m \u001b[0;36m20\u001b[0m\u001b[0;34m]\u001b[0m\u001b[0;34m\u001b[0m\u001b[0;34m\u001b[0m\u001b[0m\n\u001b[0;32m----> 2\u001b[0;31m \u001b[0mcorpus10_st_05_sb1000_ge20\u001b[0m \u001b[0;34m=\u001b[0m \u001b[0mnp\u001b[0m\u001b[0;34m.\u001b[0m\u001b[0marray\u001b[0m\u001b[0;34m(\u001b[0m\u001b[0mcorpus10_st_05_sb1000\u001b[0m\u001b[0;34m)\u001b[0m\u001b[0;34m[\u001b[0m\u001b[0mn_revs_per_listing\u001b[0m \u001b[0;34m>=\u001b[0m \u001b[0;36m20\u001b[0m\u001b[0;34m]\u001b[0m\u001b[0;34m\u001b[0m\u001b[0;34m\u001b[0m\u001b[0m\n\u001b[0m",
      "\u001b[0;31mIndexError\u001b[0m: boolean index did not match indexed array along dimension 0; dimension is 265954 but corresponding boolean dimension is 14447"
     ]
    }
   ],
   "source": [
    "fdf_listing_ids_ge20 = fdf_listing_ids[n_revs_per_listing >= 20]"
   ]
  },
  {
   "cell_type": "code",
   "execution_count": 451,
   "metadata": {},
   "outputs": [
    {
     "data": {
      "text/plain": [
       "(14447,)"
      ]
     },
     "execution_count": 451,
     "metadata": {},
     "output_type": "execute_result"
    }
   ],
   "source": [
    "fdf_listing_ids.shape"
   ]
  },
  {
   "cell_type": "code",
   "execution_count": 612,
   "metadata": {},
   "outputs": [
    {
     "data": {
      "text/plain": [
       "array([0.25745745, 0.2696681 , 0.07539007, 0.40575163, 0.40456645,\n",
       "       0.22725742, 0.29718346, 0.02827635, 0.35165703, 0.51242225])"
      ]
     },
     "execution_count": 612,
     "metadata": {},
     "output_type": "execute_result"
    }
   ],
   "source": []
  },
  {
   "cell_type": "code",
   "execution_count": 621,
   "metadata": {},
   "outputs": [
    {
     "name": "stdout",
     "output_type": "stream",
     "text": [
      "0\n",
      "500\n",
      "1000\n",
      "1500\n",
      "2000\n",
      "2500\n",
      "3000\n",
      "3500\n"
     ]
    }
   ],
   "source": [
    "random_lids = np.random.permutation(fdf_listing_ids_ge20)\n",
    "sims_within = np.zeros((len(fdf_listing_ids_ge20)))\n",
    "sims_between = np.zeros((len(fdf_listing_ids_ge20)))\n",
    "sims_random =  np.zeros((len(fdf_listing_ids_ge20)))\n",
    "n_topics = 10\n",
    "model = lda10_st_05_sb1000\n",
    "norm=True\n",
    "\n",
    "flat_df_newclean_HOST_NAME['corpus10_st_05_sb1000'] = corpus10_st_05_sb1000\n",
    "for i, lid in enumerate(fdf_listing_ids_ge20):\n",
    "    if not i % 500:\n",
    "        print(i)\n",
    "    #get comments in bag-of-words format\n",
    "    comments = list(flat_df_newclean_HOST_NAME[flat_df_newclean_HOST_NAME.listing_id == lid].corpus10_st_05_sb1000)\n",
    "    \n",
    "    comms_a = comments[::2]\n",
    "    comms_b = comments[1::2]\n",
    "    topic_scores_a = np.array([get_topic_score(c, model, n_topics, norm) for c in comms_a])\n",
    "    topic_scores_b = np.array([get_topic_score(c, model, n_topics, norm) for c in comms_b])\n",
    "    mean_topic_score_a = np.mean(topic_scores_a, axis=0)\n",
    "    mean_topic_score_b = np.mean(topic_scores_b, axis=0)\n",
    "    #print(mean_topic_score_a)\n",
    "    #print(mean_topic_score_b)\n",
    "    #print(cosine_similarity(mean_topic_score_a, mean_topic_score_b))\n",
    "    sims_within[i] = cosine_similarity(mean_topic_score_a, mean_topic_score_b)\n",
    "    \n",
    "    random_lid = random_lids[i]\n",
    "    random_comments = \\\n",
    "        list(flat_df_newclean_HOST_NAME[flat_df_newclean_HOST_NAME.listing_id == random_lid].corpus10_st_05_sb1000)\n",
    "    random_comms = random_comments[::2]\n",
    "    random_topic_scores = np.array([get_topic_score(c, model, n_topics, norm) for c in random_comms])\n",
    "    random_mean_topic_score = np.mean(random_topic_scores, axis=0)\n",
    "    #print(random_mean_topic_score)\n",
    "    #print(cosine_similarity(mean_topic_score_a, random_mean_topic_score))\n",
    "    sims_between[i] = cosine_similarity(mean_topic_score_a, random_mean_topic_score) \n",
    "    \n",
    "    r = np.random.uniform(low=0, high=1.0, size=10)\n",
    "    r_norm = r/ np.linalg.norm(r)\n",
    "    sims_random_norm[i] = cosine_similarity(mean_topic_score_a, r_norm)"
   ]
  },
  {
   "cell_type": "code",
   "execution_count": 614,
   "metadata": {},
   "outputs": [
    {
     "data": {
      "text/plain": [
       "0.7670089074038959"
      ]
     },
     "execution_count": 614,
     "metadata": {},
     "output_type": "execute_result"
    }
   ],
   "source": [
    "np.mean(sims_random_norm, axis=0)"
   ]
  },
  {
   "cell_type": "code",
   "execution_count": 604,
   "metadata": {},
   "outputs": [],
   "source": [
    "fdf_with_misfortune = flat_df_newclean_HOST_NAME[flat_df_newclean_HOST_NAME.comments.apply(lambda x: 'unfortunately' in x)]\n",
    "fdf_with_trendy = flat_df_newclean_HOST_NAME[flat_df_newclean_HOST_NAME.comments.apply(lambda x: 'trendy' in x)]"
   ]
  },
  {
   "cell_type": "code",
   "execution_count": 593,
   "metadata": {},
   "outputs": [
    {
     "data": {
      "text/plain": [
       "\"cin is such a beautiful person, i really enjoyed her company. her apartment is a bit far but very well connected, just 100 meters from a well connected subway line. its perfect for a long holiday in ny. i wanted to extend my stay but unfortunately it was all pre-booked. i wish to see you again cin, you know who to call when you're in new delhi.\""
      ]
     },
     "execution_count": 593,
     "metadata": {},
     "output_type": "execute_result"
    }
   ],
   "source": [
    "fdf_with_misfortune.comments.iloc[2]"
   ]
  },
  {
   "cell_type": "code",
   "execution_count": 610,
   "metadata": {},
   "outputs": [
    {
     "name": "stdout",
     "output_type": "stream",
     "text": [
      "[0.3776506882673125, 0.0, 0.15832379493796708, 0.23224584372679816, 0.0, 0.3376106870619816, 0.7822515241591198, 0.09398520113469366, 0.208910891480639, 0.0]\n",
      "a.  the location    dave and rick's place is situated in what is probably one of the best locations you can choose in nyc, especially if, like us, you're a first time visitor trying to get your bearings. step out of their apartment; walk one way and you're suddenly in the heart of the west village and gorgeous bleecker street. walk the other and you step in to trendy chelsea with its glorious eateries; or take yet another direction and you find yourself on the highline promenade along the hudson river.  additionally, on the opposite end of their block you'll find a subway station connecting you to the blue a, c and e lines.  there is an abundance of wonderful restaurants and diners within a 5-minute walking radius, suiting every sort of budget, that mike and i were very much spoilt for choice at most mealtimes.   really, the location in itself is a good enough reason to choose their place above others.    b.  the apartment itself  many people have already described the place in other reviews, so suffice to say it's a 2-floor arrangement: you get to occupy the basement level, done up in a moroccan theme; whilst your hosts occupy the ground-floor level. the luxuriously furnished guest area is extremely spacious and kept spotlessly clean; it is comfortable and equipped with more creature comforts than you'll probably need while on holiday. it's a wonderful space to kick back and relax during those times when you want to rest your tired feet after walking about the city. crucially, the fact that it's equipped with wifi also means that those, like mike and i, having jobs that require you to frequently touch base with the office can get their email-writing and report-drafting done comfortably and without distractions.  despite the guest area being designed as an open plan without any doors (apart from the bathrooms, naturally), privacy is not an issue and we never once felt 'encroached' in our space.    c.  the hosts  reviewers are wont to call their hosts wonderful when drawing up these sort of reviews, because it's by far the easiest thing to say. truth is, however, that rick and dave are both genuinely lovely people who go that extra mile to make sure their guests are afforded the very best of their hospitality. it was truly a pleasure to stay with them and share their apartment.  dave was frequently home during the days we were there and was extremely helpful with giving us tips for restaurants and other venues in the immediate vicinity, and even joined us in grabbing a quick pizza on one of the evenings we were there.\n"
     ]
    }
   ],
   "source": [
    "i = 8\n",
    "df = fdf_with_trendy\n",
    "c = list(df.corpus10_st_05_sb1000)[i]\n",
    "text = list(df.comments)[i]\n",
    "tvec_trend = get_topic_score(c, model, n_topics=10, norm=True)\n",
    "print(list(tvec_trend))\n",
    "print(text)"
   ]
  },
  {
   "cell_type": "code",
   "execution_count": 647,
   "metadata": {},
   "outputs": [
    {
     "name": "stdout",
     "output_type": "stream",
     "text": [
      "1000\n",
      "1001\n"
     ]
    },
    {
     "data": {
      "image/png": "[encoded data removed]",
      "text/plain": [
       "<Figure size 432x288 with 1 Axes>"
      ]
     },
     "metadata": {
      "needs_background": "light"
     },
     "output_type": "display_data"
    }
   ],
   "source": [
    "mean_sims = []\n",
    "for i in range(1000, 1002):\n",
    "    print(i)\n",
    "    these_sims = []\n",
    "    for j in range(100000):\n",
    "        r1 = np.random.uniform(low=0, high=1.0, size=i)\n",
    "        r2 = np.random.uniform(low=0, high=1.0, size=i)\n",
    "        these_sims.append(cosine_similarity(r1, \n",
    "                                            r2))\n",
    "    mean_sims.append(np.mean(these_sims))\n",
    "plt.plot(range(1000, 1002), mean_sims)\n",
    "plt.show()\n",
    "        "
   ]
  },
  {
   "cell_type": "code",
   "execution_count": 648,
   "metadata": {},
   "outputs": [
    {
     "data": {
      "text/plain": [
       "[0.7500662007024224, 0.7501048939968434]"
      ]
     },
     "execution_count": 648,
     "metadata": {},
     "output_type": "execute_result"
    }
   ],
   "source": [
    "mean_sims"
   ]
  },
  {
   "cell_type": "code",
   "execution_count": 635,
   "metadata": {},
   "outputs": [
    {
     "name": "stdout",
     "output_type": "stream",
     "text": [
      "0.9280215524870081 0.8049345864754155\n",
      "MannwhitneyuResult(statistic=2180337.0, pvalue=0.0)\n"
     ]
    }
   ],
   "source": [
    "print(np.median(sims_within), np.median(sims_between))\n",
    "print(sc.stats.mannwhitneyu(sims_within, sims_between))\n"
   ]
  },
  {
   "cell_type": "code",
   "execution_count": 620,
   "metadata": {},
   "outputs": [
    {
     "data": {
      "text/plain": [
       "array([0., 0., 0., ..., 0., 0., 0.])"
      ]
     },
     "execution_count": 620,
     "metadata": {},
     "output_type": "execute_result"
    }
   ],
   "source": [
    "sims_within_norm"
   ]
  },
  {
   "cell_type": "code",
   "execution_count": 626,
   "metadata": {},
   "outputs": [
    {
     "data": {
      "text/plain": [
       "0.9738230294695316"
      ]
     },
     "execution_count": 626,
     "metadata": {},
     "output_type": "execute_result"
    }
   ],
   "source": [
    "0.7670089074038959**"
   ]
  },
  {
   "cell_type": "code",
   "execution_count": 623,
   "metadata": {},
   "outputs": [
    {
     "data": {
      "text/plain": [
       "<matplotlib.lines.Line2D at 0x7fe3fcd9cf50>"
      ]
     },
     "execution_count": 623,
     "metadata": {},
     "output_type": "execute_result"
    },
    {
     "data": {
      "image/png": "[encoded data removed]",
      "text/plain": [
       "<Figure size 360x432 with 1 Axes>"
      ]
     },
     "metadata": {
      "needs_background": "light"
     },
     "output_type": "display_data"
    }
   ],
   "source": [
    "plt.figure(1, (5, 6))\n",
    "plt.boxplot([sims_within, sims_between], notch = True)\n",
    "plt.gca().set_xticklabels(['Within Listings', 'Between Listings'], fontsize=13)\n",
    "plt.ylabel('Normalized Topic Vector\\nCosine Similarity', fontsize=13)\n",
    "plt.gca().axhline(0.7670089074038959, ls='--', lw=0.5, alpha=0.5, c='k')\n",
    "\n"
   ]
  },
  {
   "cell_type": "code",
   "execution_count": 739,
   "metadata": {},
   "outputs": [
    {
     "data": {
      "text/plain": [
       "array([list([(0, 1), (1, 1), (2, 1), (3, 1), (4, 1), (5, 1), (6, 1), (7, 1), (8, 1), (9, 1), (10, 1), (11, 1)]),\n",
       "       2515], dtype=object)"
      ]
     },
     "execution_count": 739,
     "metadata": {},
     "output_type": "execute_result"
    }
   ],
   "source": [
    "np.array(flat_df_newclean_HOST_NAME[['corpus10_st_05_sb1000', 'listing_id']])[0]"
   ]
  },
  {
   "cell_type": "code",
   "execution_count": 750,
   "metadata": {},
   "outputs": [
    {
     "name": "stdout",
     "output_type": "stream",
     "text": [
      "0             2515\n",
      "3             2515\n",
      "4             2515\n",
      "5             2515\n",
      "6             2515\n",
      "            ...   \n",
      "325676    18413899\n",
      "325678    18423403\n",
      "325679    18426417\n",
      "325680    18443436\n",
      "325681    18491399\n",
      "Name: listing_id, Length: 265954, dtype: int64\n",
      "0              Mizi\n",
      "3              Mizi\n",
      "4              Mizi\n",
      "5              Mizi\n",
      "6              Mizi\n",
      "            ...    \n",
      "325676        Alexa\n",
      "325678      Shannon\n",
      "325679    Margarita\n",
      "325680        Clara\n",
      "325681        Jerry\n",
      "Name: host_name, Length: 265954, dtype: object\n",
      "0              9193\n",
      "3            185050\n",
      "4            456184\n",
      "5            351855\n",
      "6            363433\n",
      "            ...    \n",
      "325676    127641350\n",
      "325678     43662901\n",
      "325679     28703397\n",
      "325680     25112195\n",
      "325681     16637631\n",
      "Name: user_id, Length: 265954, dtype: int64\n",
      "0         stephanie's offered all the most important thi...\n",
      "3         we stayed at the 111th street apartment with s...\n",
      "4         very conveniently located just north of centra...\n",
      "5         we had a great stay with stephanie and her fam...\n",
      "6         we stayed at the chez chic budget room for a w...\n",
      "                                ...                        \n",
      "325676    excellent location, comfy bed, and privacy. ho...\n",
      "325678    great experience! apartment was clean and tidy...\n",
      "325679    margarita is the perfect host. we very much en...\n",
      "325680    clara is a great person, the place below the h...\n",
      "325681    jerry was a great host! the linens were clean,...\n",
      "Name: comments, Length: 265954, dtype: object\n",
      "0         [(0, 1), (1, 1), (2, 1), (3, 1), (4, 1), (5, 1...\n",
      "3         [(10, 1), (12, 1), (13, 1), (14, 1), (15, 1), ...\n",
      "4         [(15, 1), (17, 1), (19, 1), (21, 1), (22, 1), ...\n",
      "5         [(13, 1), (15, 1), (19, 1), (26, 1), (29, 1), ...\n",
      "6         [(29, 1), (32, 1), (33, 1), (34, 1), (35, 1), ...\n",
      "                                ...                        \n",
      "325676              [(41, 1), (196, 1), (236, 1), (325, 1)]\n",
      "325678    [(46, 1), (84, 1), (130, 1), (153, 1), (242, 1...\n",
      "325679                                            [(58, 1)]\n",
      "325680                       [(470, 1), (487, 1), (531, 1)]\n",
      "325681    [(76, 1), (95, 1), (145, 1), (187, 1), (221, 1...\n",
      "Name: corpus10_st_05_sb1000, Length: 265954, dtype: object\n"
     ]
    }
   ],
   "source": [
    "for index, row in flat_df_newclean_HOST_NAME.iteritems():\n",
    "    print(row)"
   ]
  },
  {
   "cell_type": "code",
   "execution_count": null,
   "metadata": {},
   "outputs": [],
   "source": [
    "topic_score"
   ]
  },
  {
   "cell_type": "code",
   "execution_count": 573,
   "metadata": {},
   "outputs": [
    {
     "data": {
      "text/plain": [
       "{'bodies': [<matplotlib.collections.PolyCollection at 0x7fe415656290>,\n",
       "  <matplotlib.collections.PolyCollection at 0x7fe4156569d0>],\n",
       " 'cmaxes': <matplotlib.collections.LineCollection at 0x7fe259ac3690>,\n",
       " 'cmins': <matplotlib.collections.LineCollection at 0x7fe4156564d0>,\n",
       " 'cbars': <matplotlib.collections.LineCollection at 0x7fe415656450>,\n",
       " 'cmedians': <matplotlib.collections.LineCollection at 0x7fe220226490>}"
      ]
     },
     "execution_count": 573,
     "metadata": {},
     "output_type": "execute_result"
    },
    {
     "data": {
      "image/png": "[encoded data removed]",
      "text/plain": [
       "<Figure size 432x288 with 1 Axes>"
      ]
     },
     "metadata": {
      "needs_background": "light"
     },
     "output_type": "display_data"
    }
   ],
   "source": [
    "plt.violinplot([sims_within_norm, sims_between_norm], [1, 2], points=500, widths=0.3,\n",
    "                      showmeans=False, showextrema=True, showmedians=True,)"
   ]
  },
  {
   "cell_type": "code",
   "execution_count": 527,
   "metadata": {},
   "outputs": [],
   "source": [
    "from numpy import dot\n",
    "from numpy.linalg import norm\n",
    "def cosine_similarity(a, b):\n",
    "    cos_sim = np.dot(a, b)/(np.linalg.norm(a)*np.linalg.norm(b))\n",
    "    return cos_sim"
   ]
  },
  {
   "cell_type": "code",
   "execution_count": 530,
   "metadata": {},
   "outputs": [
    {
     "data": {
      "text/plain": [
       "0.5773502691896258"
      ]
     },
     "execution_count": 530,
     "metadata": {},
     "output_type": "execute_result"
    }
   ],
   "source": [
    "cosine_similarity([1, 0, 0], [1, 1, 1])"
   ]
  },
  {
   "cell_type": "code",
   "execution_count": 472,
   "metadata": {},
   "outputs": [],
   "source": [
    "test = np.array(lda10_st_05_sb1000[flat_df_newclean_HOST_NAME.corpus10_st_05_sb1000.iloc[2]])"
   ]
  },
  {
   "cell_type": "code",
   "execution_count": 484,
   "metadata": {},
   "outputs": [
    {
     "data": {
      "text/plain": [
       "array([5, 7, 9])"
      ]
     },
     "execution_count": 484,
     "metadata": {},
     "output_type": "execute_result"
    }
   ],
   "source": [
    "test[:, 0].astype(int)"
   ]
  },
  {
   "cell_type": "code",
   "execution_count": 526,
   "metadata": {
    "scrolled": true
   },
   "outputs": [
    {
     "name": "stdout",
     "output_type": "stream",
     "text": [
      "[0.         0.         0.         0.         0.         0.26887366\n",
      " 0.         0.33590093 0.         0.33688295]\n",
      "0.5464545760789359\n",
      "[0.         0.         0.         0.         0.         0.49203296\n",
      " 0.         0.61469141 0.         0.61648848]\n",
      "1.0\n"
     ]
    }
   ],
   "source": [
    "test2 = np.zeros((10))\n",
    "test2[test[:, 0].astype(int)] = test[:, 1]\n",
    "print(test2)\n",
    "print(norm(test2))\n",
    "test2_norm = test2/norm(test2)\n",
    "print(test2_norm)\n",
    "print(norm(test2_norm))\n"
   ]
  },
  {
   "cell_type": "code",
   "execution_count": 489,
   "metadata": {},
   "outputs": [
    {
     "data": {
      "text/plain": [
       "1.00000000461343"
      ]
     },
     "execution_count": 489,
     "metadata": {},
     "output_type": "execute_result"
    }
   ],
   "source": [
    "norm([0.49203296, 0.61469141 ,0.61648848])"
   ]
  },
  {
   "cell_type": "code",
   "execution_count": 498,
   "metadata": {},
   "outputs": [
    {
     "data": {
      "text/plain": [
       "0.0"
      ]
     },
     "execution_count": 498,
     "metadata": {},
     "output_type": "execute_result"
    }
   ],
   "source": [
    "norm([0, 0, 0, 0, 0])"
   ]
  },
  {
   "cell_type": "code",
   "execution_count": 478,
   "metadata": {},
   "outputs": [
    {
     "data": {
      "text/plain": [
       "array([0.70710678, 0.70710678])"
      ]
     },
     "execution_count": 478,
     "metadata": {},
     "output_type": "execute_result"
    }
   ],
   "source": [
    "[6, 6] / norm([6, 6])"
   ]
  },
  {
   "cell_type": "code",
   "execution_count": 499,
   "metadata": {},
   "outputs": [],
   "source": [
    "model = lda10_st_05_sb1000"
   ]
  },
  {
   "cell_type": "code",
   "execution_count": 820,
   "metadata": {},
   "outputs": [],
   "source": [
    "def get_topic_score(comment, model, n_topics, norm=True):\n",
    "    \"\"\"\n",
    "    inputs: a bag-of-words representation of a comment (from a corpus)\n",
    "    a gensim lda model\n",
    "    a number of topics\n",
    "    \n",
    "    outputs: a normalized vector of size n_topics with the scores of each topic\n",
    "    \"\"\"\n",
    "    model_output = np.array(model[comment])\n",
    "    inds = model_output[:, 0].astype(int)\n",
    "    scores = model_output[:, 1]\n",
    "    out = np.zeros((n_topics))\n",
    "    out[inds] = scores\n",
    "    if norm:\n",
    "        out = out / np.linalg.norm(out)\n",
    "    return out.astype(float)"
   ]
  },
  {
   "cell_type": "code",
   "execution_count": 529,
   "metadata": {},
   "outputs": [
    {
     "data": {
      "text/plain": [
       "0.7376864876438073"
      ]
     },
     "execution_count": 529,
     "metadata": {},
     "output_type": "execute_result"
    }
   ],
   "source": [
    "np.linalg.norm(np.array([0.24137017, 0.,0.,0.,0.69708091, 0., 0.,0., 0., 0.]))"
   ]
  },
  {
   "cell_type": "code",
   "execution_count": 649,
   "metadata": {},
   "outputs": [
    {
     "data": {
      "text/plain": [
       "(265954, 5)"
      ]
     },
     "execution_count": 649,
     "metadata": {},
     "output_type": "execute_result"
    }
   ],
   "source": [
    "flat_df_newclean_HOST_NAME.shape"
   ]
  },
  {
   "cell_type": "code",
   "execution_count": 660,
   "metadata": {},
   "outputs": [
    {
     "ename": "ValueError",
     "evalue": "shapes (2,) and (3,2) not aligned: 2 (dim 0) != 3 (dim 0)",
     "output_type": "error",
     "traceback": [
      "\u001b[0;31m---------------------------------------------------------------------------\u001b[0m",
      "\u001b[0;31mValueError\u001b[0m                                Traceback (most recent call last)",
      "\u001b[0;32m<ipython-input-660-3c0f06a2337d>\u001b[0m in \u001b[0;36m<module>\u001b[0;34m\u001b[0m\n\u001b[1;32m      1\u001b[0m \u001b[0ma\u001b[0m \u001b[0;34m=\u001b[0m \u001b[0mnp\u001b[0m\u001b[0;34m.\u001b[0m\u001b[0marray\u001b[0m\u001b[0;34m(\u001b[0m\u001b[0;34m[\u001b[0m\u001b[0;36m1\u001b[0m\u001b[0;34m,\u001b[0m \u001b[0;36m0\u001b[0m\u001b[0;34m]\u001b[0m\u001b[0;34m)\u001b[0m\u001b[0;34m\u001b[0m\u001b[0;34m\u001b[0m\u001b[0m\n\u001b[1;32m      2\u001b[0m \u001b[0mb\u001b[0m \u001b[0;34m=\u001b[0m \u001b[0mnp\u001b[0m\u001b[0;34m.\u001b[0m\u001b[0marray\u001b[0m\u001b[0;34m(\u001b[0m\u001b[0;34m[\u001b[0m\u001b[0;34m[\u001b[0m\u001b[0;36m1\u001b[0m\u001b[0;34m,\u001b[0m \u001b[0;36m0\u001b[0m\u001b[0;34m]\u001b[0m\u001b[0;34m,\u001b[0m \u001b[0;34m[\u001b[0m\u001b[0;36m0\u001b[0m\u001b[0;34m,\u001b[0m \u001b[0;36m1\u001b[0m\u001b[0;34m]\u001b[0m\u001b[0;34m,\u001b[0m \u001b[0;34m[\u001b[0m\u001b[0;34m-\u001b[0m\u001b[0;36m1\u001b[0m\u001b[0;34m,\u001b[0m \u001b[0;34m-\u001b[0m\u001b[0;36m1\u001b[0m\u001b[0;34m]\u001b[0m\u001b[0;34m]\u001b[0m\u001b[0;34m)\u001b[0m\u001b[0;34m\u001b[0m\u001b[0;34m\u001b[0m\u001b[0m\n\u001b[0;32m----> 3\u001b[0;31m \u001b[0mcosine_similarity\u001b[0m\u001b[0;34m(\u001b[0m\u001b[0ma\u001b[0m\u001b[0;34m,\u001b[0m \u001b[0mb\u001b[0m\u001b[0;34m)\u001b[0m\u001b[0;34m\u001b[0m\u001b[0;34m\u001b[0m\u001b[0m\n\u001b[0m",
      "\u001b[0;32m<ipython-input-658-a078f7d89803>\u001b[0m in \u001b[0;36mcosine_similarity\u001b[0;34m(a, b)\u001b[0m\n\u001b[1;32m      2\u001b[0m \u001b[0;32mfrom\u001b[0m \u001b[0mnumpy\u001b[0m\u001b[0;34m.\u001b[0m\u001b[0mlinalg\u001b[0m \u001b[0;32mimport\u001b[0m \u001b[0mnorm\u001b[0m\u001b[0;34m\u001b[0m\u001b[0;34m\u001b[0m\u001b[0m\n\u001b[1;32m      3\u001b[0m \u001b[0;32mdef\u001b[0m \u001b[0mcosine_similarity\u001b[0m\u001b[0;34m(\u001b[0m\u001b[0ma\u001b[0m\u001b[0;34m,\u001b[0m \u001b[0mb\u001b[0m\u001b[0;34m)\u001b[0m\u001b[0;34m:\u001b[0m\u001b[0;34m\u001b[0m\u001b[0;34m\u001b[0m\u001b[0m\n\u001b[0;32m----> 4\u001b[0;31m     \u001b[0mcos_sim\u001b[0m \u001b[0;34m=\u001b[0m \u001b[0mnp\u001b[0m\u001b[0;34m.\u001b[0m\u001b[0mdot\u001b[0m\u001b[0;34m(\u001b[0m\u001b[0ma\u001b[0m\u001b[0;34m,\u001b[0m \u001b[0mb\u001b[0m\u001b[0;34m)\u001b[0m\u001b[0;34m/\u001b[0m\u001b[0;34m(\u001b[0m\u001b[0mnp\u001b[0m\u001b[0;34m.\u001b[0m\u001b[0mlinalg\u001b[0m\u001b[0;34m.\u001b[0m\u001b[0mnorm\u001b[0m\u001b[0;34m(\u001b[0m\u001b[0ma\u001b[0m\u001b[0;34m,\u001b[0m \u001b[0maxis\u001b[0m\u001b[0;34m=\u001b[0m\u001b[0;36m1\u001b[0m\u001b[0;34m)\u001b[0m\u001b[0;34m*\u001b[0m\u001b[0mnp\u001b[0m\u001b[0;34m.\u001b[0m\u001b[0mlinalg\u001b[0m\u001b[0;34m.\u001b[0m\u001b[0mnorm\u001b[0m\u001b[0;34m(\u001b[0m\u001b[0mb\u001b[0m\u001b[0;34m,\u001b[0m \u001b[0maxis\u001b[0m\u001b[0;34m=\u001b[0m\u001b[0;36m1\u001b[0m\u001b[0;34m)\u001b[0m\u001b[0;34m)\u001b[0m\u001b[0;34m\u001b[0m\u001b[0;34m\u001b[0m\u001b[0m\n\u001b[0m\u001b[1;32m      5\u001b[0m     \u001b[0;32mreturn\u001b[0m \u001b[0mcos_sim\u001b[0m\u001b[0;34m\u001b[0m\u001b[0;34m\u001b[0m\u001b[0m\n",
      "\u001b[0;31mValueError\u001b[0m: shapes (2,) and (3,2) not aligned: 2 (dim 0) != 3 (dim 0)"
     ]
    }
   ],
   "source": [
    "a = np.array([1, 0])\n",
    "b = np.array([[1, 0], [0, 1], [-1, -1]])\n",
    "cosine_similarity(a, b)"
   ]
  },
  {
   "cell_type": "code",
   "execution_count": 676,
   "metadata": {},
   "outputs": [
    {
     "data": {
      "text/plain": [
       "((3, 2), (3, 2))"
      ]
     },
     "execution_count": 676,
     "metadata": {},
     "output_type": "execute_result"
    }
   ],
   "source": [
    "np.repeat(a[np.newaxis, :], 3, axis=0).shape, b.shape"
   ]
  },
  {
   "cell_type": "code",
   "execution_count": 687,
   "metadata": {},
   "outputs": [
    {
     "data": {
      "text/plain": [
       "(array([[1, 0],\n",
       "        [1, 0],\n",
       "        [1, 0]]), array([[ 1,  0],\n",
       "        [ 0,  1],\n",
       "        [-1, -1]]))"
      ]
     },
     "execution_count": 687,
     "metadata": {},
     "output_type": "execute_result"
    }
   ],
   "source": [
    "np.repeat(a[np.newaxis, :], 3, axis=0), b"
   ]
  },
  {
   "cell_type": "code",
   "execution_count": 689,
   "metadata": {},
   "outputs": [
    {
     "data": {
      "text/plain": [
       "(3, 2)"
      ]
     },
     "execution_count": 689,
     "metadata": {},
     "output_type": "execute_result"
    }
   ],
   "source": [
    "b.shape"
   ]
  },
  {
   "cell_type": "code",
   "execution_count": 702,
   "metadata": {},
   "outputs": [
    {
     "name": "stdout",
     "output_type": "stream",
     "text": [
      "[ 0.5  0.  -0.5] \n",
      " [1 0] \n",
      " [[ 1  0 -1]\n",
      " [ 0  1 -1]]\n"
     ]
    }
   ],
   "source": [
    "print(np.dot(a, b.T)/(np.linalg.norm(a)*np.linalg.norm(b.T)),'\\n', a, '\\n', b.T)"
   ]
  },
  {
   "cell_type": "code",
   "execution_count": 710,
   "metadata": {},
   "outputs": [
    {
     "data": {
      "text/plain": [
       "(2,)"
      ]
     },
     "execution_count": 710,
     "metadata": {},
     "output_type": "execute_result"
    }
   ],
   "source": [
    "a.shape"
   ]
  },
  {
   "cell_type": "code",
   "execution_count": 718,
   "metadata": {},
   "outputs": [
    {
     "data": {
      "text/plain": [
       "(array([[1, 0]]), array([[ 1,  0, -1],\n",
       "        [ 0,  1, -1]]))"
      ]
     },
     "execution_count": 718,
     "metadata": {},
     "output_type": "execute_result"
    }
   ],
   "source": [
    "a.reshape(2, 1).T, b.T"
   ]
  },
  {
   "cell_type": "code",
   "execution_count": 720,
   "metadata": {},
   "outputs": [
    {
     "data": {
      "text/plain": [
       "array([ 0.5,  0. , -0.5])"
      ]
     },
     "execution_count": 720,
     "metadata": {},
     "output_type": "execute_result"
    }
   ],
   "source": [
    "cosine_similarity(a.T, b.T)"
   ]
  },
  {
   "cell_type": "code",
   "execution_count": 665,
   "metadata": {},
   "outputs": [
    {
     "data": {
      "text/plain": [
       "array([1.        , 1.        , 1.41421356])"
      ]
     },
     "execution_count": 665,
     "metadata": {},
     "output_type": "execute_result"
    }
   ],
   "source": [
    "np.linalg.norm(b, axis=1)"
   ]
  },
  {
   "cell_type": "code",
   "execution_count": 679,
   "metadata": {},
   "outputs": [],
   "source": [
    "from numpy import dot\n",
    "from numpy.linalg import norm\n",
    "def cosine_similarity(a, b):\n",
    "    cos_sim = np.dot(a, b)/(np.linalg.norm(a)*np.linalg.norm(b))\n",
    "    return cos_sim"
   ]
  },
  {
   "cell_type": "code",
   "execution_count": 723,
   "metadata": {},
   "outputs": [
    {
     "name": "stdout",
     "output_type": "stream",
     "text": [
      "[[ 1  0]\n",
      " [ 0  1]\n",
      " [-1 -1]]\n",
      "[1 0]\n",
      "[0 1]\n",
      "[-1 -1]\n"
     ]
    }
   ],
   "source": [
    "print(b)\n",
    "for irow, row in enumerate(b):\n",
    "    print(row)"
   ]
  },
  {
   "cell_type": "code",
   "execution_count": 725,
   "metadata": {},
   "outputs": [
    {
     "data": {
      "text/plain": [
       "0         [(0, 1), (1, 1), (2, 1), (3, 1), (4, 1), (5, 1...\n",
       "3         [(10, 1), (12, 1), (13, 1), (14, 1), (15, 1), ...\n",
       "4         [(15, 1), (17, 1), (19, 1), (21, 1), (22, 1), ...\n",
       "5         [(13, 1), (15, 1), (19, 1), (26, 1), (29, 1), ...\n",
       "6         [(29, 1), (32, 1), (33, 1), (34, 1), (35, 1), ...\n",
       "                                ...                        \n",
       "325676              [(41, 1), (196, 1), (236, 1), (325, 1)]\n",
       "325678    [(46, 1), (84, 1), (130, 1), (153, 1), (242, 1...\n",
       "325679                                            [(58, 1)]\n",
       "325680                       [(470, 1), (487, 1), (531, 1)]\n",
       "325681    [(76, 1), (95, 1), (145, 1), (187, 1), (221, 1...\n",
       "Name: corpus10_st_05_sb1000, Length: 265954, dtype: object"
      ]
     },
     "execution_count": 725,
     "metadata": {},
     "output_type": "execute_result"
    }
   ],
   "source": [
    "flat_df_newclean_HOST_NAME.corpus10_st_05_sb1000"
   ]
  },
  {
   "cell_type": "code",
   "execution_count": 759,
   "metadata": {},
   "outputs": [
    {
     "data": {
      "text/plain": [
       "0         [(0, 1), (1, 1), (2, 1), (3, 1), (4, 1), (5, 1...\n",
       "3         [(10, 1), (12, 1), (13, 1), (14, 1), (15, 1), ...\n",
       "4         [(15, 1), (17, 1), (19, 1), (21, 1), (22, 1), ...\n",
       "5         [(13, 1), (15, 1), (19, 1), (26, 1), (29, 1), ...\n",
       "6         [(29, 1), (32, 1), (33, 1), (34, 1), (35, 1), ...\n",
       "                                ...                        \n",
       "325676              [(41, 1), (196, 1), (236, 1), (325, 1)]\n",
       "325678    [(46, 1), (84, 1), (130, 1), (153, 1), (242, 1...\n",
       "325679                                            [(58, 1)]\n",
       "325680                       [(470, 1), (487, 1), (531, 1)]\n",
       "325681    [(76, 1), (95, 1), (145, 1), (187, 1), (221, 1...\n",
       "Name: corpus10_st_05_sb1000, Length: 265954, dtype: object"
      ]
     },
     "execution_count": 759,
     "metadata": {},
     "output_type": "execute_result"
    }
   ],
   "source": [
    "flat_df_newclean_HOST_NAME.corpus10_st_05_sb1000"
   ]
  },
  {
   "cell_type": "code",
   "execution_count": 815,
   "metadata": {},
   "outputs": [
    {
     "data": {
      "text/plain": [
       "numpy.ndarray"
      ]
     },
     "execution_count": 815,
     "metadata": {},
     "output_type": "execute_result"
    }
   ],
   "source": [
    "type(flat_df_newclean_HOST_NAME.topic_scores.iloc[0])"
   ]
  },
  {
   "cell_type": "code",
   "execution_count": 837,
   "metadata": {},
   "outputs": [],
   "source": [
    "test = "
   ]
  },
  {
   "cell_type": "code",
   "execution_count": 838,
   "metadata": {},
   "outputs": [
    {
     "data": {
      "text/plain": [
       "(6, 10)"
      ]
     },
     "execution_count": 838,
     "metadata": {},
     "output_type": "execute_result"
    }
   ],
   "source": [
    "np.vstack(corpus_scores.iloc[:6].apply(lambda c: get_topic_score(c, model,n_topics=10,norm=True)))"
   ]
  },
  {
   "cell_type": "code",
   "execution_count": 840,
   "metadata": {},
   "outputs": [],
   "source": [
    "test = pd.DataFrame({'a':[0, 1, 2, 3, 4, 5],\n",
    "                     'b': corpus_scores.iloc[:6].apply(lambda c: get_topic_score(c, model,n_topics=10,norm=True))})\n"
   ]
  },
  {
   "cell_type": "code",
   "execution_count": 842,
   "metadata": {},
   "outputs": [
    {
     "data": {
      "text/plain": [
       "array([[0.32527584, 0.        , 0.        , 0.        , 0.94561918,\n",
       "        0.        , 0.        , 0.        , 0.        , 0.        ],\n",
       "       [0.        , 0.14516399, 0.20241641, 0.        , 0.        ,\n",
       "        0.        , 0.        , 0.57773628, 0.        , 0.77728747],\n",
       "       [0.        , 0.        , 0.        , 0.        , 0.        ,\n",
       "        0.49206235, 0.        , 0.61467977, 0.        , 0.61647662],\n",
       "       [0.01926908, 0.01926971, 0.01926839, 0.01926877, 0.01926925,\n",
       "        0.23578378, 0.01927031, 0.22732675, 0.01926927, 0.94346671],\n",
       "       [0.        , 0.        , 0.17255872, 0.        , 0.        ,\n",
       "        0.63367925, 0.        , 0.        , 0.25038584, 0.71132343],\n",
       "       [0.        , 0.18159151, 0.3844523 , 0.        , 0.879195  ,\n",
       "        0.        , 0.        , 0.        , 0.        , 0.21502815]])"
      ]
     },
     "execution_count": 842,
     "metadata": {},
     "output_type": "execute_result"
    }
   ],
   "source": [
    "np.vstack(test.b)"
   ]
  },
  {
   "cell_type": "code",
   "execution_count": null,
   "metadata": {},
   "outputs": [],
   "source": [
    "corpus_scores.apply(lambda c: get_topic_score(c, \n"
   ]
  },
  {
   "cell_type": "code",
   "execution_count": 851,
   "metadata": {},
   "outputs": [],
   "source": [
    "# calculate the topic vector of every comment\n",
    "# on the basis of flat_df_newclean_HOST_NAME.corpus10_st_05_sb1000\n",
    "corpus_scores = flat_df_newclean_HOST_NAME.corpus10_st_05_sb1000\n",
    "model = lda10_st_05_sb1000\n",
    "flat_df_newclean_HOST_NAME['topic_scores'] = corpus_scores.apply(lambda c: get_topic_score(c, \n",
    "                                                                                                    model,\n",
    "                                                                                                    n_topics=10,\n",
    "                                                                                                   norm=True))\n",
    "flat_df_newclean_HOST_NAME['topic_scores_unnormalized'] = corpus_scores.apply(lambda c: get_topic_score(c, \n",
    "                                                                                                  model,\n",
    "                                                                                                  n_topics=10,\n",
    "                                                                                                 norm=False))\n",
    "pickle_name = datadir + 'flat_df_newclean_HOST_NAME.pkl'\n",
    "with open(pickle_name, 'wb') as pickle_file:\n",
    "    pickle.dump(flat_df_newclean_HOST_NAME, pickle_file)\n"
   ]
  },
  {
   "cell_type": "code",
   "execution_count": 856,
   "metadata": {},
   "outputs": [
    {
     "data": {
      "text/plain": [
       "((19528, 4),\n",
       " Index(['room_id', 'host_name', 'user_id', 'comments'], dtype='object'))"
      ]
     },
     "execution_count": 856,
     "metadata": {},
     "output_type": "execute_result"
    }
   ],
   "source": [
    "room_db.shape, room_db.columns"
   ]
  },
  {
   "cell_type": "code",
   "execution_count": 858,
   "metadata": {},
   "outputs": [
    {
     "data": {
      "text/plain": [
       "Index(['listing_id', 'host_name', 'user_id', 'comments',\n",
       "       'corpus10_st_05_sb1000', 'topic_scores', 'topic_scores_unnormalized'],\n",
       "      dtype='object')"
      ]
     },
     "execution_count": 858,
     "metadata": {},
     "output_type": "execute_result"
    }
   ],
   "source": [
    "flat_df_newclean_HOST_NAME.columns"
   ]
  },
  {
   "cell_type": "code",
   "execution_count": 859,
   "metadata": {},
   "outputs": [
    {
     "data": {
      "text/plain": [
       "0             2515\n",
       "3             2515\n",
       "4             2515\n",
       "5             2515\n",
       "6             2515\n",
       "            ...   \n",
       "325676    18413899\n",
       "325678    18423403\n",
       "325679    18426417\n",
       "325680    18443436\n",
       "325681    18491399\n",
       "Name: listing_id, Length: 265954, dtype: int64"
      ]
     },
     "execution_count": 859,
     "metadata": {},
     "output_type": "execute_result"
    }
   ],
   "source": []
  },
  {
   "cell_type": "code",
   "execution_count": 865,
   "metadata": {},
   "outputs": [],
   "source": [
    "fdf_s = flat_df_newclean_HOST_NAME.sort_values(by = ['listing_id'])\n",
    "test = fdf_s.listing_id.apply(lambda lid: np.vstack(fdf_s[fdf_s.listing_id == lid].topic_scores))"
   ]
  },
  {
   "cell_type": "code",
   "execution_count": 868,
   "metadata": {},
   "outputs": [
    {
     "data": {
      "text/plain": [
       "(107, 10)"
      ]
     },
     "execution_count": 868,
     "metadata": {},
     "output_type": "execute_result"
    }
   ],
   "source": [
    "test[0].shape"
   ]
  },
  {
   "cell_type": "code",
   "execution_count": 870,
   "metadata": {},
   "outputs": [
    {
     "data": {
      "text/plain": [
       "pandas.core.series.Series"
      ]
     },
     "execution_count": 870,
     "metadata": {},
     "output_type": "execute_result"
    }
   ],
   "source": [
    "type(test)"
   ]
  },
  {
   "cell_type": "code",
   "execution_count": 883,
   "metadata": {},
   "outputs": [
    {
     "name": "stderr",
     "output_type": "stream",
     "text": [
      "/Users/bennett/anaconda3/envs/airbnb_p3/lib/python3.7/site-packages/pandas/core/generic.py:5208: SettingWithCopyWarning: \n",
      "A value is trying to be set on a copy of a slice from a DataFrame.\n",
      "Try using .loc[row_indexer,col_indexer] = value instead\n",
      "\n",
      "See the caveats in the documentation: http://pandas.pydata.org/pandas-docs/stable/user_guide/indexing.html#returning-a-view-versus-a-copy\n",
      "  self[name] = value\n"
     ]
    },
    {
     "data": {
      "text/html": [
       "<div>\n",
       "<style scoped>\n",
       "    .dataframe tbody tr th:only-of-type {\n",
       "        vertical-align: middle;\n",
       "    }\n",
       "\n",
       "    .dataframe tbody tr th {\n",
       "        vertical-align: top;\n",
       "    }\n",
       "\n",
       "    .dataframe thead th {\n",
       "        text-align: right;\n",
       "    }\n",
       "</style>\n",
       "<table border=\"1\" class=\"dataframe\">\n",
       "  <thead>\n",
       "    <tr style=\"text-align: right;\">\n",
       "      <th></th>\n",
       "      <th>a</th>\n",
       "      <th>b</th>\n",
       "    </tr>\n",
       "  </thead>\n",
       "  <tbody>\n",
       "    <tr>\n",
       "      <td>0</td>\n",
       "      <td>0</td>\n",
       "      <td>NaN</td>\n",
       "    </tr>\n",
       "    <tr>\n",
       "      <td>1</td>\n",
       "      <td>1</td>\n",
       "      <td>NaN</td>\n",
       "    </tr>\n",
       "    <tr>\n",
       "      <td>2</td>\n",
       "      <td>2</td>\n",
       "      <td>NaN</td>\n",
       "    </tr>\n",
       "  </tbody>\n",
       "</table>\n",
       "</div>"
      ],
      "text/plain": [
       "   a   b\n",
       "0  0 NaN\n",
       "1  1 NaN\n",
       "2  2 NaN"
      ]
     },
     "execution_count": 883,
     "metadata": {},
     "output_type": "execute_result"
    }
   ],
   "source": [
    "test2 = pd.DataFrame({'a': np.array([0, 1, 2])})\n",
    "b_empty = np.zeros(test2.shape[0])\n",
    "b_empty[:] = np.nan\n",
    "test2['b'] = b_empty\n",
    "test2[test2.a == 2].b = 44\n",
    "test2"
   ]
  },
  {
   "cell_type": "code",
   "execution_count": 892,
   "metadata": {},
   "outputs": [
    {
     "name": "stdout",
     "output_type": "stream",
     "text": [
      "0\n",
      "1000\n",
      "2000\n",
      "3000\n",
      "4000\n",
      "5000\n",
      "6000\n",
      "7000\n",
      "8000\n",
      "9000\n",
      "10000\n",
      "11000\n",
      "12000\n",
      "13000\n",
      "14000\n",
      "15000\n",
      "16000\n",
      "17000\n",
      "18000\n",
      "19000\n"
     ]
    }
   ],
   "source": [
    "# now restack this df by listing_id\n",
    "clean_scored_room_db = deepcopy(room_db).sort_values(by=['room_id'])\n",
    "fdf_s = flat_df_newclean_HOST_NAME.sort_values(by = ['listing_id'])\n",
    "\n",
    "topic_scores_arr = np.zeros((clean_scored_room_db.shape[0]), dtype=object)\n",
    "topic_scores_unnormalized_arr = np.zeros((clean_scored_room_db.shape[0]), dtype=object)\n",
    "for i, lid in enumerate(clean_scored_room_db.room_id):\n",
    "    \n",
    "    if lid in fdf_listing_ids:\n",
    "        this_df = fdf_s[fdf_s.listing_id == lid]\n",
    "        topic_scores_arr[i] = np.vstack(this_df.topic_scores)\n",
    "        topic_scores_unnormalized_arr[i] = np.vstack(this_df.topic_scores_unnormalized)\n",
    "    else:\n",
    "        topic_scores_arr[i] = np.nan\n",
    "        topic_scores_unnormalized_arr[i] = np.nan\n",
    "            \n",
    "clean_scored_room_db['topic_scores'] = topic_scores_arr\n",
    "clean_scored_room_db['topic_scores_unnormalized'] = topic_scores_unnormalized_arr\n",
    "clean_scored_room_db = clean_scored_room_db.dropna(subset = ['topic_scores', 'topic_scores_unnormalized'])\n",
    "clean_scored_room_db['mean_topic_score'] = \\\n",
    "    clean_scored_room_db['topic_scores'].apply(lambda x: np.mean(x, axis=0))\n",
    "clean_scored_room_db['mean_topic_score_unnormalized'] = \\\n",
    "    clean_scored_room_db['topic_scores_unnormalized'].apply(lambda x: np.mean(x, axis=0))\n"
   ]
  },
  {
   "cell_type": "code",
   "execution_count": 894,
   "metadata": {},
   "outputs": [
    {
     "data": {
      "text/plain": [
       "Index(['room_id', 'host_name', 'user_id', 'comments', 'topic_scores',\n",
       "       'topic_scores_unnormalized', 'mean_topic_score',\n",
       "       'mean_topic_score_unnormalized'],\n",
       "      dtype='object')"
      ]
     },
     "execution_count": 894,
     "metadata": {},
     "output_type": "execute_result"
    }
   ],
   "source": [
    "clean_scored_room_db.columns"
   ]
  },
  {
   "cell_type": "code",
   "execution_count": 895,
   "metadata": {},
   "outputs": [
    {
     "name": "stdout",
     "output_type": "stream",
     "text": [
      "../../Desktop/Insight Project/airbnb/pickles/clean_scored_room_db.pkl\n"
     ]
    }
   ],
   "source": [
    "pickle_name = datadir + 'clean_scored_room_db.pkl'\n",
    "print(pickle_name)\n",
    "with open(pickle_name, 'wb') as pickle_file:\n",
    "    pickle.dump(clean_scored_room_db, pickle_file)"
   ]
  },
  {
   "cell_type": "code",
   "execution_count": 913,
   "metadata": {},
   "outputs": [
    {
     "data": {
      "text/plain": [
       "(19528, 89)"
      ]
     },
     "execution_count": 913,
     "metadata": {},
     "output_type": "execute_result"
    }
   ],
   "source": []
  },
  {
   "cell_type": "code",
   "execution_count": 935,
   "metadata": {},
   "outputs": [
    {
     "data": {
      "text/plain": [
       "pandas.core.frame.DataFrame"
      ]
     },
     "execution_count": 935,
     "metadata": {},
     "output_type": "execute_result"
    }
   ],
   "source": [
    "type(listings[0])"
   ]
  },
  {
   "cell_type": "code",
   "execution_count": 923,
   "metadata": {},
   "outputs": [],
   "source": [
    "listings_nyc_sorted = listings[0].sort_values(by = 'room_id')\n",
    "listings_nyc_sorted_clean = listings_nyc_sorted[listings_nyc_sorted.room_id.isin(clean_scored_room_db.room_id)]\n",
    "rest_of_cols = sorted([c for c in listings_nyc_sorted.columns if c not in clean_scored_room_db.columns])\n",
    "clean_scored_room_db[rest_of_cols] = listings_nyc_sorted_clean[rest_of_cols]"
   ]
  },
  {
   "cell_type": "code",
   "execution_count": 924,
   "metadata": {},
   "outputs": [
    {
     "data": {
      "text/plain": [
       "(14447, 95)"
      ]
     },
     "execution_count": 924,
     "metadata": {},
     "output_type": "execute_result"
    }
   ],
   "source": [
    "clean_scored_room_db.shape"
   ]
  },
  {
   "cell_type": "code",
   "execution_count": 925,
   "metadata": {},
   "outputs": [
    {
     "data": {
      "text/plain": [
       "(8348173, 6)"
      ]
     },
     "execution_count": 925,
     "metadata": {},
     "output_type": "execute_result"
    }
   ],
   "source": [
    "reviews.shape"
   ]
  },
  {
   "cell_type": "code",
   "execution_count": null,
   "metadata": {},
   "outputs": [],
   "source": []
  },
  {
   "cell_type": "code",
   "execution_count": null,
   "metadata": {},
   "outputs": [],
   "source": [
    "\n",
    "# just this once, process through reviews. add list of reviewer\n",
    "reviewer_names_for_room = {rid: list(reviews[reviews.listing_id == rid].reviewer_name) \n",
    "                               for rid in unique_room_id_list}\n",
    "'user_name': [reviewer_names_for_room[k] for k in unique_room_id_list],"
   ]
  }
 ],
 "metadata": {
  "kernelspec": {
   "display_name": "Airbnb 3.7",
   "language": "python",
   "name": "airbnb_p3"
  },
  "language_info": {
   "codemirror_mode": {
    "name": "ipython",
    "version": 3
   },
   "file_extension": ".py",
   "mimetype": "text/x-python",
   "name": "python",
   "nbconvert_exporter": "python",
   "pygments_lexer": "ipython3",
   "version": "3.7.4"
  }
 },
 "nbformat": 4,
 "nbformat_minor": 2
}
